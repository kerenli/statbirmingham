{
 "cells": [
  {
   "cell_type": "markdown",
   "id": "d92ef068-5582-4503-8c3d-7079378db89b",
   "metadata": {
    "tags": []
   },
   "source": [
    "## Lab 4: Point Estimation and Confidence Intervals\n",
    "#### MA 189 Data Dive Into Birmingham (with R)\n",
    "##### _Blazer Core: City as Classroom_\n",
    "\n",
    "Course Website: [Github.com/kerenli/statbirmingham/](https://github.com/kerenli/statbirmingham/) \n"
   ]
  },
  {
   "cell_type": "markdown",
   "id": "52fdc583-6075-44d8-9dab-ce2f537f63d6",
   "metadata": {
    "tags": []
   },
   "source": [
    "#### Levels:\n",
    "<div class=\"alert-success\"> Concepts and general information</div>\n",
    "<div class=\"alert-warning\"> Important methods and technique details </div>\n",
    "<div class=\"alert-info\"> Extended reading </div>\n",
    "<div class=\"alert-danger\"> (Local) Examples, assignments, and <b>Practice in Birmingham</b> </div>"
   ]
  },
  {
   "cell_type": "markdown",
   "id": "c8c67681-288c-45cf-a8b2-f70f30fb1368",
   "metadata": {},
   "source": [
    "<div class=\"alert alert-block alert-danger\">\n",
    "<b>Local Application</b>: Alabama Power Company Customer Loads\n",
    "   \n",
    "</div>\n",
    "\n",
    "In this lab, we will be working with the Alabama Power Company Customer Loads dataset. This data contains information on the system marginal cost (system lambda) for generating electricity in Alabama over a specified period."
   ]
  },
  {
   "cell_type": "markdown",
   "id": "cc222aec-b3e6-4ec8-aad0-41d700fb0073",
   "metadata": {},
   "source": [
    "#### Steps:\n",
    "1. Load the data into R from a provided dataset (or simulated data for illustration).\n",
    "2. Familiarize yourself with the variables, focusing on the system lambda values."
   ]
  },
  {
   "cell_type": "code",
   "execution_count": null,
   "id": "5c5b0ef3-3d88-4cd0-8e39-51c5fe1877cb",
   "metadata": {},
   "outputs": [],
   "source": [
    "# Load necessary libraries\n",
    "library(tidyverse)\n",
    "\n",
    "# Lambdas and RTP Customer Loads\n",
    "if (!require(readxl)) {\n",
    "  install.packages(\"readxl\")\n",
    "  library(readxl)\n",
    "}\n",
    "\n",
    "# Define the path to the Excel file\n",
    "file_path <- \"data/Lambdas and RTP Customer Loads.xlsx\"\n",
    "\n",
    "# Read the Excel file from the \"data\" subfolder\n",
    "lambda_data <- read_excel(file_path, skip = 2)\n",
    "\n",
    "# Illustrate the content: Display the first few rows of the data\n",
    "lambda_data"
   ]
  },
  {
   "cell_type": "markdown",
   "id": "f484690e-384b-4606-bceb-e9f0c30e84db",
   "metadata": {},
   "source": [
    "<div class=\"alert alert-block alert-success\">Point Estimation</div>\n",
    "We will calculate point estimates for the system lambda, focusing on the mean and proportion for specific time intervals.\n",
    "\n",
    "#### Steps:\n",
    "1. **Mean Estimate:** Calculate the point estimate of the mean system lambda during specific hours (e.g., 12am-1am and 6am-7am).\n",
    "2. **Proportion Estimate:** Estimate the proportion of hours in a day where the system lambda exceeds a certain threshold."
   ]
  },
  {
   "cell_type": "code",
   "execution_count": null,
   "id": "29ad0d99-b2c9-4f1c-ab4e-bc7a61cd7ec7",
   "metadata": {},
   "outputs": [],
   "source": [
    "# Calculate the mean system lambda for 12am-1am and 6am-7am\n",
    "mean_lambda_12am <- mean(lambda_data$hour01, na.rm = TRUE)\n",
    "mean_lambda_6am <- mean(lambda_data$hour06, na.rm = TRUE)\n",
    "\n",
    "# Calculate the proportion of hours where lambda exceeds a threshold (e.g., 50)\n",
    "prop_lambda_above_50 <- mean(lambda_data %>% select(starts_with(\"hour\")) > 50, na.rm = TRUE)\n",
    "\n",
    "mean_lambda_12am\n",
    "mean_lambda_6am\n",
    "prop_lambda_above_50"
   ]
  },
  {
   "cell_type": "markdown",
   "id": "36476a00-7764-4081-b7f6-f90cba1bbd3c",
   "metadata": {},
   "source": [
    "<div class=\"alert alert-block alert-success\">Confidence Intervals for the Mean</div>\n",
    "Next, we will construct confidence intervals for the mean system lambda during specific hours. This will help us understand the range within which the true mean of the system lambda is likely to fall.\n",
    "\n",
    "#### Steps:\n",
    "1. **Calculate the Confidence Interval:** Using the t-distribution, calculate a 95% confidence interval for the mean system lambda at 12am-1am and 6am-7am.\n",
    "2. **Interpret the Confidence Interval:** Discuss what these intervals mean in the context of the data."
   ]
  },
  {
   "cell_type": "code",
   "execution_count": null,
   "id": "4bc1ce21-cc95-4090-8cf9-122c81b004f2",
   "metadata": {
    "jupyter": {
     "source_hidden": true
    }
   },
   "outputs": [],
   "source": [
    "# critical values of t distribution\n",
    "confidence_level <- 0.95  # 95% confidence level\n",
    "df <- 365-1  # Degrees of freedom\n",
    "\n",
    "# Calculate the critical t-value for the given confidence level and df\n",
    "t_star <- qt((1 + confidence_level) / 2, df)\n",
    "\n",
    "# Create a sequence of x values to plot the t-distribution\n",
    "x_values <- seq(-4, 4, length = 1000)\n",
    "\n",
    "# Calculate the t-distribution (density) for each x value\n",
    "y_values <- dt(x_values, df)\n",
    "\n",
    "# Plot the t-distribution\n",
    "plot(x_values, y_values, type = \"l\", lwd = 2, col = \"blue\",\n",
    "     xlab = \"t values\", ylab = \"Density\",\n",
    "     main = paste(\"t-Distribution with\", df, \"df\"))\n",
    "\n",
    "# Shade the area under the curve between -t* and t*\n",
    "x_shade <- seq(-t_star, t_star, length = 500)\n",
    "y_shade <- dt(x_shade, df)\n",
    "polygon(c(-t_star, x_shade, t_star), c(0, y_shade, 0), col = rgb(0.1, 0.9, 0.1, 0.3), border = NA)\n",
    "\n",
    "# Annotate the shaded area as the confidence level\n",
    "text(t_star, 0.01, \"Area = 0.025\", pos = 4, col = \"red\")\n",
    "text(0, 0.1, \"Area = 0.95\", col = \"black\", cex = 1.2)"
   ]
  },
  {
   "cell_type": "code",
   "execution_count": null,
   "id": "5e04f6ad-1ce5-4686-8dea-65de52ed214b",
   "metadata": {},
   "outputs": [],
   "source": [
    "# Calculate the sample mean and standard deviation for 12am-1am\n",
    "sample_mean_12am <- mean(lambda_data$hour01, na.rm = TRUE)\n",
    "sample_sd_12am <- sd(lambda_data$hour01, na.rm = TRUE)\n",
    "n <- sum(!is.na(lambda_data$hour01))\n",
    "n\n",
    "sample_mean_12am\n",
    "sample_sd_12am\n",
    "\n",
    "# Calculate the margin of error\n",
    "error_margin_12am <- qt(0.975, df = n-1) * (sample_sd_12am / sqrt(n))\n",
    "error_margin_12am\n",
    "\n",
    "# Calculate the confidence interval\n",
    "ci_lower_12am <- sample_mean_12am - error_margin_12am\n",
    "ci_upper_12am <- sample_mean_12am + error_margin_12am\n",
    "\n",
    "c(ci_lower_12am, ci_upper_12am)"
   ]
  },
  {
   "cell_type": "markdown",
   "id": "19a5be60-876c-4d0d-b09b-9da45f12ddaf",
   "metadata": {},
   "source": [
    "<div class=\"alert alert-block alert-success\">Confidence Intervals for Proportions</div>\n",
    "We'll also construct a confidence interval for the proportion of hours where the system lambda exceeds a certain threshold (e.g., 50).\n",
    "\n",
    "#### Steps:\n",
    "1. **Calculate the Confidence Interval for Proportions:** Using the z-distribution, calculate a 95% confidence interval for the proportion of hours where lambda exceeds 50.\n",
    "2.  **Interpret the Confidence Interval:** Discuss the implications of this confidence interval in the context of the dataset."
   ]
  },
  {
   "cell_type": "code",
   "execution_count": null,
   "id": "a37b15b7-290d-40df-9155-d470d9968cc1",
   "metadata": {},
   "outputs": [],
   "source": [
    "# Calculate the sample proportion\n",
    "sample_proportion <- prop_lambda_above_50\n",
    "sample_proportion\n",
    "\n",
    "# Calculate the margin of error\n",
    "error_margin_prop <- qnorm(0.975) * sqrt((sample_proportion * (1 - sample_proportion)) / n)\n",
    "error_margin_prop\n",
    "\n",
    "# Calculate the confidence interval\n",
    "ci_lower_prop <- sample_proportion - error_margin_prop\n",
    "ci_upper_prop <- sample_proportion + error_margin_prop\n",
    "\n",
    "c(ci_lower_prop, ci_upper_prop)\n"
   ]
  },
  {
   "cell_type": "markdown",
   "id": "5458a8d1-ffe7-4307-b562-5a1fb6a67428",
   "metadata": {},
   "source": [
    "<div class=\"alert alert-block alert-success\">Sample Size Calculation</div>\n",
    "We will determine the sample size required to estimate the mean system lambda within a specific margin of error.\n",
    "\n",
    "Use the formula for sample size calculation for estimating the mean:\n",
    "   $$n = \\left(\\frac{Z \\cdot \\sigma}{E}\\right)^2$$\n",
    "   \n",
    "#### Steps:\n",
    "1. **Determine the Required Sample Size:** Calculate the sample size needed to estimate the mean system lambda with a margin of error of ±2 using a 95% confidence level.\n",
    "2. **Discuss the Implications:** How does increasing the sample size affect the accuracy of our estimates?"
   ]
  },
  {
   "cell_type": "code",
   "execution_count": null,
   "id": "05db5e89-8de5-444e-a7b6-2d452f98e65b",
   "metadata": {},
   "outputs": [],
   "source": [
    "# Define the desired margin of error\n",
    "desired_margin_error <- 2\n",
    "\n",
    "# Calculate the required sample size for the 12am-1am lambda values\n",
    "required_sample_size_12am <- (qt(0.975, df = n-1) * sample_sd_12am / desired_margin_error)^2\n",
    "required_sample_size_12am"
   ]
  },
  {
   "cell_type": "markdown",
   "id": "0b6f31cd-6746-4ee6-92b6-5c51bb25659f",
   "metadata": {},
   "source": [
    "To calculate the average cost (in dollars per megawatt-hour) for generating electricity during specific time periods (e.g., 12am-6am and 6am-12pm) in 2018, you can follow these steps. We'll first merge the relevant hourly columns for each time period and then calculate the averages."
   ]
  },
  {
   "cell_type": "code",
   "execution_count": null,
   "id": "941a1444-0fbc-4bc0-95a7-2c704131d9ad",
   "metadata": {},
   "outputs": [],
   "source": [
    "head(lambda_data)\n",
    "\n",
    "# Reshape the dataset: Merging hourly columns into a single column\n",
    "data_long <- lambda_data %>%\n",
    "  pivot_longer(cols = starts_with(\"hour\"), # Select columns to merge\n",
    "               names_to = \"hour\",          # Name for the new column with hour identifiers\n",
    "               values_to = \"lambda\")       # Name for the new column with lambda values\n",
    "\n",
    "# View the reshaped dataset\n",
    "head(data_long)"
   ]
  },
  {
   "cell_type": "code",
   "execution_count": null,
   "id": "89621d64-a318-4113-a5ad-af4e14723bcc",
   "metadata": {},
   "outputs": [],
   "source": [
    "# Calculate the average cost from 12am-6am (hour01 to hour06)\n",
    "avg_cost_12am_6am <- data_long %>%\n",
    "  filter(hour %in% paste0(\"hour0\",1:6)) %>%\n",
    "  summarise(avg_lambda_12am_6am = mean(lambda, na.rm = TRUE))\n",
    "\n",
    "avg_cost_12am_6am"
   ]
  },
  {
   "cell_type": "markdown",
   "id": "9d661f8e-b314-409b-8dc4-dfc017eb5f22",
   "metadata": {},
   "source": [
    "### <div class=\"alert alert-block alert-danger\"><b>Practice in Birmingham: Estimating Actuary Salaries in Birmingham</b> </div>"
   ]
  },
  {
   "cell_type": "markdown",
   "id": "3ef1b0d6-9943-42ac-8c53-a2886455bb7a",
   "metadata": {},
   "source": [
    "You are interested in becoming an actuary ([source](https://www.bls.gov/ooh/math/actuaries.htm)) and want to estimate the average income of an actuary in the Birmingham area specifically. You want to determine, with 90% confidence, what the average income is and wish to be accurate within $3,000. \n",
    "\n",
    "You estimate the standard deviation of actuary salaries to be around $9,000, based on national data.\n",
    "\n",
    "#### Steps:\n",
    "**Question 1: Calculate the Required Sample Size**\n",
    "\n",
    "Using the given confidence level and margin of error, calculate the required sample size for your study."
   ]
  },
  {
   "cell_type": "markdown",
   "id": "1fbd1c00-8927-42f9-87b9-c760d461623b",
   "metadata": {},
   "source": [
    "##### Your answer:"
   ]
  },
  {
   "cell_type": "code",
   "execution_count": null,
   "id": "a0cfd329-ca97-4932-8ffb-3f8d0f289a94",
   "metadata": {},
   "outputs": [],
   "source": []
  },
  {
   "cell_type": "markdown",
   "id": "e36d0b6a-0dfa-4ee1-b5ec-5cb03ccaa30f",
   "metadata": {
    "jp-MarkdownHeadingCollapsed": true
   },
   "source": [
    "**Question 2: Simulate Data**\n",
    "\n",
    "Once you have determined the sample size, simulate a dataset of actuary salaries in Birmingham using the estimated mean and standard deviation.\n"
   ]
  },
  {
   "cell_type": "markdown",
   "id": "b8d36ba6-e602-4c33-bcbd-b79761f9a883",
   "metadata": {},
   "source": [
    "##### Your answer:"
   ]
  },
  {
   "cell_type": "code",
   "execution_count": null,
   "id": "0616a511-1e58-4c5d-8937-7795afc3aa0f",
   "metadata": {},
   "outputs": [],
   "source": []
  },
  {
   "cell_type": "markdown",
   "id": "7e05cf0e-af7b-4e9c-8080-d79ea5cda711",
   "metadata": {},
   "source": [
    "**Question 3: Calculate the Point Estimate**\n",
    "\n",
    "From your simulated data, calculate the point estimate (sample mean) for actuary salaries in Birmingham."
   ]
  },
  {
   "cell_type": "markdown",
   "id": "84fe8f06-cd63-4980-9880-be86ff1f4df5",
   "metadata": {},
   "source": [
    "##### Your answer:"
   ]
  },
  {
   "cell_type": "code",
   "execution_count": null,
   "id": "861b5d58-5969-4526-a73b-1087f3db59ec",
   "metadata": {},
   "outputs": [],
   "source": []
  },
  {
   "cell_type": "markdown",
   "id": "a4e39b88-13e0-4775-abfa-0bc9fb9c6d17",
   "metadata": {},
   "source": [
    "**Question 4: Construct a Confidence Interval**\n",
    "\n",
    "Using the simulated data, construct a 90% confidence interval for the average salary."
   ]
  },
  {
   "cell_type": "markdown",
   "id": "89bdfe69-f957-4e1c-a171-551b9170c26a",
   "metadata": {},
   "source": [
    "##### Your answer:"
   ]
  },
  {
   "cell_type": "code",
   "execution_count": null,
   "id": "1ca905e2-55b1-4bba-a727-0c9376985d19",
   "metadata": {},
   "outputs": [],
   "source": []
  },
  {
   "cell_type": "markdown",
   "id": "108ad3b3-5dd2-499f-b2d1-ed27c7994877",
   "metadata": {},
   "source": [
    "**Question 5: Interpret the Confidence Interval**\n",
    "\n",
    "Explain what the confidence interval means in the context of the problem."
   ]
  },
  {
   "cell_type": "markdown",
   "id": "4c69f4c2-be54-4888-adb6-5570914318e0",
   "metadata": {},
   "source": [
    "##### Your answer:"
   ]
  },
  {
   "cell_type": "code",
   "execution_count": null,
   "id": "02ed3799-fa40-4d6e-bf9e-6c6679c28d5f",
   "metadata": {},
   "outputs": [],
   "source": []
  },
  {
   "cell_type": "code",
   "execution_count": null,
   "id": "03308d60-b9cc-46ef-92c3-fe5653f5fce1",
   "metadata": {},
   "outputs": [],
   "source": []
  }
 ],
 "metadata": {
  "kernelspec": {
   "display_name": "R",
   "language": "R",
   "name": "ir"
  },
  "language_info": {
   "codemirror_mode": "r",
   "file_extension": ".r",
   "mimetype": "text/x-r-source",
   "name": "R",
   "pygments_lexer": "r",
   "version": "4.2.2"
  }
 },
 "nbformat": 4,
 "nbformat_minor": 5
}
