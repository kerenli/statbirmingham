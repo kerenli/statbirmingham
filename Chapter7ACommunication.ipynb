{
 "cells": [
  {
   "cell_type": "markdown",
   "id": "f0191383-ddcb-4578-b05e-380d492dd892",
   "metadata": {
    "tags": []
   },
   "source": [
    "## Chapter 7A: Communicating Results Effectively \n",
    "#### MA 189 Data Dive Into Birmingham (with R)\n",
    "##### _Blazer Core: City as Classroom_\n",
    "\n",
    "Course Website: [Github.com/kerenli/statbirmingham/](https://github.com/kerenli/statbirmingham/) \n"
   ]
  },
  {
   "cell_type": "markdown",
   "id": "08d2fcf2-b953-42cd-a4a9-e97a943a7e1b",
   "metadata": {
    "tags": []
   },
   "source": [
    "#### Levels:\n",
    "<div class=\"alert-success\"> Concepts and general information</div>\n",
    "<div class=\"alert-warning\"> Important methods and technique details </div>\n",
    "<div class=\"alert-info\"> Extended reading </div>\n",
    "<div class=\"alert-danger\"> (Local) Examples and Student Practice </div>"
   ]
  },
  {
   "cell_type": "markdown",
   "id": "0cbe4792",
   "metadata": {},
   "source": [
    "##### <div class=\"alert alert-block alert-success\"> Introduction </div>\n",
    "\n",
    "Spend a few moments taking a look at this compilation of data visualizations for the Birmingham area representing data analysis results for a variety of areas (diversity, economy, civics, education, etc). This is a great example of the usefulness of data visualization techniques in our local area and the importance of communicating results to the general public.\n",
    "\n",
    "[![Reading: Birmingham Data Visualization](https://datausa.io/profile/geo/birmingham-al/)](https://datausa.io/profile/geo/birmingham-al/)\n",
    "\n",
    "As you look through the various data visualizations, think about: <br>\n",
    "1) What aspects are effective in the communication of the data?\n",
    "2) What is unclear/what could be improved to more effectively communicate the results? \n",
    "\n",
    "By the end of this chapter, you will have the skills to communicate results effictively by being aware of good practices and common pitfalls with data visualization. \n",
    "\n",
    "*Note: In this chapter, we will refer to data visualizations, figures, and infographics interchangeablely.*"
   ]
  },
  {
   "cell_type": "markdown",
   "id": "b5fb6a06",
   "metadata": {},
   "source": [
    "<div class=\"alert alert-block alert-danger\">\n",
    "    <b>Application in Birmingham from Area of Business </b>\n",
    "</div>\n",
    "\n",
    "As a further motivation for this chapter, consider the video below from Pete VanZandt from \n",
    "DragonFly Health. He provides a practical view from the business side of expectations for data visualization - who the audience is, what to pay attention to when developing, and the tools used for interactive features. \n",
    "\n",
    "\n",
    "[![Video: Interactive Data Visualization for Business](https://www.youtube.com/watch?v=na2ra6QpjAs)](https://www.youtube.com/watch?v=na2ra6QpjAs)"
   ]
  },
  {
   "cell_type": "markdown",
   "id": "1e8b85c6",
   "metadata": {},
   "source": [
    "### Communicating Results \n",
    "\n",
    "<b>What is the goal of data visualization?<b> \n",
    "    \n",
    "It is a mode of communication in which we have insight regarding data and a potential audience (viewers) we would like to convey these insights to. \n",
    "\n",
    "<b> Why is data visualization important to be carefully curated?<b>\n",
    "    \n",
    "In data visualization, a story will naturally develop in a viewer's mind. If we don’t provide a clear story ourselves, then a viewer will create their own, whether accurate or not. In addition, the viewer may think “this is boring,” “the author is wrong,” or “the author is incompetent\" which misses the mark on the important role that stories play in reasoning and memory. Data visualization should be telling a story that is based on facts and logical reasoning to gain trust from viewers and to get them interested and excited. Telling this story through figures does not mean making something up, overselling something, or manipulating; instead, it means the communication should be clear and interesting enough to capture a viewer's attention and help them remember the information. \n",
    "\n",
    "We cannot assume that the viewer can see figures and immediately infer the points we are trying to make or assume that the viewer can rapidly process complex visualizations / understand the key trends and relationships that are shown. We have to be intentional with helping the viewer understand the meaning of our visualizations and see the same patterns in the data that we see. \n",
    "\n",
    "<b> Key Idea: <b>\n",
    "    \n",
    "In data visualization, it is essential to accurately and clearly convey information in a captivating way without misleading the viewer. "
   ]
  },
  {
   "cell_type": "markdown",
   "id": "ad473cc3",
   "metadata": {},
   "source": [
    "\n",
    "Let's Review: What data visualization techniques have we covered so far in this course and what type of data are they used for? "
   ]
  },
  {
   "cell_type": "markdown",
   "id": "6a54bb4c-b454-4956-8be7-24b6c4809554",
   "metadata": {
    "tags": []
   },
   "source": [
    "##### <div class=\"alert alert-block alert-success\"> Effective Data Visualization </div>\n",
    "\n",
    "There are three pillars to be considered for optimal communication via data visualization. \n",
    "\n",
    "<b> Mathematically: <b> Should be mathematically accurate. \n",
    "* Truthful information is conveyed without distorting it in any way\n",
    "* Numerical proportions are accurately proportioned\n",
    "* Axes have a consistent scale \n",
    "* Pie chart adds to 100%\n",
    "* and many more... (you'll practice with some examples soon!) \n",
    "\n",
    "<b> Clarity: <b> Should be easy to draw out the main information. \n",
    "* Only necessary information is conveyed so that the viewer is not overwhelmed with too much information\n",
    "* Simple in design; viewers do not have to strain to understand the information being conveyed\n",
    "\n",
    "<b> Aesthetically: <b> Should be aesthetically pleasing and enhance the story.\n",
    "* Aesthetics are supportive, not distracting, and highlight what's most important - less is often more\n",
    "* There is nothing difficult to look at or parse incorrect conclusions from\n",
    "* It is not just a \"dazzling to the eye\" visualization that is careless with the data "
   ]
  },
  {
   "cell_type": "markdown",
   "id": "075513d3",
   "metadata": {},
   "source": [
    "##### <div class=\"alert alert-block alert-success\"> Inffective Data Visualization </div>\n",
    "\n",
    "\n",
    "With principles of figure design, issues can boil down to one or more of the following categories: \n",
    "1. <b> Wrong: <b> mathematically incorrect\n",
    "2. <b> Bad:<b> unclear or deceiving \n",
    "3. <b> Ugly: <b> displeasing to look at/aesthetically subpar\n",
    "\n",
    "Otherwise, the visual is acceptable (correct, clear, and aesthetically pleasing). \n",
    "\n",
    "Let's compare examples of wrong, bad, ugly, and acceptable: \n",
    "   <p align=\"center\">\n",
    "    <img src=\"../pics/ugly bad wrong.png\" alt=\"Figure 1\" style=\"width:70%;\"/>\n",
    "</p>\n",
    "\n",
    "    \n",
    "\n",
    "Here are some specific common issues that lead to ineffective communication of results. \n",
    "\n",
    "* Using incorrect technique of data visualization based on the type of data (quantitative vs categorical, continuous vs discrete) or unneccesarily 3D\n",
    "* Distorting information based on its size, composition of parts, relation to other aspects of the figure, etc.\n",
    "* Using colors that are distracting or not accommodating to color-vision deficient population\n",
    "* Disorganized, messy, cluttered, not \"proof-read\" or consistent features, difficult to look at and understand, data not prominent\n",
    "* Jumping into complex figures before basic/general information is properly conveyed\n",
    "* & many, many more -- anything that goes against the effective communication techniques we just covered!\n",
    "\n",
    "\n",
    "<b> Example <b> of too much information versus properly grouped information to help the viewer understand more easily: \n",
    "<p align=\"center\">\n",
    "    <img src=\"../pics/too much info 2.png\" alt=\"Figure 1\" style=\"width:70%;\"/>\n",
    "</p>\n",
    "    \n",
    " <p align=\"center\">\n",
    "    <img src=\"../pics/grouped info.png\" alt=\"Figure 1\" style=\"width:70%;\"/>\n",
    "</p>\n",
    "\n",
    "\n",
    "<b> Example <b> of data not being prominent due to some distracting features versus being the focus: \n",
    "    \n",
    "<p align=\"center\">\n",
    "    <img src=\"../pics/ugly sport.png\" alt=\"Figure 1\" style=\"width:70%;\"/>\n",
    "</p>\n",
    "    \n",
    "<p align=\"center\">\n",
    "    <img src=\"../pics/clean sport.png\" alt=\"Figure 1\" style=\"width:70%;\"/>\n",
    "</p>\n",
    "\n"
   ]
  },
  {
   "cell_type": "markdown",
   "id": "eeff45ea",
   "metadata": {},
   "source": [
    "<div class=\"alert alert-block alert-danger\"><b>Example:</b> Ineffective Data Visualizations </div>\n",
    "\n",
    "\n",
    "Sometimes it's powerful to demonstrate what *shouldn't* be done. Consider the figures below.\n",
    "\n",
    "<p align=\"center\">\n",
    "    <img src=\"../pics/not adding to 100.png\" alt=\"Figure 1\" style=\"width:70%;\"/>\n",
    "</p>\n",
    "\n",
    "<p align=\"center\">\n",
    "    <img src=\"../pics/wrong chart.png\" alt=\"Figure 1\" style=\"width:70%;\"/>\n",
    "</p>\n",
    "\n",
    "<p align=\"center\">\n",
    "    <img src=\"../pics/too much info.png\" alt=\"Figure 1\" style=\"width:70%;\"/>\n",
    "</p>\n",
    "\n",
    "<p align=\"center\">\n",
    "    <img src=\"../pics/wrong scales.png\" alt=\"Figure 1\" style=\"width:70%;\"/>\n",
    "</p>\n",
    "\n",
    "<p align=\"center\">\n",
    "    <img src=\"../pics/pie organization.png\" alt=\"Figure 1\" style=\"width:70%;\"/>\n",
    "</p>\n",
    "\n",
    "<p align=\"center\">\n",
    "    <img src=\"../pics/bar organization.png\" alt=\"Figure 1\" style=\"width:70%;\"/>\n",
    "</p>\n",
    "\n",
    "\n"
   ]
  },
  {
   "cell_type": "markdown",
   "id": "4ee026ba",
   "metadata": {},
   "source": [
    "\n",
    "##### Your answer:"
   ]
  },
  {
   "cell_type": "markdown",
   "id": "c7e243b5",
   "metadata": {},
   "source": [
    "<div class=\"alert alert-block alert-danger\"><b> Student Practice:</b> Real News Data Visualizations </div>\n",
    "\n",
    "Take a look at the following data visualizations. Identify one or more issues with their methods and/or communication effectiveness/truthfulness. \n",
    "\n",
    "\n",
    "\n",
    "<p align=\"center\">\n",
    "    <img src=\"../pics/legalization slide.png\" alt=\"Figure 1\" style=\"width:70%;\"/>\n",
    "</p>\n",
    "\n",
    "\n",
    "<p align=\"center\">\n",
    "    <img src=\"../pics/favorite season slide.png\" alt=\"Figure 1\" style=\"width:70%;\"/>\n",
    "</p>\n",
    "\n",
    "<p align=\"center\">\n",
    "    <img src=\"../pics/presidential slide.png\" alt=\"Figure 1\" style=\"width:70%;\"/>\n",
    "</p>\n",
    "\n",
    "<p align=\"center\">\n",
    "    <img src=\"../pics/economy slide.png\" alt=\"Figure 1\" style=\"width:70%;\"/>\n",
    "</p>\n",
    "\n",
    "<p align=\"center\">\n",
    "    <img src=\"../pics/3D chart.png\" alt=\"Figure 1\" style=\"width:70%;\"/>\n",
    "</p>\n",
    "\n",
    "<p align=\"center\">\n",
    "    <img src=\"../pics/florida deaths.png\" alt=\"Figure 1\" style=\"width:70%;\"/>\n",
    "</p>\n",
    "\n",
    "\n"
   ]
  },
  {
   "cell_type": "markdown",
   "id": "db3ff25b",
   "metadata": {},
   "source": [
    "##### Your answer:"
   ]
  },
  {
   "cell_type": "markdown",
   "id": "f5c7f8d1",
   "metadata": {},
   "source": [
    "<div class=\"alert alert-block alert-danger\">\n",
    "    <b>Local Student Practice: </b> City of Birmingham Fiscal Year Visualizations\n",
    "</div>\n",
    "\n",
    "Let's revisit the following website for information on the City of Birmingham's annual fiscal (financial) reports. \n",
    "\n",
    "https://birminghamal.opengov.com/transparency/#/22078/accountType=expenses&embed=n&breakdown=67161fe1-9b6b-4735-b6b7-e848f1d44237&currentYearAmount=cumulative&currentYearPeriod=years&graph=percentage&legendSort=coa&proration=true&saved_view=null&selection=C53CDC200C9444356C8CEAB4F78F24F8&projections=null&projectionType=null&highlighting=null&highlightingVariance=null&year=2024&selectedDataSetIndex=null&fiscal_start=earliest&fiscal_end=latest\n",
    "\n",
    "1. For each type of report, which visualization is easiest to infer correct information from? Which visualization is most difficult? Explain why. \n",
    "2. Is there anything you would change about any of the visualizations to make the messages clearer for the reader? \n"
   ]
  },
  {
   "cell_type": "markdown",
   "id": "da8c2bc2",
   "metadata": {},
   "source": [
    "##### Your answer:"
   ]
  },
  {
   "cell_type": "markdown",
   "id": "a595fab2",
   "metadata": {},
   "source": [
    "\n",
    "<div class=\"alert alert-block alert-danger\">\n",
    "    <b>BONUS Student Local Practice: </b> Social Media Misinformation\n",
    "</div>\n",
    "\n",
    "BONUS point opportunity: Send Dr. Phillips any examples that you see on social media of the misuse of statistics (whether it's a news source or someone commenting and making an inaccurate statement) or misuse/problems with data visualization. Anything related to the local area is especially valued! I will gladly incorporate these in the course in the future!!"
   ]
  },
  {
   "cell_type": "markdown",
   "id": "09914092",
   "metadata": {},
   "source": [
    "<b> Looking forward: <b> We will cover some more advanced data visualization techniques in this chapter. Then, you will have the opportunity to demonstrate your knowledge of effective data visualization with your Final Project this term!"
   ]
  },
  {
   "cell_type": "markdown",
   "id": "62d38d64",
   "metadata": {},
   "source": [
    "For your future reference regarding this material: https://clauswilke.com/dataviz/introduction.html, https://clauswilke.com/dataviz/bibliography.html, and https://visme.co/blog/bad-infographics/"
   ]
  }
 ],
 "metadata": {
  "kernelspec": {
   "display_name": "R",
   "language": "R",
   "name": "ir"
  },
  "language_info": {
   "codemirror_mode": "r",
   "file_extension": ".r",
   "mimetype": "text/x-r-source",
   "name": "R",
   "pygments_lexer": "r",
   "version": "4.3.1"
  }
 },
 "nbformat": 4,
 "nbformat_minor": 5
}
