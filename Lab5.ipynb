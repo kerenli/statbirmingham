{
 "cells": [
  {
   "cell_type": "markdown",
   "id": "cad28230-bff7-4505-a571-4d46c3d0ed44",
   "metadata": {
    "tags": []
   },
   "source": [
    "## Lab 5: Hypothesis Testing in R\n",
    "#### MA 189 Data Dive Into Birmingham (with R)\n",
    "##### _Blazer Core: City as Classroom_\n",
    "\n",
    "Course Website: [Github.com/kerenli/statbirmingham/](https://github.com/kerenli/statbirmingham/) \n"
   ]
  },
  {
   "cell_type": "markdown",
   "id": "36ec27e0-d102-4564-9f83-90a0a2366a40",
   "metadata": {
    "tags": []
   },
   "source": [
    "#### Levels:\n",
    "<div class=\"alert-success\"> Concepts and general information</div>\n",
    "<div class=\"alert-warning\"> Important methods and technique details </div>\n",
    "<div class=\"alert-info\"> Extended reading </div>\n",
    "<div class=\"alert-danger\"> (Local) Examples, assignments, and <b>Practice in Birmingham</b> </div>"
   ]
  },
  {
   "cell_type": "markdown",
   "id": "3677836b-5ca3-421f-915a-ed052711e7ba",
   "metadata": {},
   "source": [
    "In this lab, we will explore hypothesis testing using R. We will cover both one-sample and two-sample tests for means and proportions. The goal is to apply these tests to real-world data and interpret the results in the context of Birmingham."
   ]
  },
  {
   "cell_type": "markdown",
   "id": "bd085f63-4168-470e-992b-3bbe0bcad1ef",
   "metadata": {},
   "source": [
    "<div class=\"alert alert-block alert-danger\"><b>Example:</b> Auto Racing Pit Stop Times</div>\n",
    "\n",
    "A pit crew claims that its mean pit stop time for 4 new tires and fuel is only 13 seconds. The driver thinks it's more and wants to investigate for efficiency purposes."
   ]
  },
  {
   "cell_type": "markdown",
   "id": "3faf94ec-3f64-4ba7-9f08-df9c66709bac",
   "metadata": {},
   "source": [
    "### Steps:\n",
    "1. Formulate the hypotheses:\n",
    "    - Null hypothesis (H₀): The mean pit stop time is 13 seconds.\n",
    "    - Alternative hypothesis (Hₐ): The mean pit stop time is greater than 13 seconds.\n",
    "2. Use a one-sample $t$-test to determine if the observed mean pit stop time is significantly greater than 13 seconds."
   ]
  },
  {
   "cell_type": "code",
   "execution_count": 1,
   "id": "3dbe636a-123a-44df-9585-4ddbed17f06e",
   "metadata": {},
   "outputs": [
    {
     "data": {
      "text/plain": [
       "\n",
       "\tOne Sample t-test\n",
       "\n",
       "data:  pit_stop_times\n",
       "t = 5.8798, df = 19, p-value = 5.8e-06\n",
       "alternative hypothesis: true mean is greater than 13\n",
       "95 percent confidence interval:\n",
       " 13.65345      Inf\n",
       "sample estimates:\n",
       "mean of x \n",
       " 13.92567 \n"
      ]
     },
     "metadata": {},
     "output_type": "display_data"
    }
   ],
   "source": [
    "# Simulate a dataset of pit stop times (in seconds)\n",
    "pit_stop_times <- rnorm(20, mean = 14, sd = 1)  # Simulate 20 pit stop times\n",
    "\n",
    "# Perform the one-sample t-test\n",
    "t_test_pit_stop <- t.test(pit_stop_times, mu = 13, alternative = \"greater\")\n",
    "\n",
    "# View the test results\n",
    "t_test_pit_stop"
   ]
  },
  {
   "cell_type": "markdown",
   "id": "10013ede-7c4c-4b43-baf4-c5287a9c969a",
   "metadata": {},
   "source": [
    "- $t$-value ($5.8798$): The sample mean is 5.8798 standard errors above the hypothesized mean.\n",
    "- $p$-value ($5.8e-06$): Since the p-value is much less than 0.05, we reject the null hypothesis at the 5% significance level. This suggests that there is evidence that the mean pit stop time is 13 seconds.\n",
    "- Confidence Interval ($13.65345$ to $\\text{Inf}$): Since the hypothesized mean ($13$) is below the 95% confidence interval, this also supports the conclusion that the true mean stop time could be greater than $13$.\n",
    "- Sample Mean ($13.92567$): The sample mean stop time is $13.92567$, which is higher than 13."
   ]
  },
  {
   "cell_type": "markdown",
   "id": "920b318e-62db-4c28-b06d-7a816259535d",
   "metadata": {},
   "source": [
    "<div class=\"alert alert-block alert-danger\"><b>Example:</b> Cereal Box Weight</div>\n",
    "Cocoa Puffs boxes claim there is an average of 19.3oz of cereal in the box. A grumpy college student believes the box contains less than 19oz and wants to find out more.\n",
    "\n",
    "### Steps:\n",
    "1. Formulate the hypotheses:\n",
    "    - Null hypothesis (H₀): The mean weight of cereal in the box is 19.3oz.\n",
    "    - Alternative hypothesis (Hₐ): The mean weight is less than 19.3oz.\n",
    "2. Use a one-sample $t$-test to determine if the observed mean weight is significantly less than 19.3oz."
   ]
  },
  {
   "cell_type": "code",
   "execution_count": 2,
   "id": "7fc4e87e-cd34-4020-95f1-c8e0fb499598",
   "metadata": {},
   "outputs": [
    {
     "data": {
      "text/plain": [
       "\n",
       "\tOne Sample t-test\n",
       "\n",
       "data:  cereal_weights\n",
       "t = -6.7153, df = 29, p-value = 1.143e-07\n",
       "alternative hypothesis: true mean is less than 19.3\n",
       "95 percent confidence interval:\n",
       "    -Inf 19.1543\n",
       "sample estimates:\n",
       "mean of x \n",
       " 19.10495 \n"
      ]
     },
     "metadata": {},
     "output_type": "display_data"
    }
   ],
   "source": [
    "# Simulate a dataset of cereal box weights (in ounces)\n",
    "cereal_weights <- rnorm(30, mean = 19.1, sd = 0.2)  # Simulate 30 box weights\n",
    "\n",
    "# Perform the one-sample t-test\n",
    "t_test_cereal <- t.test(cereal_weights, mu = 19.3, alternative = \"less\")\n",
    "\n",
    "# View the test results\n",
    "t_test_cereal"
   ]
  },
  {
   "cell_type": "markdown",
   "id": "8919e5fc-7234-45b8-b608-918db5336287",
   "metadata": {},
   "source": [
    "<div class=\"alert alert-block alert-danger\"><b>Example:</b> Promotion File Study</div>\n",
    "In a 1972 experiment, 48 male bank supervisors each judged a pile of files to decide whether or not each person should receive a promotion. The files were IDENTICAL besides that half were labeled \"male\" and the other half labeled \"female.\" In total, 35 files were recommended for promotion—21 \"male\" files and 14 \"female\" files. Was there bias present against \"female\" files?\n",
    "\n",
    "### Steps:\n",
    "1. Formulate the hypotheses:\n",
    "    - Null hypothesis (H₀): The proportion of promotions is the same for \"male\" and \"female\" files.\n",
    "    - Alternative hypothesis (Hₐ): The proportion of promotions is different between \"male\" and \"female\" files.\n",
    "2. Use a two-sample proportion test to determine if there is a significant difference in the promotion rates."
   ]
  },
  {
   "cell_type": "code",
   "execution_count": 3,
   "id": "37a67422-05f8-48a8-b7d1-08c3bc305ec7",
   "metadata": {},
   "outputs": [
    {
     "data": {
      "text/plain": [
       "\n",
       "\t2-sample test for equality of proportions with continuity correction\n",
       "\n",
       "data:  c(male_promotions, female_promotions) out of c(total_male_files, total_female_files)\n",
       "X-squared = 3.7978, df = 1, p-value = 0.05132\n",
       "alternative hypothesis: two.sided\n",
       "95 percent confidence interval:\n",
       " 0.01249145 0.57084188\n",
       "sample estimates:\n",
       "   prop 1    prop 2 \n",
       "0.8750000 0.5833333 \n"
      ]
     },
     "metadata": {},
     "output_type": "display_data"
    }
   ],
   "source": [
    "# Data: Number of files recommended for promotion\n",
    "male_promotions <- 21\n",
    "female_promotions <- 14\n",
    "\n",
    "# Total number of files in each group\n",
    "total_male_files <- 24\n",
    "total_female_files <- 24\n",
    "\n",
    "# Perform the two-sample proportion test\n",
    "prop_test_promotion <- prop.test(c(male_promotions, female_promotions), \n",
    "                                 c(total_male_files, total_female_files))\n",
    "\n",
    "# View the test results\n",
    "prop_test_promotion"
   ]
  },
  {
   "cell_type": "markdown",
   "id": "579a59cb-c57c-473f-9e39-f57e089940a7",
   "metadata": {},
   "source": [
    "<div class=\"alert alert-block alert-danger\"><b>Local Application:</b> World Rugby Shop Page Views</div>\n",
    "The World Rugby Shop, based here in Birmingham, keeps careful records of its data. Consider the total number of page views for rugby shorts each week from users in Canada, the US, and the UK combined.\n",
    "\n",
    "### Steps:\n",
    "1. Take a quick look at the data and make a hypothesis for what the average weekly number of page views is for this item.\n",
    "2. Let's say Dr. Li thinks it's higher and wants to investigate this by taking a sample of 45 randomly selected weeks from available data from June 2020 to April 2022 and performing a hypothesis test to test the belief that the average number of weekly views is greater than your hypothesized value."
   ]
  },
  {
   "cell_type": "code",
   "execution_count": 8,
   "id": "e5476673-2798-46b1-b016-585f8e17ef94",
   "metadata": {},
   "outputs": [
    {
     "data": {
      "text/plain": [
       "\n",
       "\tOne Sample t-test\n",
       "\n",
       "data:  WRS_data$`Total Pageviews`\n",
       "t = -55.365, df = 95, p-value = 1\n",
       "alternative hypothesis: true mean is greater than 1500\n",
       "95 percent confidence interval:\n",
       " 321.5383      Inf\n",
       "sample estimates:\n",
       "mean of x \n",
       " 355.8646 \n"
      ]
     },
     "metadata": {},
     "output_type": "display_data"
    }
   ],
   "source": [
    "library(readxl)\n",
    "\n",
    "# Define the path to the Excel file\n",
    "file_path <- \"data/WRS Shorts Data Canada Australia UK.xlsx\"\n",
    "\n",
    "# Read the Excel file from the \"data\" subfolder\n",
    "WRS_data <- read_excel(file_path)\n",
    "\n",
    "# Hypothetical hypothesis: The mean number of page views is 1500\n",
    "hypothesized_mean <- 1500\n",
    "\n",
    "# Perform the one-sample t-test\n",
    "t_test_WRS <- t.test(WRS_data$`Total Pageviews`, mu = hypothesized_mean, alternative = \"greater\")\n",
    "\n",
    "# View the test results\n",
    "t_test_WRS\n"
   ]
  },
  {
   "cell_type": "markdown",
   "id": "3d711d7f-2fcd-4849-a25d-c33d43163a53",
   "metadata": {},
   "source": [
    "### <div class=\"alert alert-block alert-danger\"><b>Practice in Birmingham:</b> Birmingham vs. Huntsville Temperatures</div>"
   ]
  },
  {
   "cell_type": "markdown",
   "id": "c1db31b8-1aed-42b4-8779-f8f4170fc56a",
   "metadata": {},
   "source": [
    "**Part 1: Birmingham vs. Huntsville Temperatures**"
   ]
  },
  {
   "cell_type": "markdown",
   "id": "d34c6c43-ca14-4ed8-b1c7-f681887bce1f",
   "metadata": {},
   "source": [
    "The temperature highs for all 31 days of May 2024 are given here for Birmingham, AL: https://www.accuweather.com/en/us/birmingham/35203/may-weather/346630 and here for Huntsville, AL: https://www.accuweather.com/en/us/huntsville/35801/may-weather/326704?year=2024.\n",
    "\n",
    "\n",
    "**Question 1:** Perform a two-sample t-test to determine if there is a significant difference in the average temperatures between Birmingham and Huntsville.\n",
    "\n",
    "Hints:\n",
    "\n",
    "Download temperature data from a reliable source or use simulated data.\n",
    "Use `R` functions like `t.test()` to perform the hypothesis test."
   ]
  },
  {
   "cell_type": "markdown",
   "id": "372bfd23-6432-43ae-b29c-b4cf87f662da",
   "metadata": {},
   "source": [
    "##### Your answer:"
   ]
  },
  {
   "cell_type": "code",
   "execution_count": null,
   "id": "a7c92c59-0140-451b-afbc-6866b67dab96",
   "metadata": {},
   "outputs": [],
   "source": []
  },
  {
   "cell_type": "markdown",
   "id": "4b147293-a153-4686-8bee-3a31b4f3c8b6",
   "metadata": {},
   "source": [
    "**Question 2:** Calculate the proportion of days in Birmingham and Huntsville where the temperature exceeded 80°F. Perform a two-sample proportion test to see if there is a significant difference in these proportions.\n",
    "\n",
    "Hints:\n",
    "\n",
    "Use `prop.test()` to compare the proportions."
   ]
  },
  {
   "cell_type": "markdown",
   "id": "d7ad3265-2bcc-4e64-ac0e-33fd0de62398",
   "metadata": {},
   "source": [
    "##### Your answer:"
   ]
  },
  {
   "cell_type": "code",
   "execution_count": null,
   "id": "52074bbd-2bfe-47f2-9f64-3467c0e5168c",
   "metadata": {},
   "outputs": [],
   "source": []
  },
  {
   "cell_type": "markdown",
   "id": "c378b11a-0c4f-46ac-8d44-7de46b65842a",
   "metadata": {},
   "source": [
    "**Part 2: Estimating Actuary Salaries in Birmingham**"
   ]
  },
  {
   "cell_type": "markdown",
   "id": "70ecbc52-9e6d-4811-bc13-ee726b66b677",
   "metadata": {
    "jp-MarkdownHeadingCollapsed": true
   },
   "source": [
    "\n",
    "You are interested in becoming an actuary ([source](https://www.bls.gov/ooh/math/actuaries.htm)) but first want to design a study to estimate the average income of an actuary in the Birmingham area specifically. "
   ]
  },
  {
   "cell_type": "markdown",
   "id": "c1e2de18-1ad4-4459-8b41-b4e64630bb1c",
   "metadata": {},
   "source": [
    "**Question 1: One-Sample t-Test on Actuary Income**\n",
    "\n",
    "Suppose you collect income data from a sample of actuaries in Birmingham and find that the average income in your sample is \\\\$95,000. You want to test whether this is significantly different from the national average of \\\\$100,000.\n",
    "\n",
    "### Steps:\n",
    "1. Formulate the hypotheses:\n",
    "    - Null hypothesis (H₀): The mean income in Birmingham is \\\\$100,000.\n",
    "    - Alternative hypothesis (Hₐ): The mean income in Birmingham is not \\\\$100,000.\n",
    "2. Use a one-sample $t$-test to determine if the observed mean income is significantly different from \\\\$100,000."
   ]
  },
  {
   "cell_type": "markdown",
   "id": "e1cdb05e-b7ab-4c06-ad31-e1a3673e205a",
   "metadata": {},
   "source": [
    "##### Your answer:"
   ]
  },
  {
   "cell_type": "code",
   "execution_count": null,
   "id": "340db7ab-7ca3-43de-aacf-7e69f01367a3",
   "metadata": {},
   "outputs": [],
   "source": []
  },
  {
   "cell_type": "markdown",
   "id": "455785d5-27e5-4fa7-82c7-23be81cf3a18",
   "metadata": {},
   "source": [
    "**Question 2: Proportion of Actuaries Earning Over \\\\$100,000**\n",
    "\n",
    "You hypothesize that less than 50% of actuaries in Birmingham earn more than \\\\$100,000 annually. You want to test this hypothesis using the data you collected.\n",
    "\n",
    "### Steps:\n",
    "1. Formulate the hypotheses:\n",
    "    - Null hypothesis (H₀): 50% of actuaries in Birmingham earn more than \\\\$100,000.\n",
    "    - Alternative hypothesis (Hₐ): Less than 50% of actuaries in Birmingham earn more than \\\\$100,000.\n",
    "2. Use a one-sample proportion test to determine if the observed proportion of actuaries earning over \\\\$100,000 is significantly less than 50%."
   ]
  },
  {
   "cell_type": "markdown",
   "id": "39af1992-c83c-4f2a-806c-ab135017bf10",
   "metadata": {},
   "source": [
    "##### Your answer:"
   ]
  },
  {
   "cell_type": "code",
   "execution_count": null,
   "id": "721810e2-27ac-4280-8f62-cf55167380b7",
   "metadata": {},
   "outputs": [],
   "source": []
  },
  {
   "cell_type": "markdown",
   "id": "91e4cab6-9dfc-454a-8756-3d75107c48cb",
   "metadata": {},
   "source": [
    "**Question 3: Two-Sample t-Test: Birmingham vs. Huntsville Actuary Incomes**\n",
    "\n",
    "Now, imagine you also collect income data from actuaries in Huntsville. You want to test whether the average income of actuaries in Birmingham differs from that in Huntsville.\n",
    "\n",
    "### Steps:\n",
    "1. Formulate the hypotheses:\n",
    "    - Null hypothesis (H₀): The mean income in Birmingham is equal to the mean income in Huntsville.\n",
    "    - Alternative hypothesis (Hₐ): The mean incomes are different.\n",
    "2. Use a two-sample t-test to compare the means of actuary incomes between Birmingham and Huntsville."
   ]
  },
  {
   "cell_type": "markdown",
   "id": "9a3dba37-05a6-44e4-b243-1d9185b88d3e",
   "metadata": {},
   "source": [
    "##### Your answer:"
   ]
  },
  {
   "cell_type": "code",
   "execution_count": null,
   "id": "202c5e55-1d43-4da7-a848-4affdbd61624",
   "metadata": {},
   "outputs": [],
   "source": []
  },
  {
   "cell_type": "markdown",
   "id": "32bc284a-014a-499d-9b08-a7e18ce1db53",
   "metadata": {},
   "source": [
    "**Question 4: Sample Size Calculation for Proportion**\n",
    "\n",
    "You want to estimate the proportion of actuaries in Birmingham earning over $100,000 with 90% confidence and a margin of error of 5%. Assuming the true proportion is around 40%, calculate the required sample size.\n"
   ]
  },
  {
   "cell_type": "markdown",
   "id": "b19e5600-c1ea-4f6c-8c4a-37448b9bd97d",
   "metadata": {},
   "source": [
    "##### Your answer:"
   ]
  },
  {
   "cell_type": "code",
   "execution_count": null,
   "id": "dc1bb036-1717-49e1-ad1c-270a10995fa5",
   "metadata": {},
   "outputs": [],
   "source": []
  }
 ],
 "metadata": {
  "kernelspec": {
   "display_name": "R",
   "language": "R",
   "name": "ir"
  },
  "language_info": {
   "codemirror_mode": "r",
   "file_extension": ".r",
   "mimetype": "text/x-r-source",
   "name": "R",
   "pygments_lexer": "r",
   "version": "4.2.2"
  }
 },
 "nbformat": 4,
 "nbformat_minor": 5
}
