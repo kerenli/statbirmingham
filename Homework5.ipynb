{
 "cells": [
  {
   "cell_type": "markdown",
   "id": "09a493c1-1d9f-4222-8891-d9f15bfc2402",
   "metadata": {
    "tags": []
   },
   "source": [
    "## Chapter 6 Linear Regression\n",
    "#### MA189 Statistics and Big Data in Birmingham (with R)\n",
    "##### -- _Blazer Core: City as Classroom Series_"
   ]
  },
  {
   "cell_type": "markdown",
   "id": "2877c469-6165-4ce8-91bb-32ab685bef75",
   "metadata": {
    "tags": []
   },
   "source": [
    "### <div class=\"alert alert-block alert-danger\"><b>Lab Discussion (Assignment Part 1)</b></div>\n",
    "1. Load the `marketing` dataset from `datarium` package. Perform simple regression analysis to check the impact of `facebook` and `newspaper` on `sales` respectively. Compare them with `youtube` based on the analysis results. Which of them has the most influence on `sales`? Why? Please show all R scripts and corresponding results you used for this question. Add more cells if needed."
   ]
  },
  {
   "cell_type": "code",
   "execution_count": null,
   "id": "8fc4ac97-6be2-4d1f-ae10-089d82da7e4b",
   "metadata": {},
   "outputs": [],
   "source": [
    "library(datarium)\n",
    "library(ggplot2)\n",
    "library(broom) # creates a tidy data frame from statistical test results\n",
    "library(ggfortify)\n",
    "library(tidyverse)\n",
    "\n",
    "data(\"marketing\", package = \"datarium\")\n",
    "\n",
    "# input your R scripts here"
   ]
  },
  {
   "cell_type": "markdown",
   "id": "963d9201-90c4-4188-abc0-dd676f37d49f",
   "metadata": {},
   "source": [
    "##### Your answer:\n"
   ]
  },
  {
   "cell_type": "markdown",
   "id": "86481146-a840-43bc-be57-978dc34b9f8d",
   "metadata": {},
   "source": [
    "2. If you have advertising budget of \\$10,000, how should you allocate it on the above advertising medias to maximize your sales? Why?"
   ]
  },
  {
   "cell_type": "code",
   "execution_count": null,
   "id": "24e0ba27-0c57-4b49-ac48-88d0c41281ac",
   "metadata": {},
   "outputs": [],
   "source": [
    "# input your R scripts here"
   ]
  },
  {
   "cell_type": "markdown",
   "id": "0d135d0d-fbac-4bbc-9886-c8e3211a45ad",
   "metadata": {},
   "source": [
    "##### Your answer:\n"
   ]
  },
  {
   "cell_type": "markdown",
   "id": "0596c631-7689-4eae-a163-8fbcee23526a",
   "metadata": {},
   "source": [
    "### <div class=\"alert alert-block alert-danger\"><b>Practice in Birmingham: Educational Finances of Alabama (Assignment Part 2)</b></div>\n",
    "\n",
    "Educational finance is important because it plays a crucial role in ensuring that all students have access to high-quality education. A well-funded education system can provide students with the resources and facilities they need to learn and succeed, regardless of their background or socioeconomic status.\n",
    "\n",
    "Capital outlay expenditure is an important index for a school district as it helps to ensure that the district has the necessary infrastructure and resources to provide students with a high-quality education. It also helps to promote economic growth and development in the surrounding community.\n",
    "\n",
    "The United States Census Bureau conducts annual surveys to assess the finances of elementary and high schools all over United States. We want to dig in such an educational finances dataset from [Kaggle](https://www.kaggle.com/datasets/noriuk/us-educational-finances) to learn which factors affect the capital outlay expenditure in Alabama school districts.\n",
    "\n",
    "There are several possible factors affecting capital outlay expenditure in a school district, including enrollment growth, facility maintenance needs, technology upgrades, economic conditions, state and federal regulations.\n",
    "\n",
    "Please use the dataset to check if there is any evidence supporting the above statement, or any other new factors identified during the analysis.\n",
    "\n",
    "1. Go to [Kaggle](https://www.kaggle.com/datasets/noriuk/us-educational-finances) website to download the dataset file `districts.csv` to your local directory where this `.ipynb` file is. Please also read details of this dataset. It may be helpful to your following analysis.\n",
    "2. Using following R scripts to read your downloaded `districts.csv` file and extract school districts from Alabama state only to a new object `districts_AL`."
   ]
  },
  {
   "cell_type": "code",
   "execution_count": null,
   "id": "0bf8c94b-ecd5-4150-86d3-4991ba0a31f1",
   "metadata": {
    "tags": []
   },
   "outputs": [],
   "source": [
    "library(data.table)\n",
    "districts <- fread(\"districts.csv\")\n",
    "districts_AL <- districts[STATE==\"Alabama\"]\n",
    "districts_AL"
   ]
  },
  {
   "cell_type": "markdown",
   "id": "9ffd63c2-3155-4069-a5f0-833593af7acc",
   "metadata": {},
   "source": [
    "3. Please use R script to analysis this dataset to show how other variables, for example, **Total Expenditure**(`TOTAL_EXPENDITURE`), affect __Capital Outlay Expenditure__(`CAPITAL_OUTLAY_EXPENDITURE`). Please create another Jupyter notebook to write a full report."
   ]
  }
 ],
 "metadata": {
  "kernelspec": {
   "display_name": "R",
   "language": "R",
   "name": "ir"
  },
  "language_info": {
   "codemirror_mode": "r",
   "file_extension": ".r",
   "mimetype": "text/x-r-source",
   "name": "R",
   "pygments_lexer": "r",
   "version": "4.2.2"
  }
 },
 "nbformat": 4,
 "nbformat_minor": 5
}
