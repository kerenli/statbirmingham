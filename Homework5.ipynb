{
 "cells": [
  {
   "cell_type": "markdown",
   "id": "7ac42e3d-527f-49be-bfad-dcfa97c7abbd",
   "metadata": {},
   "source": [
    "# Homework 5\n",
    "\n",
    "### <div class=\"alert alert-block alert-danger\"><b>Practice in Birmingham: Educational Finances of Alabama </b></div>\n"
   ]
  },
  {
   "cell_type": "markdown",
   "id": "d9e48faf-a060-4e38-a555-aa2d889018bd",
   "metadata": {},
   "source": [
    "#### Name:"
   ]
  },
  {
   "cell_type": "markdown",
   "id": "0596c631-7689-4eae-a163-8fbcee23526a",
   "metadata": {},
   "source": [
    "Educational finance is important because it plays a crucial role in ensuring that all students have access to high-quality education. A well-funded education system can provide students with the resources and facilities they need to learn and succeed, regardless of their background or socioeconomic status.\n",
    "\n",
    "Capital outlay expenditure is an important index for a school district as it helps to ensure that the district has the necessary infrastructure and resources to provide students with a high-quality education. It also helps to promote economic growth and development in the surrounding community.\n",
    "\n",
    "The United States Census Bureau conducts annual surveys to assess the finances of elementary and high schools all over United States. We want to dig in such an educational finances dataset from [Kaggle](https://www.kaggle.com/datasets/noriuk/us-educational-finances) to learn which factors affect the capital outlay expenditure in Alabama school districts.\n",
    "\n",
    "There are several possible factors affecting capital outlay expenditure in a school district, including enrollment growth, facility maintenance needs, technology upgrades, economic conditions, state and federal regulations.\n",
    "\n",
    "Please use the dataset to check if there is any evidence supporting the above statement, or any other new factors identified during the analysis."
   ]
  },
  {
   "cell_type": "markdown",
   "id": "5661a20c-ca75-4f86-84af-78f3be2466ab",
   "metadata": {},
   "source": [
    "**Question 1:** Go to [Kaggle](https://www.kaggle.com/datasets/noriuk/us-educational-finances) website to download the dataset file `districts.csv` to your local directory where this `.ipynb` file is. Please also read details of this dataset. It may be helpful to your following analysis."
   ]
  },
  {
   "cell_type": "markdown",
   "id": "26a01348-9bd7-4bc7-b19f-9b0f17067243",
   "metadata": {},
   "source": [
    "**Question 2:** Using following R scripts to read your downloaded `districts.csv` file and extract school districts from Alabama state only to a new object `districts_AL`."
   ]
  },
  {
   "cell_type": "code",
   "execution_count": null,
   "id": "0bf8c94b-ecd5-4150-86d3-4991ba0a31f1",
   "metadata": {
    "tags": []
   },
   "outputs": [],
   "source": [
    "library(data.table)\n",
    "districts <- fread(\"districts.csv\")\n",
    "districts_AL <- districts[STATE==\"Alabama\"]\n",
    "districts_AL"
   ]
  },
  {
   "cell_type": "markdown",
   "id": "9ffd63c2-3155-4069-a5f0-833593af7acc",
   "metadata": {},
   "source": [
    "**Question 3:**  Please use R script to analysis this dataset to show how other variables, for example, **Total Expenditure**(`TOTAL_EXPENDITURE`), affect __Capital Outlay Expenditure__(`CAPITAL_OUTLAY_EXPENDITURE`). Please create another Jupyter notebook to write a full report."
   ]
  },
  {
   "cell_type": "code",
   "execution_count": null,
   "id": "0890fec9-d3df-410d-b144-a893c177a88d",
   "metadata": {},
   "outputs": [],
   "source": []
  }
 ],
 "metadata": {
  "kernelspec": {
   "display_name": "R",
   "language": "R",
   "name": "ir"
  },
  "language_info": {
   "codemirror_mode": "r",
   "file_extension": ".r",
   "mimetype": "text/x-r-source",
   "name": "R",
   "pygments_lexer": "r",
   "version": "4.2.2"
  }
 },
 "nbformat": 4,
 "nbformat_minor": 5
}
