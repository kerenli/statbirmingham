{
 "cells": [
  {
   "cell_type": "markdown",
   "id": "befc7c5c-3f0b-4c22-aa04-8e37ae45b34e",
   "metadata": {},
   "source": [
    "# Homework 5\n",
    "\n",
    "### <div class=\"alert alert-block alert-danger\"><b>Practice in Birmingham: Birmingham vs. Huntsville Temperatures </b></div>\n"
   ]
  },
  {
   "cell_type": "markdown",
   "id": "e82828ce-6bc8-4efa-900d-a76c81a7c18d",
   "metadata": {},
   "source": [
    "#### Name:"
   ]
  },
  {
   "cell_type": "markdown",
   "id": "3082831a-3eb8-4d9e-aee3-85bca0ad5439",
   "metadata": {},
   "source": [
    "**Part 1: Birmingham vs. Huntsville Temperatures**"
   ]
  },
  {
   "cell_type": "markdown",
   "id": "5b890472-34db-4abc-bbec-c685b94fd0bd",
   "metadata": {},
   "source": [
    "The temperature highs for all 31 days of May 2024 are given here for Birmingham, AL: https://www.accuweather.com/en/us/birmingham/35203/may-weather/346630 and here for Huntsville, AL: https://www.accuweather.com/en/us/huntsville/35801/may-weather/326704?year=2024.\n",
    "\n",
    "\n",
    "**Question 1:** Perform a two-sample t-test to determine if there is a significant difference in the average temperatures between Birmingham and Huntsville.\n",
    "\n",
    "Hints:\n",
    "\n",
    "Download temperature data from a reliable source or use simulated data.\n",
    "Use `R` functions like `t.test()` to perform the hypothesis test."
   ]
  },
  {
   "cell_type": "markdown",
   "id": "f81ff8de-c621-4e7d-8b71-456e0e2c129b",
   "metadata": {},
   "source": [
    "##### Your answer:"
   ]
  },
  {
   "cell_type": "code",
   "execution_count": null,
   "id": "4edb04e9-4f7d-4eab-903b-bbce0c0ed0cb",
   "metadata": {},
   "outputs": [],
   "source": []
  },
  {
   "cell_type": "markdown",
   "id": "5959ac44-ae3c-45fc-945d-b98998984a21",
   "metadata": {},
   "source": [
    "**Question 2:** Calculate the proportion of days in Birmingham and Huntsville where the temperature exceeded 80°F. Perform a two-sample proportion test to see if there is a significant difference in these proportions.\n",
    "\n",
    "Hints:\n",
    "\n",
    "Use `prop.test()` to compare the proportions."
   ]
  },
  {
   "cell_type": "markdown",
   "id": "ce87efba-5b64-41ff-8208-7326836a5933",
   "metadata": {},
   "source": [
    "##### Your answer:"
   ]
  },
  {
   "cell_type": "code",
   "execution_count": null,
   "id": "df79a717-5af3-453a-9134-c769a966930d",
   "metadata": {},
   "outputs": [],
   "source": []
  },
  {
   "cell_type": "markdown",
   "id": "dfd18a77-eb13-4527-958c-a68f86a73124",
   "metadata": {},
   "source": [
    "**Part 2: Estimating Actuary Salaries in Birmingham**"
   ]
  },
  {
   "cell_type": "markdown",
   "id": "995b7483-bc8e-4975-a48f-e6fe8ab51ee7",
   "metadata": {},
   "source": [
    "**Part 2: Birmingham vs. Huntsville Temperatures**"
   ]
  },
  {
   "cell_type": "markdown",
   "id": "18edeed7-210e-411d-a391-ea2d0d38393a",
   "metadata": {
    "jp-MarkdownHeadingCollapsed": true
   },
   "source": [
    "\n",
    "You are interested in becoming an actuary ([source](https://www.bls.gov/ooh/math/actuaries.htm)) but first want to design a study to estimate the average income of an actuary in the Birmingham area specifically. "
   ]
  },
  {
   "cell_type": "markdown",
   "id": "83d06cf1-b3ae-4888-83a3-d3038fc17e50",
   "metadata": {},
   "source": [
    "**Question 1: One-Sample t-Test on Actuary Income**\n",
    "\n",
    "Suppose you collect income data from a sample of actuaries in Birmingham and find that the average income in your sample is \\\\$95,000. You want to test whether this is significantly different from the national average of \\\\$100,000.\n",
    "\n",
    "### Steps:\n",
    "1. Formulate the hypotheses:\n",
    "    - Null hypothesis (H₀): The mean income in Birmingham is \\\\$100,000.\n",
    "    - Alternative hypothesis (Hₐ): The mean income in Birmingham is not \\\\$100,000.\n",
    "2. Use a one-sample $t$-test to determine if the observed mean income is significantly different from \\\\$100,000."
   ]
  },
  {
   "cell_type": "markdown",
   "id": "cb27e70f-1fab-486b-b7f2-fecaf6714814",
   "metadata": {},
   "source": [
    "##### Your answer:"
   ]
  },
  {
   "cell_type": "code",
   "execution_count": null,
   "id": "7db81bdc-fb35-4935-bcbe-da1aa2f753e2",
   "metadata": {},
   "outputs": [],
   "source": []
  },
  {
   "cell_type": "markdown",
   "id": "08f1ff30-f838-428c-855b-917c032a84a6",
   "metadata": {},
   "source": [
    "**Question 2: Proportion of Actuaries Earning Over \\\\$100,000**\n",
    "\n",
    "You hypothesize that less than 50% of actuaries in Birmingham earn more than \\\\$100,000 annually. You want to test this hypothesis using the data you collected.\n",
    "\n",
    "### Steps:\n",
    "1. Formulate the hypotheses:\n",
    "    - Null hypothesis (H₀): 50% of actuaries in Birmingham earn more than \\\\$100,000.\n",
    "    - Alternative hypothesis (Hₐ): Less than 50% of actuaries in Birmingham earn more than \\\\$100,000.\n",
    "2. Use a one-sample proportion test to determine if the observed proportion of actuaries earning over \\\\$100,000 is significantly less than 50%."
   ]
  },
  {
   "cell_type": "markdown",
   "id": "89c3ed7c-ee98-4e04-9ff7-c1fb78df7ae6",
   "metadata": {},
   "source": [
    "##### Your answer:"
   ]
  },
  {
   "cell_type": "code",
   "execution_count": null,
   "id": "8664d6ed-8707-4d1e-9d18-f0a11402885b",
   "metadata": {},
   "outputs": [],
   "source": []
  },
  {
   "cell_type": "markdown",
   "id": "0b2cae59-71fb-47ef-8cad-93b8b4cfe668",
   "metadata": {},
   "source": [
    "**Question 3: Two-Sample t-Test: Birmingham vs. Huntsville Actuary Incomes**\n",
    "\n",
    "Now, imagine you also collect income data from actuaries in Huntsville. You want to test whether the average income of actuaries in Birmingham differs from that in Huntsville.\n",
    "\n",
    "### Steps:\n",
    "1. Formulate the hypotheses:\n",
    "    - Null hypothesis (H₀): The mean income in Birmingham is equal to the mean income in Huntsville.\n",
    "    - Alternative hypothesis (Hₐ): The mean incomes are different.\n",
    "2. Use a two-sample t-test to compare the means of actuary incomes between Birmingham and Huntsville."
   ]
  },
  {
   "cell_type": "markdown",
   "id": "3b0bac28-77a6-47c1-8016-ba945353feda",
   "metadata": {},
   "source": [
    "##### Your answer:"
   ]
  },
  {
   "cell_type": "code",
   "execution_count": null,
   "id": "9c87bc54-4bb6-426b-883c-6d3bb3fec028",
   "metadata": {},
   "outputs": [],
   "source": []
  },
  {
   "cell_type": "markdown",
   "id": "8532e5dc-e606-4a53-b8a8-283a1ad0fb71",
   "metadata": {},
   "source": [
    "**Question 4: Sample Size Calculation for Proportion**\n",
    "\n",
    "You want to estimate the proportion of actuaries in Birmingham earning over $100,000 with 90% confidence and a margin of error of 5%. Assuming the true proportion is around 40%, calculate the required sample size.\n"
   ]
  },
  {
   "cell_type": "markdown",
   "id": "6471d20e-f4a3-4c34-9cc1-52020bb2f392",
   "metadata": {},
   "source": [
    "##### Your answer:"
   ]
  },
  {
   "cell_type": "code",
   "execution_count": null,
   "id": "906c9d97-472a-4f92-8c17-94a4901f4b06",
   "metadata": {},
   "outputs": [],
   "source": []
  },
  {
   "cell_type": "markdown",
   "id": "28b322c1-601b-401b-bcda-8024d469a3a1",
   "metadata": {},
   "source": [
    "**Submission:**\n",
    "\n",
    "   - **Write your code in a separate script (.ipynb) and print it as a PDF or HTML file to submit the results on course Canvas website.**"
   ]
  },
  {
   "cell_type": "code",
   "execution_count": null,
   "id": "1adb55fb-740f-468d-ace0-b01823bceffc",
   "metadata": {},
   "outputs": [],
   "source": []
  }
 ],
 "metadata": {
  "kernelspec": {
   "display_name": "R",
   "language": "R",
   "name": "ir"
  },
  "language_info": {
   "codemirror_mode": "r",
   "file_extension": ".r",
   "mimetype": "text/x-r-source",
   "name": "R",
   "pygments_lexer": "r",
   "version": "4.2.2"
  }
 },
 "nbformat": 4,
 "nbformat_minor": 5
}
