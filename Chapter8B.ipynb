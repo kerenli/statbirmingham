{
 "cells": [
  {
   "cell_type": "markdown",
   "id": "f787fb6b-f4a8-437e-a9fd-a9da6c29e908",
   "metadata": {
    "tags": []
   },
   "source": [
    "## Chapter 8: Beyond Linear Models\n",
    "### Section B: Logistic Regression and Poisson Regression\n",
    "#### MA189 Statistics and Big Data in Birmingham (with R)\n",
    "##### -- _Blazer Core: City as Classroom Series_"
   ]
  },
  {
   "cell_type": "markdown",
   "id": "bc461056-92a9-46b7-94c7-f7955e0498bb",
   "metadata": {},
   "source": [
    "Course Website: [Github.com/kerenli/statbirmingham/](https://github.com/kerenli/statbirmingham/)\n"
   ]
  },
  {
   "cell_type": "markdown",
   "id": "d775b024-6543-4f9e-80d3-f6f41bb92947",
   "metadata": {},
   "source": [
    "#### Levels:\n",
    "<div class=\"alert-success\"> Concepts and general information</div>\n",
    "<div class=\"alert-warning\"> Important methods and technique details </div>\n",
    "<div class=\"alert-info\"> Extended reading </div>\n",
    "<div class=\"alert-danger\"> (Local) Examples, assignments, and <b>Practice in Birmingham</b> </div>"
   ]
  },
  {
   "cell_type": "markdown",
   "id": "11dc3df4-8f34-4d27-b3ac-9157d0c88c34",
   "metadata": {},
   "source": [
    "In this section, we will learn about two types of regression models commonly used for data where the response variable is not continuous:\n",
    "1. **Logistic Regression** - For binary or categorical outcomes.\n",
    "2. **Poisson Regression** - For count data.\n",
    "\n",
    "Both methods extend the linear model framework to accommodate different types of dependent variables and can handle cases where linear regression is not appropriate."
   ]
  },
  {
   "cell_type": "markdown",
   "id": "8ff21655-6ce5-44f1-a3fd-42ef1ce099e2",
   "metadata": {},
   "source": [
    "#### <div class=\"alert alert-block alert-success\"> Objectives </div>\n",
    "1. Understand when to use logistic regression and how to fit and interpret a logistic regression model in R.\n",
    "2. Understand when to use Poisson regression and how to fit and interpret a Poisson regression model in R.\n",
    "Apply these methods to real data for hands-on practice."
   ]
  },
  {
   "cell_type": "markdown",
   "id": "aa94d718-b471-4b15-8047-bbb8b6c01762",
   "metadata": {},
   "source": [
    "#### <div class=\"alert alert-block alert-success\"> Converting Variables</div>\n",
    "\n",
    "Before building models, we often need to convert variables between different types. For logistic regression, the response variable should be binary, while predictors can be numeric or factors.\n",
    "\n",
    "Here’s how to convert variables in R:\n",
    "\n",
    "- **Numeric/Character to Factor**: `as.factor()`\n",
    "- **Factor to Numeric**: `as.numeric()`\n",
    "- **Factor to Character**: `as.character()`"
   ]
  },
  {
   "cell_type": "code",
   "execution_count": 3,
   "id": "4a080744-e20d-4f47-b607-90cdc377e78d",
   "metadata": {},
   "outputs": [
    {
     "name": "stdout",
     "output_type": "stream",
     "text": [
      " Factor w/ 2 levels \"High\",\"Low\": 1 1 1 1 2 2 2 1 1 2 ...\n",
      " Factor w/ 3 levels \"4\",\"6\",\"8\": 2 2 1 2 3 2 3 1 1 2 ...\n",
      " Factor w/ 3 levels \"4\",\"6\",\"8\": 2 2 1 2 3 2 3 1 1 2 ...\n"
     ]
    }
   ],
   "source": [
    "# Convert the binary response variable to a factor\n",
    "mtcars$high_mpg <- ifelse(mtcars$mpg > 20, \"High\", \"Low\")\n",
    "mtcars$high_mpg <- as.factor(mtcars$high_mpg)  # Convert to factor\n",
    "\n",
    "# Check conversion\n",
    "str(mtcars$high_mpg)\n",
    "\n",
    "# Convert a predictor to factor, if needed\n",
    "mtcars$cyl <- as.factor(mtcars$cyl)\n",
    "str(mtcars$cyl)\n",
    "\n",
    "# Convert back to numeric if needed\n",
    "cyl_numeric <- as.numeric(mtcars$cyl)\n",
    "str(mtcars$cyl)"
   ]
  },
  {
   "cell_type": "markdown",
   "id": "9f5d6883-c4ca-4713-afd6-c81daa62f467",
   "metadata": {},
   "source": [
    "#### <div class=\"alert alert-block alert-success\"> Generating Model Matrix with Factors </div>\n",
    "\n",
    "To create a **model matrix** for logistic regression with factors, we can use the `model.matrix()` function. This function automatically converts factors to dummy variables (one-hot encoding).\n",
    "\n",
    "For instance, suppose we want to build a logistic model with `cyl` as a factor."
   ]
  },
  {
   "cell_type": "code",
   "execution_count": 4,
   "id": "96502157-ed8b-4e7b-88dc-b7e517546947",
   "metadata": {},
   "outputs": [
    {
     "data": {
      "text/html": [
       "<table class=\"dataframe\">\n",
       "<caption>A matrix: 6 × 5 of type dbl</caption>\n",
       "<thead>\n",
       "\t<tr><th></th><th scope=col>(Intercept)</th><th scope=col>wt</th><th scope=col>hp</th><th scope=col>cyl6</th><th scope=col>cyl8</th></tr>\n",
       "</thead>\n",
       "<tbody>\n",
       "\t<tr><th scope=row>Mazda RX4</th><td>1</td><td>2.620</td><td>110</td><td>1</td><td>0</td></tr>\n",
       "\t<tr><th scope=row>Mazda RX4 Wag</th><td>1</td><td>2.875</td><td>110</td><td>1</td><td>0</td></tr>\n",
       "\t<tr><th scope=row>Datsun 710</th><td>1</td><td>2.320</td><td> 93</td><td>0</td><td>0</td></tr>\n",
       "\t<tr><th scope=row>Hornet 4 Drive</th><td>1</td><td>3.215</td><td>110</td><td>1</td><td>0</td></tr>\n",
       "\t<tr><th scope=row>Hornet Sportabout</th><td>1</td><td>3.440</td><td>175</td><td>0</td><td>1</td></tr>\n",
       "\t<tr><th scope=row>Valiant</th><td>1</td><td>3.460</td><td>105</td><td>1</td><td>0</td></tr>\n",
       "</tbody>\n",
       "</table>\n"
      ],
      "text/latex": [
       "A matrix: 6 × 5 of type dbl\n",
       "\\begin{tabular}{r|lllll}\n",
       "  & (Intercept) & wt & hp & cyl6 & cyl8\\\\\n",
       "\\hline\n",
       "\tMazda RX4 & 1 & 2.620 & 110 & 1 & 0\\\\\n",
       "\tMazda RX4 Wag & 1 & 2.875 & 110 & 1 & 0\\\\\n",
       "\tDatsun 710 & 1 & 2.320 &  93 & 0 & 0\\\\\n",
       "\tHornet 4 Drive & 1 & 3.215 & 110 & 1 & 0\\\\\n",
       "\tHornet Sportabout & 1 & 3.440 & 175 & 0 & 1\\\\\n",
       "\tValiant & 1 & 3.460 & 105 & 1 & 0\\\\\n",
       "\\end{tabular}\n"
      ],
      "text/markdown": [
       "\n",
       "A matrix: 6 × 5 of type dbl\n",
       "\n",
       "| <!--/--> | (Intercept) | wt | hp | cyl6 | cyl8 |\n",
       "|---|---|---|---|---|---|\n",
       "| Mazda RX4 | 1 | 2.620 | 110 | 1 | 0 |\n",
       "| Mazda RX4 Wag | 1 | 2.875 | 110 | 1 | 0 |\n",
       "| Datsun 710 | 1 | 2.320 |  93 | 0 | 0 |\n",
       "| Hornet 4 Drive | 1 | 3.215 | 110 | 1 | 0 |\n",
       "| Hornet Sportabout | 1 | 3.440 | 175 | 0 | 1 |\n",
       "| Valiant | 1 | 3.460 | 105 | 1 | 0 |\n",
       "\n"
      ],
      "text/plain": [
       "                  (Intercept) wt    hp  cyl6 cyl8\n",
       "Mazda RX4         1           2.620 110 1    0   \n",
       "Mazda RX4 Wag     1           2.875 110 1    0   \n",
       "Datsun 710        1           2.320  93 0    0   \n",
       "Hornet 4 Drive    1           3.215 110 1    0   \n",
       "Hornet Sportabout 1           3.440 175 0    1   \n",
       "Valiant           1           3.460 105 1    0   "
      ]
     },
     "metadata": {},
     "output_type": "display_data"
    }
   ],
   "source": [
    "# Create a model matrix with factor variables\n",
    "model_matrix <- model.matrix(high_mpg ~ wt + hp + cyl, data = mtcars)\n",
    "\n",
    "# View the generated matrix\n",
    "head(model_matrix)"
   ]
  },
  {
   "cell_type": "markdown",
   "id": "e289fe45-1f87-4049-8354-890fbefe47ea",
   "metadata": {},
   "source": [
    "### <div class=\"alert alert-block alert-success\"> Logistic Regression </div>\n",
    "\n",
    "Logistic regression is used when the response variable is **binary** (e.g., yes/no, success/failure). Instead of modeling the response as a linear function, we model the **log-odds** of the response as a linear function of the predictors.\n",
    "\n",
    "#### Logistic Regression Equation\n",
    "The logistic regression model for a binary outcome $Y$ is:\n",
    "$$\n",
    "\\text{logit}(P(Y=1)) = \\beta_0 + \\beta_1X_1 + \\beta_2X_2 + \\dots + \\beta_pX_p\n",
    "$$\n",
    "where:\n",
    "- $P(Y=1)$ is the probability that the response equals 1.\n",
    "- $\\text{logit}(P) = \\log\\left(\\frac{P}{1 - P}\\right)$ is the log-odds.\n",
    "\n",
    "We'll demonstrate logistic regression using the `mtcars` dataset by creating a binary outcome variable, `high_mpg`, which indicates if a car has high fuel efficiency."
   ]
  },
  {
   "cell_type": "code",
   "execution_count": 6,
   "id": "72234324-dcea-4378-a03d-ba5171c677e9",
   "metadata": {},
   "outputs": [
    {
     "data": {
      "text/html": [
       "<table class=\"dataframe\">\n",
       "<caption>A data.frame: 6 × 12</caption>\n",
       "<thead>\n",
       "\t<tr><th></th><th scope=col>mpg</th><th scope=col>cyl</th><th scope=col>disp</th><th scope=col>hp</th><th scope=col>drat</th><th scope=col>wt</th><th scope=col>qsec</th><th scope=col>vs</th><th scope=col>am</th><th scope=col>gear</th><th scope=col>carb</th><th scope=col>high_mpg</th></tr>\n",
       "\t<tr><th></th><th scope=col>&lt;dbl&gt;</th><th scope=col>&lt;fct&gt;</th><th scope=col>&lt;dbl&gt;</th><th scope=col>&lt;dbl&gt;</th><th scope=col>&lt;dbl&gt;</th><th scope=col>&lt;dbl&gt;</th><th scope=col>&lt;dbl&gt;</th><th scope=col>&lt;dbl&gt;</th><th scope=col>&lt;dbl&gt;</th><th scope=col>&lt;dbl&gt;</th><th scope=col>&lt;dbl&gt;</th><th scope=col>&lt;dbl&gt;</th></tr>\n",
       "</thead>\n",
       "<tbody>\n",
       "\t<tr><th scope=row>Mazda RX4</th><td>21.0</td><td>6</td><td>160</td><td>110</td><td>3.90</td><td>2.620</td><td>16.46</td><td>0</td><td>1</td><td>4</td><td>4</td><td>1</td></tr>\n",
       "\t<tr><th scope=row>Mazda RX4 Wag</th><td>21.0</td><td>6</td><td>160</td><td>110</td><td>3.90</td><td>2.875</td><td>17.02</td><td>0</td><td>1</td><td>4</td><td>4</td><td>1</td></tr>\n",
       "\t<tr><th scope=row>Datsun 710</th><td>22.8</td><td>4</td><td>108</td><td> 93</td><td>3.85</td><td>2.320</td><td>18.61</td><td>1</td><td>1</td><td>4</td><td>1</td><td>1</td></tr>\n",
       "\t<tr><th scope=row>Hornet 4 Drive</th><td>21.4</td><td>6</td><td>258</td><td>110</td><td>3.08</td><td>3.215</td><td>19.44</td><td>1</td><td>0</td><td>3</td><td>1</td><td>1</td></tr>\n",
       "\t<tr><th scope=row>Hornet Sportabout</th><td>18.7</td><td>8</td><td>360</td><td>175</td><td>3.15</td><td>3.440</td><td>17.02</td><td>0</td><td>0</td><td>3</td><td>2</td><td>0</td></tr>\n",
       "\t<tr><th scope=row>Valiant</th><td>18.1</td><td>6</td><td>225</td><td>105</td><td>2.76</td><td>3.460</td><td>20.22</td><td>1</td><td>0</td><td>3</td><td>1</td><td>0</td></tr>\n",
       "</tbody>\n",
       "</table>\n"
      ],
      "text/latex": [
       "A data.frame: 6 × 12\n",
       "\\begin{tabular}{r|llllllllllll}\n",
       "  & mpg & cyl & disp & hp & drat & wt & qsec & vs & am & gear & carb & high\\_mpg\\\\\n",
       "  & <dbl> & <fct> & <dbl> & <dbl> & <dbl> & <dbl> & <dbl> & <dbl> & <dbl> & <dbl> & <dbl> & <dbl>\\\\\n",
       "\\hline\n",
       "\tMazda RX4 & 21.0 & 6 & 160 & 110 & 3.90 & 2.620 & 16.46 & 0 & 1 & 4 & 4 & 1\\\\\n",
       "\tMazda RX4 Wag & 21.0 & 6 & 160 & 110 & 3.90 & 2.875 & 17.02 & 0 & 1 & 4 & 4 & 1\\\\\n",
       "\tDatsun 710 & 22.8 & 4 & 108 &  93 & 3.85 & 2.320 & 18.61 & 1 & 1 & 4 & 1 & 1\\\\\n",
       "\tHornet 4 Drive & 21.4 & 6 & 258 & 110 & 3.08 & 3.215 & 19.44 & 1 & 0 & 3 & 1 & 1\\\\\n",
       "\tHornet Sportabout & 18.7 & 8 & 360 & 175 & 3.15 & 3.440 & 17.02 & 0 & 0 & 3 & 2 & 0\\\\\n",
       "\tValiant & 18.1 & 6 & 225 & 105 & 2.76 & 3.460 & 20.22 & 1 & 0 & 3 & 1 & 0\\\\\n",
       "\\end{tabular}\n"
      ],
      "text/markdown": [
       "\n",
       "A data.frame: 6 × 12\n",
       "\n",
       "| <!--/--> | mpg &lt;dbl&gt; | cyl &lt;fct&gt; | disp &lt;dbl&gt; | hp &lt;dbl&gt; | drat &lt;dbl&gt; | wt &lt;dbl&gt; | qsec &lt;dbl&gt; | vs &lt;dbl&gt; | am &lt;dbl&gt; | gear &lt;dbl&gt; | carb &lt;dbl&gt; | high_mpg &lt;dbl&gt; |\n",
       "|---|---|---|---|---|---|---|---|---|---|---|---|---|\n",
       "| Mazda RX4 | 21.0 | 6 | 160 | 110 | 3.90 | 2.620 | 16.46 | 0 | 1 | 4 | 4 | 1 |\n",
       "| Mazda RX4 Wag | 21.0 | 6 | 160 | 110 | 3.90 | 2.875 | 17.02 | 0 | 1 | 4 | 4 | 1 |\n",
       "| Datsun 710 | 22.8 | 4 | 108 |  93 | 3.85 | 2.320 | 18.61 | 1 | 1 | 4 | 1 | 1 |\n",
       "| Hornet 4 Drive | 21.4 | 6 | 258 | 110 | 3.08 | 3.215 | 19.44 | 1 | 0 | 3 | 1 | 1 |\n",
       "| Hornet Sportabout | 18.7 | 8 | 360 | 175 | 3.15 | 3.440 | 17.02 | 0 | 0 | 3 | 2 | 0 |\n",
       "| Valiant | 18.1 | 6 | 225 | 105 | 2.76 | 3.460 | 20.22 | 1 | 0 | 3 | 1 | 0 |\n",
       "\n"
      ],
      "text/plain": [
       "                  mpg  cyl disp hp  drat wt    qsec  vs am gear carb high_mpg\n",
       "Mazda RX4         21.0 6   160  110 3.90 2.620 16.46 0  1  4    4    1       \n",
       "Mazda RX4 Wag     21.0 6   160  110 3.90 2.875 17.02 0  1  4    4    1       \n",
       "Datsun 710        22.8 4   108   93 3.85 2.320 18.61 1  1  4    1    1       \n",
       "Hornet 4 Drive    21.4 6   258  110 3.08 3.215 19.44 1  0  3    1    1       \n",
       "Hornet Sportabout 18.7 8   360  175 3.15 3.440 17.02 0  0  3    2    0       \n",
       "Valiant           18.1 6   225  105 2.76 3.460 20.22 1  0  3    1    0       "
      ]
     },
     "metadata": {},
     "output_type": "display_data"
    }
   ],
   "source": [
    "# Load necessary library\n",
    "library(ggplot2)\n",
    "\n",
    "# Create a binary outcome variable for high mpg (fuel efficiency)\n",
    "mtcars$high_mpg <- ifelse(mtcars$mpg > 20, 1, 0)\n",
    "\n",
    "# Preview the modified dataset\n",
    "head(mtcars)"
   ]
  },
  {
   "cell_type": "markdown",
   "id": "5c1ecfe3-2dae-48ef-a19a-dd531e7e3ddf",
   "metadata": {},
   "source": [
    "#### <div class=\"alert alert-block alert-success\"> Fitting a Logistic Regression Model </div>\n",
    "\n",
    "We'll fit a logistic regression model to predict `high_mpg` based on the weight (`wt`) and horsepower (`hp`) of the cars. The `glm()` function in R with `family = binomial` is used for logistic regression."
   ]
  },
  {
   "cell_type": "code",
   "execution_count": 47,
   "id": "d9d6f6c5-4227-4d4b-afbe-bc3270195a70",
   "metadata": {},
   "outputs": [
    {
     "name": "stderr",
     "output_type": "stream",
     "text": [
      "Warning message:\n",
      "“glm.fit: algorithm did not converge”\n",
      "Warning message:\n",
      "“glm.fit: fitted probabilities numerically 0 or 1 occurred”\n"
     ]
    },
    {
     "data": {
      "text/plain": [
       "\n",
       "Call:\n",
       "glm(formula = high_mpg ~ wt + hp, family = binomial, data = mtcars)\n",
       "\n",
       "Deviance Residuals: \n",
       "       Min          1Q      Median          3Q         Max  \n",
       "-6.743e-05  -2.100e-08  -2.100e-08   2.100e-08   7.480e-05  \n",
       "\n",
       "Coefficients:\n",
       "              Estimate Std. Error z value Pr(>|z|)\n",
       "(Intercept)    894.228 365884.162   0.002    0.998\n",
       "wt            -202.865  84688.218  -0.002    0.998\n",
       "hp              -2.021    858.062  -0.002    0.998\n",
       "\n",
       "(Dispersion parameter for binomial family taken to be 1)\n",
       "\n",
       "    Null deviance: 4.3860e+01  on 31  degrees of freedom\n",
       "Residual deviance: 1.1156e-08  on 29  degrees of freedom\n",
       "AIC: 6\n",
       "\n",
       "Number of Fisher Scoring iterations: 25\n"
      ]
     },
     "metadata": {},
     "output_type": "display_data"
    }
   ],
   "source": [
    "# Fit logistic regression model\n",
    "logistic_model <- glm(high_mpg ~ wt + hp, data = mtcars, family = binomial)\n",
    "\n",
    "# Summary of the logistic regression model\n",
    "summary(logistic_model)"
   ]
  },
  {
   "cell_type": "markdown",
   "id": "86233bcb-19e6-4484-b40e-3ca6557f98a1",
   "metadata": {},
   "source": [
    "#### <div class=\"alert alert-block alert-info\"> Interpreting Logistic Regression Results </div>\n",
    "\n",
    "The logistic regression model output includes coefficients for `wt` and `hp`. Here’s how to interpret the results:\n",
    "1. **Coefficients**: Each coefficient represents the log-odds of `high_mpg` for a one-unit increase in the predictor, holding other predictors constant.\n",
    "2. **Odds Ratios**: By exponentiating the coefficients, we obtain the odds ratios, which indicate the multiplicative change in odds for each unit increase in the predictor."
   ]
  },
  {
   "cell_type": "code",
   "execution_count": 55,
   "id": "b44df153-dc1f-4217-8a99-13039d31ed47",
   "metadata": {},
   "outputs": [
    {
     "data": {
      "text/html": [
       "<style>\n",
       ".dl-inline {width: auto; margin:0; padding: 0}\n",
       ".dl-inline>dt, .dl-inline>dd {float: none; width: auto; display: inline-block}\n",
       ".dl-inline>dt::after {content: \":\\0020\"; padding-right: .5ex}\n",
       ".dl-inline>dt:not(:first-of-type) {padding-left: .5ex}\n",
       "</style><dl class=dl-inline><dt>(Intercept)</dt><dd>Inf</dd><dt>wt</dt><dd>7.88436084968477e-89</dd><dt>hp</dt><dd>0.132509152368041</dd></dl>\n"
      ],
      "text/latex": [
       "\\begin{description*}\n",
       "\\item[(Intercept)] Inf\n",
       "\\item[wt] 7.88436084968477e-89\n",
       "\\item[hp] 0.132509152368041\n",
       "\\end{description*}\n"
      ],
      "text/markdown": [
       "(Intercept)\n",
       ":   Infwt\n",
       ":   7.88436084968477e-89hp\n",
       ":   0.132509152368041\n",
       "\n"
      ],
      "text/plain": [
       " (Intercept)           wt           hp \n",
       "         Inf 7.884361e-89 1.325092e-01 "
      ]
     },
     "metadata": {},
     "output_type": "display_data"
    }
   ],
   "source": [
    "exp(coef(logistic_model))"
   ]
  },
  {
   "cell_type": "markdown",
   "id": "ff101839-a8fb-4843-bbca-f87bb24036f2",
   "metadata": {},
   "source": [
    "The p-values for wt and hp are high because the standard errors of the coefficients are extremely large. This happens due to complete separation, where the model tries to fit the data almost exactly, leading to large (and unreliable) coefficient estimates. This often results in coefficients diverging towards infinity or being highly inflated."
   ]
  },
  {
   "cell_type": "markdown",
   "id": "8430efe6-94f4-48ac-a2e3-e1c6865cc31f",
   "metadata": {},
   "source": [
    "#### <div class=\"alert alert-block alert-success\"> Making Predictions with Logistic Regression </div>\n",
    "\n",
    "Once the model is fit, we can use it to make predictions. Logistic regression outputs the probability of the outcome being 1, which we can threshold to predict binary outcomes."
   ]
  },
  {
   "cell_type": "code",
   "execution_count": 9,
   "id": "aeb35f5c-7415-4f28-a35f-f7ff5a471efa",
   "metadata": {
    "scrolled": true
   },
   "outputs": [
    {
     "data": {
      "text/html": [
       "<table class=\"dataframe\">\n",
       "<caption>A data.frame: 6 × 5</caption>\n",
       "<thead>\n",
       "\t<tr><th></th><th scope=col>mpg</th><th scope=col>wt</th><th scope=col>hp</th><th scope=col>high_mpg</th><th scope=col>predicted_high_mpg</th></tr>\n",
       "\t<tr><th></th><th scope=col>&lt;dbl&gt;</th><th scope=col>&lt;dbl&gt;</th><th scope=col>&lt;dbl&gt;</th><th scope=col>&lt;dbl&gt;</th><th scope=col>&lt;dbl&gt;</th></tr>\n",
       "</thead>\n",
       "<tbody>\n",
       "\t<tr><th scope=row>Mazda RX4</th><td>21.0</td><td>2.620</td><td>110</td><td>1</td><td>1</td></tr>\n",
       "\t<tr><th scope=row>Mazda RX4 Wag</th><td>21.0</td><td>2.875</td><td>110</td><td>1</td><td>1</td></tr>\n",
       "\t<tr><th scope=row>Datsun 710</th><td>22.8</td><td>2.320</td><td> 93</td><td>1</td><td>1</td></tr>\n",
       "\t<tr><th scope=row>Hornet 4 Drive</th><td>21.4</td><td>3.215</td><td>110</td><td>1</td><td>1</td></tr>\n",
       "\t<tr><th scope=row>Hornet Sportabout</th><td>18.7</td><td>3.440</td><td>175</td><td>0</td><td>0</td></tr>\n",
       "\t<tr><th scope=row>Valiant</th><td>18.1</td><td>3.460</td><td>105</td><td>0</td><td>0</td></tr>\n",
       "</tbody>\n",
       "</table>\n"
      ],
      "text/latex": [
       "A data.frame: 6 × 5\n",
       "\\begin{tabular}{r|lllll}\n",
       "  & mpg & wt & hp & high\\_mpg & predicted\\_high\\_mpg\\\\\n",
       "  & <dbl> & <dbl> & <dbl> & <dbl> & <dbl>\\\\\n",
       "\\hline\n",
       "\tMazda RX4 & 21.0 & 2.620 & 110 & 1 & 1\\\\\n",
       "\tMazda RX4 Wag & 21.0 & 2.875 & 110 & 1 & 1\\\\\n",
       "\tDatsun 710 & 22.8 & 2.320 &  93 & 1 & 1\\\\\n",
       "\tHornet 4 Drive & 21.4 & 3.215 & 110 & 1 & 1\\\\\n",
       "\tHornet Sportabout & 18.7 & 3.440 & 175 & 0 & 0\\\\\n",
       "\tValiant & 18.1 & 3.460 & 105 & 0 & 0\\\\\n",
       "\\end{tabular}\n"
      ],
      "text/markdown": [
       "\n",
       "A data.frame: 6 × 5\n",
       "\n",
       "| <!--/--> | mpg &lt;dbl&gt; | wt &lt;dbl&gt; | hp &lt;dbl&gt; | high_mpg &lt;dbl&gt; | predicted_high_mpg &lt;dbl&gt; |\n",
       "|---|---|---|---|---|---|\n",
       "| Mazda RX4 | 21.0 | 2.620 | 110 | 1 | 1 |\n",
       "| Mazda RX4 Wag | 21.0 | 2.875 | 110 | 1 | 1 |\n",
       "| Datsun 710 | 22.8 | 2.320 |  93 | 1 | 1 |\n",
       "| Hornet 4 Drive | 21.4 | 3.215 | 110 | 1 | 1 |\n",
       "| Hornet Sportabout | 18.7 | 3.440 | 175 | 0 | 0 |\n",
       "| Valiant | 18.1 | 3.460 | 105 | 0 | 0 |\n",
       "\n"
      ],
      "text/plain": [
       "                  mpg  wt    hp  high_mpg predicted_high_mpg\n",
       "Mazda RX4         21.0 2.620 110 1        1                 \n",
       "Mazda RX4 Wag     21.0 2.875 110 1        1                 \n",
       "Datsun 710        22.8 2.320  93 1        1                 \n",
       "Hornet 4 Drive    21.4 3.215 110 1        1                 \n",
       "Hornet Sportabout 18.7 3.440 175 0        0                 \n",
       "Valiant           18.1 3.460 105 0        0                 "
      ]
     },
     "metadata": {},
     "output_type": "display_data"
    }
   ],
   "source": [
    "# Predict probabilities of high mpg\n",
    "predicted_probs <- predict(logistic_model, type = \"response\")\n",
    "\n",
    "# Add predictions to the dataset\n",
    "mtcars$predicted_high_mpg <- ifelse(predicted_probs > 0.5, 1, 0)\n",
    "\n",
    "# Display the first few rows with predictions\n",
    "head(mtcars[, c(\"mpg\", \"wt\", \"hp\", \"high_mpg\", \"predicted_high_mpg\")])"
   ]
  },
  {
   "cell_type": "code",
   "execution_count": 49,
   "id": "4ac9eb66-852b-4825-b37b-8fdca795e356",
   "metadata": {},
   "outputs": [
    {
     "name": "stdout",
     "output_type": "stream",
     "text": [
      "Training MSE: 4.141339e-19 \n"
     ]
    }
   ],
   "source": [
    "mse <- mean((mtcars$high_mpg - predicted_probs)^2)\n",
    "cat(\"Training MSE:\", mse, \"\\n\")"
   ]
  },
  {
   "cell_type": "code",
   "execution_count": 56,
   "id": "c520ca18-9c23-4749-bb0a-0a35a9d6ee86",
   "metadata": {},
   "outputs": [
    {
     "data": {
      "text/plain": [
       "   \n",
       "    FALSE TRUE\n",
       "  0     1   17\n",
       "  1    11    3"
      ]
     },
     "metadata": {},
     "output_type": "display_data"
    }
   ],
   "source": [
    "table(mtcars$high_mpg, mtcars$wt > 3)"
   ]
  },
  {
   "cell_type": "markdown",
   "id": "a63c3a40-3505-457d-927e-f763d1d0d004",
   "metadata": {},
   "source": [
    "#### <div class=\"alert alert-block alert-success\"> Adding Higher-Order Terms and Interactions </div>\n",
    "\n",
    "Higher-order terms (like squared terms) and interactions can capture complex relationships between variables.\n",
    "\n",
    "1. **Higher-Order Terms**: To include polynomial terms, simply add the squared or cubed terms in the formula.\n",
    "2. **Interactions**: Use `:` for interaction terms (e.g., `wt:hp`), or `*` to include both individual and interaction terms (e.g., `wt * hp`).\n"
   ]
  },
  {
   "cell_type": "code",
   "execution_count": 21,
   "id": "c911ac55-1142-48d0-9e6d-15e3812d201f",
   "metadata": {},
   "outputs": [
    {
     "name": "stderr",
     "output_type": "stream",
     "text": [
      "Warning message:\n",
      "“glm.fit: algorithm did not converge”\n",
      "Warning message:\n",
      "“glm.fit: fitted probabilities numerically 0 or 1 occurred”\n"
     ]
    },
    {
     "data": {
      "text/plain": [
       "\n",
       "Call:\n",
       "glm(formula = high_mpg ~ wt + hp + wt:hp, family = binomial, \n",
       "    data = mtcars)\n",
       "\n",
       "Deviance Residuals: \n",
       "       Min          1Q      Median          3Q         Max  \n",
       "-4.217e-05  -2.100e-08  -2.100e-08   2.100e-08   4.947e-05  \n",
       "\n",
       "Coefficients:\n",
       "              Estimate Std. Error z value Pr(>|z|)\n",
       "(Intercept)   1376.310 847009.895   0.002    0.999\n",
       "wt            -384.770 240635.444  -0.002    0.999\n",
       "hp              -7.017   4404.678  -0.002    0.999\n",
       "wt:hp            1.847   1187.706   0.002    0.999\n",
       "\n",
       "(Dispersion parameter for binomial family taken to be 1)\n",
       "\n",
       "    Null deviance: 4.3860e+01  on 31  degrees of freedom\n",
       "Residual deviance: 4.7507e-09  on 28  degrees of freedom\n",
       "AIC: 8\n",
       "\n",
       "Number of Fisher Scoring iterations: 25\n"
      ]
     },
     "metadata": {},
     "output_type": "display_data"
    },
    {
     "data": {
      "text/html": [
       "<table class=\"dataframe\">\n",
       "<caption>A matrix: 6 × 4 of type dbl</caption>\n",
       "<thead>\n",
       "\t<tr><th></th><th scope=col>(Intercept)</th><th scope=col>wt</th><th scope=col>hp</th><th scope=col>wt:hp</th></tr>\n",
       "</thead>\n",
       "<tbody>\n",
       "\t<tr><th scope=row>Mazda RX4</th><td>1</td><td>2.620</td><td>110</td><td>288.20</td></tr>\n",
       "\t<tr><th scope=row>Mazda RX4 Wag</th><td>1</td><td>2.875</td><td>110</td><td>316.25</td></tr>\n",
       "\t<tr><th scope=row>Datsun 710</th><td>1</td><td>2.320</td><td> 93</td><td>215.76</td></tr>\n",
       "\t<tr><th scope=row>Hornet 4 Drive</th><td>1</td><td>3.215</td><td>110</td><td>353.65</td></tr>\n",
       "\t<tr><th scope=row>Hornet Sportabout</th><td>1</td><td>3.440</td><td>175</td><td>602.00</td></tr>\n",
       "\t<tr><th scope=row>Valiant</th><td>1</td><td>3.460</td><td>105</td><td>363.30</td></tr>\n",
       "</tbody>\n",
       "</table>\n"
      ],
      "text/latex": [
       "A matrix: 6 × 4 of type dbl\n",
       "\\begin{tabular}{r|llll}\n",
       "  & (Intercept) & wt & hp & wt:hp\\\\\n",
       "\\hline\n",
       "\tMazda RX4 & 1 & 2.620 & 110 & 288.20\\\\\n",
       "\tMazda RX4 Wag & 1 & 2.875 & 110 & 316.25\\\\\n",
       "\tDatsun 710 & 1 & 2.320 &  93 & 215.76\\\\\n",
       "\tHornet 4 Drive & 1 & 3.215 & 110 & 353.65\\\\\n",
       "\tHornet Sportabout & 1 & 3.440 & 175 & 602.00\\\\\n",
       "\tValiant & 1 & 3.460 & 105 & 363.30\\\\\n",
       "\\end{tabular}\n"
      ],
      "text/markdown": [
       "\n",
       "A matrix: 6 × 4 of type dbl\n",
       "\n",
       "| <!--/--> | (Intercept) | wt | hp | wt:hp |\n",
       "|---|---|---|---|---|\n",
       "| Mazda RX4 | 1 | 2.620 | 110 | 288.20 |\n",
       "| Mazda RX4 Wag | 1 | 2.875 | 110 | 316.25 |\n",
       "| Datsun 710 | 1 | 2.320 |  93 | 215.76 |\n",
       "| Hornet 4 Drive | 1 | 3.215 | 110 | 353.65 |\n",
       "| Hornet Sportabout | 1 | 3.440 | 175 | 602.00 |\n",
       "| Valiant | 1 | 3.460 | 105 | 363.30 |\n",
       "\n"
      ],
      "text/plain": [
       "                  (Intercept) wt    hp  wt:hp \n",
       "Mazda RX4         1           2.620 110 288.20\n",
       "Mazda RX4 Wag     1           2.875 110 316.25\n",
       "Datsun 710        1           2.320  93 215.76\n",
       "Hornet 4 Drive    1           3.215 110 353.65\n",
       "Hornet Sportabout 1           3.440 175 602.00\n",
       "Valiant           1           3.460 105 363.30"
      ]
     },
     "metadata": {},
     "output_type": "display_data"
    }
   ],
   "source": [
    "# Include interaction in the model\n",
    "model2 <- glm(high_mpg ~ wt + hp + wt:hp, family = binomial, data = mtcars)\n",
    "summary(model2)\n",
    "head(model.matrix(model2))"
   ]
  },
  {
   "cell_type": "code",
   "execution_count": 22,
   "id": "da240b7c-1ef0-4342-a5c8-ed50d75e8403",
   "metadata": {},
   "outputs": [
    {
     "name": "stderr",
     "output_type": "stream",
     "text": [
      "Warning message:\n",
      "“glm.fit: algorithm did not converge”\n",
      "Warning message:\n",
      "“glm.fit: fitted probabilities numerically 0 or 1 occurred”\n"
     ]
    },
    {
     "data": {
      "text/plain": [
       "\n",
       "Call:\n",
       "glm(formula = high_mpg ~ wt:hp, family = binomial, data = mtcars)\n",
       "\n",
       "Deviance Residuals: \n",
       "       Min          1Q      Median          3Q         Max  \n",
       "-2.194e-04  -2.100e-08  -2.100e-08   2.100e-08   2.298e-04  \n",
       "\n",
       "Coefficients:\n",
       "              Estimate Std. Error z value Pr(>|z|)\n",
       "(Intercept)   1299.821 200677.927   0.006    0.995\n",
       "wt:hp           -3.626    560.110  -0.006    0.995\n",
       "\n",
       "(Dispersion parameter for binomial family taken to be 1)\n",
       "\n",
       "    Null deviance: 4.3860e+01  on 31  degrees of freedom\n",
       "Residual deviance: 1.0096e-07  on 30  degrees of freedom\n",
       "AIC: 4\n",
       "\n",
       "Number of Fisher Scoring iterations: 25\n"
      ]
     },
     "metadata": {},
     "output_type": "display_data"
    },
    {
     "data": {
      "text/html": [
       "<table class=\"dataframe\">\n",
       "<caption>A matrix: 6 × 2 of type dbl</caption>\n",
       "<thead>\n",
       "\t<tr><th></th><th scope=col>(Intercept)</th><th scope=col>wt:hp</th></tr>\n",
       "</thead>\n",
       "<tbody>\n",
       "\t<tr><th scope=row>Mazda RX4</th><td>1</td><td>288.20</td></tr>\n",
       "\t<tr><th scope=row>Mazda RX4 Wag</th><td>1</td><td>316.25</td></tr>\n",
       "\t<tr><th scope=row>Datsun 710</th><td>1</td><td>215.76</td></tr>\n",
       "\t<tr><th scope=row>Hornet 4 Drive</th><td>1</td><td>353.65</td></tr>\n",
       "\t<tr><th scope=row>Hornet Sportabout</th><td>1</td><td>602.00</td></tr>\n",
       "\t<tr><th scope=row>Valiant</th><td>1</td><td>363.30</td></tr>\n",
       "</tbody>\n",
       "</table>\n"
      ],
      "text/latex": [
       "A matrix: 6 × 2 of type dbl\n",
       "\\begin{tabular}{r|ll}\n",
       "  & (Intercept) & wt:hp\\\\\n",
       "\\hline\n",
       "\tMazda RX4 & 1 & 288.20\\\\\n",
       "\tMazda RX4 Wag & 1 & 316.25\\\\\n",
       "\tDatsun 710 & 1 & 215.76\\\\\n",
       "\tHornet 4 Drive & 1 & 353.65\\\\\n",
       "\tHornet Sportabout & 1 & 602.00\\\\\n",
       "\tValiant & 1 & 363.30\\\\\n",
       "\\end{tabular}\n"
      ],
      "text/markdown": [
       "\n",
       "A matrix: 6 × 2 of type dbl\n",
       "\n",
       "| <!--/--> | (Intercept) | wt:hp |\n",
       "|---|---|---|\n",
       "| Mazda RX4 | 1 | 288.20 |\n",
       "| Mazda RX4 Wag | 1 | 316.25 |\n",
       "| Datsun 710 | 1 | 215.76 |\n",
       "| Hornet 4 Drive | 1 | 353.65 |\n",
       "| Hornet Sportabout | 1 | 602.00 |\n",
       "| Valiant | 1 | 363.30 |\n",
       "\n"
      ],
      "text/plain": [
       "                  (Intercept) wt:hp \n",
       "Mazda RX4         1           288.20\n",
       "Mazda RX4 Wag     1           316.25\n",
       "Datsun 710        1           215.76\n",
       "Hornet 4 Drive    1           353.65\n",
       "Hornet Sportabout 1           602.00\n",
       "Valiant           1           363.30"
      ]
     },
     "metadata": {},
     "output_type": "display_data"
    }
   ],
   "source": [
    "model3 <- glm(high_mpg ~ wt:hp, family = binomial, data = mtcars)\n",
    "summary(model3)\n",
    "head(model.matrix(model3))"
   ]
  },
  {
   "cell_type": "code",
   "execution_count": 23,
   "id": "16d68fa9-d154-46dd-9fbe-ad97ef1b8f82",
   "metadata": {},
   "outputs": [
    {
     "name": "stderr",
     "output_type": "stream",
     "text": [
      "Warning message:\n",
      "“glm.fit: algorithm did not converge”\n",
      "Warning message:\n",
      "“glm.fit: fitted probabilities numerically 0 or 1 occurred”\n"
     ]
    },
    {
     "data": {
      "text/plain": [
       "\n",
       "Call:\n",
       "glm(formula = high_mpg ~ wt + hp + wt * hp, family = binomial, \n",
       "    data = mtcars)\n",
       "\n",
       "Deviance Residuals: \n",
       "       Min          1Q      Median          3Q         Max  \n",
       "-4.217e-05  -2.100e-08  -2.100e-08   2.100e-08   4.947e-05  \n",
       "\n",
       "Coefficients:\n",
       "              Estimate Std. Error z value Pr(>|z|)\n",
       "(Intercept)   1376.310 847009.895   0.002    0.999\n",
       "wt            -384.770 240635.444  -0.002    0.999\n",
       "hp              -7.017   4404.678  -0.002    0.999\n",
       "wt:hp            1.847   1187.706   0.002    0.999\n",
       "\n",
       "(Dispersion parameter for binomial family taken to be 1)\n",
       "\n",
       "    Null deviance: 4.3860e+01  on 31  degrees of freedom\n",
       "Residual deviance: 4.7507e-09  on 28  degrees of freedom\n",
       "AIC: 8\n",
       "\n",
       "Number of Fisher Scoring iterations: 25\n"
      ]
     },
     "metadata": {},
     "output_type": "display_data"
    },
    {
     "data": {
      "text/html": [
       "<table class=\"dataframe\">\n",
       "<caption>A matrix: 6 × 4 of type dbl</caption>\n",
       "<thead>\n",
       "\t<tr><th></th><th scope=col>(Intercept)</th><th scope=col>wt</th><th scope=col>hp</th><th scope=col>wt:hp</th></tr>\n",
       "</thead>\n",
       "<tbody>\n",
       "\t<tr><th scope=row>Mazda RX4</th><td>1</td><td>2.620</td><td>110</td><td>288.20</td></tr>\n",
       "\t<tr><th scope=row>Mazda RX4 Wag</th><td>1</td><td>2.875</td><td>110</td><td>316.25</td></tr>\n",
       "\t<tr><th scope=row>Datsun 710</th><td>1</td><td>2.320</td><td> 93</td><td>215.76</td></tr>\n",
       "\t<tr><th scope=row>Hornet 4 Drive</th><td>1</td><td>3.215</td><td>110</td><td>353.65</td></tr>\n",
       "\t<tr><th scope=row>Hornet Sportabout</th><td>1</td><td>3.440</td><td>175</td><td>602.00</td></tr>\n",
       "\t<tr><th scope=row>Valiant</th><td>1</td><td>3.460</td><td>105</td><td>363.30</td></tr>\n",
       "</tbody>\n",
       "</table>\n"
      ],
      "text/latex": [
       "A matrix: 6 × 4 of type dbl\n",
       "\\begin{tabular}{r|llll}\n",
       "  & (Intercept) & wt & hp & wt:hp\\\\\n",
       "\\hline\n",
       "\tMazda RX4 & 1 & 2.620 & 110 & 288.20\\\\\n",
       "\tMazda RX4 Wag & 1 & 2.875 & 110 & 316.25\\\\\n",
       "\tDatsun 710 & 1 & 2.320 &  93 & 215.76\\\\\n",
       "\tHornet 4 Drive & 1 & 3.215 & 110 & 353.65\\\\\n",
       "\tHornet Sportabout & 1 & 3.440 & 175 & 602.00\\\\\n",
       "\tValiant & 1 & 3.460 & 105 & 363.30\\\\\n",
       "\\end{tabular}\n"
      ],
      "text/markdown": [
       "\n",
       "A matrix: 6 × 4 of type dbl\n",
       "\n",
       "| <!--/--> | (Intercept) | wt | hp | wt:hp |\n",
       "|---|---|---|---|---|\n",
       "| Mazda RX4 | 1 | 2.620 | 110 | 288.20 |\n",
       "| Mazda RX4 Wag | 1 | 2.875 | 110 | 316.25 |\n",
       "| Datsun 710 | 1 | 2.320 |  93 | 215.76 |\n",
       "| Hornet 4 Drive | 1 | 3.215 | 110 | 353.65 |\n",
       "| Hornet Sportabout | 1 | 3.440 | 175 | 602.00 |\n",
       "| Valiant | 1 | 3.460 | 105 | 363.30 |\n",
       "\n"
      ],
      "text/plain": [
       "                  (Intercept) wt    hp  wt:hp \n",
       "Mazda RX4         1           2.620 110 288.20\n",
       "Mazda RX4 Wag     1           2.875 110 316.25\n",
       "Datsun 710        1           2.320  93 215.76\n",
       "Hornet 4 Drive    1           3.215 110 353.65\n",
       "Hornet Sportabout 1           3.440 175 602.00\n",
       "Valiant           1           3.460 105 363.30"
      ]
     },
     "metadata": {},
     "output_type": "display_data"
    }
   ],
   "source": [
    "model4 <- glm(high_mpg ~ wt + hp + wt*hp, family = binomial, data = mtcars)\n",
    "summary(model4)\n",
    "head(model.matrix(model4))"
   ]
  },
  {
   "cell_type": "code",
   "execution_count": 24,
   "id": "c5861023-aa4e-4b2f-aa0d-988cbb2a607a",
   "metadata": {},
   "outputs": [
    {
     "name": "stderr",
     "output_type": "stream",
     "text": [
      "Warning message:\n",
      "“glm.fit: algorithm did not converge”\n",
      "Warning message:\n",
      "“glm.fit: fitted probabilities numerically 0 or 1 occurred”\n"
     ]
    },
    {
     "data": {
      "text/plain": [
       "\n",
       "Call:\n",
       "glm(formula = high_mpg ~ wt * hp, family = binomial, data = mtcars)\n",
       "\n",
       "Deviance Residuals: \n",
       "       Min          1Q      Median          3Q         Max  \n",
       "-4.217e-05  -2.100e-08  -2.100e-08   2.100e-08   4.947e-05  \n",
       "\n",
       "Coefficients:\n",
       "              Estimate Std. Error z value Pr(>|z|)\n",
       "(Intercept)   1376.310 847009.895   0.002    0.999\n",
       "wt            -384.770 240635.444  -0.002    0.999\n",
       "hp              -7.017   4404.678  -0.002    0.999\n",
       "wt:hp            1.847   1187.706   0.002    0.999\n",
       "\n",
       "(Dispersion parameter for binomial family taken to be 1)\n",
       "\n",
       "    Null deviance: 4.3860e+01  on 31  degrees of freedom\n",
       "Residual deviance: 4.7507e-09  on 28  degrees of freedom\n",
       "AIC: 8\n",
       "\n",
       "Number of Fisher Scoring iterations: 25\n"
      ]
     },
     "metadata": {},
     "output_type": "display_data"
    },
    {
     "data": {
      "text/html": [
       "<table class=\"dataframe\">\n",
       "<caption>A matrix: 6 × 4 of type dbl</caption>\n",
       "<thead>\n",
       "\t<tr><th></th><th scope=col>(Intercept)</th><th scope=col>wt</th><th scope=col>hp</th><th scope=col>wt:hp</th></tr>\n",
       "</thead>\n",
       "<tbody>\n",
       "\t<tr><th scope=row>Mazda RX4</th><td>1</td><td>2.620</td><td>110</td><td>288.20</td></tr>\n",
       "\t<tr><th scope=row>Mazda RX4 Wag</th><td>1</td><td>2.875</td><td>110</td><td>316.25</td></tr>\n",
       "\t<tr><th scope=row>Datsun 710</th><td>1</td><td>2.320</td><td> 93</td><td>215.76</td></tr>\n",
       "\t<tr><th scope=row>Hornet 4 Drive</th><td>1</td><td>3.215</td><td>110</td><td>353.65</td></tr>\n",
       "\t<tr><th scope=row>Hornet Sportabout</th><td>1</td><td>3.440</td><td>175</td><td>602.00</td></tr>\n",
       "\t<tr><th scope=row>Valiant</th><td>1</td><td>3.460</td><td>105</td><td>363.30</td></tr>\n",
       "</tbody>\n",
       "</table>\n"
      ],
      "text/latex": [
       "A matrix: 6 × 4 of type dbl\n",
       "\\begin{tabular}{r|llll}\n",
       "  & (Intercept) & wt & hp & wt:hp\\\\\n",
       "\\hline\n",
       "\tMazda RX4 & 1 & 2.620 & 110 & 288.20\\\\\n",
       "\tMazda RX4 Wag & 1 & 2.875 & 110 & 316.25\\\\\n",
       "\tDatsun 710 & 1 & 2.320 &  93 & 215.76\\\\\n",
       "\tHornet 4 Drive & 1 & 3.215 & 110 & 353.65\\\\\n",
       "\tHornet Sportabout & 1 & 3.440 & 175 & 602.00\\\\\n",
       "\tValiant & 1 & 3.460 & 105 & 363.30\\\\\n",
       "\\end{tabular}\n"
      ],
      "text/markdown": [
       "\n",
       "A matrix: 6 × 4 of type dbl\n",
       "\n",
       "| <!--/--> | (Intercept) | wt | hp | wt:hp |\n",
       "|---|---|---|---|---|\n",
       "| Mazda RX4 | 1 | 2.620 | 110 | 288.20 |\n",
       "| Mazda RX4 Wag | 1 | 2.875 | 110 | 316.25 |\n",
       "| Datsun 710 | 1 | 2.320 |  93 | 215.76 |\n",
       "| Hornet 4 Drive | 1 | 3.215 | 110 | 353.65 |\n",
       "| Hornet Sportabout | 1 | 3.440 | 175 | 602.00 |\n",
       "| Valiant | 1 | 3.460 | 105 | 363.30 |\n",
       "\n"
      ],
      "text/plain": [
       "                  (Intercept) wt    hp  wt:hp \n",
       "Mazda RX4         1           2.620 110 288.20\n",
       "Mazda RX4 Wag     1           2.875 110 316.25\n",
       "Datsun 710        1           2.320  93 215.76\n",
       "Hornet 4 Drive    1           3.215 110 353.65\n",
       "Hornet Sportabout 1           3.440 175 602.00\n",
       "Valiant           1           3.460 105 363.30"
      ]
     },
     "metadata": {},
     "output_type": "display_data"
    }
   ],
   "source": [
    "model5 <- glm(high_mpg ~ wt*hp, family = binomial, data = mtcars)\n",
    "summary(model5)\n",
    "head(model.matrix(model5))"
   ]
  },
  {
   "cell_type": "code",
   "execution_count": 25,
   "id": "6effb0bc-a0b8-4db5-9bcd-3cc3b3baa298",
   "metadata": {},
   "outputs": [
    {
     "data": {
      "text/plain": [
       "\n",
       "Call:\n",
       "glm(formula = high_mpg ~ I(wt^2), family = binomial, data = mtcars)\n",
       "\n",
       "Deviance Residuals: \n",
       "    Min       1Q   Median       3Q      Max  \n",
       "-2.1804  -0.3183  -0.0001   0.1102   1.4058  \n",
       "\n",
       "Coefficients:\n",
       "            Estimate Std. Error z value Pr(>|z|)  \n",
       "(Intercept)  10.3523     4.3467   2.382   0.0172 *\n",
       "I(wt^2)      -1.0521     0.4168  -2.524   0.0116 *\n",
       "---\n",
       "Signif. codes:  0 ‘***’ 0.001 ‘**’ 0.01 ‘*’ 0.05 ‘.’ 0.1 ‘ ’ 1\n",
       "\n",
       "(Dispersion parameter for binomial family taken to be 1)\n",
       "\n",
       "    Null deviance: 43.86  on 31  degrees of freedom\n",
       "Residual deviance: 13.40  on 30  degrees of freedom\n",
       "AIC: 17.4\n",
       "\n",
       "Number of Fisher Scoring iterations: 8\n"
      ]
     },
     "metadata": {},
     "output_type": "display_data"
    },
    {
     "data": {
      "text/html": [
       "<table class=\"dataframe\">\n",
       "<caption>A matrix: 6 × 2 of type dbl</caption>\n",
       "<thead>\n",
       "\t<tr><th></th><th scope=col>(Intercept)</th><th scope=col>I(wt^2)</th></tr>\n",
       "</thead>\n",
       "<tbody>\n",
       "\t<tr><th scope=row>Mazda RX4</th><td>1</td><td> 6.864400</td></tr>\n",
       "\t<tr><th scope=row>Mazda RX4 Wag</th><td>1</td><td> 8.265625</td></tr>\n",
       "\t<tr><th scope=row>Datsun 710</th><td>1</td><td> 5.382400</td></tr>\n",
       "\t<tr><th scope=row>Hornet 4 Drive</th><td>1</td><td>10.336225</td></tr>\n",
       "\t<tr><th scope=row>Hornet Sportabout</th><td>1</td><td>11.833600</td></tr>\n",
       "\t<tr><th scope=row>Valiant</th><td>1</td><td>11.971600</td></tr>\n",
       "</tbody>\n",
       "</table>\n"
      ],
      "text/latex": [
       "A matrix: 6 × 2 of type dbl\n",
       "\\begin{tabular}{r|ll}\n",
       "  & (Intercept) & I(wt\\textasciicircum{}2)\\\\\n",
       "\\hline\n",
       "\tMazda RX4 & 1 &  6.864400\\\\\n",
       "\tMazda RX4 Wag & 1 &  8.265625\\\\\n",
       "\tDatsun 710 & 1 &  5.382400\\\\\n",
       "\tHornet 4 Drive & 1 & 10.336225\\\\\n",
       "\tHornet Sportabout & 1 & 11.833600\\\\\n",
       "\tValiant & 1 & 11.971600\\\\\n",
       "\\end{tabular}\n"
      ],
      "text/markdown": [
       "\n",
       "A matrix: 6 × 2 of type dbl\n",
       "\n",
       "| <!--/--> | (Intercept) | I(wt^2) |\n",
       "|---|---|---|\n",
       "| Mazda RX4 | 1 |  6.864400 |\n",
       "| Mazda RX4 Wag | 1 |  8.265625 |\n",
       "| Datsun 710 | 1 |  5.382400 |\n",
       "| Hornet 4 Drive | 1 | 10.336225 |\n",
       "| Hornet Sportabout | 1 | 11.833600 |\n",
       "| Valiant | 1 | 11.971600 |\n",
       "\n"
      ],
      "text/plain": [
       "                  (Intercept) I(wt^2)  \n",
       "Mazda RX4         1            6.864400\n",
       "Mazda RX4 Wag     1            8.265625\n",
       "Datsun 710        1            5.382400\n",
       "Hornet 4 Drive    1           10.336225\n",
       "Hornet Sportabout 1           11.833600\n",
       "Valiant           1           11.971600"
      ]
     },
     "metadata": {},
     "output_type": "display_data"
    }
   ],
   "source": [
    "# Include interaction in the model\n",
    "model.high1 <- glm(high_mpg ~ I(wt^2), family = binomial, data = mtcars)\n",
    "summary(model.high1)\n",
    "head(model.matrix(model.high1))"
   ]
  },
  {
   "cell_type": "code",
   "execution_count": 26,
   "id": "dfd013e5-017a-4df0-b656-68a6c8a26409",
   "metadata": {},
   "outputs": [
    {
     "name": "stderr",
     "output_type": "stream",
     "text": [
      "Warning message:\n",
      "“glm.fit: fitted probabilities numerically 0 or 1 occurred”\n"
     ]
    },
    {
     "data": {
      "text/plain": [
       "\n",
       "Call:\n",
       "glm(formula = high_mpg ~ I(wt^2) + wt, family = binomial, data = mtcars)\n",
       "\n",
       "Deviance Residuals: \n",
       "    Min       1Q   Median       3Q      Max  \n",
       "-2.2540  -0.2600   0.0000   0.1815   1.3433  \n",
       "\n",
       "Coefficients:\n",
       "            Estimate Std. Error z value Pr(>|z|)\n",
       "(Intercept)   -6.669     22.628  -0.295    0.768\n",
       "I(wt^2)       -3.010      2.952  -1.020    0.308\n",
       "wt            11.633     16.432   0.708    0.479\n",
       "\n",
       "(Dispersion parameter for binomial family taken to be 1)\n",
       "\n",
       "    Null deviance: 43.860  on 31  degrees of freedom\n",
       "Residual deviance: 13.068  on 29  degrees of freedom\n",
       "AIC: 19.068\n",
       "\n",
       "Number of Fisher Scoring iterations: 8\n"
      ]
     },
     "metadata": {},
     "output_type": "display_data"
    },
    {
     "data": {
      "text/html": [
       "<table class=\"dataframe\">\n",
       "<caption>A matrix: 6 × 3 of type dbl</caption>\n",
       "<thead>\n",
       "\t<tr><th></th><th scope=col>(Intercept)</th><th scope=col>I(wt^2)</th><th scope=col>wt</th></tr>\n",
       "</thead>\n",
       "<tbody>\n",
       "\t<tr><th scope=row>Mazda RX4</th><td>1</td><td> 6.864400</td><td>2.620</td></tr>\n",
       "\t<tr><th scope=row>Mazda RX4 Wag</th><td>1</td><td> 8.265625</td><td>2.875</td></tr>\n",
       "\t<tr><th scope=row>Datsun 710</th><td>1</td><td> 5.382400</td><td>2.320</td></tr>\n",
       "\t<tr><th scope=row>Hornet 4 Drive</th><td>1</td><td>10.336225</td><td>3.215</td></tr>\n",
       "\t<tr><th scope=row>Hornet Sportabout</th><td>1</td><td>11.833600</td><td>3.440</td></tr>\n",
       "\t<tr><th scope=row>Valiant</th><td>1</td><td>11.971600</td><td>3.460</td></tr>\n",
       "</tbody>\n",
       "</table>\n"
      ],
      "text/latex": [
       "A matrix: 6 × 3 of type dbl\n",
       "\\begin{tabular}{r|lll}\n",
       "  & (Intercept) & I(wt\\textasciicircum{}2) & wt\\\\\n",
       "\\hline\n",
       "\tMazda RX4 & 1 &  6.864400 & 2.620\\\\\n",
       "\tMazda RX4 Wag & 1 &  8.265625 & 2.875\\\\\n",
       "\tDatsun 710 & 1 &  5.382400 & 2.320\\\\\n",
       "\tHornet 4 Drive & 1 & 10.336225 & 3.215\\\\\n",
       "\tHornet Sportabout & 1 & 11.833600 & 3.440\\\\\n",
       "\tValiant & 1 & 11.971600 & 3.460\\\\\n",
       "\\end{tabular}\n"
      ],
      "text/markdown": [
       "\n",
       "A matrix: 6 × 3 of type dbl\n",
       "\n",
       "| <!--/--> | (Intercept) | I(wt^2) | wt |\n",
       "|---|---|---|---|\n",
       "| Mazda RX4 | 1 |  6.864400 | 2.620 |\n",
       "| Mazda RX4 Wag | 1 |  8.265625 | 2.875 |\n",
       "| Datsun 710 | 1 |  5.382400 | 2.320 |\n",
       "| Hornet 4 Drive | 1 | 10.336225 | 3.215 |\n",
       "| Hornet Sportabout | 1 | 11.833600 | 3.440 |\n",
       "| Valiant | 1 | 11.971600 | 3.460 |\n",
       "\n"
      ],
      "text/plain": [
       "                  (Intercept) I(wt^2)   wt   \n",
       "Mazda RX4         1            6.864400 2.620\n",
       "Mazda RX4 Wag     1            8.265625 2.875\n",
       "Datsun 710        1            5.382400 2.320\n",
       "Hornet 4 Drive    1           10.336225 3.215\n",
       "Hornet Sportabout 1           11.833600 3.440\n",
       "Valiant           1           11.971600 3.460"
      ]
     },
     "metadata": {},
     "output_type": "display_data"
    }
   ],
   "source": [
    "model.high2 <- glm(high_mpg ~ I(wt^2) + wt, family = binomial, data = mtcars)\n",
    "summary(model.high2)\n",
    "head(model.matrix(model.high2))"
   ]
  },
  {
   "cell_type": "code",
   "execution_count": 27,
   "id": "632b4349-0af0-433c-b465-aa5713ca5fec",
   "metadata": {},
   "outputs": [
    {
     "name": "stderr",
     "output_type": "stream",
     "text": [
      "Warning message:\n",
      "“glm.fit: fitted probabilities numerically 0 or 1 occurred”\n"
     ]
    },
    {
     "data": {
      "text/plain": [
       "\n",
       "Call:\n",
       "glm(formula = high_mpg ~ poly(wt, 2, raw = TRUE), family = binomial, \n",
       "    data = mtcars)\n",
       "\n",
       "Deviance Residuals: \n",
       "    Min       1Q   Median       3Q      Max  \n",
       "-2.2540  -0.2600   0.0000   0.1815   1.3433  \n",
       "\n",
       "Coefficients:\n",
       "                         Estimate Std. Error z value Pr(>|z|)\n",
       "(Intercept)                -6.669     22.628  -0.295    0.768\n",
       "poly(wt, 2, raw = TRUE)1   11.633     16.432   0.708    0.479\n",
       "poly(wt, 2, raw = TRUE)2   -3.010      2.952  -1.020    0.308\n",
       "\n",
       "(Dispersion parameter for binomial family taken to be 1)\n",
       "\n",
       "    Null deviance: 43.860  on 31  degrees of freedom\n",
       "Residual deviance: 13.068  on 29  degrees of freedom\n",
       "AIC: 19.068\n",
       "\n",
       "Number of Fisher Scoring iterations: 8\n"
      ]
     },
     "metadata": {},
     "output_type": "display_data"
    },
    {
     "data": {
      "text/html": [
       "<table class=\"dataframe\">\n",
       "<caption>A matrix: 6 × 3 of type dbl</caption>\n",
       "<thead>\n",
       "\t<tr><th></th><th scope=col>(Intercept)</th><th scope=col>poly(wt, 2, raw = TRUE)1</th><th scope=col>poly(wt, 2, raw = TRUE)2</th></tr>\n",
       "</thead>\n",
       "<tbody>\n",
       "\t<tr><th scope=row>Mazda RX4</th><td>1</td><td>2.620</td><td> 6.864400</td></tr>\n",
       "\t<tr><th scope=row>Mazda RX4 Wag</th><td>1</td><td>2.875</td><td> 8.265625</td></tr>\n",
       "\t<tr><th scope=row>Datsun 710</th><td>1</td><td>2.320</td><td> 5.382400</td></tr>\n",
       "\t<tr><th scope=row>Hornet 4 Drive</th><td>1</td><td>3.215</td><td>10.336225</td></tr>\n",
       "\t<tr><th scope=row>Hornet Sportabout</th><td>1</td><td>3.440</td><td>11.833600</td></tr>\n",
       "\t<tr><th scope=row>Valiant</th><td>1</td><td>3.460</td><td>11.971600</td></tr>\n",
       "</tbody>\n",
       "</table>\n"
      ],
      "text/latex": [
       "A matrix: 6 × 3 of type dbl\n",
       "\\begin{tabular}{r|lll}\n",
       "  & (Intercept) & poly(wt, 2, raw = TRUE)1 & poly(wt, 2, raw = TRUE)2\\\\\n",
       "\\hline\n",
       "\tMazda RX4 & 1 & 2.620 &  6.864400\\\\\n",
       "\tMazda RX4 Wag & 1 & 2.875 &  8.265625\\\\\n",
       "\tDatsun 710 & 1 & 2.320 &  5.382400\\\\\n",
       "\tHornet 4 Drive & 1 & 3.215 & 10.336225\\\\\n",
       "\tHornet Sportabout & 1 & 3.440 & 11.833600\\\\\n",
       "\tValiant & 1 & 3.460 & 11.971600\\\\\n",
       "\\end{tabular}\n"
      ],
      "text/markdown": [
       "\n",
       "A matrix: 6 × 3 of type dbl\n",
       "\n",
       "| <!--/--> | (Intercept) | poly(wt, 2, raw = TRUE)1 | poly(wt, 2, raw = TRUE)2 |\n",
       "|---|---|---|---|\n",
       "| Mazda RX4 | 1 | 2.620 |  6.864400 |\n",
       "| Mazda RX4 Wag | 1 | 2.875 |  8.265625 |\n",
       "| Datsun 710 | 1 | 2.320 |  5.382400 |\n",
       "| Hornet 4 Drive | 1 | 3.215 | 10.336225 |\n",
       "| Hornet Sportabout | 1 | 3.440 | 11.833600 |\n",
       "| Valiant | 1 | 3.460 | 11.971600 |\n",
       "\n"
      ],
      "text/plain": [
       "                  (Intercept) poly(wt, 2, raw = TRUE)1 poly(wt, 2, raw = TRUE)2\n",
       "Mazda RX4         1           2.620                     6.864400               \n",
       "Mazda RX4 Wag     1           2.875                     8.265625               \n",
       "Datsun 710        1           2.320                     5.382400               \n",
       "Hornet 4 Drive    1           3.215                    10.336225               \n",
       "Hornet Sportabout 1           3.440                    11.833600               \n",
       "Valiant           1           3.460                    11.971600               "
      ]
     },
     "metadata": {},
     "output_type": "display_data"
    }
   ],
   "source": [
    "model.high3 <- glm(high_mpg ~ poly(wt,2,raw=TRUE), family = binomial, data = mtcars)\n",
    "summary(model.high3)\n",
    "head(model.matrix(model.high3))"
   ]
  },
  {
   "cell_type": "code",
   "execution_count": 28,
   "id": "4c2cc5b7-8150-4b65-abf7-65dbd30c9c8a",
   "metadata": {},
   "outputs": [
    {
     "name": "stderr",
     "output_type": "stream",
     "text": [
      "Warning message:\n",
      "“glm.fit: fitted probabilities numerically 0 or 1 occurred”\n"
     ]
    },
    {
     "data": {
      "text/plain": [
       "\n",
       "Call:\n",
       "glm(formula = high_mpg ~ poly(wt, 2), family = binomial, data = mtcars)\n",
       "\n",
       "Deviance Residuals: \n",
       "    Min       1Q   Median       3Q      Max  \n",
       "-2.2540  -0.2600   0.0000   0.1815   1.3433  \n",
       "\n",
       "Coefficients:\n",
       "             Estimate Std. Error z value Pr(>|z|)  \n",
       "(Intercept)    -3.191      2.663  -1.198   0.2308  \n",
       "poly(wt, 2)1  -49.148     24.060  -2.043   0.0411 *\n",
       "poly(wt, 2)2  -22.196     21.768  -1.020   0.3079  \n",
       "---\n",
       "Signif. codes:  0 ‘***’ 0.001 ‘**’ 0.01 ‘*’ 0.05 ‘.’ 0.1 ‘ ’ 1\n",
       "\n",
       "(Dispersion parameter for binomial family taken to be 1)\n",
       "\n",
       "    Null deviance: 43.860  on 31  degrees of freedom\n",
       "Residual deviance: 13.068  on 29  degrees of freedom\n",
       "AIC: 19.068\n",
       "\n",
       "Number of Fisher Scoring iterations: 8\n"
      ]
     },
     "metadata": {},
     "output_type": "display_data"
    },
    {
     "data": {
      "text/html": [
       "<table class=\"dataframe\">\n",
       "<caption>A matrix: 6 × 3 of type dbl</caption>\n",
       "<thead>\n",
       "\t<tr><th></th><th scope=col>(Intercept)</th><th scope=col>poly(wt, 2)1</th><th scope=col>poly(wt, 2)2</th></tr>\n",
       "</thead>\n",
       "<tbody>\n",
       "\t<tr><th scope=row>Mazda RX4</th><td>1</td><td>-0.1096309987</td><td>-0.04278415</td></tr>\n",
       "\t<tr><th scope=row>Mazda RX4 Wag</th><td>1</td><td>-0.0628232889</td><td>-0.09005145</td></tr>\n",
       "\t<tr><th scope=row>Datsun 710</th><td>1</td><td>-0.1646988925</td><td> 0.03540332</td></tr>\n",
       "\t<tr><th scope=row>Hornet 4 Drive</th><td>1</td><td>-0.0004130092</td><td>-0.12564085</td></tr>\n",
       "\t<tr><th scope=row>Hornet Sportabout</th><td>1</td><td> 0.0408879112</td><td>-0.13195337</td></tr>\n",
       "\t<tr><th scope=row>Valiant</th><td>1</td><td> 0.0445591041</td><td>-0.13185000</td></tr>\n",
       "</tbody>\n",
       "</table>\n"
      ],
      "text/latex": [
       "A matrix: 6 × 3 of type dbl\n",
       "\\begin{tabular}{r|lll}\n",
       "  & (Intercept) & poly(wt, 2)1 & poly(wt, 2)2\\\\\n",
       "\\hline\n",
       "\tMazda RX4 & 1 & -0.1096309987 & -0.04278415\\\\\n",
       "\tMazda RX4 Wag & 1 & -0.0628232889 & -0.09005145\\\\\n",
       "\tDatsun 710 & 1 & -0.1646988925 &  0.03540332\\\\\n",
       "\tHornet 4 Drive & 1 & -0.0004130092 & -0.12564085\\\\\n",
       "\tHornet Sportabout & 1 &  0.0408879112 & -0.13195337\\\\\n",
       "\tValiant & 1 &  0.0445591041 & -0.13185000\\\\\n",
       "\\end{tabular}\n"
      ],
      "text/markdown": [
       "\n",
       "A matrix: 6 × 3 of type dbl\n",
       "\n",
       "| <!--/--> | (Intercept) | poly(wt, 2)1 | poly(wt, 2)2 |\n",
       "|---|---|---|---|\n",
       "| Mazda RX4 | 1 | -0.1096309987 | -0.04278415 |\n",
       "| Mazda RX4 Wag | 1 | -0.0628232889 | -0.09005145 |\n",
       "| Datsun 710 | 1 | -0.1646988925 |  0.03540332 |\n",
       "| Hornet 4 Drive | 1 | -0.0004130092 | -0.12564085 |\n",
       "| Hornet Sportabout | 1 |  0.0408879112 | -0.13195337 |\n",
       "| Valiant | 1 |  0.0445591041 | -0.13185000 |\n",
       "\n"
      ],
      "text/plain": [
       "                  (Intercept) poly(wt, 2)1  poly(wt, 2)2\n",
       "Mazda RX4         1           -0.1096309987 -0.04278415 \n",
       "Mazda RX4 Wag     1           -0.0628232889 -0.09005145 \n",
       "Datsun 710        1           -0.1646988925  0.03540332 \n",
       "Hornet 4 Drive    1           -0.0004130092 -0.12564085 \n",
       "Hornet Sportabout 1            0.0408879112 -0.13195337 \n",
       "Valiant           1            0.0445591041 -0.13185000 "
      ]
     },
     "metadata": {},
     "output_type": "display_data"
    }
   ],
   "source": [
    "model.high4 <- glm(high_mpg ~ poly(wt,2) , family = binomial, data = mtcars)\n",
    "summary(model.high4)\n",
    "head(model.matrix(model.high4))"
   ]
  },
  {
   "cell_type": "code",
   "execution_count": 37,
   "id": "c8de53f6-2765-49fd-8281-766afeedcb01",
   "metadata": {},
   "outputs": [
    {
     "data": {
      "text/html": [
       "<table class=\"dataframe\">\n",
       "<caption>A matrix: 2 × 2 of type dbl</caption>\n",
       "<thead>\n",
       "\t<tr><th></th><th scope=col>poly(wt, 2, raw = TRUE)1</th><th scope=col>poly(wt, 2, raw = TRUE)2</th></tr>\n",
       "</thead>\n",
       "<tbody>\n",
       "\t<tr><th scope=row>poly(wt, 2, raw = TRUE)1</th><td>1.0000000</td><td>0.9810937</td></tr>\n",
       "\t<tr><th scope=row>poly(wt, 2, raw = TRUE)2</th><td>0.9810937</td><td>1.0000000</td></tr>\n",
       "</tbody>\n",
       "</table>\n"
      ],
      "text/latex": [
       "A matrix: 2 × 2 of type dbl\n",
       "\\begin{tabular}{r|ll}\n",
       "  & poly(wt, 2, raw = TRUE)1 & poly(wt, 2, raw = TRUE)2\\\\\n",
       "\\hline\n",
       "\tpoly(wt, 2, raw = TRUE)1 & 1.0000000 & 0.9810937\\\\\n",
       "\tpoly(wt, 2, raw = TRUE)2 & 0.9810937 & 1.0000000\\\\\n",
       "\\end{tabular}\n"
      ],
      "text/markdown": [
       "\n",
       "A matrix: 2 × 2 of type dbl\n",
       "\n",
       "| <!--/--> | poly(wt, 2, raw = TRUE)1 | poly(wt, 2, raw = TRUE)2 |\n",
       "|---|---|---|\n",
       "| poly(wt, 2, raw = TRUE)1 | 1.0000000 | 0.9810937 |\n",
       "| poly(wt, 2, raw = TRUE)2 | 0.9810937 | 1.0000000 |\n",
       "\n"
      ],
      "text/plain": [
       "                         poly(wt, 2, raw = TRUE)1 poly(wt, 2, raw = TRUE)2\n",
       "poly(wt, 2, raw = TRUE)1 1.0000000                0.9810937               \n",
       "poly(wt, 2, raw = TRUE)2 0.9810937                1.0000000               "
      ]
     },
     "metadata": {},
     "output_type": "display_data"
    },
    {
     "data": {
      "text/html": [
       "<table class=\"dataframe\">\n",
       "<caption>A matrix: 2 × 2 of type dbl</caption>\n",
       "<thead>\n",
       "\t<tr><th></th><th scope=col>poly(wt, 2)1</th><th scope=col>poly(wt, 2)2</th></tr>\n",
       "</thead>\n",
       "<tbody>\n",
       "\t<tr><th scope=row>poly(wt, 2)1</th><td>1.000000e+00</td><td>1.621966e-16</td></tr>\n",
       "\t<tr><th scope=row>poly(wt, 2)2</th><td>1.621966e-16</td><td>1.000000e+00</td></tr>\n",
       "</tbody>\n",
       "</table>\n"
      ],
      "text/latex": [
       "A matrix: 2 × 2 of type dbl\n",
       "\\begin{tabular}{r|ll}\n",
       "  & poly(wt, 2)1 & poly(wt, 2)2\\\\\n",
       "\\hline\n",
       "\tpoly(wt, 2)1 & 1.000000e+00 & 1.621966e-16\\\\\n",
       "\tpoly(wt, 2)2 & 1.621966e-16 & 1.000000e+00\\\\\n",
       "\\end{tabular}\n"
      ],
      "text/markdown": [
       "\n",
       "A matrix: 2 × 2 of type dbl\n",
       "\n",
       "| <!--/--> | poly(wt, 2)1 | poly(wt, 2)2 |\n",
       "|---|---|---|\n",
       "| poly(wt, 2)1 | 1.000000e+00 | 1.621966e-16 |\n",
       "| poly(wt, 2)2 | 1.621966e-16 | 1.000000e+00 |\n",
       "\n"
      ],
      "text/plain": [
       "             poly(wt, 2)1 poly(wt, 2)2\n",
       "poly(wt, 2)1 1.000000e+00 1.621966e-16\n",
       "poly(wt, 2)2 1.621966e-16 1.000000e+00"
      ]
     },
     "metadata": {},
     "output_type": "display_data"
    }
   ],
   "source": [
    "cor(model.matrix(model.high3)[,-1])\n",
    "cor(model.matrix(model.high4)[,-1])"
   ]
  },
  {
   "cell_type": "markdown",
   "id": "88146068-1d0a-4c29-b7c6-2dcb796132da",
   "metadata": {},
   "source": [
    "#### <div class=\"alert alert-block alert-success\"> Using Splines for Non-linear Relationships </div>\n",
    "\n",
    "Splines allow us to model non-linear relationships by breaking the data into segments and fitting separate lines for each segment. The `splines` package in R provides functions like `ns()` for natural splines."
   ]
  },
  {
   "cell_type": "code",
   "execution_count": 38,
   "id": "a346b3ed-db6f-4677-a181-fc6fb966397b",
   "metadata": {
    "scrolled": true
   },
   "outputs": [
    {
     "name": "stderr",
     "output_type": "stream",
     "text": [
      "Warning message:\n",
      "“glm.fit: algorithm did not converge”\n",
      "Warning message:\n",
      "“glm.fit: fitted probabilities numerically 0 or 1 occurred”\n"
     ]
    },
    {
     "data": {
      "text/plain": [
       "\n",
       "Call:\n",
       "glm(formula = high_mpg ~ wt + ns(hp, df = 3), family = binomial, \n",
       "    data = mtcars)\n",
       "\n",
       "Deviance Residuals: \n",
       "       Min          1Q      Median          3Q         Max  \n",
       "-5.362e-05  -2.100e-08  -2.100e-08   2.100e-08   5.729e-05  \n",
       "\n",
       "Coefficients:\n",
       "                  Estimate Std. Error z value Pr(>|z|)\n",
       "(Intercept)        602.318 309484.154   0.002    0.998\n",
       "wt                -184.261  95439.108  -0.002    0.998\n",
       "ns(hp, df = 3)1   -262.794 152169.318  -0.002    0.999\n",
       "ns(hp, df = 3)2    -43.456 169265.989   0.000    1.000\n",
       "ns(hp, df = 3)3      5.875 222511.809   0.000    1.000\n",
       "\n",
       "(Dispersion parameter for binomial family taken to be 1)\n",
       "\n",
       "    Null deviance: 4.3860e+01  on 31  degrees of freedom\n",
       "Residual deviance: 6.9427e-09  on 27  degrees of freedom\n",
       "AIC: 10\n",
       "\n",
       "Number of Fisher Scoring iterations: 25\n"
      ]
     },
     "metadata": {},
     "output_type": "display_data"
    }
   ],
   "source": [
    "# Load the splines package\n",
    "library(splines)\n",
    "\n",
    "# Fit a logistic model with a spline term for hp\n",
    "logistic_spline_model <- glm(high_mpg ~ wt + ns(hp, df = 3), family = binomial, data = mtcars)\n",
    "\n",
    "# Summary of the model with splines\n",
    "summary(logistic_spline_model)"
   ]
  },
  {
   "cell_type": "code",
   "execution_count": 39,
   "id": "c2a04f1c-d677-425b-a54d-bb5a32063e63",
   "metadata": {},
   "outputs": [
    {
     "data": {
      "text/html": [
       "<table class=\"dataframe\">\n",
       "<caption>A matrix: 4 × 4 of type dbl</caption>\n",
       "<thead>\n",
       "\t<tr><th></th><th scope=col>wt</th><th scope=col>ns(hp, df = 3)1</th><th scope=col>ns(hp, df = 3)2</th><th scope=col>ns(hp, df = 3)3</th></tr>\n",
       "</thead>\n",
       "<tbody>\n",
       "\t<tr><th scope=row>wt</th><td>1.0000000</td><td> 0.6968773</td><td> 0.1904012</td><td> 0.2181584</td></tr>\n",
       "\t<tr><th scope=row>ns(hp, df = 3)1</th><td>0.6968773</td><td> 1.0000000</td><td>-0.1202191</td><td> 0.2713483</td></tr>\n",
       "\t<tr><th scope=row>ns(hp, df = 3)2</th><td>0.1904012</td><td>-0.1202191</td><td> 1.0000000</td><td>-0.5217944</td></tr>\n",
       "\t<tr><th scope=row>ns(hp, df = 3)3</th><td>0.2181584</td><td> 0.2713483</td><td>-0.5217944</td><td> 1.0000000</td></tr>\n",
       "</tbody>\n",
       "</table>\n"
      ],
      "text/latex": [
       "A matrix: 4 × 4 of type dbl\n",
       "\\begin{tabular}{r|llll}\n",
       "  & wt & ns(hp, df = 3)1 & ns(hp, df = 3)2 & ns(hp, df = 3)3\\\\\n",
       "\\hline\n",
       "\twt & 1.0000000 &  0.6968773 &  0.1904012 &  0.2181584\\\\\n",
       "\tns(hp, df = 3)1 & 0.6968773 &  1.0000000 & -0.1202191 &  0.2713483\\\\\n",
       "\tns(hp, df = 3)2 & 0.1904012 & -0.1202191 &  1.0000000 & -0.5217944\\\\\n",
       "\tns(hp, df = 3)3 & 0.2181584 &  0.2713483 & -0.5217944 &  1.0000000\\\\\n",
       "\\end{tabular}\n"
      ],
      "text/markdown": [
       "\n",
       "A matrix: 4 × 4 of type dbl\n",
       "\n",
       "| <!--/--> | wt | ns(hp, df = 3)1 | ns(hp, df = 3)2 | ns(hp, df = 3)3 |\n",
       "|---|---|---|---|---|\n",
       "| wt | 1.0000000 |  0.6968773 |  0.1904012 |  0.2181584 |\n",
       "| ns(hp, df = 3)1 | 0.6968773 |  1.0000000 | -0.1202191 |  0.2713483 |\n",
       "| ns(hp, df = 3)2 | 0.1904012 | -0.1202191 |  1.0000000 | -0.5217944 |\n",
       "| ns(hp, df = 3)3 | 0.2181584 |  0.2713483 | -0.5217944 |  1.0000000 |\n",
       "\n"
      ],
      "text/plain": [
       "                wt        ns(hp, df = 3)1 ns(hp, df = 3)2 ns(hp, df = 3)3\n",
       "wt              1.0000000  0.6968773       0.1904012       0.2181584     \n",
       "ns(hp, df = 3)1 0.6968773  1.0000000      -0.1202191       0.2713483     \n",
       "ns(hp, df = 3)2 0.1904012 -0.1202191       1.0000000      -0.5217944     \n",
       "ns(hp, df = 3)3 0.2181584  0.2713483      -0.5217944       1.0000000     "
      ]
     },
     "metadata": {},
     "output_type": "display_data"
    }
   ],
   "source": [
    "cor(model.matrix(logistic_spline_model)[,-1])"
   ]
  },
  {
   "cell_type": "markdown",
   "id": "be1cf223-b807-432b-bbd5-97a04d05e771",
   "metadata": {},
   "source": [
    "#### <div class=\"alert alert-block alert-success\"> Penalized Logistic Regression (Lasso, Ridge, Elastic Net) </div>\n",
    "\n",
    "For logistic regression with high-dimensional data, **penalization** techniques (Lasso, Ridge, and Elastic Net) can help by shrinking coefficients, reducing model complexity, and performing variable selection.\n",
    "\n",
    "1. **Lasso (L1 penalty)**: Adds an absolute penalty, shrinking some coefficients to zero.\n",
    "2. **Ridge (L2 penalty)**: Adds a squared penalty, shrinking coefficients but retaining all variables.\n",
    "3. **Elastic Net**: Combines L1 and L2 penalties, balancing Ridge and Lasso effects."
   ]
  },
  {
   "cell_type": "code",
   "execution_count": 41,
   "id": "f4f32d2c-d03d-4950-92ba-7db6adb1a60d",
   "metadata": {},
   "outputs": [
    {
     "name": "stderr",
     "output_type": "stream",
     "text": [
      "Loading required package: Matrix\n",
      "\n",
      "Loaded glmnet 4.1-8\n",
      "\n"
     ]
    },
    {
     "name": "stdout",
     "output_type": "stream",
     "text": [
      "Lasso optimal lambda: 0.001749732 \n",
      "Ridge optimal lambda: 0.03858387 \n",
      "Elastic Net optimal lambda: 0.001824623 \n"
     ]
    }
   ],
   "source": [
    "# Load necessary libraries\n",
    "library(glmnet)\n",
    "\n",
    "# Prepare data for glmnet (model matrix and response as numeric)\n",
    "x <- model.matrix(high_mpg ~ wt + hp + cyl, data = mtcars)[, -1]\n",
    "y <- as.numeric(mtcars$high_mpg) - 1  # Convert to binary 0/1 for glmnet\n",
    "\n",
    "# Fit Lasso logistic regression (alpha = 1)\n",
    "lasso_model <- cv.glmnet(x, y, family = \"binomial\", alpha = 1)\n",
    "\n",
    "# Fit Ridge logistic regression (alpha = 0)\n",
    "ridge_model <- cv.glmnet(x, y, family = \"binomial\", alpha = 0)\n",
    "\n",
    "# Fit Elastic Net logistic regression (alpha = 0.5)\n",
    "elastic_net_model <- cv.glmnet(x, y, family = \"binomial\", alpha = 0.5)\n",
    "\n",
    "# Optimal lambda values\n",
    "cat(\"Lasso optimal lambda:\", lasso_model$lambda.min, \"\\n\")\n",
    "cat(\"Ridge optimal lambda:\", ridge_model$lambda.min, \"\\n\")\n",
    "cat(\"Elastic Net optimal lambda:\", elastic_net_model$lambda.min, \"\\n\")"
   ]
  },
  {
   "cell_type": "code",
   "execution_count": 46,
   "id": "9762573a-1424-44d4-b572-1fee242cc544",
   "metadata": {},
   "outputs": [
    {
     "data": {
      "text/html": [
       "<style>\n",
       ".dl-inline {width: auto; margin:0; padding: 0}\n",
       ".dl-inline>dt, .dl-inline>dd {float: none; width: auto; display: inline-block}\n",
       ".dl-inline>dt::after {content: \":\\0020\"; padding-right: .5ex}\n",
       ".dl-inline>dt:not(:first-of-type) {padding-left: .5ex}\n",
       "</style><dl class=dl-inline><dt>(Intercept)</dt><dd>6.15630336511379</dd><dt>wt</dt><dd>0.796398311619574</dd><dt>hp</dt><dd>0.00892454338118451</dd><dt>drat</dt><dd>1.22698265641299</dd></dl>\n"
      ],
      "text/latex": [
       "\\begin{description*}\n",
       "\\item[(Intercept)] 6.15630336511379\n",
       "\\item[wt] 0.796398311619574\n",
       "\\item[hp] 0.00892454338118451\n",
       "\\item[drat] 1.22698265641299\n",
       "\\end{description*}\n"
      ],
      "text/markdown": [
       "(Intercept)\n",
       ":   6.15630336511379wt\n",
       ":   0.796398311619574hp\n",
       ":   0.00892454338118451drat\n",
       ":   1.22698265641299\n",
       "\n"
      ],
      "text/plain": [
       "(Intercept)          wt          hp        drat \n",
       "6.156303365 0.796398312 0.008924543 1.226982656 "
      ]
     },
     "metadata": {},
     "output_type": "display_data"
    }
   ],
   "source": [
    "summary(model)$coefficients[, \"Std. Error\"]"
   ]
  },
  {
   "cell_type": "markdown",
   "id": "eebd56c4-f5eb-423d-b602-b575cdf64862",
   "metadata": {},
   "source": [
    "#### <div class=\"alert alert-block alert-success\"> Visualizing Logistic Regression Predictions </div>\n",
    "\n",
    "Visualization can help interpret logistic regression by showing predicted probabilities for different values of predictors.\n",
    "\n",
    "We’ll use `ggplot2` to visualize predicted probabilities for `high_mpg` based on `wt`."
   ]
  },
  {
   "cell_type": "code",
   "execution_count": 44,
   "id": "a49be332-d180-480f-b819-b6ec15a29da0",
   "metadata": {},
   "outputs": [
    {
     "name": "stderr",
     "output_type": "stream",
     "text": [
      "\u001b[1m\u001b[22m`geom_smooth()` using formula = 'y ~ x'\n"
     ]
    },
    {
     "data": {
      "image/png": "[encoded data removed]",
      "text/plain": [
       "plot without title"
      ]
     },
     "metadata": {
      "image/png": {
       "height": 420,
       "width": 420
      }
     },
     "output_type": "display_data"
    }
   ],
   "source": [
    "# Load ggplot2\n",
    "library(ggplot2)\n",
    "\n",
    "# Generate predicted probabilities for logistic regression model\n",
    "mtcars$predicted_prob <- predict(logistic_model, type = \"response\")\n",
    "\n",
    "# Plot predicted probabilities by weight (wt)\n",
    "ggplot(mtcars, aes(x = wt, y = predicted_prob)) +\n",
    "  geom_point(aes(color = high_mpg)) +\n",
    "  geom_smooth(method = \"glm\", method.args = list(family = \"binomial\"), se = FALSE) +\n",
    "  labs(title = \"Predicted Probability of High MPG by Weight\",\n",
    "       x = \"Weight\", y = \"Predicted Probability of High MPG\") +\n",
    "  theme_minimal()"
   ]
  },
  {
   "cell_type": "markdown",
   "id": "fb055e7c-03bd-42ec-b0b6-3e932361d192",
   "metadata": {},
   "source": []
  },
  {
   "cell_type": "markdown",
   "id": "d0555ee6-0ca0-475b-9a49-aad96470ea20",
   "metadata": {},
   "source": [
    "### <div class=\"alert alert-block alert-success\"> Poisson Regression </div>\n",
    "\n",
    "Poisson regression is used when the response variable represents **count data** (e.g., number of occurrences of an event). Instead of modeling the response as a linear function, we model the **log of the expected count** as a linear function of the predictors.\n",
    "\n",
    "#### Poisson Regression Equation\n",
    "The Poisson regression model for a count outcome $Y$ is:\n",
    "$$\n",
    "\\log(\\lambda) = \\beta_0 + \\beta_1X_1 + \\beta_2X_2 + \\dots + \\beta_pX_p\n",
    "$$\n",
    "where:\n",
    "- $\\lambda$ is the expected count for a given set of predictor values.\n",
    "- The log link function ensures that predicted counts are positive.\n",
    "\n",
    "We'll use a hypothetical count variable `gear_counts` in `mtcars` for demonstration purposes, assuming it represents the number of certain car types (e.g., gears) observed in a sample."
   ]
  },
  {
   "cell_type": "code",
   "execution_count": 8,
   "id": "1b7043ab-ca3d-4863-a92d-eee0cb291d12",
   "metadata": {},
   "outputs": [
    {
     "data": {
      "text/html": [
       "<table class=\"dataframe\">\n",
       "<caption>A data.frame: 6 × 14</caption>\n",
       "<thead>\n",
       "\t<tr><th></th><th scope=col>mpg</th><th scope=col>cyl</th><th scope=col>disp</th><th scope=col>hp</th><th scope=col>drat</th><th scope=col>wt</th><th scope=col>qsec</th><th scope=col>vs</th><th scope=col>am</th><th scope=col>gear</th><th scope=col>carb</th><th scope=col>high_mpg</th><th scope=col>predicted_high_mpg</th><th scope=col>gear_counts</th></tr>\n",
       "\t<tr><th></th><th scope=col>&lt;dbl&gt;</th><th scope=col>&lt;dbl&gt;</th><th scope=col>&lt;dbl&gt;</th><th scope=col>&lt;dbl&gt;</th><th scope=col>&lt;dbl&gt;</th><th scope=col>&lt;dbl&gt;</th><th scope=col>&lt;dbl&gt;</th><th scope=col>&lt;dbl&gt;</th><th scope=col>&lt;dbl&gt;</th><th scope=col>&lt;dbl&gt;</th><th scope=col>&lt;dbl&gt;</th><th scope=col>&lt;dbl&gt;</th><th scope=col>&lt;dbl&gt;</th><th scope=col>&lt;int&gt;</th></tr>\n",
       "</thead>\n",
       "<tbody>\n",
       "\t<tr><th scope=row>Mazda RX4</th><td>21.0</td><td>6</td><td>160</td><td>110</td><td>3.90</td><td>2.620</td><td>16.46</td><td>0</td><td>1</td><td>4</td><td>4</td><td>1</td><td>1</td><td>4</td></tr>\n",
       "\t<tr><th scope=row>Mazda RX4 Wag</th><td>21.0</td><td>6</td><td>160</td><td>110</td><td>3.90</td><td>2.875</td><td>17.02</td><td>0</td><td>1</td><td>4</td><td>4</td><td>1</td><td>1</td><td>4</td></tr>\n",
       "\t<tr><th scope=row>Datsun 710</th><td>22.8</td><td>4</td><td>108</td><td> 93</td><td>3.85</td><td>2.320</td><td>18.61</td><td>1</td><td>1</td><td>4</td><td>1</td><td>1</td><td>1</td><td>1</td></tr>\n",
       "\t<tr><th scope=row>Hornet 4 Drive</th><td>21.4</td><td>6</td><td>258</td><td>110</td><td>3.08</td><td>3.215</td><td>19.44</td><td>1</td><td>0</td><td>3</td><td>1</td><td>1</td><td>1</td><td>3</td></tr>\n",
       "\t<tr><th scope=row>Hornet Sportabout</th><td>18.7</td><td>8</td><td>360</td><td>175</td><td>3.15</td><td>3.440</td><td>17.02</td><td>0</td><td>0</td><td>3</td><td>2</td><td>0</td><td>0</td><td>2</td></tr>\n",
       "\t<tr><th scope=row>Valiant</th><td>18.1</td><td>6</td><td>225</td><td>105</td><td>2.76</td><td>3.460</td><td>20.22</td><td>1</td><td>0</td><td>3</td><td>1</td><td>0</td><td>0</td><td>2</td></tr>\n",
       "</tbody>\n",
       "</table>\n"
      ],
      "text/latex": [
       "A data.frame: 6 × 14\n",
       "\\begin{tabular}{r|llllllllllllll}\n",
       "  & mpg & cyl & disp & hp & drat & wt & qsec & vs & am & gear & carb & high\\_mpg & predicted\\_high\\_mpg & gear\\_counts\\\\\n",
       "  & <dbl> & <dbl> & <dbl> & <dbl> & <dbl> & <dbl> & <dbl> & <dbl> & <dbl> & <dbl> & <dbl> & <dbl> & <dbl> & <int>\\\\\n",
       "\\hline\n",
       "\tMazda RX4 & 21.0 & 6 & 160 & 110 & 3.90 & 2.620 & 16.46 & 0 & 1 & 4 & 4 & 1 & 1 & 4\\\\\n",
       "\tMazda RX4 Wag & 21.0 & 6 & 160 & 110 & 3.90 & 2.875 & 17.02 & 0 & 1 & 4 & 4 & 1 & 1 & 4\\\\\n",
       "\tDatsun 710 & 22.8 & 4 & 108 &  93 & 3.85 & 2.320 & 18.61 & 1 & 1 & 4 & 1 & 1 & 1 & 1\\\\\n",
       "\tHornet 4 Drive & 21.4 & 6 & 258 & 110 & 3.08 & 3.215 & 19.44 & 1 & 0 & 3 & 1 & 1 & 1 & 3\\\\\n",
       "\tHornet Sportabout & 18.7 & 8 & 360 & 175 & 3.15 & 3.440 & 17.02 & 0 & 0 & 3 & 2 & 0 & 0 & 2\\\\\n",
       "\tValiant & 18.1 & 6 & 225 & 105 & 2.76 & 3.460 & 20.22 & 1 & 0 & 3 & 1 & 0 & 0 & 2\\\\\n",
       "\\end{tabular}\n"
      ],
      "text/markdown": [
       "\n",
       "A data.frame: 6 × 14\n",
       "\n",
       "| <!--/--> | mpg &lt;dbl&gt; | cyl &lt;dbl&gt; | disp &lt;dbl&gt; | hp &lt;dbl&gt; | drat &lt;dbl&gt; | wt &lt;dbl&gt; | qsec &lt;dbl&gt; | vs &lt;dbl&gt; | am &lt;dbl&gt; | gear &lt;dbl&gt; | carb &lt;dbl&gt; | high_mpg &lt;dbl&gt; | predicted_high_mpg &lt;dbl&gt; | gear_counts &lt;int&gt; |\n",
       "|---|---|---|---|---|---|---|---|---|---|---|---|---|---|---|\n",
       "| Mazda RX4 | 21.0 | 6 | 160 | 110 | 3.90 | 2.620 | 16.46 | 0 | 1 | 4 | 4 | 1 | 1 | 4 |\n",
       "| Mazda RX4 Wag | 21.0 | 6 | 160 | 110 | 3.90 | 2.875 | 17.02 | 0 | 1 | 4 | 4 | 1 | 1 | 4 |\n",
       "| Datsun 710 | 22.8 | 4 | 108 |  93 | 3.85 | 2.320 | 18.61 | 1 | 1 | 4 | 1 | 1 | 1 | 1 |\n",
       "| Hornet 4 Drive | 21.4 | 6 | 258 | 110 | 3.08 | 3.215 | 19.44 | 1 | 0 | 3 | 1 | 1 | 1 | 3 |\n",
       "| Hornet Sportabout | 18.7 | 8 | 360 | 175 | 3.15 | 3.440 | 17.02 | 0 | 0 | 3 | 2 | 0 | 0 | 2 |\n",
       "| Valiant | 18.1 | 6 | 225 | 105 | 2.76 | 3.460 | 20.22 | 1 | 0 | 3 | 1 | 0 | 0 | 2 |\n",
       "\n"
      ],
      "text/plain": [
       "                  mpg  cyl disp hp  drat wt    qsec  vs am gear carb high_mpg\n",
       "Mazda RX4         21.0 6   160  110 3.90 2.620 16.46 0  1  4    4    1       \n",
       "Mazda RX4 Wag     21.0 6   160  110 3.90 2.875 17.02 0  1  4    4    1       \n",
       "Datsun 710        22.8 4   108   93 3.85 2.320 18.61 1  1  4    1    1       \n",
       "Hornet 4 Drive    21.4 6   258  110 3.08 3.215 19.44 1  0  3    1    1       \n",
       "Hornet Sportabout 18.7 8   360  175 3.15 3.440 17.02 0  0  3    2    0       \n",
       "Valiant           18.1 6   225  105 2.76 3.460 20.22 1  0  3    1    0       \n",
       "                  predicted_high_mpg gear_counts\n",
       "Mazda RX4         1                  4          \n",
       "Mazda RX4 Wag     1                  4          \n",
       "Datsun 710        1                  1          \n",
       "Hornet 4 Drive    1                  3          \n",
       "Hornet Sportabout 0                  2          \n",
       "Valiant           0                  2          "
      ]
     },
     "metadata": {},
     "output_type": "display_data"
    }
   ],
   "source": [
    "# Create a count outcome variable (hypothetical) for demonstration\n",
    "set.seed(42)\n",
    "mtcars$gear_counts <- rpois(n = nrow(mtcars), lambda = 2)\n",
    "\n",
    "# Preview the modified dataset\n",
    "head(mtcars)"
   ]
  },
  {
   "cell_type": "markdown",
   "id": "7a5960d7-7fd9-463f-a4bf-fbbef1f6eaa6",
   "metadata": {},
   "source": [
    "#### <div class=\"alert alert-block alert-success\"> Fitting a Poisson Regression Model </div>\n",
    "\n",
    "We'll fit a Poisson regression model to predict `gear_counts` based on weight (`wt`) and horsepower (`hp`). The `glm()` function in R with `family = poisson` is used for Poisson regression."
   ]
  },
  {
   "cell_type": "code",
   "execution_count": 11,
   "id": "7e5f8c9a-04a6-432b-83cf-bde5280d12da",
   "metadata": {},
   "outputs": [
    {
     "data": {
      "text/plain": [
       "\n",
       "Call:\n",
       "glm(formula = gear_counts ~ wt + hp, family = poisson, data = mtcars)\n",
       "\n",
       "Deviance Residuals: \n",
       "     Min        1Q    Median        3Q       Max  \n",
       "-2.34067  -0.66939  -0.02538   0.44991   1.82550  \n",
       "\n",
       "Coefficients:\n",
       "            Estimate Std. Error z value Pr(>|z|)\n",
       "(Intercept) 0.509590   0.395332   1.289    0.197\n",
       "wt          0.033655   0.144177   0.233    0.815\n",
       "hp          0.002107   0.001977   1.066    0.287\n",
       "\n",
       "(Dispersion parameter for poisson family taken to be 1)\n",
       "\n",
       "    Null deviance: 32.002  on 31  degrees of freedom\n",
       "Residual deviance: 29.643  on 29  degrees of freedom\n",
       "AIC: 118.11\n",
       "\n",
       "Number of Fisher Scoring iterations: 5\n"
      ]
     },
     "metadata": {},
     "output_type": "display_data"
    }
   ],
   "source": [
    "# Fit Poisson regression model\n",
    "poisson_model <- glm(gear_counts ~ wt + hp, data = mtcars, family = poisson)\n",
    "\n",
    "# Summary of the Poisson regression model\n",
    "summary(poisson_model)"
   ]
  },
  {
   "cell_type": "markdown",
   "id": "29ea8e7f-6819-4be1-8556-e79217d92132",
   "metadata": {},
   "source": [
    "#### <div class=\"alert alert-block alert-info\"> Interpreting Poisson Regression Results </div>\n",
    "\n",
    "The Poisson regression model output includes coefficients for `wt` and `hp`. Here’s how to interpret the results:\n",
    "1. **Coefficients**: Each coefficient represents the log of the expected count change for a one-unit increase in the predictor, holding other predictors constant.\n",
    "2. **Rate Ratios**: By exponentiating the coefficients, we obtain rate ratios, which indicate the multiplicative change in the expected count for each unit increase in the predictor.\n",
    "\n",
    "#### R Code to Calculate Rate Ratios"
   ]
  },
  {
   "cell_type": "code",
   "execution_count": 12,
   "id": "4782512b-b6ab-4ac9-bc76-445694dab816",
   "metadata": {},
   "outputs": [
    {
     "data": {
      "text/html": [
       "<style>\n",
       ".dl-inline {width: auto; margin:0; padding: 0}\n",
       ".dl-inline>dt, .dl-inline>dd {float: none; width: auto; display: inline-block}\n",
       ".dl-inline>dt::after {content: \":\\0020\"; padding-right: .5ex}\n",
       ".dl-inline>dt:not(:first-of-type) {padding-left: .5ex}\n",
       "</style><dl class=dl-inline><dt>(Intercept)</dt><dd>1.66460780427002</dd><dt>wt</dt><dd>1.03422817261731</dd><dt>hp</dt><dd>1.00210926970161</dd></dl>\n"
      ],
      "text/latex": [
       "\\begin{description*}\n",
       "\\item[(Intercept)] 1.66460780427002\n",
       "\\item[wt] 1.03422817261731\n",
       "\\item[hp] 1.00210926970161\n",
       "\\end{description*}\n"
      ],
      "text/markdown": [
       "(Intercept)\n",
       ":   1.66460780427002wt\n",
       ":   1.03422817261731hp\n",
       ":   1.00210926970161\n",
       "\n"
      ],
      "text/plain": [
       "(Intercept)          wt          hp \n",
       "   1.664608    1.034228    1.002109 "
      ]
     },
     "metadata": {},
     "output_type": "display_data"
    }
   ],
   "source": [
    "# Exponentiate coefficients to get rate ratios\n",
    "exp(coef(poisson_model))"
   ]
  },
  {
   "cell_type": "markdown",
   "id": "8a95fcd4-0e69-4704-a11e-ccc45e2ccb64",
   "metadata": {},
   "source": [
    "### <div class=\"alert alert-block alert-danger\"><b>Practice Exercise</b></div>\n",
    "\n",
    "Now it’s your turn to practice logistic and Poisson regression techniques.\n",
    "\n",
    "#### Logistic Regression\n",
    "1. Choose a binary variable as your target, such as `high_mpg`.\n",
    "2. Fit a logistic regression model with two predictors.\n",
    "3. Interpret the coefficients and calculate the odds ratios.\n",
    "\n",
    "#### Poisson Regression\n",
    "1. Choose a count variable as your target, or create one similar to `gear_counts`.\n",
    "2. Fit a Poisson regression model with two predictors.\n",
    "3. Interpret the coefficients and calculate the rate ratios.\n",
    "\n",
    "#### Questions to Consider:\n",
    "- How do the logistic and Poisson regression models differ in interpretation?\n",
    "- What real-life scenarios would be suited for logistic regression? For Poisson regression?\n",
    "\n",
    "**Tip**: Use the example code above to guide your analysis. Try using other datasets to strengthen your understanding of these methods."
   ]
  },
  {
   "cell_type": "markdown",
   "id": "cc53c2ca-a6be-46e8-8c41-391c090caa39",
   "metadata": {},
   "source": []
  },
  {
   "cell_type": "markdown",
   "id": "f740ef01-4ef3-451b-a60a-c26c17167756",
   "metadata": {},
   "source": []
  },
  {
   "cell_type": "markdown",
   "id": "496647ae-0ea7-4c66-86ee-62358fe94e77",
   "metadata": {},
   "source": []
  },
  {
   "cell_type": "markdown",
   "id": "c4511002-75d8-4547-98de-3646af33213f",
   "metadata": {},
   "source": []
  },
  {
   "cell_type": "markdown",
   "id": "45142935-dbdb-4e06-a085-127bb10e404d",
   "metadata": {},
   "source": []
  }
 ],
 "metadata": {
  "kernelspec": {
   "display_name": "R",
   "language": "R",
   "name": "ir"
  },
  "language_info": {
   "codemirror_mode": "r",
   "file_extension": ".r",
   "mimetype": "text/x-r-source",
   "name": "R",
   "pygments_lexer": "r",
   "version": "4.2.2"
  }
 },
 "nbformat": 4,
 "nbformat_minor": 5
}
