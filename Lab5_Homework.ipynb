{
 "cells": [
  {
   "cell_type": "markdown",
   "id": "9cdf7c16-ea5f-4ada-9515-e57686125d75",
   "metadata": {},
   "source": [
    "# Homework 4\n",
    "\n",
    "### <div class=\"alert alert-block alert-danger\"><b>Practice in Birmingham:</b> Birmingham vs. Huntsville Temperatures</div>\n"
   ]
  },
  {
   "cell_type": "markdown",
   "id": "5df22500-c5f9-4e4f-ad94-591fc96cf53f",
   "metadata": {},
   "source": [
    "#### Name:"
   ]
  },
  {
   "cell_type": "markdown",
   "id": "5993d984-9291-457a-ac03-84d857a93563",
   "metadata": {},
   "source": [
    "**Part 1: Birmingham vs. Huntsville Temperatures**"
   ]
  },
  {
   "cell_type": "markdown",
   "id": "10844c46-c667-4ed6-aba0-d3939a06a055",
   "metadata": {},
   "source": [
    "The temperature highs for all 31 days of May 2024 are given here for Birmingham, AL: https://www.accuweather.com/en/us/birmingham/35203/may-weather/346630 and here for Huntsville, AL: https://www.accuweather.com/en/us/huntsville/35801/may-weather/326704?year=2024.\n",
    "\n",
    "\n",
    "**Question 1:** Perform a two-sample t-test to determine if there is a significant difference in the average temperatures between Birmingham and Huntsville.\n",
    "\n",
    "Hints:\n",
    "\n",
    "Download temperature data from a reliable source or use simulated data.\n",
    "Use `R` functions like `t.test()` to perform the hypothesis test."
   ]
  },
  {
   "cell_type": "markdown",
   "id": "dba2385c-be40-4e89-bb46-f50961244b60",
   "metadata": {},
   "source": [
    "##### Your answer:"
   ]
  },
  {
   "cell_type": "code",
   "execution_count": null,
   "id": "f4eba5db-fabe-4079-9ab2-a855f8c9032b",
   "metadata": {},
   "outputs": [],
   "source": []
  },
  {
   "cell_type": "markdown",
   "id": "2b424d90-1625-47b7-9378-6f27b81c4b80",
   "metadata": {},
   "source": [
    "**Question 2:** Calculate the proportion of days in Birmingham and Huntsville where the temperature exceeded 80°F. Perform a two-sample proportion test to see if there is a significant difference in these proportions.\n",
    "\n",
    "Hints:\n",
    "\n",
    "Use `prop.test()` to compare the proportions."
   ]
  },
  {
   "cell_type": "markdown",
   "id": "ebbe07ab-7738-4e5b-b959-f40889b81682",
   "metadata": {},
   "source": [
    "##### Your answer:"
   ]
  },
  {
   "cell_type": "code",
   "execution_count": null,
   "id": "c68c8377-f4a1-4add-bc4e-04efba2707bc",
   "metadata": {},
   "outputs": [],
   "source": []
  },
  {
   "cell_type": "markdown",
   "id": "bc9db7b5-4ba0-4058-a1ed-0cc05ddd27d2",
   "metadata": {},
   "source": [
    "**Part 2: Estimating Actuary Salaries in Birmingham**"
   ]
  },
  {
   "cell_type": "markdown",
   "id": "27819b5e-6711-40fd-806f-9c5fa104bddc",
   "metadata": {},
   "source": [
    "**Part 2: Birmingham vs. Huntsville Temperatures**"
   ]
  },
  {
   "cell_type": "markdown",
   "id": "50278b8b-d138-498a-90df-a38fb98cc42c",
   "metadata": {
    "jp-MarkdownHeadingCollapsed": true
   },
   "source": [
    "\n",
    "You are interested in becoming an actuary ([source](https://www.bls.gov/ooh/math/actuaries.htm)) but first want to design a study to estimate the average income of an actuary in the Birmingham area specifically. "
   ]
  },
  {
   "cell_type": "markdown",
   "id": "cd5e0aeb-434d-4c16-9ee6-9a8f7231a80e",
   "metadata": {},
   "source": [
    "**Question 1: One-Sample t-Test on Actuary Income**\n",
    "\n",
    "Suppose you collect income data from a sample of actuaries in Birmingham and find that the average income in your sample is \\\\$95,000. You want to test whether this is significantly different from the national average of \\\\$100,000.\n",
    "\n",
    "### Steps:\n",
    "1. Formulate the hypotheses:\n",
    "    - Null hypothesis (H₀): The mean income in Birmingham is \\\\$100,000.\n",
    "    - Alternative hypothesis (Hₐ): The mean income in Birmingham is not \\\\$100,000.\n",
    "2. Use a one-sample $t$-test to determine if the observed mean income is significantly different from \\\\$100,000."
   ]
  },
  {
   "cell_type": "markdown",
   "id": "a57e7e11-bf9a-4679-9884-bb48f5eef07e",
   "metadata": {},
   "source": [
    "##### Your answer:"
   ]
  },
  {
   "cell_type": "code",
   "execution_count": null,
   "id": "c2e21abc-7da9-4fe9-9541-9d693f727c4d",
   "metadata": {},
   "outputs": [],
   "source": []
  },
  {
   "cell_type": "markdown",
   "id": "ee529be7-d929-422c-b9ca-95d3d14a237c",
   "metadata": {},
   "source": [
    "**Question 2: Proportion of Actuaries Earning Over \\\\$100,000**\n",
    "\n",
    "You hypothesize that less than 50% of actuaries in Birmingham earn more than \\\\$100,000 annually. You want to test this hypothesis using the data you collected.\n",
    "\n",
    "### Steps:\n",
    "1. Formulate the hypotheses:\n",
    "    - Null hypothesis (H₀): 50% of actuaries in Birmingham earn more than \\\\$100,000.\n",
    "    - Alternative hypothesis (Hₐ): Less than 50% of actuaries in Birmingham earn more than \\\\$100,000.\n",
    "2. Use a one-sample proportion test to determine if the observed proportion of actuaries earning over \\\\$100,000 is significantly less than 50%."
   ]
  },
  {
   "cell_type": "markdown",
   "id": "38e2435b-5c21-4e12-b325-1bc91982afdb",
   "metadata": {},
   "source": [
    "##### Your answer:"
   ]
  },
  {
   "cell_type": "code",
   "execution_count": null,
   "id": "be416296-6b7c-4ac8-b02d-d8da6439fb04",
   "metadata": {},
   "outputs": [],
   "source": []
  },
  {
   "cell_type": "markdown",
   "id": "980e4a74-b9bc-418f-9fe3-157ea04c6202",
   "metadata": {},
   "source": [
    "**Question 3: Two-Sample t-Test: Birmingham vs. Huntsville Actuary Incomes**\n",
    "\n",
    "Now, imagine you also collect income data from actuaries in Huntsville. You want to test whether the average income of actuaries in Birmingham differs from that in Huntsville.\n",
    "\n",
    "### Steps:\n",
    "1. Formulate the hypotheses:\n",
    "    - Null hypothesis (H₀): The mean income in Birmingham is equal to the mean income in Huntsville.\n",
    "    - Alternative hypothesis (Hₐ): The mean incomes are different.\n",
    "2. Use a two-sample t-test to compare the means of actuary incomes between Birmingham and Huntsville."
   ]
  },
  {
   "cell_type": "markdown",
   "id": "d29b0e32-dc35-4335-88fd-950a9d8746f6",
   "metadata": {},
   "source": [
    "##### Your answer:"
   ]
  },
  {
   "cell_type": "code",
   "execution_count": null,
   "id": "5320d2eb-2f9e-4989-ad06-d23c2af1a2fa",
   "metadata": {},
   "outputs": [],
   "source": []
  },
  {
   "cell_type": "markdown",
   "id": "0b2709b8-7f3d-4723-8d24-ac1eb1e3fe32",
   "metadata": {},
   "source": [
    "**Question 4: Sample Size Calculation for Proportion**\n",
    "\n",
    "You want to estimate the proportion of actuaries in Birmingham earning over $100,000 with 90% confidence and a margin of error of 5%. Assuming the true proportion is around 40%, calculate the required sample size.\n"
   ]
  },
  {
   "cell_type": "markdown",
   "id": "899db9e7-5d96-462c-a578-38c1ef51da93",
   "metadata": {},
   "source": [
    "##### Your answer:"
   ]
  },
  {
   "cell_type": "code",
   "execution_count": null,
   "id": "d4b5b4cb-f4fe-49e8-8d88-343c1f89730d",
   "metadata": {},
   "outputs": [],
   "source": []
  }
 ],
 "metadata": {
  "kernelspec": {
   "display_name": "R",
   "language": "R",
   "name": "ir"
  },
  "language_info": {
   "codemirror_mode": "r",
   "file_extension": ".r",
   "mimetype": "text/x-r-source",
   "name": "R",
   "pygments_lexer": "r",
   "version": "4.3.1"
  }
 },
 "nbformat": 4,
 "nbformat_minor": 5
}
