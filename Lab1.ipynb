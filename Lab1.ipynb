{
 "cells": [
  {
   "cell_type": "markdown",
   "id": "5fed8ef5-2d36-47a7-840b-898810e9d4e6",
   "metadata": {
    "tags": []
   },
   "source": [
    "## Lab 1: Introduction to R in Statistics & Data Analysis\n",
    "#### MA 189 Data Dive Into Birmingham (with R)\n",
    "##### _Blazer Core: City as Classroom_\n",
    "\n",
    "Course Website: [Github.com/kerenli/statbirmingham/](https://github.com/kerenli/statbirmingham/) \n"
   ]
  },
  {
   "cell_type": "markdown",
   "id": "3565ef91-dcdd-47d6-811e-21ea0a33d32f",
   "metadata": {
    "tags": []
   },
   "source": [
    "#### Levels:\n",
    "<div class=\"alert-success\"> Concepts and general information</div>\n",
    "<div class=\"alert-warning\"> Important methods and technique details </div>\n",
    "<div class=\"alert-info\"> Extended reading </div>\n",
    "<div class=\"alert-danger\"> (Local) examples, assignments, and <b>Practice in Birmingham</b> </div>"
   ]
  },
  {
   "cell_type": "markdown",
   "id": "86712cfe-5489-4c87-9f5a-5d2a084c4d73",
   "metadata": {
    "tags": []
   },
   "source": [
    "## <div class=\"alert alert-block alert-success\"> What Is R? </div>"
   ]
  },
  {
   "cell_type": "markdown",
   "id": "41167944-6b32-4e59-8abd-0ef932a174e5",
   "metadata": {},
   "source": [
    "Simply speaking, R is a language and environment for statistical computing and graphics."
   ]
  },
  {
   "cell_type": "markdown",
   "id": "b15bb457-6824-431e-855b-a767c790e45c",
   "metadata": {},
   "source": [
    "R does:\n",
    "* Graphics, statistics, machine learning, etc.\n",
    "* Data acquisition, munging, management\n",
    "* Literate programming (dynamic reports)\n",
    "* Web applications"
   ]
  },
  {
   "cell_type": "markdown",
   "id": "3ed000fb-7c88-410d-8e32-ccfae0cc9a1f",
   "metadata": {},
   "source": [
    "More specifically, R is a powerful and versatile programming language specifically designed for statistical analysis and data visualization. It was created by statisticians for statisticians, making it particularly well-suited for tasks such as data manipulation, analysis, and graphical representation."
   ]
  },
  {
   "cell_type": "markdown",
   "id": "0b0df600-2371-4a4b-a0cb-c21e4daf204f",
   "metadata": {},
   "source": [
    "One of the key strengths of R is its extensive ecosystem of packages—collections of functions and datasets that extend the capabilities of base R. These packages allow users to perform a wide range of tasks, from basic statistical analysis to complex machine learning algorithms, all within the same environment."
   ]
  },
  {
   "cell_type": "markdown",
   "id": "8f4107fd-add9-40aa-8484-1fef964ee72f",
   "metadata": {},
   "source": [
    "R is widely used in academia, research, and industry, especially in fields like data science, bioinformatics, economics, and social sciences. Its open-source nature means it is freely available to everyone, and its active community continuously contributes to its development and improvement."
   ]
  },
  {
   "cell_type": "markdown",
   "id": "61e41102-4378-4275-9c6f-08756d29dea4",
   "metadata": {},
   "source": [
    "In this course, you will use R to explore and analyze real-world data, gaining practical experience that will be invaluable in your studies and future career."
   ]
  },
  {
   "cell_type": "markdown",
   "id": "36404ef4-d0bf-46e1-a9a7-ded948056fe6",
   "metadata": {},
   "source": [
    "## <div class=\"alert alert-block alert-success\"> Options for Running R </div>"
   ]
  },
  {
   "cell_type": "markdown",
   "id": "d1078edb-b864-4f06-88f5-81913ceb355d",
   "metadata": {},
   "source": [
    "##### <div class=\"alert alert-block alert-danger\"> Download and Install R </div>\n",
    "1. Go to [http://www.r-project.org/](http://www.r-project.org/)\n",
    "\n",
    "2. Click on the \"CRAN\" link and choose a CRAN mirror close to your location.\n",
    "\n",
    "3. Download the version of R appropriate for your operating system (Windows, macOS, or Linux).\n",
    "\n",
    "4. Follow the installation instructions provided on the website.\n",
    "\n",
    "There are several options for running R."
   ]
  },
  {
   "cell_type": "markdown",
   "id": "24f4ec89-ef22-461d-a744-4af824f3d75e",
   "metadata": {},
   "source": [
    "##### <div class=\"alert alert-block alert-danger\"> Run R in RStudio </div>\n",
    "\n",
    "RStudio is a popular integrated development environment (IDE) for R. It provides a user-friendly interface, making it easier to write, run, and debug R code.\n",
    "\n",
    "1. Install R:\n",
    "    - Go to [http://www.r-project.org/](http://www.r-project.org/) and download R for your operating system.\n",
    "    - Install R by following the instructions. \n",
    "    \n",
    "\n",
    "2. Install RStudio:\n",
    "    - Go to [https://www.rstudio.com/products/rstudio/download/](https://www.rstudio.com/products/rstudio/download/).\n",
    "    - Download the installer for your operating system and install RStudio. \n",
    "\n",
    "3. Run RStudio:\n",
    "    - Open RStudio.\n",
    "    - You can start writing and running R code directly in the RStudio console or script editor. "
   ]
  },
  {
   "cell_type": "markdown",
   "id": "7aadf450-78ea-4d32-a82d-887882048db4",
   "metadata": {
    "tags": []
   },
   "source": [
    "##### <div class=\"alert alert-block alert-danger\"> Setting Up R Kernel in JupyterLab via Anaconda </div>\n",
    "\n",
    "Anaconda is a distribution that includes Python, R, and other packages, and it simplifies managing multiple programming environments.\n",
    "\n",
    "Follow the steps below to create a new environment and install the necessary packages.\n",
    "\n",
    "1. Install Anaconda:\n",
    "    - Download Anaconda from [https://www.anaconda.com/products/individual](https://www.anaconda.com/products/individual).\n",
    "    - Follow the installation instructions.\n",
    "\n",
    "2. Open Anaconda Navigator.\n",
    "3. Create a New Environment:\n",
    "    If you cannot find the `r-base` package in the default (base/root) environment, it is recommended to create a new environment. \n",
    "    - In the **Anaconda Navigator** window, navigate to the **Environments** tab on the left-hand side.\n",
    "    - In the bottom left corner, click the **Create** button.\n",
    "    - A dialog box will appear. Enter a name for your new environment (for example, `r_env`).\n",
    "    - Under the **Packages** section, check both **Python** and **R** to include them in your environment.\n",
    "    - Click **Create**. Anaconda Navigator will now set up your new environment.\n",
    "       \n",
    "4. Activate and Install Packages in the New Environment\n",
    "    - Once the environment is created, select it from the list of environments on the left-hand side.\n",
    "    - To install additional packages, such as **JupyterLab**, click the **Search Packages** box.\n",
    "    - Search for **JupyterLab**, select it from the results, and click **Apply** to install it.\n",
    "    - You can also install other packages like `r-base` and `IRkernel` directly from the Navigator by searching for them.\n",
    "\n",
    "5. Launch JupyterLab:\n",
    "    - In Anaconda Navigator, go to the Home tab.\n",
    "    - Under Applications on [Your Environment Name], find JupyterLab and click Launch.\n",
    "    - In JupyterLab, when you create a new notebook, select R from the list of available kernels."
   ]
  },
  {
   "cell_type": "markdown",
   "id": "6ec19b80-9087-4fd3-904f-e9c77d72d614",
   "metadata": {
    "tags": []
   },
   "source": [
    "<div class=\"alert alert-block alert-info\">\n",
    "Setup JupyterLab for R\n",
    "</div>\n",
    "\n",
    "Jupyter Notebook allows you to run R code within an interactive notebook environment, which is excellent for combining code, visualizations, and text. Below are the steps to install and run R in Jupyter Notebook:\n",
    "\n",
    "1. Install R:\n",
    "    - Go to [http://www.r-project.org/](http://www.r-project.org/) and download R for your operating system.\n",
    "    - Install R by following the instructions.\n",
    "\n",
    "2. Install Python:\n",
    "    - Download and install Python from [https://www.python.org/downloads/](https://www.python.org/downloads/) if not already installed.\n",
    "\n",
    "3. Install JupyterLab:\n",
    "    - Open your command line interface and install JupyterLab by running:\n",
    "      \n",
    "      ---\n",
    "      ```bash\n",
    "      pip install jupyterlab\n",
    "      ```\n",
    "      ---\n",
    "      \n",
    "    - On macOS, you might need to use `pip3` instead:\n",
    "    \n",
    "      --- \n",
    "      ```bash\n",
    "      pip3 install jupyterlab\n",
    "      ```\n",
    "      ---\n",
    "      \n",
    "4. Install R Kernel for Jupyter Notebook:\n",
    "    - Open the command line and type `R` to start the R console.\n",
    "    - In the R console, install the IRkernel package:\n",
    "    \n",
    "      ---\n",
    "      ```r\n",
    "      install.packages('IRkernel')\n",
    "      ```\n",
    "      ---\n",
    "      \n",
    "    - When prompted to select a CRAN mirror, choose one close to your location (e.g., “USA (TX 1)”).\n",
    "    - Make the R kernel available to Jupyter:\n",
    "    \n",
    "      ---\n",
    "      ```r\n",
    "      IRkernel::installspec()\n",
    "      ```\n",
    "      ---\n",
    "\n",
    "5. Run JupyterLab:\n",
    "    - Start JupyterLab by typing `jupyter lab` in the command line.\n",
    "    - This will open JupyterLab in your web browser.\n",
    "    - Create a new notebook and select the \"R\" kernel to start coding in R."
   ]
  },
  {
   "cell_type": "markdown",
   "id": "91b29940-d0ba-4735-a2f5-6b6c7ef86637",
   "metadata": {},
   "source": [
    "<div class=\"alert alert-block alert-info\">\n",
    "Run R in the Command Line\n",
    "</div>\n",
    "\n",
    "You can run R directly from the command line, which is useful for quick tasks or when you prefer working in a terminal environment.\n",
    "\n",
    "1. Install R:\n",
    "    - Go to [http://www.r-project.org/](http://www.r-project.org/) and download R for your operating system.\n",
    "    - Install R by following the instructions.\n",
    "\n",
    "2. Open the Command Line:\n",
    "    - On Windows: Open Command Prompt.\n",
    "    - On macOS/Linux: Open Terminal.\n",
    "\n",
    "3. Start R:\n",
    "    - Type `R` and press Enter.\n",
    "    - This will start the R console in your command line interface.\n"
   ]
  },
  {
   "cell_type": "markdown",
   "id": "a43dfda7-3f77-4f77-813f-f71757e78e24",
   "metadata": {},
   "source": [
    "## <div class=\"alert alert-block alert-success\"> Basic R </div>"
   ]
  },
  {
   "cell_type": "markdown",
   "id": "1fa34c05-8df9-46e7-ad8c-c66e2fc1f3fd",
   "metadata": {},
   "source": [
    "### <div class=\"alert alert-block alert-success\"> Basic R Operations and Commonly Used Functions </div>\n",
    "\n",
    "**Objective:** \n",
    "Introduce students to the basic operations in R and familiarize them with commonly used functions."
   ]
  },
  {
   "cell_type": "markdown",
   "id": "f3cbf897-b00d-44bc-b04a-2ae39bda1408",
   "metadata": {},
   "source": [
    "#### <div class=\"alert alert-block alert-success\"> 1. Basic Arithmetic Operations </div>\n",
    "   - Addition (`+`)\n",
    "   - Subtraction (`-`)\n",
    "   - Multiplication (`*`)\n",
    "   - Division (`/`)\n",
    "   - Exponentiation (`^`)\n",
    "   - Modulus (`%%`)\n",
    "   - Integer Division (`%/%`)\n",
    "\n",
    "   *Example:*"
   ]
  },
  {
   "cell_type": "code",
   "execution_count": 9,
   "id": "d3e6fa4d-2170-47e0-b4d5-4d1601ea6e87",
   "metadata": {},
   "outputs": [
    {
     "data": {
      "text/html": [
       "8"
      ],
      "text/latex": [
       "8"
      ],
      "text/markdown": [
       "8"
      ],
      "text/plain": [
       "[1] 8"
      ]
     },
     "metadata": {},
     "output_type": "display_data"
    },
    {
     "data": {
      "text/html": [
       "6"
      ],
      "text/latex": [
       "6"
      ],
      "text/markdown": [
       "6"
      ],
      "text/plain": [
       "[1] 6"
      ]
     },
     "metadata": {},
     "output_type": "display_data"
    },
    {
     "data": {
      "text/html": [
       "14"
      ],
      "text/latex": [
       "14"
      ],
      "text/markdown": [
       "14"
      ],
      "text/plain": [
       "[1] 14"
      ]
     },
     "metadata": {},
     "output_type": "display_data"
    },
    {
     "data": {
      "text/html": [
       "4.2"
      ],
      "text/latex": [
       "4.2"
      ],
      "text/markdown": [
       "4.2"
      ],
      "text/plain": [
       "[1] 4.2"
      ]
     },
     "metadata": {},
     "output_type": "display_data"
    },
    {
     "data": {
      "text/html": [
       "8"
      ],
      "text/latex": [
       "8"
      ],
      "text/markdown": [
       "8"
      ],
      "text/plain": [
       "[1] 8"
      ]
     },
     "metadata": {},
     "output_type": "display_data"
    },
    {
     "data": {
      "text/html": [
       "1"
      ],
      "text/latex": [
       "1"
      ],
      "text/markdown": [
       "1"
      ],
      "text/plain": [
       "[1] 1"
      ]
     },
     "metadata": {},
     "output_type": "display_data"
    },
    {
     "data": {
      "text/html": [
       "3"
      ],
      "text/latex": [
       "3"
      ],
      "text/markdown": [
       "3"
      ],
      "text/plain": [
       "[1] 3"
      ]
     },
     "metadata": {},
     "output_type": "display_data"
    }
   ],
   "source": [
    "   5 + 3   # Addition\n",
    "   10 - 4  # Subtraction\n",
    "   7 * 2   # Multiplication\n",
    "   21 / 5  # Division\n",
    "   2^3     # Exponentiation\n",
    "   10 %% 3 # Modulus\n",
    "   10 %/% 3 # Integer Division"
   ]
  },
  {
   "cell_type": "markdown",
   "id": "7b3c3220-3b00-431c-93c0-382b5fb8805d",
   "metadata": {},
   "source": [
    "#### <div class=\"alert alert-block alert-success\"> 2. Comparison Operators </div>\n",
    "   - Equal to (`==`)\n",
    "   - Not equal to (`!=`)\n",
    "   - Greater than (`>`)\n",
    "   - Less than (`<`)\n",
    "   - Greater than or equal to (`>=`)\n",
    "   - Less than or equal to (`<=`)\n",
    "\n",
    "   *Example:*"
   ]
  },
  {
   "cell_type": "code",
   "execution_count": 7,
   "id": "439ced99-9525-46e4-adfc-56327b8982b4",
   "metadata": {},
   "outputs": [
    {
     "data": {
      "text/html": [
       "FALSE"
      ],
      "text/latex": [
       "FALSE"
      ],
      "text/markdown": [
       "FALSE"
      ],
      "text/plain": [
       "[1] FALSE"
      ]
     },
     "metadata": {},
     "output_type": "display_data"
    },
    {
     "data": {
      "text/html": [
       "TRUE"
      ],
      "text/latex": [
       "TRUE"
      ],
      "text/markdown": [
       "TRUE"
      ],
      "text/plain": [
       "[1] TRUE"
      ]
     },
     "metadata": {},
     "output_type": "display_data"
    },
    {
     "data": {
      "text/html": [
       "TRUE"
      ],
      "text/latex": [
       "TRUE"
      ],
      "text/markdown": [
       "TRUE"
      ],
      "text/plain": [
       "[1] TRUE"
      ]
     },
     "metadata": {},
     "output_type": "display_data"
    },
    {
     "data": {
      "text/html": [
       "FALSE"
      ],
      "text/latex": [
       "FALSE"
      ],
      "text/markdown": [
       "FALSE"
      ],
      "text/plain": [
       "[1] FALSE"
      ]
     },
     "metadata": {},
     "output_type": "display_data"
    }
   ],
   "source": [
    "   5 == 3  # False\n",
    "   5 != 3  # True\n",
    "   5 > 3   # True\n",
    "   5 < 3   # False"
   ]
  },
  {
   "cell_type": "markdown",
   "id": "3750194b-deec-4ff8-8865-9322f5b4ea1d",
   "metadata": {},
   "source": [
    "#### <div class=\"alert alert-block alert-success\"> 3. Logical Operators </div>\n",
    "   - AND (`&`)\n",
    "   - OR (`|`)\n",
    "   - NOT (`!`)\n",
    "\n",
    "   *Example:*"
   ]
  },
  {
   "cell_type": "code",
   "execution_count": 6,
   "id": "a09ddcdd-e3f0-44fa-bb27-b9ffc58bed59",
   "metadata": {},
   "outputs": [
    {
     "data": {
      "text/html": [
       "TRUE"
      ],
      "text/latex": [
       "TRUE"
      ],
      "text/markdown": [
       "TRUE"
      ],
      "text/plain": [
       "[1] TRUE"
      ]
     },
     "metadata": {},
     "output_type": "display_data"
    },
    {
     "data": {
      "text/html": [
       "TRUE"
      ],
      "text/latex": [
       "TRUE"
      ],
      "text/markdown": [
       "TRUE"
      ],
      "text/plain": [
       "[1] TRUE"
      ]
     },
     "metadata": {},
     "output_type": "display_data"
    },
    {
     "data": {
      "text/html": [
       "FALSE"
      ],
      "text/latex": [
       "FALSE"
      ],
      "text/markdown": [
       "FALSE"
      ],
      "text/plain": [
       "[1] FALSE"
      ]
     },
     "metadata": {},
     "output_type": "display_data"
    }
   ],
   "source": [
    "   (5 > 3) & (4 > 2)  # True\n",
    "   (5 > 3) | (4 < 2)  # True \n",
    "   !(5 > 3)           # False"
   ]
  },
  {
   "cell_type": "markdown",
   "id": "9ac5958a-654c-40b7-af5b-6b3922975638",
   "metadata": {},
   "source": [
    "#### <div class=\"alert alert-block alert-success\"> 4. Commonly Used Functions </div>\n",
    "   - `sum()`: Sum of elements\n",
    "   - `mean()`: Mean of elements\n",
    "   - `median()`: Median of elements\n",
    "   - `sd()`: Standard deviation\n",
    "   - `min()`, `max()`: Minimum and maximum values\n",
    "   - `range()`: Range of values\n",
    "   - `length()`: Number of elements in an object\n",
    "\n",
    "   *Example:*"
   ]
  },
  {
   "cell_type": "code",
   "execution_count": 10,
   "id": "a064fc8b-a1d6-4c07-b7a0-bb3b0d3aefb9",
   "metadata": {},
   "outputs": [
    {
     "data": {
      "text/html": [
       "15"
      ],
      "text/latex": [
       "15"
      ],
      "text/markdown": [
       "15"
      ],
      "text/plain": [
       "[1] 15"
      ]
     },
     "metadata": {},
     "output_type": "display_data"
    },
    {
     "data": {
      "text/html": [
       "3"
      ],
      "text/latex": [
       "3"
      ],
      "text/markdown": [
       "3"
      ],
      "text/plain": [
       "[1] 3"
      ]
     },
     "metadata": {},
     "output_type": "display_data"
    },
    {
     "data": {
      "text/html": [
       "3"
      ],
      "text/latex": [
       "3"
      ],
      "text/markdown": [
       "3"
      ],
      "text/plain": [
       "[1] 3"
      ]
     },
     "metadata": {},
     "output_type": "display_data"
    },
    {
     "data": {
      "text/html": [
       "1.58113883008419"
      ],
      "text/latex": [
       "1.58113883008419"
      ],
      "text/markdown": [
       "1.58113883008419"
      ],
      "text/plain": [
       "[1] 1.581139"
      ]
     },
     "metadata": {},
     "output_type": "display_data"
    },
    {
     "data": {
      "text/html": [
       "1"
      ],
      "text/latex": [
       "1"
      ],
      "text/markdown": [
       "1"
      ],
      "text/plain": [
       "[1] 1"
      ]
     },
     "metadata": {},
     "output_type": "display_data"
    },
    {
     "data": {
      "text/html": [
       "5"
      ],
      "text/latex": [
       "5"
      ],
      "text/markdown": [
       "5"
      ],
      "text/plain": [
       "[1] 5"
      ]
     },
     "metadata": {},
     "output_type": "display_data"
    },
    {
     "data": {
      "text/html": [
       "<style>\n",
       ".list-inline {list-style: none; margin:0; padding: 0}\n",
       ".list-inline>li {display: inline-block}\n",
       ".list-inline>li:not(:last-child)::after {content: \"\\00b7\"; padding: 0 .5ex}\n",
       "</style>\n",
       "<ol class=list-inline><li>1</li><li>5</li></ol>\n"
      ],
      "text/latex": [
       "\\begin{enumerate*}\n",
       "\\item 1\n",
       "\\item 5\n",
       "\\end{enumerate*}\n"
      ],
      "text/markdown": [
       "1. 1\n",
       "2. 5\n",
       "\n",
       "\n"
      ],
      "text/plain": [
       "[1] 1 5"
      ]
     },
     "metadata": {},
     "output_type": "display_data"
    },
    {
     "data": {
      "text/html": [
       "5"
      ],
      "text/latex": [
       "5"
      ],
      "text/markdown": [
       "5"
      ],
      "text/plain": [
       "[1] 5"
      ]
     },
     "metadata": {},
     "output_type": "display_data"
    }
   ],
   "source": [
    "   numbers <- c(1, 2, 3, 4, 5)\n",
    "   sum(numbers)      # Sum: 15\n",
    "   mean(numbers)     # Mean: 3\n",
    "   median(numbers)   # Median: 3\n",
    "   sd(numbers)       # Standard Deviation: 1.581\n",
    "   min(numbers)      # Minimum: 1\n",
    "   max(numbers)      # Maximum: 5\n",
    "   range(numbers)    # Range: 1 5\n",
    "   length(numbers)   # Length: 5"
   ]
  },
  {
   "cell_type": "markdown",
   "id": "624b28fb-e811-46c5-a9a7-40cc3c818a40",
   "metadata": {
    "tags": []
   },
   "source": [
    "#### <div class=\"alert alert-block alert-success\"> 5. Help and Documentation </div>\n",
    "   - How to get help on a function using `?` or `help()`.\n",
    "\n",
    "   *Example:*"
   ]
  },
  {
   "cell_type": "code",
   "execution_count": 12,
   "id": "83d91391-0e91-47f3-8e1c-42906273900c",
   "metadata": {},
   "outputs": [
    {
     "data": {
      "text/html": [
       "\n",
       "<table style=\"width: 100%;\"><tr><td>mean {base}</td><td style=\"text-align: right;\">R Documentation</td></tr></table>\n",
       "\n",
       "<h2>Arithmetic Mean</h2>\n",
       "\n",
       "<h3>Description</h3>\n",
       "\n",
       "<p>Generic function for the (trimmed) arithmetic mean.\n",
       "</p>\n",
       "\n",
       "\n",
       "<h3>Usage</h3>\n",
       "\n",
       "<pre><code class='language-R'>mean(x, ...)\n",
       "\n",
       "## Default S3 method:\n",
       "mean(x, trim = 0, na.rm = FALSE, ...)\n",
       "</code></pre>\n",
       "\n",
       "\n",
       "<h3>Arguments</h3>\n",
       "\n",
       "<table>\n",
       "<tr style=\"vertical-align: top;\"><td><code>x</code></td>\n",
       "<td>\n",
       "<p>An <span style=\"font-family: Courier New, Courier; color: #666666;\"><b>R</b></span> object.  Currently there are methods for\n",
       "numeric/logical vectors and date,\n",
       "date-time and time interval objects.  Complex vectors\n",
       "are allowed for <code>trim = 0</code>, only.</p>\n",
       "</td></tr>\n",
       "<tr style=\"vertical-align: top;\"><td><code>trim</code></td>\n",
       "<td>\n",
       "<p>the fraction (0 to 0.5) of observations to be\n",
       "trimmed from each end of <code>x</code> before the mean is computed.\n",
       "Values of trim outside that range are taken as the nearest endpoint.\n",
       "</p>\n",
       "</td></tr>\n",
       "<tr style=\"vertical-align: top;\"><td><code>na.rm</code></td>\n",
       "<td>\n",
       "<p>a logical evaluating to <code>TRUE</code> or <code>FALSE</code>\n",
       "indicating whether <code>NA</code> values should be stripped before the\n",
       "computation proceeds.</p>\n",
       "</td></tr> \n",
       "<tr style=\"vertical-align: top;\"><td><code>...</code></td>\n",
       "<td>\n",
       "<p>further arguments passed to or from other methods.</p>\n",
       "</td></tr>\n",
       "</table>\n",
       "\n",
       "\n",
       "<h3>Value</h3>\n",
       "\n",
       "<p>If <code>trim</code> is zero (the default), the arithmetic mean of the\n",
       "values in <code>x</code> is computed, as a numeric or complex vector of\n",
       "length one.  If <code>x</code> is not logical (coerced to numeric), numeric\n",
       "(including integer) or complex, <code>NA_real_</code> is returned, with a warning.\n",
       "</p>\n",
       "<p>If <code>trim</code> is non-zero, a symmetrically trimmed mean is computed\n",
       "with a fraction of <code>trim</code> observations deleted from each end\n",
       "before the mean is computed.\n",
       "</p>\n",
       "\n",
       "\n",
       "<h3>References</h3>\n",
       "\n",
       "<p>Becker, R. A., Chambers, J. M. and Wilks, A. R. (1988)\n",
       "<em>The New S Language</em>.\n",
       "Wadsworth &amp; Brooks/Cole.\n",
       "</p>\n",
       "\n",
       "\n",
       "<h3>See Also</h3>\n",
       "\n",
       "<p><code>weighted.mean</code>, <code>mean.POSIXct</code>,\n",
       "<code>colMeans</code> for row and column means.\n",
       "</p>\n",
       "\n",
       "\n",
       "<h3>Examples</h3>\n",
       "\n",
       "<pre><code class='language-R'>x &lt;- c(0:10, 50)\n",
       "xm &lt;- mean(x)\n",
       "c(xm, mean(x, trim = 0.10))\n",
       "</code></pre>\n",
       "\n",
       "<hr /><div style=\"text-align: center;\">[Package <em>base</em> version 4.2.2 ]</div>\n",
       "</div>"
      ],
      "text/latex": [
       "\\inputencoding{utf8}\n",
       "\\HeaderA{mean}{Arithmetic Mean}{mean}\n",
       "\\methaliasA{mean.default}{mean}{mean.default}\n",
       "\\keyword{univar}{mean}\n",
       "%\n",
       "\\begin{Description}\\relax\n",
       "Generic function for the (trimmed) arithmetic mean.\n",
       "\\end{Description}\n",
       "%\n",
       "\\begin{Usage}\n",
       "\\begin{verbatim}\n",
       "mean(x, ...)\n",
       "\n",
       "## Default S3 method:\n",
       "mean(x, trim = 0, na.rm = FALSE, ...)\n",
       "\\end{verbatim}\n",
       "\\end{Usage}\n",
       "%\n",
       "\\begin{Arguments}\n",
       "\\begin{ldescription}\n",
       "\\item[\\code{x}] An \\R{} object.  Currently there are methods for\n",
       "numeric/logical vectors and \\LinkA{date}{Dates},\n",
       "\\LinkA{date-time}{date.Rdash.time} and \\LinkA{time interval}{time interval} objects.  Complex vectors\n",
       "are allowed for \\code{trim = 0}, only.\n",
       "\\item[\\code{trim}] the fraction (0 to 0.5) of observations to be\n",
       "trimmed from each end of \\code{x} before the mean is computed.\n",
       "Values of trim outside that range are taken as the nearest endpoint.\n",
       "\n",
       "\\item[\\code{na.rm}] a logical evaluating to \\code{TRUE} or \\code{FALSE}\n",
       "indicating whether \\code{NA} values should be stripped before the\n",
       "computation proceeds.\n",
       "\\item[\\code{...}] further arguments passed to or from other methods.\n",
       "\\end{ldescription}\n",
       "\\end{Arguments}\n",
       "%\n",
       "\\begin{Value}\n",
       "If \\code{trim} is zero (the default), the arithmetic mean of the\n",
       "values in \\code{x} is computed, as a numeric or complex vector of\n",
       "length one.  If \\code{x} is not logical (coerced to numeric), numeric\n",
       "(including integer) or complex, \\code{NA\\_real\\_} is returned, with a warning.\n",
       "\n",
       "If \\code{trim} is non-zero, a symmetrically trimmed mean is computed\n",
       "with a fraction of \\code{trim} observations deleted from each end\n",
       "before the mean is computed.\n",
       "\\end{Value}\n",
       "%\n",
       "\\begin{References}\\relax\n",
       "Becker, R. A., Chambers, J. M. and Wilks, A. R. (1988)\n",
       "\\emph{The New S Language}.\n",
       "Wadsworth \\& Brooks/Cole.\n",
       "\\end{References}\n",
       "%\n",
       "\\begin{SeeAlso}\\relax\n",
       "\\code{\\LinkA{weighted.mean}{weighted.mean}}, \\code{\\LinkA{mean.POSIXct}{mean.POSIXct}},\n",
       "\\code{\\LinkA{colMeans}{colMeans}} for row and column means.\n",
       "\\end{SeeAlso}\n",
       "%\n",
       "\\begin{Examples}\n",
       "\\begin{ExampleCode}\n",
       "x <- c(0:10, 50)\n",
       "xm <- mean(x)\n",
       "c(xm, mean(x, trim = 0.10))\n",
       "\\end{ExampleCode}\n",
       "\\end{Examples}"
      ],
      "text/plain": [
       "mean                   package:base                    R Documentation\n",
       "\n",
       "_\bA_\br_\bi_\bt_\bh_\bm_\be_\bt_\bi_\bc _\bM_\be_\ba_\bn\n",
       "\n",
       "_\bD_\be_\bs_\bc_\br_\bi_\bp_\bt_\bi_\bo_\bn:\n",
       "\n",
       "     Generic function for the (trimmed) arithmetic mean.\n",
       "\n",
       "_\bU_\bs_\ba_\bg_\be:\n",
       "\n",
       "     mean(x, ...)\n",
       "     \n",
       "     ## Default S3 method:\n",
       "     mean(x, trim = 0, na.rm = FALSE, ...)\n",
       "     \n",
       "_\bA_\br_\bg_\bu_\bm_\be_\bn_\bt_\bs:\n",
       "\n",
       "       x: An R object.  Currently there are methods for numeric/logical\n",
       "          vectors and date, date-time and time interval objects.\n",
       "          Complex vectors are allowed for ‘trim = 0’, only.\n",
       "\n",
       "    trim: the fraction (0 to 0.5) of observations to be trimmed from\n",
       "          each end of ‘x’ before the mean is computed.  Values of trim\n",
       "          outside that range are taken as the nearest endpoint.\n",
       "\n",
       "   na.rm: a logical evaluating to ‘TRUE’ or ‘FALSE’ indicating whether\n",
       "          ‘NA’ values should be stripped before the computation\n",
       "          proceeds.\n",
       "\n",
       "     ...: further arguments passed to or from other methods.\n",
       "\n",
       "_\bV_\ba_\bl_\bu_\be:\n",
       "\n",
       "     If ‘trim’ is zero (the default), the arithmetic mean of the values\n",
       "     in ‘x’ is computed, as a numeric or complex vector of length one.\n",
       "     If ‘x’ is not logical (coerced to numeric), numeric (including\n",
       "     integer) or complex, ‘NA_real_’ is returned, with a warning.\n",
       "\n",
       "     If ‘trim’ is non-zero, a symmetrically trimmed mean is computed\n",
       "     with a fraction of ‘trim’ observations deleted from each end\n",
       "     before the mean is computed.\n",
       "\n",
       "_\bR_\be_\bf_\be_\br_\be_\bn_\bc_\be_\bs:\n",
       "\n",
       "     Becker, R. A., Chambers, J. M. and Wilks, A. R. (1988) _The New S\n",
       "     Language_.  Wadsworth & Brooks/Cole.\n",
       "\n",
       "_\bS_\be_\be _\bA_\bl_\bs_\bo:\n",
       "\n",
       "     ‘weighted.mean’, ‘mean.POSIXct’, ‘colMeans’ for row and column\n",
       "     means.\n",
       "\n",
       "_\bE_\bx_\ba_\bm_\bp_\bl_\be_\bs:\n",
       "\n",
       "     x <- c(0:10, 50)\n",
       "     xm <- mean(x)\n",
       "     c(xm, mean(x, trim = 0.10))\n",
       "     "
      ]
     },
     "metadata": {},
     "output_type": "display_data"
    }
   ],
   "source": [
    "?mean  # Help on the mean function\n",
    "help(sd)  # Help on the standard deviation function"
   ]
  },
  {
   "cell_type": "markdown",
   "id": "a7da5ce0-d99b-4dda-ab05-1f00c584657a",
   "metadata": {},
   "source": [
    "### <div class=\"alert alert-block alert-success\"> Data Structures in R </div>\n",
    "\n",
    "**Objective:** \n",
    "Introduce students to the primary data structures in R, including vectors, matrices, data frames, and lists."
   ]
  },
  {
   "cell_type": "markdown",
   "id": "9e456173-ceab-4dbe-a447-2ca861f23228",
   "metadata": {},
   "source": [
    "#### <div class=\"alert alert-block alert-success\"> 1. Vectors </div>\n",
    "   - Creating vectors using `c()`\n",
    "   - Accessing elements in a vector\n",
    "   - Vector operations (element-wise)\n",
    "   - Common functions applied to vectors (`sum()`, `mean()`, etc.)\n",
    "\n",
    "   *Example:*"
   ]
  },
  {
   "cell_type": "code",
   "execution_count": 14,
   "id": "25c23ed3-2bf8-4cd9-bb14-777926ef68e9",
   "metadata": {},
   "outputs": [
    {
     "data": {
      "text/html": [
       "1"
      ],
      "text/latex": [
       "1"
      ],
      "text/markdown": [
       "1"
      ],
      "text/plain": [
       "[1] 1"
      ]
     },
     "metadata": {},
     "output_type": "display_data"
    },
    {
     "data": {
      "text/html": [
       "<style>\n",
       ".list-inline {list-style: none; margin:0; padding: 0}\n",
       ".list-inline>li {display: inline-block}\n",
       ".list-inline>li:not(:last-child)::after {content: \"\\00b7\"; padding: 0 .5ex}\n",
       "</style>\n",
       "<ol class=list-inline><li>1</li><li>2</li><li>3</li></ol>\n"
      ],
      "text/latex": [
       "\\begin{enumerate*}\n",
       "\\item 1\n",
       "\\item 2\n",
       "\\item 3\n",
       "\\end{enumerate*}\n"
      ],
      "text/markdown": [
       "1. 1\n",
       "2. 2\n",
       "3. 3\n",
       "\n",
       "\n"
      ],
      "text/plain": [
       "[1] 1 2 3"
      ]
     },
     "metadata": {},
     "output_type": "display_data"
    },
    {
     "data": {
      "text/html": [
       "<style>\n",
       ".list-inline {list-style: none; margin:0; padding: 0}\n",
       ".list-inline>li {display: inline-block}\n",
       ".list-inline>li:not(:last-child)::after {content: \"\\00b7\"; padding: 0 .5ex}\n",
       "</style>\n",
       "<ol class=list-inline><li>3</li><li>4</li><li>5</li><li>6</li><li>7</li></ol>\n"
      ],
      "text/latex": [
       "\\begin{enumerate*}\n",
       "\\item 3\n",
       "\\item 4\n",
       "\\item 5\n",
       "\\item 6\n",
       "\\item 7\n",
       "\\end{enumerate*}\n"
      ],
      "text/markdown": [
       "1. 3\n",
       "2. 4\n",
       "3. 5\n",
       "4. 6\n",
       "5. 7\n",
       "\n",
       "\n"
      ],
      "text/plain": [
       "[1] 3 4 5 6 7"
      ]
     },
     "metadata": {},
     "output_type": "display_data"
    },
    {
     "data": {
      "text/html": [
       "<style>\n",
       ".list-inline {list-style: none; margin:0; padding: 0}\n",
       ".list-inline>li {display: inline-block}\n",
       ".list-inline>li:not(:last-child)::after {content: \"\\00b7\"; padding: 0 .5ex}\n",
       "</style>\n",
       "<ol class=list-inline><li>2</li><li>4</li><li>6</li><li>8</li><li>10</li></ol>\n"
      ],
      "text/latex": [
       "\\begin{enumerate*}\n",
       "\\item 2\n",
       "\\item 4\n",
       "\\item 6\n",
       "\\item 8\n",
       "\\item 10\n",
       "\\end{enumerate*}\n"
      ],
      "text/markdown": [
       "1. 2\n",
       "2. 4\n",
       "3. 6\n",
       "4. 8\n",
       "5. 10\n",
       "\n",
       "\n"
      ],
      "text/plain": [
       "[1]  2  4  6  8 10"
      ]
     },
     "metadata": {},
     "output_type": "display_data"
    },
    {
     "data": {
      "text/html": [
       "15"
      ],
      "text/latex": [
       "15"
      ],
      "text/markdown": [
       "15"
      ],
      "text/plain": [
       "[1] 15"
      ]
     },
     "metadata": {},
     "output_type": "display_data"
    },
    {
     "data": {
      "text/html": [
       "3"
      ],
      "text/latex": [
       "3"
      ],
      "text/markdown": [
       "3"
      ],
      "text/plain": [
       "[1] 3"
      ]
     },
     "metadata": {},
     "output_type": "display_data"
    }
   ],
   "source": [
    "# Creating a vector\n",
    "vec <- c(1, 2, 3, 4, 5)\n",
    "\n",
    "# Accessing elements\n",
    "vec[1]    # First element\n",
    "vec[1:3]  # First three elements\n",
    "\n",
    "# Vector operations\n",
    "vec + 2       # Adds 2 to each element\n",
    "vec * 2       # Multiplies each element by 2\n",
    "sum(vec)      # Sum of elements\n",
    "mean(vec)     # Mean of elements"
   ]
  },
  {
   "cell_type": "markdown",
   "id": "0f54ac18-6849-4a3a-8e02-ccb34f99184f",
   "metadata": {},
   "source": [
    "#### <div class=\"alert alert-block alert-success\"> 2. Matrices </div>\n",
    "   - Creating matrices using `matrix()`\n",
    "   - Accessing elements, rows, and columns\n",
    "   - Basic matrix operations (addition, multiplication)\n",
    "   \n",
    "   *Example:*"
   ]
  },
  {
   "cell_type": "code",
   "execution_count": 15,
   "id": "5a612195-20e3-4772-94a1-781311649488",
   "metadata": {},
   "outputs": [
    {
     "data": {
      "text/html": [
       "4"
      ],
      "text/latex": [
       "4"
      ],
      "text/markdown": [
       "4"
      ],
      "text/plain": [
       "[1] 4"
      ]
     },
     "metadata": {},
     "output_type": "display_data"
    },
    {
     "data": {
      "text/html": [
       "<style>\n",
       ".list-inline {list-style: none; margin:0; padding: 0}\n",
       ".list-inline>li {display: inline-block}\n",
       ".list-inline>li:not(:last-child)::after {content: \"\\00b7\"; padding: 0 .5ex}\n",
       "</style>\n",
       "<ol class=list-inline><li>1</li><li>2</li><li>3</li></ol>\n"
      ],
      "text/latex": [
       "\\begin{enumerate*}\n",
       "\\item 1\n",
       "\\item 2\n",
       "\\item 3\n",
       "\\end{enumerate*}\n"
      ],
      "text/markdown": [
       "1. 1\n",
       "2. 2\n",
       "3. 3\n",
       "\n",
       "\n"
      ],
      "text/plain": [
       "[1] 1 2 3"
      ]
     },
     "metadata": {},
     "output_type": "display_data"
    },
    {
     "data": {
      "text/html": [
       "<style>\n",
       ".list-inline {list-style: none; margin:0; padding: 0}\n",
       ".list-inline>li {display: inline-block}\n",
       ".list-inline>li:not(:last-child)::after {content: \"\\00b7\"; padding: 0 .5ex}\n",
       "</style>\n",
       "<ol class=list-inline><li>1</li><li>4</li><li>7</li></ol>\n"
      ],
      "text/latex": [
       "\\begin{enumerate*}\n",
       "\\item 1\n",
       "\\item 4\n",
       "\\item 7\n",
       "\\end{enumerate*}\n"
      ],
      "text/markdown": [
       "1. 1\n",
       "2. 4\n",
       "3. 7\n",
       "\n",
       "\n"
      ],
      "text/plain": [
       "[1] 1 4 7"
      ]
     },
     "metadata": {},
     "output_type": "display_data"
    },
    {
     "data": {
      "text/html": [
       "<table class=\"dataframe\">\n",
       "<caption>A matrix: 3 × 3 of type dbl</caption>\n",
       "<tbody>\n",
       "\t<tr><td>3</td><td>6</td><td> 9</td></tr>\n",
       "\t<tr><td>4</td><td>7</td><td>10</td></tr>\n",
       "\t<tr><td>5</td><td>8</td><td>11</td></tr>\n",
       "</tbody>\n",
       "</table>\n"
      ],
      "text/latex": [
       "A matrix: 3 × 3 of type dbl\n",
       "\\begin{tabular}{lll}\n",
       "\t 3 & 6 &  9\\\\\n",
       "\t 4 & 7 & 10\\\\\n",
       "\t 5 & 8 & 11\\\\\n",
       "\\end{tabular}\n"
      ],
      "text/markdown": [
       "\n",
       "A matrix: 3 × 3 of type dbl\n",
       "\n",
       "| 3 | 6 |  9 |\n",
       "| 4 | 7 | 10 |\n",
       "| 5 | 8 | 11 |\n",
       "\n"
      ],
      "text/plain": [
       "     [,1] [,2] [,3]\n",
       "[1,] 3    6     9  \n",
       "[2,] 4    7    10  \n",
       "[3,] 5    8    11  "
      ]
     },
     "metadata": {},
     "output_type": "display_data"
    },
    {
     "data": {
      "text/html": [
       "<table class=\"dataframe\">\n",
       "<caption>A matrix: 3 × 3 of type dbl</caption>\n",
       "<tbody>\n",
       "\t<tr><td>2</td><td> 8</td><td>14</td></tr>\n",
       "\t<tr><td>4</td><td>10</td><td>16</td></tr>\n",
       "\t<tr><td>6</td><td>12</td><td>18</td></tr>\n",
       "</tbody>\n",
       "</table>\n"
      ],
      "text/latex": [
       "A matrix: 3 × 3 of type dbl\n",
       "\\begin{tabular}{lll}\n",
       "\t 2 &  8 & 14\\\\\n",
       "\t 4 & 10 & 16\\\\\n",
       "\t 6 & 12 & 18\\\\\n",
       "\\end{tabular}\n"
      ],
      "text/markdown": [
       "\n",
       "A matrix: 3 × 3 of type dbl\n",
       "\n",
       "| 2 |  8 | 14 |\n",
       "| 4 | 10 | 16 |\n",
       "| 6 | 12 | 18 |\n",
       "\n"
      ],
      "text/plain": [
       "     [,1] [,2] [,3]\n",
       "[1,] 2     8   14  \n",
       "[2,] 4    10   16  \n",
       "[3,] 6    12   18  "
      ]
     },
     "metadata": {},
     "output_type": "display_data"
    },
    {
     "data": {
      "text/html": [
       "<table class=\"dataframe\">\n",
       "<caption>A matrix: 3 × 3 of type dbl</caption>\n",
       "<tbody>\n",
       "\t<tr><td>30</td><td>66</td><td>102</td></tr>\n",
       "\t<tr><td>36</td><td>81</td><td>126</td></tr>\n",
       "\t<tr><td>42</td><td>96</td><td>150</td></tr>\n",
       "</tbody>\n",
       "</table>\n"
      ],
      "text/latex": [
       "A matrix: 3 × 3 of type dbl\n",
       "\\begin{tabular}{lll}\n",
       "\t 30 & 66 & 102\\\\\n",
       "\t 36 & 81 & 126\\\\\n",
       "\t 42 & 96 & 150\\\\\n",
       "\\end{tabular}\n"
      ],
      "text/markdown": [
       "\n",
       "A matrix: 3 × 3 of type dbl\n",
       "\n",
       "| 30 | 66 | 102 |\n",
       "| 36 | 81 | 126 |\n",
       "| 42 | 96 | 150 |\n",
       "\n"
      ],
      "text/plain": [
       "     [,1] [,2] [,3]\n",
       "[1,] 30   66   102 \n",
       "[2,] 36   81   126 \n",
       "[3,] 42   96   150 "
      ]
     },
     "metadata": {},
     "output_type": "display_data"
    }
   ],
   "source": [
    "# Creating a matrix\n",
    "mat <- matrix(1:9, nrow=3, ncol=3)\n",
    "\n",
    "# Accessing elements\n",
    "mat[1, 2]     # Element in first row, second column\n",
    "mat[, 1]      # First column\n",
    "mat[1, ]      # First row\n",
    "\n",
    "# Matrix operations\n",
    "mat + 2       # Add 2 to each element\n",
    "mat * 2       # Multiply each element by 2\n",
    "mat %*% mat   # Matrix multiplication"
   ]
  },
  {
   "cell_type": "markdown",
   "id": "153a032b-7123-437a-a285-f630e3af988c",
   "metadata": {},
   "source": [
    "#### <div class=\"alert alert-block alert-success\"> 3. Data Frames </div>\n",
    "   - Creating data frames using `data.frame()`\n",
    "   - Accessing columns by name and position\n",
    "   - Adding and removing columns\n",
    "   \n",
    "   *Example:*"
   ]
  },
  {
   "cell_type": "code",
   "execution_count": 16,
   "id": "58f84806-662d-4974-b422-58f661aad13b",
   "metadata": {},
   "outputs": [
    {
     "data": {
      "text/html": [
       "<style>\n",
       ".list-inline {list-style: none; margin:0; padding: 0}\n",
       ".list-inline>li {display: inline-block}\n",
       ".list-inline>li:not(:last-child)::after {content: \"\\00b7\"; padding: 0 .5ex}\n",
       "</style>\n",
       "<ol class=list-inline><li>'Alice'</li><li>'Bob'</li><li>'Charlie'</li></ol>\n"
      ],
      "text/latex": [
       "\\begin{enumerate*}\n",
       "\\item 'Alice'\n",
       "\\item 'Bob'\n",
       "\\item 'Charlie'\n",
       "\\end{enumerate*}\n"
      ],
      "text/markdown": [
       "1. 'Alice'\n",
       "2. 'Bob'\n",
       "3. 'Charlie'\n",
       "\n",
       "\n"
      ],
      "text/plain": [
       "[1] \"Alice\"   \"Bob\"     \"Charlie\""
      ]
     },
     "metadata": {},
     "output_type": "display_data"
    },
    {
     "data": {
      "text/html": [
       "<style>\n",
       ".list-inline {list-style: none; margin:0; padding: 0}\n",
       ".list-inline>li {display: inline-block}\n",
       ".list-inline>li:not(:last-child)::after {content: \"\\00b7\"; padding: 0 .5ex}\n",
       "</style>\n",
       "<ol class=list-inline><li>25</li><li>30</li><li>35</li></ol>\n"
      ],
      "text/latex": [
       "\\begin{enumerate*}\n",
       "\\item 25\n",
       "\\item 30\n",
       "\\item 35\n",
       "\\end{enumerate*}\n"
      ],
      "text/markdown": [
       "1. 25\n",
       "2. 30\n",
       "3. 35\n",
       "\n",
       "\n"
      ],
      "text/plain": [
       "[1] 25 30 35"
      ]
     },
     "metadata": {},
     "output_type": "display_data"
    }
   ],
   "source": [
    "# Creating a data frame\n",
    "df <- data.frame(\n",
    "  Name = c(\"Alice\", \"Bob\", \"Charlie\"),\n",
    "  Age = c(25, 30, 35),\n",
    "  Height = c(5.5, 6.0, 5.8)\n",
    ")\n",
    "\n",
    "# Accessing columns\n",
    "df$Name     # Access by column name\n",
    "df[, 2]     # Access by column position\n",
    "\n",
    "# Adding a column\n",
    "df$Weight <- c(130, 150, 160)\n",
    "\n",
    "# Removing a column\n",
    "df$Height <- NULL"
   ]
  },
  {
   "cell_type": "markdown",
   "id": "d96eae67-079a-45cb-92ae-24340ebdd86f",
   "metadata": {},
   "source": [
    "#### <div class=\"alert alert-block alert-success\"> 4. Lists </div>\n",
    "   - Creating lists using `list()`\n",
    "   - Accessing elements in a list\n",
    "   - Lists containing different types of objects\n",
    "   \n",
    "   *Example:*"
   ]
  },
  {
   "cell_type": "code",
   "execution_count": 17,
   "id": "02c93dbd-2aed-4969-9717-8261febda49f",
   "metadata": {},
   "outputs": [
    {
     "data": {
      "text/html": [
       "'Alice'"
      ],
      "text/latex": [
       "'Alice'"
      ],
      "text/markdown": [
       "'Alice'"
      ],
      "text/plain": [
       "[1] \"Alice\""
      ]
     },
     "metadata": {},
     "output_type": "display_data"
    },
    {
     "data": {
      "text/html": [
       "25"
      ],
      "text/latex": [
       "25"
      ],
      "text/markdown": [
       "25"
      ],
      "text/plain": [
       "[1] 25"
      ]
     },
     "metadata": {},
     "output_type": "display_data"
    },
    {
     "data": {
      "text/html": [
       "90"
      ],
      "text/latex": [
       "90"
      ],
      "text/markdown": [
       "90"
      ],
      "text/plain": [
       "[1] 90"
      ]
     },
     "metadata": {},
     "output_type": "display_data"
    }
   ],
   "source": [
    "# Creating a list\n",
    "my_list <- list(\n",
    "  Name = \"Alice\",\n",
    "  Age = 25,\n",
    "  Scores = c(85, 90, 95)\n",
    ")\n",
    "\n",
    "# Accessing elements\n",
    "my_list$Name         # Access by name\n",
    "my_list[[2]]         # Access by position\n",
    "my_list$Scores[2]    # Accessing elements within a vector in a list"
   ]
  },
  {
   "cell_type": "markdown",
   "id": "ab8a8630-1727-49ee-a672-78f869efd836",
   "metadata": {},
   "source": [
    "#### <div class=\"alert alert-block alert-success\"> Lab Activity </div>\n",
    "\n",
    "1. **Interactive Coding Session:**\n",
    "   - Students will follow along with the instructor to practice basic operations, functions, and working with data structures in R.\n",
    "   - Instructor will provide additional examples and hands-on exercises.\n",
    "\n",
    "2. **Homework Assignment:**\n",
    "   - Students will be assigned exercises to reinforce their understanding of R basics and data structures.\n",
    "   - The assignment will include tasks such as creating vectors, matrices, data frames, and lists, performing basic operations, and using commonly used functions."
   ]
  },
  {
   "cell_type": "markdown",
   "id": "2009ddba-cb14-46f3-9045-82b43986e959",
   "metadata": {},
   "source": [
    "### <div class=\"alert alert-block alert-success\"> Reading and Writing Data in R </div>\n",
    "\n",
    "**Objective:** \n",
    "Introduce students to reading data from files and writing data to disk in R.\n",
    "\n",
    "#### <div class=\"alert alert-block alert-success\"> 1. Reading Data </div>\n",
    "   - Reading CSV files using `read.csv()`\n",
    "   - Reading Excel files using `readxl` package\n",
    "   - Reading data from text files using `read.table()`\n",
    "   \n",
    "   *Example:*"
   ]
  },
  {
   "cell_type": "code",
   "execution_count": null,
   "id": "85dabd57-5d4e-4fb7-92b5-33f0636eae23",
   "metadata": {
    "tags": []
   },
   "outputs": [
    {
     "name": "stderr",
     "output_type": "stream",
     "text": [
      "Warning message in file(file, \"rt\"):\n",
      "“cannot open file 'data/exit_poll.csv': No such file or directory”\n"
     ]
    },
    {
     "ename": "ERROR",
     "evalue": "Error in file(file, \"rt\"): cannot open the connection\n",
     "output_type": "error",
     "traceback": [
      "Error in file(file, \"rt\"): cannot open the connection\nTraceback:\n",
      "1. read.csv(\"data/exit_poll.csv\")",
      "2. read.table(file = file, header = header, sep = sep, quote = quote, \n .     dec = dec, fill = fill, comment.char = comment.char, ...)",
      "3. file(file, \"rt\")"
     ]
    }
   ],
   "source": [
    "# Reading a CSV file\n",
    "data <- read.csv(\"data/exit_poll.csv\")\n",
    "\n",
    "# Reading an Excel file\n",
    "# Install the readxl package if not already installed\n",
    "# install.packages(\"readxl\")\n",
    "library(readxl)\n",
    "data <- read_excel(\"data/exit_poll.xlsx\")\n",
    "\n",
    "# Reading a text file\n",
    "data <- read.table(\"data/exit_poll.txt\", header = TRUE)"
   ]
  },
  {
   "cell_type": "markdown",
   "id": "8dd4fe33-f04c-4100-b724-ba06da948c02",
   "metadata": {},
   "source": [
    "#### <div class=\"alert alert-block alert-success\"> 2. Writing Data </div>\n",
    "   - Writing CSV files using `write.csv()`\n",
    "   - Writing data to text files using `write.table()`\n",
    "      \n",
    "   *Example:*"
   ]
  },
  {
   "cell_type": "code",
   "execution_count": null,
   "id": "a4f45ae8-e47f-418a-89b1-b1bdcb94567f",
   "metadata": {
    "tags": []
   },
   "outputs": [],
   "source": [
    "# Writing a CSV file\n",
    "write.csv(data, \"data/exit_poll_output.csv\")\n",
    "\n",
    "# Writing a text file\n",
    "write.table(data, \"data/exit_poll_output.txt\", sep = \"\\t\")"
   ]
  },
  {
   "cell_type": "markdown",
   "id": "a2a1a8b6-2992-4c0c-a355-493ec74cdb46",
   "metadata": {
    "tags": []
   },
   "source": [
    "### <div class=\"alert alert-block alert-danger\"><b>Lab Discussion: Exit Poll for Presidential Election</b></div>"
   ]
  },
  {
   "cell_type": "markdown",
   "id": "c65bb9b2-aeee-48a2-91be-8fb7dd3d7cff",
   "metadata": {},
   "source": [
    "An exit poll was done at the 2020 Presidential Election for different areas of states. Take a look at the results for Alabama ([source](https://www.cnn.com/election/2020/exit-polls/president/alabama)). For the Birmingham/South Central area of Alabama, there were 336 respondents, and 56% said they voted for Biden.\n"
   ]
  },
  {
   "cell_type": "markdown",
   "id": "ee8dd78c-e052-45a9-8bcc-92dd70290ab6",
   "metadata": {},
   "source": [
    "**Objective:** \n",
    "Guide students on how to apply the concepts learned in the lab using a real-world example.\n",
    "\n",
    "1. **Performing Basic Operations:**\n",
    "  - Calculate the number of respondents who voted for Biden.\n",
    "  - Calculate the percentage of respondents who did not vote for Biden."
   ]
  },
  {
   "cell_type": "code",
   "execution_count": 20,
   "id": "7fbf9959-7531-4723-860b-bc4f1f1a8420",
   "metadata": {},
   "outputs": [
    {
     "data": {
      "text/html": [
       "188.16"
      ],
      "text/latex": [
       "188.16"
      ],
      "text/markdown": [
       "188.16"
      ],
      "text/plain": [
       "[1] 188.16"
      ]
     },
     "metadata": {},
     "output_type": "display_data"
    }
   ],
   "source": [
    "total_respondents <- 336\n",
    "voted_for_biden <- 0.56 * total_respondents\n",
    "voted_for_biden"
   ]
  },
  {
   "cell_type": "code",
   "execution_count": 21,
   "id": "1272f99d-1354-46fc-8f9c-d40ea361c3f5",
   "metadata": {},
   "outputs": [
    {
     "data": {
      "text/html": [
       "0.55952380952381"
      ],
      "text/latex": [
       "0.55952380952381"
      ],
      "text/markdown": [
       "0.55952380952381"
      ],
      "text/plain": [
       "[1] 0.5595238"
      ]
     },
     "metadata": {},
     "output_type": "display_data"
    }
   ],
   "source": [
    "188/336"
   ]
  },
  {
   "cell_type": "markdown",
   "id": "a6936171-3823-4a13-a07a-08ab49740d5e",
   "metadata": {},
   "source": [
    "### <div class=\"alert alert-block alert-danger\"><b>Practice in Birmingham</b></div> "
   ]
  },
  {
   "cell_type": "markdown",
   "id": "7fd81389-f207-4972-af7a-b1af75a2b3de",
   "metadata": {
    "tags": []
   },
   "source": [
    "**Question 1:** How many respondents voted for Trump if the total respondents are 336 and 56% voted for Biden?\n",
    "\n",
    "**Question 2:** Calculate the percentage of respondents who voted for Trump.\n",
    "\n",
    "**Question 3:** If 10 more respondents had voted for Biden, what would the new percentage of Biden voters be?\n",
    "\n",
    "   *Hints:*\n",
    "   - Use basic arithmetic operations to calculate the answers.\n",
    "   - Use logical and comparison operators to verify your results.\n",
    "   - Consider what happens to the percentages if the total number of respondents changes.\n",
    "\n",
    "**Question 4:** The data from the exit poll includes personal and potentially sensitive information regarding political choices. Based on the ethical considerations learned in Chapter 2, discuss the following:\n",
    "    \n",
    "   1. How should the data from this exit poll be treated to ensure the confidentiality of the respondents?\n",
    "   2. What steps should the researchers take to obtain informed consent from participants in this type of study?\n",
    "   3. Considering the public nature of exit polls, is it enough to keep the data confidential, or should researchers also strive to make the data anonymous? Explain why or why not.\n",
    "\n",
    "**Submission:**\n",
    "\n",
    "   - Write your code in a separate script (.ipynb) and print it as a PDF or HTML file to submit the results on course Canvas website.\n",
    "    \n",
    "    \n"
   ]
  },
  {
   "cell_type": "code",
   "execution_count": null,
   "id": "59ee1a2a-5f35-4438-a668-7a2b9f601923",
   "metadata": {},
   "outputs": [],
   "source": []
  }
 ],
 "metadata": {
  "kernelspec": {
   "display_name": "R",
   "language": "R",
   "name": "ir"
  },
  "language_info": {
   "codemirror_mode": "r",
   "file_extension": ".r",
   "mimetype": "text/x-r-source",
   "name": "R",
   "pygments_lexer": "r",
   "version": "4.2.2"
  }
 },
 "nbformat": 4,
 "nbformat_minor": 5
}
