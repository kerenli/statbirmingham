{
 "cells": [
  {
   "cell_type": "markdown",
   "id": "c9d9b548-d13b-474e-b4c7-560cc0cc8984",
   "metadata": {
    "tags": []
   },
   "source": [
    "## Lab 3: R in Probability and Distributions\n",
    "#### MA 189 Data Dive Into Birmingham (with R)\n",
    "##### _Blazer Core: City as Classroom_\n",
    "\n",
    "Course Website: [Github.com/kerenli/statbirmingham/](https://github.com/kerenli/statbirmingham/) (to be published)\n"
   ]
  },
  {
   "cell_type": "markdown",
   "id": "bdb8fe6d-44b0-4ca7-8c88-91109d476fce",
   "metadata": {
    "tags": []
   },
   "source": [
    "#### Levels:\n",
    "<div class=\"alert-success\"> Concepts and general information</div>\n",
    "<div class=\"alert-warning\"> Important methods and technique details </div>\n",
    "<div class=\"alert-info\"> Extended reading </div>\n",
    "<div class=\"alert-danger\"> (Local) Examples, assignments, and <b>Practice in Birmingham</b> </div>"
   ]
  },
  {
   "cell_type": "markdown",
   "id": "fbf228bb-ce89-4297-9022-926516594a29",
   "metadata": {},
   "source": [
    "### <div class=\"alert alert-block alert-success\"> Lab 3: R in Probability and Distributions </div>\n",
    "\n",
    "In this lab, we will work with probability and distribution concepts using R. We will cover calculating probabilities for different events, explore basic probability distributions, and visualize them using R.\n",
    "\n",
    "---"
   ]
  },
  {
   "cell_type": "markdown",
   "id": "8b62216d-c336-41f3-8e39-534c8642f79a",
   "metadata": {},
   "source": [
    "### <div class=\"alert alert-block alert-danger\"><b>Example</b>: Alabama Home Values</div>\n",
    "\n",
    "In April 2024, the average home value in Alabama was \\\\$228,241, with a standard deviation of \\\\$20,000. Assume the dataset follows a normal distribution. Let’s calculate probabilities and visualize this data.\n",
    "\n",
    "**Question 1:** What percentage of homes are worth more than \\\\$250,000?\n",
    "\n",
    "**Step 1: Calculate the probability of a home being worth more than \\\\$250,000**\n"
   ]
  },
  {
   "cell_type": "code",
   "execution_count": 2,
   "id": "eef7a884-d93e-4395-a812-826e2066e2f9",
   "metadata": {},
   "outputs": [
    {
     "data": {
      "text/html": [
       "0.138308590616998"
      ],
      "text/latex": [
       "0.138308590616998"
      ],
      "text/markdown": [
       "0.138308590616998"
      ],
      "text/plain": [
       "[1] 0.1383086"
      ]
     },
     "metadata": {},
     "output_type": "display_data"
    }
   ],
   "source": [
    "# Define the mean and standard deviation for home values\n",
    "mean_home_value <- 228241\n",
    "sd_home_value <- 20000\n",
    "\n",
    "# Calculate the probability of a home being worth more than $250,000\n",
    "P_more_than_250k <- 1 - pnorm(250000, mean = mean_home_value, sd = sd_home_value)\n",
    "P_more_than_250k  # This gives the percentage of homes worth more than $250,000\n"
   ]
  },
  {
   "cell_type": "markdown",
   "id": "00afeb4f-f2b8-4093-bb47-94f0d6c6ac28",
   "metadata": {},
   "source": [
    "**Question 2:** What is the probability of a home value being between \\\\$200,000 and \\\\$250,000?\n",
    "\n",
    "**Step 2: Calculate the probability of a home value being in a certain range**\n"
   ]
  },
  {
   "cell_type": "code",
   "execution_count": 3,
   "id": "7ff48a5a-5d8e-48d8-810d-3087609fec2d",
   "metadata": {},
   "outputs": [
    {
     "data": {
      "text/html": [
       "0.782723789654733"
      ],
      "text/latex": [
       "0.782723789654733"
      ],
      "text/markdown": [
       "0.782723789654733"
      ],
      "text/plain": [
       "[1] 0.7827238"
      ]
     },
     "metadata": {},
     "output_type": "display_data"
    }
   ],
   "source": [
    "# Calculate the probability of a home value between $200,000 and $250,000\n",
    "P_between_200k_250k <- pnorm(250000, mean = mean_home_value, sd = sd_home_value) - pnorm(200000, mean = mean_home_value, sd = sd_home_value)\n",
    "P_between_200k_250k  # This gives the probability of home value falling in this range"
   ]
  },
  {
   "cell_type": "markdown",
   "id": "7ee176f3-51d0-40ef-9b88-43e2562ab7ee",
   "metadata": {},
   "source": [
    "**Question 3:** Find the minimum home value for the top 10% of homes.\n",
    "\n",
    "**Step 3: Calculate the value corresponding to the 90th percentile of home values**\n"
   ]
  },
  {
   "cell_type": "code",
   "execution_count": 4,
   "id": "7b2ac8ac-3617-4809-b81a-0df06ff1b44d",
   "metadata": {},
   "outputs": [
    {
     "data": {
      "text/html": [
       "253872.031310892"
      ],
      "text/latex": [
       "253872.031310892"
      ],
      "text/markdown": [
       "253872.031310892"
      ],
      "text/plain": [
       "[1] 253872"
      ]
     },
     "metadata": {},
     "output_type": "display_data"
    }
   ],
   "source": [
    "# Calculate the 90th percentile value (top 10% of home values)\n",
    "top_10_percent_value <- qnorm(0.90, mean = mean_home_value, sd = sd_home_value)\n",
    "top_10_percent_value  # This is the minimum value for the top 10% of homes"
   ]
  },
  {
   "cell_type": "markdown",
   "id": "f14ca024-7acb-46c0-8966-d804475e6f73",
   "metadata": {},
   "source": [
    "---\n",
    "### <div class=\"alert alert-block alert-danger\"><b>Example</b>: ACT Scores for Incoming Students at UAB</div>\n",
    "\n",
    "Recall the information from the lecture regarding ACT scores being normally distributed. Assume an average national ACT score of 20.8 with a standard deviation of 5.8.\n",
    "\n",
    "**Question 4:** A student earns an ACT score of 26.5 to improve their chances of UAB scholarships. What percentile are they in?\n"
   ]
  },
  {
   "cell_type": "code",
   "execution_count": 5,
   "id": "d00858f5-d838-4c7d-8ebb-4f20f78730ad",
   "metadata": {},
   "outputs": [
    {
     "data": {
      "text/html": [
       "0.837136874079911"
      ],
      "text/latex": [
       "0.837136874079911"
      ],
      "text/markdown": [
       "0.837136874079911"
      ],
      "text/plain": [
       "[1] 0.8371369"
      ]
     },
     "metadata": {},
     "output_type": "display_data"
    }
   ],
   "source": [
    "# Define the mean and standard deviation for ACT scores\n",
    "mean_ACT <- 20.8\n",
    "sd_ACT <- 5.8\n",
    "\n",
    "# Calculate the percentile for a score of 26.5\n",
    "percentile_26_5 <- pnorm(26.5, mean = mean_ACT, sd = sd_ACT)\n",
    "percentile_26_5  # This gives the percentile rank of the student"
   ]
  },
  {
   "cell_type": "markdown",
   "id": "4bc2dbd6-16c9-4447-a133-0b73d885585f",
   "metadata": {},
   "source": [
    "**Question 5:** What percentile would a student earning the average Alabama ACT score of 18 be in?"
   ]
  },
  {
   "cell_type": "code",
   "execution_count": 6,
   "id": "8a37edb3-f3da-4898-855a-00a9bca498d6",
   "metadata": {},
   "outputs": [
    {
     "data": {
      "text/html": [
       "0.314633567427041"
      ],
      "text/latex": [
       "0.314633567427041"
      ],
      "text/markdown": [
       "0.314633567427041"
      ],
      "text/plain": [
       "[1] 0.3146336"
      ]
     },
     "metadata": {},
     "output_type": "display_data"
    }
   ],
   "source": [
    "# Calculate the percentile for a score of 18 (Alabama's average ACT score)\n",
    "percentile_18 <- pnorm(18, mean = mean_ACT, sd = sd_ACT)\n",
    "percentile_18  # This gives the percentile rank of a student with an ACT score of 18"
   ]
  },
  {
   "cell_type": "code",
   "execution_count": null,
   "id": "1001b355-b98d-4c24-86fe-7353f30b8a7d",
   "metadata": {},
   "outputs": [],
   "source": []
  },
  {
   "cell_type": "markdown",
   "id": "eb2b9d1a-9666-4ee9-933b-0c2f8a270345",
   "metadata": {},
   "source": [
    "**Question 6:** What ACT scores make up the middle 68% of the normal distribution?\n",
    "\n",
    "**Step 4: Calculate the range for the middle 68% using 1 standard deviation from the mean**"
   ]
  },
  {
   "cell_type": "code",
   "execution_count": 7,
   "id": "a28d31d2-e044-423a-a282-e31a1eea61a1",
   "metadata": {},
   "outputs": [
    {
     "data": {
      "text/html": [
       "<style>\n",
       ".list-inline {list-style: none; margin:0; padding: 0}\n",
       ".list-inline>li {display: inline-block}\n",
       ".list-inline>li:not(:last-child)::after {content: \"\\00b7\"; padding: 0 .5ex}\n",
       "</style>\n",
       "<ol class=list-inline><li>15</li><li>26.6</li></ol>\n"
      ],
      "text/latex": [
       "\\begin{enumerate*}\n",
       "\\item 15\n",
       "\\item 26.6\n",
       "\\end{enumerate*}\n"
      ],
      "text/markdown": [
       "1. 15\n",
       "2. 26.6\n",
       "\n",
       "\n"
      ],
      "text/plain": [
       "[1] 15.0 26.6"
      ]
     },
     "metadata": {},
     "output_type": "display_data"
    }
   ],
   "source": [
    "# Calculate the lower and upper bounds of the middle 68% (within 1 standard deviation)\n",
    "lower_bound <- mean_ACT - sd_ACT\n",
    "upper_bound <- mean_ACT + sd_ACT\n",
    "c(lower_bound, upper_bound)  # This gives the range of ACT scores for the middle 68%"
   ]
  },
  {
   "cell_type": "markdown",
   "id": "df4ecc04-e276-4a85-883f-a1064406ef2a",
   "metadata": {},
   "source": [
    "**Question 7:** A student scores 29 on their ACT. What percentile are they in?"
   ]
  },
  {
   "cell_type": "code",
   "execution_count": null,
   "id": "09f6f19b-8fb7-4de5-a422-bb342af8b708",
   "metadata": {},
   "outputs": [],
   "source": []
  },
  {
   "cell_type": "markdown",
   "id": "2d220be7-cd14-4b75-8665-12975cbe9679",
   "metadata": {},
   "source": [
    "**Question 8:** In April 2024, the average teacher salary in Alabama was \\\\$53,572 with a standard deviation of \\\\$10,000. Assuming salaries follow a normal distribution:\n",
    "- What percentage of teachers earn more than $60,000?\n",
    "- What is the probability that a teacher’s salary is between \\\\$50,000 and \\\\$60,000?"
   ]
  },
  {
   "cell_type": "code",
   "execution_count": null,
   "id": "9f813643-9487-4890-be09-53a3df9f473a",
   "metadata": {},
   "outputs": [],
   "source": []
  },
  {
   "cell_type": "markdown",
   "id": "d9717617-a96d-4e30-aaba-5bd78cf9f877",
   "metadata": {},
   "source": [
    "*Hints:*\n",
    "- Use `pnorm()` to calculate the probabilities for normal distributions.\n",
    "- Use `qnorm()` to find the percentile ranks."
   ]
  },
  {
   "cell_type": "markdown",
   "id": "0eb346d7-d728-41df-b2f5-023b3819a85f",
   "metadata": {},
   "source": [
    "---"
   ]
  },
  {
   "cell_type": "markdown",
   "id": "b2139c3a-59db-42c7-8d5f-d6849fe3271f",
   "metadata": {},
   "source": [
    "### <div class=\"alert alert-block alert-danger\"><b>Practice in Birmingham</b></div>\n",
    "\n",
    "Consider the data set provided by Alabama Power Company. Alabama Power’s incremental cost of generating electricity is monitored using the **system marginal cost**, also known as **system lambda**. Lambda represents the incremental cost of generating one more unit (megawatt-hour) of electricity. In a typical year (non-leap year), there are **8760 hours**; thus, this industry often refers to the “**8760 lambdas**.” As a general rule, generating units that run to help meet peak energy usage on the system are incrementally more expensive to run than baseload plants (those plants that run in both peak and off-peak times).\n",
    "\n",
    "**Data**: Use the **Lambdas and RTP Customer Loads** excel data set for analysis.\n",
    "\n",
    "#### Questions:\n",
    "**Question 1**: Calculate what the average cost was (in dollars per megawatt-hour) for generating electricity from **12am-1am** in the year 2020. What about from **6am-7am** in 2020? What conclusion might you make from this comparison?\n",
    "\n",
    "*Hints:*\n",
    "- Use the lambda values in the excel dataset for the given times.\n",
    "- Use R functions such as `mean()` to calculate the averages for the specific time ranges.\n",
    "\n",
    "**Question 2**: Calculate the **average lambda value** for all of 2020. Then, determine the **quartiles** for the lambda data in 2020.\n",
    "\n",
    "*Hints:*\n",
    "- Use `summary()` to get the summary statistics, including the quartiles of the data.\n",
    "- Visualize the quartiles using box plots to understand the distribution of the lambda values."
   ]
  },
  {
   "cell_type": "markdown",
   "id": "f1276609-66f3-42b3-b38e-aa2ce8271743",
   "metadata": {},
   "source": [
    "---\n",
    "### Example R Code for Data Import and Analysis:"
   ]
  },
  {
   "cell_type": "code",
   "execution_count": 10,
   "id": "810102f8-cf12-42c0-9e74-129a642cd5e8",
   "metadata": {},
   "outputs": [],
   "source": [
    "# Install and load the readxl package if not already installed\n",
    "if (!require(readxl)) {\n",
    "  install.packages(\"readxl\")\n",
    "  library(readxl)\n",
    "}"
   ]
  },
  {
   "cell_type": "code",
   "execution_count": 14,
   "id": "b31314c0-aa47-4b6f-a86d-dad82aad97bf",
   "metadata": {},
   "outputs": [],
   "source": [
    "# Load the data from the file\n",
    "lambda_data <- read_excel(\"data/Lambdas and RTP Customer Loads.xlsx\", skip = 2)"
   ]
  },
  {
   "cell_type": "code",
   "execution_count": 15,
   "id": "431aec4b-3101-4b22-95d0-b1dd4090f152",
   "metadata": {},
   "outputs": [
    {
     "data": {
      "text/html": [
       "<table class=\"dataframe\">\n",
       "<caption>A tibble: 365 × 26</caption>\n",
       "<thead>\n",
       "\t<tr><th scope=col>date_val</th><th scope=col>timezone</th><th scope=col>hour01</th><th scope=col>hour02</th><th scope=col>hour03</th><th scope=col>hour04</th><th scope=col>hour05</th><th scope=col>hour06</th><th scope=col>hour07</th><th scope=col>hour08</th><th scope=col>⋯</th><th scope=col>hour15</th><th scope=col>hour16</th><th scope=col>hour17</th><th scope=col>hour18</th><th scope=col>hour19</th><th scope=col>hour20</th><th scope=col>hour21</th><th scope=col>hour22</th><th scope=col>hour23</th><th scope=col>hour24</th></tr>\n",
       "\t<tr><th scope=col>&lt;dttm&gt;</th><th scope=col>&lt;chr&gt;</th><th scope=col>&lt;dbl&gt;</th><th scope=col>&lt;dbl&gt;</th><th scope=col>&lt;dbl&gt;</th><th scope=col>&lt;dbl&gt;</th><th scope=col>&lt;dbl&gt;</th><th scope=col>&lt;dbl&gt;</th><th scope=col>&lt;dbl&gt;</th><th scope=col>&lt;dbl&gt;</th><th scope=col>⋯</th><th scope=col>&lt;dbl&gt;</th><th scope=col>&lt;dbl&gt;</th><th scope=col>&lt;dbl&gt;</th><th scope=col>&lt;dbl&gt;</th><th scope=col>&lt;dbl&gt;</th><th scope=col>&lt;dbl&gt;</th><th scope=col>&lt;dbl&gt;</th><th scope=col>&lt;dbl&gt;</th><th scope=col>&lt;dbl&gt;</th><th scope=col>&lt;dbl&gt;</th></tr>\n",
       "</thead>\n",
       "<tbody>\n",
       "\t<tr><td>2018-01-01</td><td>CPT</td><td> 26.935</td><td> 28.190</td><td> 33.558</td><td> 34.005</td><td> 36.075</td><td> 35.430</td><td> 41.828</td><td> 35.3470</td><td>⋯</td><td>36.296</td><td> 33.8530</td><td> 39.0320</td><td>205.5950</td><td>294.030</td><td>294.030</td><td>294.0300</td><td>294.0300</td><td>203.640</td><td>203.640</td></tr>\n",
       "\t<tr><td>2018-01-02</td><td>CPT</td><td>203.640</td><td>203.640</td><td>203.640</td><td>203.640</td><td>294.030</td><td>294.030</td><td>339.740</td><td>339.7400</td><td>⋯</td><td>37.798</td><td> 34.4520</td><td>294.0300</td><td>294.0300</td><td>294.030</td><td>294.030</td><td>294.0300</td><td>339.7400</td><td>339.740</td><td>339.740</td></tr>\n",
       "\t<tr><td>2018-01-03</td><td>CPT</td><td>339.740</td><td>255.060</td><td>255.060</td><td>255.060</td><td>294.030</td><td>294.030</td><td>294.030</td><td>294.0300</td><td>⋯</td><td>36.962</td><td> 38.4570</td><td> 34.4070</td><td>228.9300</td><td>228.930</td><td>228.930</td><td>228.9300</td><td>228.9300</td><td>228.930</td><td> 37.042</td></tr>\n",
       "\t<tr><td>2018-01-04</td><td>CPT</td><td> 33.399</td><td> 36.591</td><td> 41.662</td><td>313.310</td><td>329.260</td><td>329.260</td><td>329.260</td><td>380.3357</td><td>⋯</td><td>37.872</td><td> 41.0610</td><td>331.5950</td><td>419.8940</td><td>424.110</td><td>454.860</td><td>454.8600</td><td>529.5180</td><td>519.966</td><td>454.860</td></tr>\n",
       "\t<tr><td>2018-01-05</td><td>CPT</td><td>520.001</td><td>454.860</td><td>454.860</td><td>520.057</td><td>530.605</td><td>530.729</td><td>530.729</td><td>454.8600</td><td>⋯</td><td>33.930</td><td> 34.3460</td><td> 46.2920</td><td>168.1890</td><td> 41.057</td><td> 43.341</td><td> 46.6370</td><td>418.6100</td><td>418.610</td><td>203.980</td></tr>\n",
       "\t<tr><td>2018-01-06</td><td>CPT</td><td>203.980</td><td>203.980</td><td>203.980</td><td>208.710</td><td>418.610</td><td>418.610</td><td>418.610</td><td>418.6100</td><td>⋯</td><td>36.791</td><td>252.9413</td><td>159.0917</td><td>159.6169</td><td>205.650</td><td>205.650</td><td>205.6500</td><td>205.6500</td><td>205.650</td><td>244.040</td></tr>\n",
       "\t<tr><td>2018-01-07</td><td>CPT</td><td>244.040</td><td>244.040</td><td>201.930</td><td>257.140</td><td>201.930</td><td>201.930</td><td>201.930</td><td>350.7882</td><td>⋯</td><td>37.583</td><td> 39.3140</td><td>365.3110</td><td> 45.6890</td><td>201.930</td><td>201.930</td><td>176.6292</td><td>166.0164</td><td> 33.969</td><td> 32.644</td></tr>\n",
       "\t<tr><td>2018-01-08</td><td>CPT</td><td> 27.660</td><td> 29.015</td><td> 28.143</td><td> 28.739</td><td> 32.343</td><td> 48.091</td><td>204.220</td><td>205.6500</td><td>⋯</td><td>33.140</td><td> 32.8330</td><td> 31.5260</td><td> 33.4950</td><td> 33.601</td><td> 31.680</td><td> 29.9410</td><td> 27.9280</td><td> 25.998</td><td> 21.320</td></tr>\n",
       "\t<tr><td>2018-01-09</td><td>CPT</td><td> 21.029</td><td> 19.629</td><td> 20.035</td><td> 20.111</td><td> 22.414</td><td> 27.702</td><td> 31.594</td><td> 27.4020</td><td>⋯</td><td>19.993</td><td> 19.9950</td><td> 20.1380</td><td> 20.1780</td><td> 20.182</td><td> 20.058</td><td> 19.7810</td><td> 19.1870</td><td> 18.936</td><td> 19.211</td></tr>\n",
       "\t<tr><td>2018-01-10</td><td>CPT</td><td> 18.536</td><td> 18.248</td><td> 18.816</td><td> 19.403</td><td> 19.766</td><td> 22.206</td><td> 24.995</td><td> 20.8340</td><td>⋯</td><td>19.887</td><td> 19.9040</td><td> 20.3640</td><td> 23.0510</td><td> 20.847</td><td> 20.489</td><td> 21.0850</td><td> 20.0220</td><td> 19.777</td><td> 19.859</td></tr>\n",
       "\t<tr><td>2018-01-11</td><td>CPT</td><td> 18.629</td><td> 19.223</td><td> 19.359</td><td> 19.635</td><td> 21.184</td><td> 22.895</td><td> 25.687</td><td> 21.7080</td><td>⋯</td><td>22.062</td><td> 22.3420</td><td> 26.3120</td><td> 27.1730</td><td> 25.245</td><td> 20.866</td><td> 21.3440</td><td> 21.6140</td><td> 20.604</td><td> 20.454</td></tr>\n",
       "\t<tr><td>2018-01-12</td><td>CPT</td><td> 19.147</td><td> 20.171</td><td> 19.673</td><td> 20.045</td><td> 20.714</td><td> 24.779</td><td> 26.236</td><td> 25.9510</td><td>⋯</td><td>26.332</td><td> 24.8650</td><td> 27.2610</td><td> 28.6520</td><td> 27.968</td><td> 28.717</td><td> 28.9270</td><td> 32.7460</td><td> 33.183</td><td> 29.981</td></tr>\n",
       "\t<tr><td>2018-01-13</td><td>CPT</td><td> 29.352</td><td> 30.106</td><td> 32.739</td><td> 33.823</td><td> 35.351</td><td> 34.902</td><td> 33.835</td><td> 34.7400</td><td>⋯</td><td>31.911</td><td> 32.0340</td><td> 35.7890</td><td> 40.0880</td><td> 43.429</td><td> 38.763</td><td> 42.3270</td><td> 63.2190</td><td>178.061</td><td>176.683</td></tr>\n",
       "\t<tr><td>2018-01-14</td><td>CPT</td><td>162.411</td><td>178.688</td><td>178.426</td><td>201.259</td><td>201.401</td><td>200.485</td><td>188.344</td><td>190.4440</td><td>⋯</td><td>27.391</td><td> 26.5010</td><td> 28.5150</td><td> 35.8970</td><td> 36.402</td><td> 38.214</td><td> 33.6890</td><td> 35.2410</td><td> 36.333</td><td> 35.286</td></tr>\n",
       "\t<tr><td>2018-01-15</td><td>CPT</td><td> 30.944</td><td> 31.965</td><td> 28.727</td><td> 30.260</td><td> 31.456</td><td> 35.350</td><td> 39.565</td><td> 36.6500</td><td>⋯</td><td>26.627</td><td> 26.9820</td><td> 29.3440</td><td> 34.9940</td><td> 35.054</td><td> 36.314</td><td> 33.8420</td><td> 33.4080</td><td> 34.335</td><td> 31.515</td></tr>\n",
       "\t<tr><td>2018-01-16</td><td>CPT</td><td> 34.628</td><td> 34.228</td><td> 35.392</td><td> 37.290</td><td> 31.197</td><td> 34.632</td><td> 36.869</td><td> 37.8990</td><td>⋯</td><td>33.202</td><td> 35.7490</td><td> 40.6680</td><td>202.8160</td><td> 38.906</td><td> 37.088</td><td> 38.2520</td><td> 35.5090</td><td> 34.281</td><td> 37.605</td></tr>\n",
       "\t<tr><td>2018-01-17</td><td>CPT</td><td> 33.457</td><td> 34.365</td><td> 33.934</td><td> 31.180</td><td>172.470</td><td>208.540</td><td>346.060</td><td>346.0600</td><td>⋯</td><td>44.798</td><td> 43.4650</td><td>259.4400</td><td>347.7700</td><td>347.770</td><td>347.770</td><td>347.7700</td><td>347.7700</td><td>259.440</td><td>259.440</td></tr>\n",
       "\t<tr><td>2018-01-18</td><td>CPT</td><td>259.440</td><td>259.440</td><td>259.440</td><td>260.930</td><td>347.770</td><td>347.770</td><td>347.770</td><td>347.7700</td><td>⋯</td><td>29.039</td><td> 29.5230</td><td> 37.6320</td><td> 38.1100</td><td> 38.094</td><td> 35.596</td><td> 35.8930</td><td> 35.6530</td><td> 30.770</td><td> 29.106</td></tr>\n",
       "\t<tr><td>2018-01-19</td><td>CPT</td><td> 29.073</td><td> 34.833</td><td> 35.721</td><td> 35.860</td><td> 45.128</td><td>104.211</td><td>175.287</td><td>270.7642</td><td>⋯</td><td>22.426</td><td> 22.5700</td><td> 24.7870</td><td> 24.3080</td><td> 24.812</td><td> 25.739</td><td> 26.4810</td><td> 26.3750</td><td> 26.530</td><td> 24.833</td></tr>\n",
       "\t<tr><td>2018-01-20</td><td>CPT</td><td> 22.972</td><td> 22.779</td><td> 24.180</td><td> 25.095</td><td> 25.670</td><td> 26.009</td><td> 27.617</td><td> 26.5980</td><td>⋯</td><td>19.272</td><td> 20.0740</td><td> 21.6370</td><td> 23.6570</td><td> 22.444</td><td> 22.404</td><td> 22.3840</td><td> 21.8910</td><td> 21.518</td><td> 21.506</td></tr>\n",
       "\t<tr><td>2018-01-21</td><td>CPT</td><td> 21.591</td><td> 21.228</td><td> 21.757</td><td> 22.145</td><td> 25.128</td><td> 24.762</td><td> 27.252</td><td> 26.4400</td><td>⋯</td><td>21.328</td><td> 22.3210</td><td> 27.0810</td><td> 28.5520</td><td> 29.438</td><td> 27.434</td><td> 25.7210</td><td> 23.0480</td><td> 22.079</td><td> 21.601</td></tr>\n",
       "\t<tr><td>2018-01-22</td><td>CPT</td><td> 20.743</td><td> 20.731</td><td> 21.754</td><td> 22.516</td><td> 25.485</td><td> 24.821</td><td> 27.184</td><td> 26.0580</td><td>⋯</td><td>23.853</td><td> 22.4990</td><td> 24.9620</td><td> 27.5610</td><td> 27.243</td><td> 27.704</td><td> 27.9020</td><td> 23.7850</td><td> 22.823</td><td> 21.788</td></tr>\n",
       "\t<tr><td>2018-01-23</td><td>CPT</td><td> 20.571</td><td> 19.680</td><td> 19.422</td><td> 20.998</td><td> 22.093</td><td> 28.130</td><td> 27.506</td><td> 28.5370</td><td>⋯</td><td>20.740</td><td> 21.0490</td><td> 22.5090</td><td> 28.4870</td><td> 28.225</td><td> 30.544</td><td> 29.4340</td><td> 29.9790</td><td> 25.690</td><td> 22.483</td></tr>\n",
       "\t<tr><td>2018-01-24</td><td>CPT</td><td> 22.210</td><td> 22.202</td><td> 23.460</td><td> 27.842</td><td> 32.481</td><td> 35.771</td><td> 35.314</td><td> 34.7660</td><td>⋯</td><td>23.500</td><td> 24.7980</td><td> 25.6460</td><td> 28.2310</td><td> 30.588</td><td> 33.350</td><td> 33.0440</td><td> 29.7270</td><td> 28.262</td><td> 26.741</td></tr>\n",
       "\t<tr><td>2018-01-25</td><td>CPT</td><td> 25.406</td><td> 26.201</td><td> 27.782</td><td> 28.163</td><td> 29.386</td><td> 34.812</td><td> 46.747</td><td> 40.2290</td><td>⋯</td><td>23.540</td><td> 23.9140</td><td> 26.6280</td><td> 29.6110</td><td> 29.253</td><td> 28.590</td><td> 34.6410</td><td> 29.9660</td><td> 27.697</td><td> 25.734</td></tr>\n",
       "\t<tr><td>2018-01-26</td><td>CPT</td><td> 25.203</td><td> 27.655</td><td> 28.338</td><td> 29.739</td><td> 32.760</td><td> 39.928</td><td> 54.468</td><td> 42.9960</td><td>⋯</td><td>24.076</td><td> 23.3110</td><td> 24.7640</td><td> 26.9270</td><td> 27.050</td><td> 27.405</td><td> 27.0940</td><td> 26.9130</td><td> 28.224</td><td> 27.214</td></tr>\n",
       "\t<tr><td>2018-01-27</td><td>CPT</td><td> 25.627</td><td> 24.387</td><td> 23.746</td><td> 23.750</td><td> 23.780</td><td> 24.712</td><td> 26.756</td><td> 26.2010</td><td>⋯</td><td>24.438</td><td> 25.8670</td><td> 27.2410</td><td> 28.2490</td><td> 28.318</td><td> 27.377</td><td> 25.6020</td><td> 24.9470</td><td> 23.060</td><td> 23.049</td></tr>\n",
       "\t<tr><td>2018-01-28</td><td>CPT</td><td> 22.660</td><td> 19.166</td><td> 19.027</td><td> 19.115</td><td> 19.087</td><td> 19.406</td><td> 21.698</td><td> 22.4930</td><td>⋯</td><td>23.618</td><td> 26.2440</td><td> 27.4690</td><td> 27.6830</td><td> 26.428</td><td> 26.015</td><td> 24.2310</td><td> 23.9130</td><td> 22.560</td><td> 21.241</td></tr>\n",
       "\t<tr><td>2018-01-29</td><td>CPT</td><td> 19.380</td><td> 19.273</td><td> 19.129</td><td> 21.434</td><td> 23.028</td><td> 25.764</td><td> 28.070</td><td> 25.0400</td><td>⋯</td><td>22.610</td><td> 22.5170</td><td> 23.1060</td><td> 26.7070</td><td> 27.145</td><td> 26.992</td><td> 27.1670</td><td> 26.1700</td><td> 24.660</td><td> 22.837</td></tr>\n",
       "\t<tr><td>2018-01-30</td><td>CPT</td><td> 25.363</td><td> 23.691</td><td> 23.609</td><td> 24.579</td><td> 27.448</td><td> 34.298</td><td> 36.958</td><td> 37.9020</td><td>⋯</td><td>26.749</td><td> 26.8630</td><td> 28.9910</td><td> 35.2790</td><td> 35.994</td><td> 39.654</td><td> 36.8360</td><td> 36.6240</td><td> 37.917</td><td> 35.698</td></tr>\n",
       "\t<tr><td>⋮</td><td>⋮</td><td>⋮</td><td>⋮</td><td>⋮</td><td>⋮</td><td>⋮</td><td>⋮</td><td>⋮</td><td>⋮</td><td>⋱</td><td>⋮</td><td>⋮</td><td>⋮</td><td>⋮</td><td>⋮</td><td>⋮</td><td>⋮</td><td>⋮</td><td>⋮</td><td>⋮</td></tr>\n",
       "\t<tr><td>2018-12-02</td><td>CPT</td><td>28.9048</td><td>27.4337</td><td>27.5737</td><td>27.1560</td><td> 27.9893</td><td> 28.8963</td><td> 30.5754</td><td> 32.7033</td><td>⋯</td><td>30.0637</td><td>31.2535</td><td>31.9040</td><td>34.2507</td><td> 33.6858</td><td> 33.0937</td><td> 31.0197</td><td>30.1623</td><td>29.5267</td><td>29.2350</td></tr>\n",
       "\t<tr><td>2018-12-03</td><td>CPT</td><td>27.4919</td><td>26.4592</td><td>26.6263</td><td>28.1952</td><td> 30.4184</td><td> 35.6653</td><td> 31.0836</td><td> 33.4167</td><td>⋯</td><td>30.2491</td><td>31.7614</td><td>35.4472</td><td>46.3196</td><td> 47.0155</td><td> 51.2329</td><td> 46.8435</td><td>48.6889</td><td>30.1873</td><td>29.1838</td></tr>\n",
       "\t<tr><td>2018-12-04</td><td>CPT</td><td>29.3020</td><td>29.0090</td><td>29.5598</td><td>30.4646</td><td> 35.5803</td><td> 50.0507</td><td> 62.3992</td><td> 53.1518</td><td>⋯</td><td>29.1279</td><td>29.9563</td><td>34.1061</td><td>54.2992</td><td> 54.8019</td><td> 56.3974</td><td> 56.4049</td><td>55.0208</td><td>35.3403</td><td>30.4897</td></tr>\n",
       "\t<tr><td>2018-12-05</td><td>CPT</td><td>29.0969</td><td>28.7614</td><td>30.6414</td><td>36.0492</td><td> 56.9788</td><td> 56.6248</td><td> 56.4049</td><td> 55.5329</td><td>⋯</td><td>29.2777</td><td>31.3773</td><td>48.8772</td><td>68.0736</td><td> 68.7040</td><td> 69.2160</td><td> 69.3956</td><td>70.6561</td><td>45.3782</td><td>34.6646</td></tr>\n",
       "\t<tr><td>2018-12-06</td><td>CPT</td><td>31.7918</td><td>31.4563</td><td>33.8974</td><td>49.7011</td><td> 68.0250</td><td> 70.7004</td><td> 78.7508</td><td> 70.6656</td><td>⋯</td><td>29.3493</td><td>30.8418</td><td>39.2857</td><td>59.3058</td><td> 65.2487</td><td> 60.0699</td><td> 50.7733</td><td>47.3100</td><td>34.0552</td><td>31.3691</td></tr>\n",
       "\t<tr><td>2018-12-07</td><td>CPT</td><td>30.0944</td><td>29.2797</td><td>29.8694</td><td>31.4797</td><td> 34.3319</td><td> 47.8671</td><td> 51.4923</td><td> 47.9704</td><td>⋯</td><td>30.5059</td><td>31.2225</td><td>33.0919</td><td>34.1580</td><td> 34.3541</td><td> 35.6429</td><td> 32.5577</td><td>31.7392</td><td>30.2239</td><td>29.1508</td></tr>\n",
       "\t<tr><td>2018-12-08</td><td>CPT</td><td>28.4290</td><td>27.9544</td><td>27.5595</td><td>27.6866</td><td> 27.9617</td><td> 28.7444</td><td> 29.0380</td><td> 30.2536</td><td>⋯</td><td>34.0320</td><td>44.2933</td><td>49.1281</td><td>57.9929</td><td> 48.2937</td><td> 47.8917</td><td> 34.5218</td><td>32.8190</td><td>31.0238</td><td>30.1008</td></tr>\n",
       "\t<tr><td>2018-12-09</td><td>CPT</td><td>29.3049</td><td>28.9880</td><td>28.9648</td><td>29.2697</td><td> 29.7817</td><td> 30.4189</td><td> 30.9049</td><td> 32.6938</td><td>⋯</td><td>34.3398</td><td>46.1672</td><td>52.9907</td><td>49.9231</td><td> 47.3140</td><td> 51.5276</td><td> 48.2718</td><td>38.2127</td><td>33.6555</td><td>31.1567</td></tr>\n",
       "\t<tr><td>2018-12-10</td><td>CPT</td><td>29.7850</td><td>29.1870</td><td>29.4530</td><td>30.6042</td><td> 34.2210</td><td> 48.9875</td><td> 49.1422</td><td> 49.4460</td><td>⋯</td><td>46.1827</td><td>48.4447</td><td>54.1903</td><td>61.6695</td><td> 73.7756</td><td> 62.9408</td><td> 48.5732</td><td>48.5833</td><td>34.2121</td><td>30.4784</td></tr>\n",
       "\t<tr><td>2018-12-11</td><td>CPT</td><td>33.4689</td><td>45.1648</td><td>46.0858</td><td>45.9715</td><td>161.3400</td><td>161.3400</td><td>161.3400</td><td>161.3400</td><td>⋯</td><td>30.0003</td><td>30.2743</td><td>34.8557</td><td>50.4661</td><td>161.3400</td><td>161.3400</td><td>161.3400</td><td>62.5948</td><td>51.3771</td><td>48.2800</td></tr>\n",
       "\t<tr><td>2018-12-12</td><td>CPT</td><td>45.3052</td><td>39.3752</td><td>47.3647</td><td>54.9404</td><td>161.3400</td><td>161.3400</td><td>161.3400</td><td>161.1424</td><td>⋯</td><td>30.8093</td><td>32.8232</td><td>45.9105</td><td>47.1947</td><td> 47.7254</td><td> 51.0351</td><td> 50.6669</td><td>45.7050</td><td>36.3206</td><td>30.7359</td></tr>\n",
       "\t<tr><td>2018-12-13</td><td>CPT</td><td>29.9336</td><td>29.2884</td><td>29.7918</td><td>33.3318</td><td> 34.5718</td><td> 55.4782</td><td> 59.1736</td><td> 62.6977</td><td>⋯</td><td>34.1363</td><td>37.5906</td><td>49.2307</td><td>41.2810</td><td> 43.3684</td><td> 49.4797</td><td> 42.6429</td><td>42.4750</td><td>29.3744</td><td>27.6633</td></tr>\n",
       "\t<tr><td>2018-12-14</td><td>CPT</td><td>27.0743</td><td>26.5373</td><td>26.5505</td><td>27.0167</td><td> 29.4766</td><td> 30.5875</td><td> 34.0779</td><td> 34.0494</td><td>⋯</td><td>34.7509</td><td>42.9590</td><td>33.6039</td><td>48.8922</td><td> 48.8519</td><td> 33.8105</td><td> 31.6629</td><td>29.3986</td><td>27.2966</td><td>26.9126</td></tr>\n",
       "\t<tr><td>2018-12-15</td><td>CPT</td><td>26.6190</td><td>26.0231</td><td>25.7195</td><td>25.9575</td><td> 26.7719</td><td> 27.3331</td><td> 28.0070</td><td> 28.2556</td><td>⋯</td><td>25.8532</td><td>26.7376</td><td>40.8099</td><td>37.1538</td><td> 29.6176</td><td> 27.8067</td><td> 27.5391</td><td>26.0147</td><td>24.5586</td><td>24.6466</td></tr>\n",
       "\t<tr><td>2018-12-16</td><td>CPT</td><td>24.3254</td><td>24.0581</td><td>23.9850</td><td>23.8047</td><td> 24.3381</td><td> 25.3303</td><td> 26.2083</td><td> 26.6200</td><td>⋯</td><td>27.0789</td><td>32.1262</td><td>32.5462</td><td>33.4358</td><td> 32.5268</td><td> 31.4685</td><td> 30.6884</td><td>30.3109</td><td>26.8794</td><td>25.3604</td></tr>\n",
       "\t<tr><td>2018-12-17</td><td>CPT</td><td>24.4222</td><td>23.7549</td><td>24.2763</td><td>25.0580</td><td> 29.2147</td><td> 33.1899</td><td> 33.7510</td><td> 36.3347</td><td>⋯</td><td>25.0401</td><td>30.8541</td><td>37.3515</td><td>36.1372</td><td> 30.9991</td><td> 39.4489</td><td> 39.3673</td><td>31.1461</td><td>30.4882</td><td>28.5349</td></tr>\n",
       "\t<tr><td>2018-12-18</td><td>CPT</td><td>27.7243</td><td>27.2844</td><td>28.5994</td><td>40.4974</td><td> 45.9208</td><td> 46.0667</td><td> 46.7811</td><td> 50.4543</td><td>⋯</td><td>27.5944</td><td>35.3572</td><td>34.1316</td><td>33.8526</td><td> 33.2480</td><td> 33.0801</td><td> 32.1029</td><td>30.5254</td><td>27.1478</td><td>24.7733</td></tr>\n",
       "\t<tr><td>2018-12-19</td><td>CPT</td><td>23.9111</td><td>23.5952</td><td>24.2071</td><td>26.8301</td><td> 32.5813</td><td> 36.6240</td><td> 34.3003</td><td> 33.9406</td><td>⋯</td><td>25.6696</td><td>28.1587</td><td>32.3126</td><td>31.4057</td><td> 31.6551</td><td> 27.8730</td><td> 27.0574</td><td>27.0650</td><td>26.0014</td><td>23.9066</td></tr>\n",
       "\t<tr><td>2018-12-20</td><td>CPT</td><td>23.8197</td><td>23.3219</td><td>23.1723</td><td>24.1901</td><td> 25.0804</td><td> 26.4791</td><td> 26.6391</td><td> 27.9366</td><td>⋯</td><td>27.6425</td><td>26.7548</td><td>29.5492</td><td>34.4237</td><td> 35.5052</td><td> 31.1052</td><td> 26.5704</td><td>25.8285</td><td>24.2179</td><td>23.2025</td></tr>\n",
       "\t<tr><td>2018-12-21</td><td>CPT</td><td>22.8607</td><td>22.7522</td><td>22.2456</td><td>22.9240</td><td> 24.8726</td><td> 33.3892</td><td> 29.2807</td><td> 32.4852</td><td>⋯</td><td>32.9021</td><td>33.1204</td><td>34.8423</td><td>41.5866</td><td> 42.4101</td><td> 41.8829</td><td> 41.0279</td><td>35.0240</td><td>34.2801</td><td>31.9747</td></tr>\n",
       "\t<tr><td>2018-12-22</td><td>CPT</td><td>26.3755</td><td>26.1641</td><td>28.5504</td><td>32.0360</td><td> 40.4307</td><td> 41.6436</td><td> 40.4841</td><td> 32.4449</td><td>⋯</td><td>20.7814</td><td>22.5833</td><td>23.1599</td><td>23.4305</td><td> 24.1873</td><td> 25.4603</td><td> 26.2099</td><td>28.5464</td><td>26.7626</td><td>25.2488</td></tr>\n",
       "\t<tr><td>2018-12-23</td><td>CPT</td><td>24.9841</td><td>24.6593</td><td>24.9059</td><td>25.0708</td><td> 26.5204</td><td> 32.7642</td><td> 40.9663</td><td> 40.7819</td><td>⋯</td><td>20.7904</td><td>22.0305</td><td>22.8762</td><td>23.1820</td><td> 22.9335</td><td> 22.6011</td><td> 22.2722</td><td>21.4398</td><td>21.9712</td><td>21.4514</td></tr>\n",
       "\t<tr><td>2018-12-24</td><td>CPT</td><td>21.6427</td><td>21.8819</td><td>21.1710</td><td>22.0386</td><td> 23.1352</td><td> 24.8459</td><td> 26.6975</td><td> 33.8681</td><td>⋯</td><td>21.7177</td><td>21.8205</td><td>23.5919</td><td>23.9278</td><td> 23.5104</td><td> 24.2596</td><td> 24.1320</td><td>24.2102</td><td>24.7371</td><td>25.8626</td></tr>\n",
       "\t<tr><td>2018-12-25</td><td>CPT</td><td>25.2359</td><td>24.0430</td><td>25.1725</td><td>25.6607</td><td> 26.5725</td><td> 39.9670</td><td> 31.1390</td><td> 31.5809</td><td>⋯</td><td>19.2837</td><td>21.6409</td><td>23.0871</td><td>23.5083</td><td> 23.5073</td><td> 24.0627</td><td> 23.4428</td><td>23.4529</td><td>22.5883</td><td>22.2394</td></tr>\n",
       "\t<tr><td>2018-12-26</td><td>CPT</td><td>22.1364</td><td>22.1434</td><td>22.5052</td><td>23.7057</td><td> 26.7066</td><td> 25.9087</td><td> 28.1263</td><td> 25.3769</td><td>⋯</td><td>22.4148</td><td>23.1216</td><td>23.9558</td><td>25.2996</td><td> 25.6103</td><td> 24.9644</td><td> 25.4467</td><td>26.7768</td><td>24.0961</td><td>24.6790</td></tr>\n",
       "\t<tr><td>2018-12-27</td><td>CPT</td><td>24.0553</td><td>22.8579</td><td>22.6909</td><td>23.2107</td><td> 23.7202</td><td> 23.9946</td><td> 23.3364</td><td> 23.2518</td><td>⋯</td><td>21.8590</td><td>25.5475</td><td>28.7882</td><td>24.8563</td><td> 22.3999</td><td> 22.2977</td><td> 22.2915</td><td>24.9034</td><td>20.3975</td><td>20.0404</td></tr>\n",
       "\t<tr><td>2018-12-28</td><td>CPT</td><td>19.2163</td><td>18.7256</td><td>18.1925</td><td>18.8555</td><td> 19.4520</td><td> 20.0388</td><td> 20.2266</td><td> 20.5469</td><td>⋯</td><td>20.9246</td><td>21.0509</td><td>26.6094</td><td>24.3640</td><td> 22.1502</td><td> 20.7232</td><td> 20.0159</td><td>19.5782</td><td>20.1626</td><td>20.0826</td></tr>\n",
       "\t<tr><td>2018-12-29</td><td>CPT</td><td>19.3783</td><td>19.0593</td><td>18.9037</td><td>18.8079</td><td> 19.4043</td><td> 19.2503</td><td> 20.8096</td><td> 21.0824</td><td>⋯</td><td>19.6721</td><td>20.1480</td><td>25.6914</td><td>27.9691</td><td> 27.8192</td><td> 26.7593</td><td> 21.3095</td><td>20.1881</td><td>19.8602</td><td>19.5912</td></tr>\n",
       "\t<tr><td>2018-12-30</td><td>CPT</td><td>18.9672</td><td>18.7879</td><td>19.0664</td><td>18.8419</td><td> 19.0284</td><td> 19.7141</td><td> 20.2065</td><td> 20.6559</td><td>⋯</td><td>21.3185</td><td>22.6562</td><td>35.0141</td><td>40.0187</td><td> 30.6184</td><td> 28.2517</td><td> 21.7570</td><td>28.2749</td><td>21.7228</td><td>19.9527</td></tr>\n",
       "\t<tr><td>2018-12-31</td><td>CPT</td><td>19.1563</td><td>18.8883</td><td>18.8607</td><td>19.0102</td><td> 19.9073</td><td> 23.8274</td><td> 20.1839</td><td> 19.3587</td><td>⋯</td><td>21.0378</td><td>22.1122</td><td>22.1122</td><td>27.6462</td><td> 28.4753</td><td> 21.6416</td><td> 19.1722</td><td>20.7934</td><td>20.3334</td><td>20.0311</td></tr>\n",
       "</tbody>\n",
       "</table>\n"
      ],
      "text/latex": [
       "A tibble: 365 × 26\n",
       "\\begin{tabular}{lllllllllllllllllllll}\n",
       " date\\_val & timezone & hour01 & hour02 & hour03 & hour04 & hour05 & hour06 & hour07 & hour08 & ⋯ & hour15 & hour16 & hour17 & hour18 & hour19 & hour20 & hour21 & hour22 & hour23 & hour24\\\\\n",
       " <dttm> & <chr> & <dbl> & <dbl> & <dbl> & <dbl> & <dbl> & <dbl> & <dbl> & <dbl> & ⋯ & <dbl> & <dbl> & <dbl> & <dbl> & <dbl> & <dbl> & <dbl> & <dbl> & <dbl> & <dbl>\\\\\n",
       "\\hline\n",
       "\t 2018-01-01 & CPT &  26.935 &  28.190 &  33.558 &  34.005 &  36.075 &  35.430 &  41.828 &  35.3470 & ⋯ & 36.296 &  33.8530 &  39.0320 & 205.5950 & 294.030 & 294.030 & 294.0300 & 294.0300 & 203.640 & 203.640\\\\\n",
       "\t 2018-01-02 & CPT & 203.640 & 203.640 & 203.640 & 203.640 & 294.030 & 294.030 & 339.740 & 339.7400 & ⋯ & 37.798 &  34.4520 & 294.0300 & 294.0300 & 294.030 & 294.030 & 294.0300 & 339.7400 & 339.740 & 339.740\\\\\n",
       "\t 2018-01-03 & CPT & 339.740 & 255.060 & 255.060 & 255.060 & 294.030 & 294.030 & 294.030 & 294.0300 & ⋯ & 36.962 &  38.4570 &  34.4070 & 228.9300 & 228.930 & 228.930 & 228.9300 & 228.9300 & 228.930 &  37.042\\\\\n",
       "\t 2018-01-04 & CPT &  33.399 &  36.591 &  41.662 & 313.310 & 329.260 & 329.260 & 329.260 & 380.3357 & ⋯ & 37.872 &  41.0610 & 331.5950 & 419.8940 & 424.110 & 454.860 & 454.8600 & 529.5180 & 519.966 & 454.860\\\\\n",
       "\t 2018-01-05 & CPT & 520.001 & 454.860 & 454.860 & 520.057 & 530.605 & 530.729 & 530.729 & 454.8600 & ⋯ & 33.930 &  34.3460 &  46.2920 & 168.1890 &  41.057 &  43.341 &  46.6370 & 418.6100 & 418.610 & 203.980\\\\\n",
       "\t 2018-01-06 & CPT & 203.980 & 203.980 & 203.980 & 208.710 & 418.610 & 418.610 & 418.610 & 418.6100 & ⋯ & 36.791 & 252.9413 & 159.0917 & 159.6169 & 205.650 & 205.650 & 205.6500 & 205.6500 & 205.650 & 244.040\\\\\n",
       "\t 2018-01-07 & CPT & 244.040 & 244.040 & 201.930 & 257.140 & 201.930 & 201.930 & 201.930 & 350.7882 & ⋯ & 37.583 &  39.3140 & 365.3110 &  45.6890 & 201.930 & 201.930 & 176.6292 & 166.0164 &  33.969 &  32.644\\\\\n",
       "\t 2018-01-08 & CPT &  27.660 &  29.015 &  28.143 &  28.739 &  32.343 &  48.091 & 204.220 & 205.6500 & ⋯ & 33.140 &  32.8330 &  31.5260 &  33.4950 &  33.601 &  31.680 &  29.9410 &  27.9280 &  25.998 &  21.320\\\\\n",
       "\t 2018-01-09 & CPT &  21.029 &  19.629 &  20.035 &  20.111 &  22.414 &  27.702 &  31.594 &  27.4020 & ⋯ & 19.993 &  19.9950 &  20.1380 &  20.1780 &  20.182 &  20.058 &  19.7810 &  19.1870 &  18.936 &  19.211\\\\\n",
       "\t 2018-01-10 & CPT &  18.536 &  18.248 &  18.816 &  19.403 &  19.766 &  22.206 &  24.995 &  20.8340 & ⋯ & 19.887 &  19.9040 &  20.3640 &  23.0510 &  20.847 &  20.489 &  21.0850 &  20.0220 &  19.777 &  19.859\\\\\n",
       "\t 2018-01-11 & CPT &  18.629 &  19.223 &  19.359 &  19.635 &  21.184 &  22.895 &  25.687 &  21.7080 & ⋯ & 22.062 &  22.3420 &  26.3120 &  27.1730 &  25.245 &  20.866 &  21.3440 &  21.6140 &  20.604 &  20.454\\\\\n",
       "\t 2018-01-12 & CPT &  19.147 &  20.171 &  19.673 &  20.045 &  20.714 &  24.779 &  26.236 &  25.9510 & ⋯ & 26.332 &  24.8650 &  27.2610 &  28.6520 &  27.968 &  28.717 &  28.9270 &  32.7460 &  33.183 &  29.981\\\\\n",
       "\t 2018-01-13 & CPT &  29.352 &  30.106 &  32.739 &  33.823 &  35.351 &  34.902 &  33.835 &  34.7400 & ⋯ & 31.911 &  32.0340 &  35.7890 &  40.0880 &  43.429 &  38.763 &  42.3270 &  63.2190 & 178.061 & 176.683\\\\\n",
       "\t 2018-01-14 & CPT & 162.411 & 178.688 & 178.426 & 201.259 & 201.401 & 200.485 & 188.344 & 190.4440 & ⋯ & 27.391 &  26.5010 &  28.5150 &  35.8970 &  36.402 &  38.214 &  33.6890 &  35.2410 &  36.333 &  35.286\\\\\n",
       "\t 2018-01-15 & CPT &  30.944 &  31.965 &  28.727 &  30.260 &  31.456 &  35.350 &  39.565 &  36.6500 & ⋯ & 26.627 &  26.9820 &  29.3440 &  34.9940 &  35.054 &  36.314 &  33.8420 &  33.4080 &  34.335 &  31.515\\\\\n",
       "\t 2018-01-16 & CPT &  34.628 &  34.228 &  35.392 &  37.290 &  31.197 &  34.632 &  36.869 &  37.8990 & ⋯ & 33.202 &  35.7490 &  40.6680 & 202.8160 &  38.906 &  37.088 &  38.2520 &  35.5090 &  34.281 &  37.605\\\\\n",
       "\t 2018-01-17 & CPT &  33.457 &  34.365 &  33.934 &  31.180 & 172.470 & 208.540 & 346.060 & 346.0600 & ⋯ & 44.798 &  43.4650 & 259.4400 & 347.7700 & 347.770 & 347.770 & 347.7700 & 347.7700 & 259.440 & 259.440\\\\\n",
       "\t 2018-01-18 & CPT & 259.440 & 259.440 & 259.440 & 260.930 & 347.770 & 347.770 & 347.770 & 347.7700 & ⋯ & 29.039 &  29.5230 &  37.6320 &  38.1100 &  38.094 &  35.596 &  35.8930 &  35.6530 &  30.770 &  29.106\\\\\n",
       "\t 2018-01-19 & CPT &  29.073 &  34.833 &  35.721 &  35.860 &  45.128 & 104.211 & 175.287 & 270.7642 & ⋯ & 22.426 &  22.5700 &  24.7870 &  24.3080 &  24.812 &  25.739 &  26.4810 &  26.3750 &  26.530 &  24.833\\\\\n",
       "\t 2018-01-20 & CPT &  22.972 &  22.779 &  24.180 &  25.095 &  25.670 &  26.009 &  27.617 &  26.5980 & ⋯ & 19.272 &  20.0740 &  21.6370 &  23.6570 &  22.444 &  22.404 &  22.3840 &  21.8910 &  21.518 &  21.506\\\\\n",
       "\t 2018-01-21 & CPT &  21.591 &  21.228 &  21.757 &  22.145 &  25.128 &  24.762 &  27.252 &  26.4400 & ⋯ & 21.328 &  22.3210 &  27.0810 &  28.5520 &  29.438 &  27.434 &  25.7210 &  23.0480 &  22.079 &  21.601\\\\\n",
       "\t 2018-01-22 & CPT &  20.743 &  20.731 &  21.754 &  22.516 &  25.485 &  24.821 &  27.184 &  26.0580 & ⋯ & 23.853 &  22.4990 &  24.9620 &  27.5610 &  27.243 &  27.704 &  27.9020 &  23.7850 &  22.823 &  21.788\\\\\n",
       "\t 2018-01-23 & CPT &  20.571 &  19.680 &  19.422 &  20.998 &  22.093 &  28.130 &  27.506 &  28.5370 & ⋯ & 20.740 &  21.0490 &  22.5090 &  28.4870 &  28.225 &  30.544 &  29.4340 &  29.9790 &  25.690 &  22.483\\\\\n",
       "\t 2018-01-24 & CPT &  22.210 &  22.202 &  23.460 &  27.842 &  32.481 &  35.771 &  35.314 &  34.7660 & ⋯ & 23.500 &  24.7980 &  25.6460 &  28.2310 &  30.588 &  33.350 &  33.0440 &  29.7270 &  28.262 &  26.741\\\\\n",
       "\t 2018-01-25 & CPT &  25.406 &  26.201 &  27.782 &  28.163 &  29.386 &  34.812 &  46.747 &  40.2290 & ⋯ & 23.540 &  23.9140 &  26.6280 &  29.6110 &  29.253 &  28.590 &  34.6410 &  29.9660 &  27.697 &  25.734\\\\\n",
       "\t 2018-01-26 & CPT &  25.203 &  27.655 &  28.338 &  29.739 &  32.760 &  39.928 &  54.468 &  42.9960 & ⋯ & 24.076 &  23.3110 &  24.7640 &  26.9270 &  27.050 &  27.405 &  27.0940 &  26.9130 &  28.224 &  27.214\\\\\n",
       "\t 2018-01-27 & CPT &  25.627 &  24.387 &  23.746 &  23.750 &  23.780 &  24.712 &  26.756 &  26.2010 & ⋯ & 24.438 &  25.8670 &  27.2410 &  28.2490 &  28.318 &  27.377 &  25.6020 &  24.9470 &  23.060 &  23.049\\\\\n",
       "\t 2018-01-28 & CPT &  22.660 &  19.166 &  19.027 &  19.115 &  19.087 &  19.406 &  21.698 &  22.4930 & ⋯ & 23.618 &  26.2440 &  27.4690 &  27.6830 &  26.428 &  26.015 &  24.2310 &  23.9130 &  22.560 &  21.241\\\\\n",
       "\t 2018-01-29 & CPT &  19.380 &  19.273 &  19.129 &  21.434 &  23.028 &  25.764 &  28.070 &  25.0400 & ⋯ & 22.610 &  22.5170 &  23.1060 &  26.7070 &  27.145 &  26.992 &  27.1670 &  26.1700 &  24.660 &  22.837\\\\\n",
       "\t 2018-01-30 & CPT &  25.363 &  23.691 &  23.609 &  24.579 &  27.448 &  34.298 &  36.958 &  37.9020 & ⋯ & 26.749 &  26.8630 &  28.9910 &  35.2790 &  35.994 &  39.654 &  36.8360 &  36.6240 &  37.917 &  35.698\\\\\n",
       "\t ⋮ & ⋮ & ⋮ & ⋮ & ⋮ & ⋮ & ⋮ & ⋮ & ⋮ & ⋮ & ⋱ & ⋮ & ⋮ & ⋮ & ⋮ & ⋮ & ⋮ & ⋮ & ⋮ & ⋮ & ⋮\\\\\n",
       "\t 2018-12-02 & CPT & 28.9048 & 27.4337 & 27.5737 & 27.1560 &  27.9893 &  28.8963 &  30.5754 &  32.7033 & ⋯ & 30.0637 & 31.2535 & 31.9040 & 34.2507 &  33.6858 &  33.0937 &  31.0197 & 30.1623 & 29.5267 & 29.2350\\\\\n",
       "\t 2018-12-03 & CPT & 27.4919 & 26.4592 & 26.6263 & 28.1952 &  30.4184 &  35.6653 &  31.0836 &  33.4167 & ⋯ & 30.2491 & 31.7614 & 35.4472 & 46.3196 &  47.0155 &  51.2329 &  46.8435 & 48.6889 & 30.1873 & 29.1838\\\\\n",
       "\t 2018-12-04 & CPT & 29.3020 & 29.0090 & 29.5598 & 30.4646 &  35.5803 &  50.0507 &  62.3992 &  53.1518 & ⋯ & 29.1279 & 29.9563 & 34.1061 & 54.2992 &  54.8019 &  56.3974 &  56.4049 & 55.0208 & 35.3403 & 30.4897\\\\\n",
       "\t 2018-12-05 & CPT & 29.0969 & 28.7614 & 30.6414 & 36.0492 &  56.9788 &  56.6248 &  56.4049 &  55.5329 & ⋯ & 29.2777 & 31.3773 & 48.8772 & 68.0736 &  68.7040 &  69.2160 &  69.3956 & 70.6561 & 45.3782 & 34.6646\\\\\n",
       "\t 2018-12-06 & CPT & 31.7918 & 31.4563 & 33.8974 & 49.7011 &  68.0250 &  70.7004 &  78.7508 &  70.6656 & ⋯ & 29.3493 & 30.8418 & 39.2857 & 59.3058 &  65.2487 &  60.0699 &  50.7733 & 47.3100 & 34.0552 & 31.3691\\\\\n",
       "\t 2018-12-07 & CPT & 30.0944 & 29.2797 & 29.8694 & 31.4797 &  34.3319 &  47.8671 &  51.4923 &  47.9704 & ⋯ & 30.5059 & 31.2225 & 33.0919 & 34.1580 &  34.3541 &  35.6429 &  32.5577 & 31.7392 & 30.2239 & 29.1508\\\\\n",
       "\t 2018-12-08 & CPT & 28.4290 & 27.9544 & 27.5595 & 27.6866 &  27.9617 &  28.7444 &  29.0380 &  30.2536 & ⋯ & 34.0320 & 44.2933 & 49.1281 & 57.9929 &  48.2937 &  47.8917 &  34.5218 & 32.8190 & 31.0238 & 30.1008\\\\\n",
       "\t 2018-12-09 & CPT & 29.3049 & 28.9880 & 28.9648 & 29.2697 &  29.7817 &  30.4189 &  30.9049 &  32.6938 & ⋯ & 34.3398 & 46.1672 & 52.9907 & 49.9231 &  47.3140 &  51.5276 &  48.2718 & 38.2127 & 33.6555 & 31.1567\\\\\n",
       "\t 2018-12-10 & CPT & 29.7850 & 29.1870 & 29.4530 & 30.6042 &  34.2210 &  48.9875 &  49.1422 &  49.4460 & ⋯ & 46.1827 & 48.4447 & 54.1903 & 61.6695 &  73.7756 &  62.9408 &  48.5732 & 48.5833 & 34.2121 & 30.4784\\\\\n",
       "\t 2018-12-11 & CPT & 33.4689 & 45.1648 & 46.0858 & 45.9715 & 161.3400 & 161.3400 & 161.3400 & 161.3400 & ⋯ & 30.0003 & 30.2743 & 34.8557 & 50.4661 & 161.3400 & 161.3400 & 161.3400 & 62.5948 & 51.3771 & 48.2800\\\\\n",
       "\t 2018-12-12 & CPT & 45.3052 & 39.3752 & 47.3647 & 54.9404 & 161.3400 & 161.3400 & 161.3400 & 161.1424 & ⋯ & 30.8093 & 32.8232 & 45.9105 & 47.1947 &  47.7254 &  51.0351 &  50.6669 & 45.7050 & 36.3206 & 30.7359\\\\\n",
       "\t 2018-12-13 & CPT & 29.9336 & 29.2884 & 29.7918 & 33.3318 &  34.5718 &  55.4782 &  59.1736 &  62.6977 & ⋯ & 34.1363 & 37.5906 & 49.2307 & 41.2810 &  43.3684 &  49.4797 &  42.6429 & 42.4750 & 29.3744 & 27.6633\\\\\n",
       "\t 2018-12-14 & CPT & 27.0743 & 26.5373 & 26.5505 & 27.0167 &  29.4766 &  30.5875 &  34.0779 &  34.0494 & ⋯ & 34.7509 & 42.9590 & 33.6039 & 48.8922 &  48.8519 &  33.8105 &  31.6629 & 29.3986 & 27.2966 & 26.9126\\\\\n",
       "\t 2018-12-15 & CPT & 26.6190 & 26.0231 & 25.7195 & 25.9575 &  26.7719 &  27.3331 &  28.0070 &  28.2556 & ⋯ & 25.8532 & 26.7376 & 40.8099 & 37.1538 &  29.6176 &  27.8067 &  27.5391 & 26.0147 & 24.5586 & 24.6466\\\\\n",
       "\t 2018-12-16 & CPT & 24.3254 & 24.0581 & 23.9850 & 23.8047 &  24.3381 &  25.3303 &  26.2083 &  26.6200 & ⋯ & 27.0789 & 32.1262 & 32.5462 & 33.4358 &  32.5268 &  31.4685 &  30.6884 & 30.3109 & 26.8794 & 25.3604\\\\\n",
       "\t 2018-12-17 & CPT & 24.4222 & 23.7549 & 24.2763 & 25.0580 &  29.2147 &  33.1899 &  33.7510 &  36.3347 & ⋯ & 25.0401 & 30.8541 & 37.3515 & 36.1372 &  30.9991 &  39.4489 &  39.3673 & 31.1461 & 30.4882 & 28.5349\\\\\n",
       "\t 2018-12-18 & CPT & 27.7243 & 27.2844 & 28.5994 & 40.4974 &  45.9208 &  46.0667 &  46.7811 &  50.4543 & ⋯ & 27.5944 & 35.3572 & 34.1316 & 33.8526 &  33.2480 &  33.0801 &  32.1029 & 30.5254 & 27.1478 & 24.7733\\\\\n",
       "\t 2018-12-19 & CPT & 23.9111 & 23.5952 & 24.2071 & 26.8301 &  32.5813 &  36.6240 &  34.3003 &  33.9406 & ⋯ & 25.6696 & 28.1587 & 32.3126 & 31.4057 &  31.6551 &  27.8730 &  27.0574 & 27.0650 & 26.0014 & 23.9066\\\\\n",
       "\t 2018-12-20 & CPT & 23.8197 & 23.3219 & 23.1723 & 24.1901 &  25.0804 &  26.4791 &  26.6391 &  27.9366 & ⋯ & 27.6425 & 26.7548 & 29.5492 & 34.4237 &  35.5052 &  31.1052 &  26.5704 & 25.8285 & 24.2179 & 23.2025\\\\\n",
       "\t 2018-12-21 & CPT & 22.8607 & 22.7522 & 22.2456 & 22.9240 &  24.8726 &  33.3892 &  29.2807 &  32.4852 & ⋯ & 32.9021 & 33.1204 & 34.8423 & 41.5866 &  42.4101 &  41.8829 &  41.0279 & 35.0240 & 34.2801 & 31.9747\\\\\n",
       "\t 2018-12-22 & CPT & 26.3755 & 26.1641 & 28.5504 & 32.0360 &  40.4307 &  41.6436 &  40.4841 &  32.4449 & ⋯ & 20.7814 & 22.5833 & 23.1599 & 23.4305 &  24.1873 &  25.4603 &  26.2099 & 28.5464 & 26.7626 & 25.2488\\\\\n",
       "\t 2018-12-23 & CPT & 24.9841 & 24.6593 & 24.9059 & 25.0708 &  26.5204 &  32.7642 &  40.9663 &  40.7819 & ⋯ & 20.7904 & 22.0305 & 22.8762 & 23.1820 &  22.9335 &  22.6011 &  22.2722 & 21.4398 & 21.9712 & 21.4514\\\\\n",
       "\t 2018-12-24 & CPT & 21.6427 & 21.8819 & 21.1710 & 22.0386 &  23.1352 &  24.8459 &  26.6975 &  33.8681 & ⋯ & 21.7177 & 21.8205 & 23.5919 & 23.9278 &  23.5104 &  24.2596 &  24.1320 & 24.2102 & 24.7371 & 25.8626\\\\\n",
       "\t 2018-12-25 & CPT & 25.2359 & 24.0430 & 25.1725 & 25.6607 &  26.5725 &  39.9670 &  31.1390 &  31.5809 & ⋯ & 19.2837 & 21.6409 & 23.0871 & 23.5083 &  23.5073 &  24.0627 &  23.4428 & 23.4529 & 22.5883 & 22.2394\\\\\n",
       "\t 2018-12-26 & CPT & 22.1364 & 22.1434 & 22.5052 & 23.7057 &  26.7066 &  25.9087 &  28.1263 &  25.3769 & ⋯ & 22.4148 & 23.1216 & 23.9558 & 25.2996 &  25.6103 &  24.9644 &  25.4467 & 26.7768 & 24.0961 & 24.6790\\\\\n",
       "\t 2018-12-27 & CPT & 24.0553 & 22.8579 & 22.6909 & 23.2107 &  23.7202 &  23.9946 &  23.3364 &  23.2518 & ⋯ & 21.8590 & 25.5475 & 28.7882 & 24.8563 &  22.3999 &  22.2977 &  22.2915 & 24.9034 & 20.3975 & 20.0404\\\\\n",
       "\t 2018-12-28 & CPT & 19.2163 & 18.7256 & 18.1925 & 18.8555 &  19.4520 &  20.0388 &  20.2266 &  20.5469 & ⋯ & 20.9246 & 21.0509 & 26.6094 & 24.3640 &  22.1502 &  20.7232 &  20.0159 & 19.5782 & 20.1626 & 20.0826\\\\\n",
       "\t 2018-12-29 & CPT & 19.3783 & 19.0593 & 18.9037 & 18.8079 &  19.4043 &  19.2503 &  20.8096 &  21.0824 & ⋯ & 19.6721 & 20.1480 & 25.6914 & 27.9691 &  27.8192 &  26.7593 &  21.3095 & 20.1881 & 19.8602 & 19.5912\\\\\n",
       "\t 2018-12-30 & CPT & 18.9672 & 18.7879 & 19.0664 & 18.8419 &  19.0284 &  19.7141 &  20.2065 &  20.6559 & ⋯ & 21.3185 & 22.6562 & 35.0141 & 40.0187 &  30.6184 &  28.2517 &  21.7570 & 28.2749 & 21.7228 & 19.9527\\\\\n",
       "\t 2018-12-31 & CPT & 19.1563 & 18.8883 & 18.8607 & 19.0102 &  19.9073 &  23.8274 &  20.1839 &  19.3587 & ⋯ & 21.0378 & 22.1122 & 22.1122 & 27.6462 &  28.4753 &  21.6416 &  19.1722 & 20.7934 & 20.3334 & 20.0311\\\\\n",
       "\\end{tabular}\n"
      ],
      "text/markdown": [
       "\n",
       "A tibble: 365 × 26\n",
       "\n",
       "| date_val &lt;dttm&gt; | timezone &lt;chr&gt; | hour01 &lt;dbl&gt; | hour02 &lt;dbl&gt; | hour03 &lt;dbl&gt; | hour04 &lt;dbl&gt; | hour05 &lt;dbl&gt; | hour06 &lt;dbl&gt; | hour07 &lt;dbl&gt; | hour08 &lt;dbl&gt; | ⋯ ⋯ | hour15 &lt;dbl&gt; | hour16 &lt;dbl&gt; | hour17 &lt;dbl&gt; | hour18 &lt;dbl&gt; | hour19 &lt;dbl&gt; | hour20 &lt;dbl&gt; | hour21 &lt;dbl&gt; | hour22 &lt;dbl&gt; | hour23 &lt;dbl&gt; | hour24 &lt;dbl&gt; |\n",
       "|---|---|---|---|---|---|---|---|---|---|---|---|---|---|---|---|---|---|---|---|---|\n",
       "| 2018-01-01 | CPT |  26.935 |  28.190 |  33.558 |  34.005 |  36.075 |  35.430 |  41.828 |  35.3470 | ⋯ | 36.296 |  33.8530 |  39.0320 | 205.5950 | 294.030 | 294.030 | 294.0300 | 294.0300 | 203.640 | 203.640 |\n",
       "| 2018-01-02 | CPT | 203.640 | 203.640 | 203.640 | 203.640 | 294.030 | 294.030 | 339.740 | 339.7400 | ⋯ | 37.798 |  34.4520 | 294.0300 | 294.0300 | 294.030 | 294.030 | 294.0300 | 339.7400 | 339.740 | 339.740 |\n",
       "| 2018-01-03 | CPT | 339.740 | 255.060 | 255.060 | 255.060 | 294.030 | 294.030 | 294.030 | 294.0300 | ⋯ | 36.962 |  38.4570 |  34.4070 | 228.9300 | 228.930 | 228.930 | 228.9300 | 228.9300 | 228.930 |  37.042 |\n",
       "| 2018-01-04 | CPT |  33.399 |  36.591 |  41.662 | 313.310 | 329.260 | 329.260 | 329.260 | 380.3357 | ⋯ | 37.872 |  41.0610 | 331.5950 | 419.8940 | 424.110 | 454.860 | 454.8600 | 529.5180 | 519.966 | 454.860 |\n",
       "| 2018-01-05 | CPT | 520.001 | 454.860 | 454.860 | 520.057 | 530.605 | 530.729 | 530.729 | 454.8600 | ⋯ | 33.930 |  34.3460 |  46.2920 | 168.1890 |  41.057 |  43.341 |  46.6370 | 418.6100 | 418.610 | 203.980 |\n",
       "| 2018-01-06 | CPT | 203.980 | 203.980 | 203.980 | 208.710 | 418.610 | 418.610 | 418.610 | 418.6100 | ⋯ | 36.791 | 252.9413 | 159.0917 | 159.6169 | 205.650 | 205.650 | 205.6500 | 205.6500 | 205.650 | 244.040 |\n",
       "| 2018-01-07 | CPT | 244.040 | 244.040 | 201.930 | 257.140 | 201.930 | 201.930 | 201.930 | 350.7882 | ⋯ | 37.583 |  39.3140 | 365.3110 |  45.6890 | 201.930 | 201.930 | 176.6292 | 166.0164 |  33.969 |  32.644 |\n",
       "| 2018-01-08 | CPT |  27.660 |  29.015 |  28.143 |  28.739 |  32.343 |  48.091 | 204.220 | 205.6500 | ⋯ | 33.140 |  32.8330 |  31.5260 |  33.4950 |  33.601 |  31.680 |  29.9410 |  27.9280 |  25.998 |  21.320 |\n",
       "| 2018-01-09 | CPT |  21.029 |  19.629 |  20.035 |  20.111 |  22.414 |  27.702 |  31.594 |  27.4020 | ⋯ | 19.993 |  19.9950 |  20.1380 |  20.1780 |  20.182 |  20.058 |  19.7810 |  19.1870 |  18.936 |  19.211 |\n",
       "| 2018-01-10 | CPT |  18.536 |  18.248 |  18.816 |  19.403 |  19.766 |  22.206 |  24.995 |  20.8340 | ⋯ | 19.887 |  19.9040 |  20.3640 |  23.0510 |  20.847 |  20.489 |  21.0850 |  20.0220 |  19.777 |  19.859 |\n",
       "| 2018-01-11 | CPT |  18.629 |  19.223 |  19.359 |  19.635 |  21.184 |  22.895 |  25.687 |  21.7080 | ⋯ | 22.062 |  22.3420 |  26.3120 |  27.1730 |  25.245 |  20.866 |  21.3440 |  21.6140 |  20.604 |  20.454 |\n",
       "| 2018-01-12 | CPT |  19.147 |  20.171 |  19.673 |  20.045 |  20.714 |  24.779 |  26.236 |  25.9510 | ⋯ | 26.332 |  24.8650 |  27.2610 |  28.6520 |  27.968 |  28.717 |  28.9270 |  32.7460 |  33.183 |  29.981 |\n",
       "| 2018-01-13 | CPT |  29.352 |  30.106 |  32.739 |  33.823 |  35.351 |  34.902 |  33.835 |  34.7400 | ⋯ | 31.911 |  32.0340 |  35.7890 |  40.0880 |  43.429 |  38.763 |  42.3270 |  63.2190 | 178.061 | 176.683 |\n",
       "| 2018-01-14 | CPT | 162.411 | 178.688 | 178.426 | 201.259 | 201.401 | 200.485 | 188.344 | 190.4440 | ⋯ | 27.391 |  26.5010 |  28.5150 |  35.8970 |  36.402 |  38.214 |  33.6890 |  35.2410 |  36.333 |  35.286 |\n",
       "| 2018-01-15 | CPT |  30.944 |  31.965 |  28.727 |  30.260 |  31.456 |  35.350 |  39.565 |  36.6500 | ⋯ | 26.627 |  26.9820 |  29.3440 |  34.9940 |  35.054 |  36.314 |  33.8420 |  33.4080 |  34.335 |  31.515 |\n",
       "| 2018-01-16 | CPT |  34.628 |  34.228 |  35.392 |  37.290 |  31.197 |  34.632 |  36.869 |  37.8990 | ⋯ | 33.202 |  35.7490 |  40.6680 | 202.8160 |  38.906 |  37.088 |  38.2520 |  35.5090 |  34.281 |  37.605 |\n",
       "| 2018-01-17 | CPT |  33.457 |  34.365 |  33.934 |  31.180 | 172.470 | 208.540 | 346.060 | 346.0600 | ⋯ | 44.798 |  43.4650 | 259.4400 | 347.7700 | 347.770 | 347.770 | 347.7700 | 347.7700 | 259.440 | 259.440 |\n",
       "| 2018-01-18 | CPT | 259.440 | 259.440 | 259.440 | 260.930 | 347.770 | 347.770 | 347.770 | 347.7700 | ⋯ | 29.039 |  29.5230 |  37.6320 |  38.1100 |  38.094 |  35.596 |  35.8930 |  35.6530 |  30.770 |  29.106 |\n",
       "| 2018-01-19 | CPT |  29.073 |  34.833 |  35.721 |  35.860 |  45.128 | 104.211 | 175.287 | 270.7642 | ⋯ | 22.426 |  22.5700 |  24.7870 |  24.3080 |  24.812 |  25.739 |  26.4810 |  26.3750 |  26.530 |  24.833 |\n",
       "| 2018-01-20 | CPT |  22.972 |  22.779 |  24.180 |  25.095 |  25.670 |  26.009 |  27.617 |  26.5980 | ⋯ | 19.272 |  20.0740 |  21.6370 |  23.6570 |  22.444 |  22.404 |  22.3840 |  21.8910 |  21.518 |  21.506 |\n",
       "| 2018-01-21 | CPT |  21.591 |  21.228 |  21.757 |  22.145 |  25.128 |  24.762 |  27.252 |  26.4400 | ⋯ | 21.328 |  22.3210 |  27.0810 |  28.5520 |  29.438 |  27.434 |  25.7210 |  23.0480 |  22.079 |  21.601 |\n",
       "| 2018-01-22 | CPT |  20.743 |  20.731 |  21.754 |  22.516 |  25.485 |  24.821 |  27.184 |  26.0580 | ⋯ | 23.853 |  22.4990 |  24.9620 |  27.5610 |  27.243 |  27.704 |  27.9020 |  23.7850 |  22.823 |  21.788 |\n",
       "| 2018-01-23 | CPT |  20.571 |  19.680 |  19.422 |  20.998 |  22.093 |  28.130 |  27.506 |  28.5370 | ⋯ | 20.740 |  21.0490 |  22.5090 |  28.4870 |  28.225 |  30.544 |  29.4340 |  29.9790 |  25.690 |  22.483 |\n",
       "| 2018-01-24 | CPT |  22.210 |  22.202 |  23.460 |  27.842 |  32.481 |  35.771 |  35.314 |  34.7660 | ⋯ | 23.500 |  24.7980 |  25.6460 |  28.2310 |  30.588 |  33.350 |  33.0440 |  29.7270 |  28.262 |  26.741 |\n",
       "| 2018-01-25 | CPT |  25.406 |  26.201 |  27.782 |  28.163 |  29.386 |  34.812 |  46.747 |  40.2290 | ⋯ | 23.540 |  23.9140 |  26.6280 |  29.6110 |  29.253 |  28.590 |  34.6410 |  29.9660 |  27.697 |  25.734 |\n",
       "| 2018-01-26 | CPT |  25.203 |  27.655 |  28.338 |  29.739 |  32.760 |  39.928 |  54.468 |  42.9960 | ⋯ | 24.076 |  23.3110 |  24.7640 |  26.9270 |  27.050 |  27.405 |  27.0940 |  26.9130 |  28.224 |  27.214 |\n",
       "| 2018-01-27 | CPT |  25.627 |  24.387 |  23.746 |  23.750 |  23.780 |  24.712 |  26.756 |  26.2010 | ⋯ | 24.438 |  25.8670 |  27.2410 |  28.2490 |  28.318 |  27.377 |  25.6020 |  24.9470 |  23.060 |  23.049 |\n",
       "| 2018-01-28 | CPT |  22.660 |  19.166 |  19.027 |  19.115 |  19.087 |  19.406 |  21.698 |  22.4930 | ⋯ | 23.618 |  26.2440 |  27.4690 |  27.6830 |  26.428 |  26.015 |  24.2310 |  23.9130 |  22.560 |  21.241 |\n",
       "| 2018-01-29 | CPT |  19.380 |  19.273 |  19.129 |  21.434 |  23.028 |  25.764 |  28.070 |  25.0400 | ⋯ | 22.610 |  22.5170 |  23.1060 |  26.7070 |  27.145 |  26.992 |  27.1670 |  26.1700 |  24.660 |  22.837 |\n",
       "| 2018-01-30 | CPT |  25.363 |  23.691 |  23.609 |  24.579 |  27.448 |  34.298 |  36.958 |  37.9020 | ⋯ | 26.749 |  26.8630 |  28.9910 |  35.2790 |  35.994 |  39.654 |  36.8360 |  36.6240 |  37.917 |  35.698 |\n",
       "| ⋮ | ⋮ | ⋮ | ⋮ | ⋮ | ⋮ | ⋮ | ⋮ | ⋮ | ⋮ | ⋱ | ⋮ | ⋮ | ⋮ | ⋮ | ⋮ | ⋮ | ⋮ | ⋮ | ⋮ | ⋮ |\n",
       "| 2018-12-02 | CPT | 28.9048 | 27.4337 | 27.5737 | 27.1560 |  27.9893 |  28.8963 |  30.5754 |  32.7033 | ⋯ | 30.0637 | 31.2535 | 31.9040 | 34.2507 |  33.6858 |  33.0937 |  31.0197 | 30.1623 | 29.5267 | 29.2350 |\n",
       "| 2018-12-03 | CPT | 27.4919 | 26.4592 | 26.6263 | 28.1952 |  30.4184 |  35.6653 |  31.0836 |  33.4167 | ⋯ | 30.2491 | 31.7614 | 35.4472 | 46.3196 |  47.0155 |  51.2329 |  46.8435 | 48.6889 | 30.1873 | 29.1838 |\n",
       "| 2018-12-04 | CPT | 29.3020 | 29.0090 | 29.5598 | 30.4646 |  35.5803 |  50.0507 |  62.3992 |  53.1518 | ⋯ | 29.1279 | 29.9563 | 34.1061 | 54.2992 |  54.8019 |  56.3974 |  56.4049 | 55.0208 | 35.3403 | 30.4897 |\n",
       "| 2018-12-05 | CPT | 29.0969 | 28.7614 | 30.6414 | 36.0492 |  56.9788 |  56.6248 |  56.4049 |  55.5329 | ⋯ | 29.2777 | 31.3773 | 48.8772 | 68.0736 |  68.7040 |  69.2160 |  69.3956 | 70.6561 | 45.3782 | 34.6646 |\n",
       "| 2018-12-06 | CPT | 31.7918 | 31.4563 | 33.8974 | 49.7011 |  68.0250 |  70.7004 |  78.7508 |  70.6656 | ⋯ | 29.3493 | 30.8418 | 39.2857 | 59.3058 |  65.2487 |  60.0699 |  50.7733 | 47.3100 | 34.0552 | 31.3691 |\n",
       "| 2018-12-07 | CPT | 30.0944 | 29.2797 | 29.8694 | 31.4797 |  34.3319 |  47.8671 |  51.4923 |  47.9704 | ⋯ | 30.5059 | 31.2225 | 33.0919 | 34.1580 |  34.3541 |  35.6429 |  32.5577 | 31.7392 | 30.2239 | 29.1508 |\n",
       "| 2018-12-08 | CPT | 28.4290 | 27.9544 | 27.5595 | 27.6866 |  27.9617 |  28.7444 |  29.0380 |  30.2536 | ⋯ | 34.0320 | 44.2933 | 49.1281 | 57.9929 |  48.2937 |  47.8917 |  34.5218 | 32.8190 | 31.0238 | 30.1008 |\n",
       "| 2018-12-09 | CPT | 29.3049 | 28.9880 | 28.9648 | 29.2697 |  29.7817 |  30.4189 |  30.9049 |  32.6938 | ⋯ | 34.3398 | 46.1672 | 52.9907 | 49.9231 |  47.3140 |  51.5276 |  48.2718 | 38.2127 | 33.6555 | 31.1567 |\n",
       "| 2018-12-10 | CPT | 29.7850 | 29.1870 | 29.4530 | 30.6042 |  34.2210 |  48.9875 |  49.1422 |  49.4460 | ⋯ | 46.1827 | 48.4447 | 54.1903 | 61.6695 |  73.7756 |  62.9408 |  48.5732 | 48.5833 | 34.2121 | 30.4784 |\n",
       "| 2018-12-11 | CPT | 33.4689 | 45.1648 | 46.0858 | 45.9715 | 161.3400 | 161.3400 | 161.3400 | 161.3400 | ⋯ | 30.0003 | 30.2743 | 34.8557 | 50.4661 | 161.3400 | 161.3400 | 161.3400 | 62.5948 | 51.3771 | 48.2800 |\n",
       "| 2018-12-12 | CPT | 45.3052 | 39.3752 | 47.3647 | 54.9404 | 161.3400 | 161.3400 | 161.3400 | 161.1424 | ⋯ | 30.8093 | 32.8232 | 45.9105 | 47.1947 |  47.7254 |  51.0351 |  50.6669 | 45.7050 | 36.3206 | 30.7359 |\n",
       "| 2018-12-13 | CPT | 29.9336 | 29.2884 | 29.7918 | 33.3318 |  34.5718 |  55.4782 |  59.1736 |  62.6977 | ⋯ | 34.1363 | 37.5906 | 49.2307 | 41.2810 |  43.3684 |  49.4797 |  42.6429 | 42.4750 | 29.3744 | 27.6633 |\n",
       "| 2018-12-14 | CPT | 27.0743 | 26.5373 | 26.5505 | 27.0167 |  29.4766 |  30.5875 |  34.0779 |  34.0494 | ⋯ | 34.7509 | 42.9590 | 33.6039 | 48.8922 |  48.8519 |  33.8105 |  31.6629 | 29.3986 | 27.2966 | 26.9126 |\n",
       "| 2018-12-15 | CPT | 26.6190 | 26.0231 | 25.7195 | 25.9575 |  26.7719 |  27.3331 |  28.0070 |  28.2556 | ⋯ | 25.8532 | 26.7376 | 40.8099 | 37.1538 |  29.6176 |  27.8067 |  27.5391 | 26.0147 | 24.5586 | 24.6466 |\n",
       "| 2018-12-16 | CPT | 24.3254 | 24.0581 | 23.9850 | 23.8047 |  24.3381 |  25.3303 |  26.2083 |  26.6200 | ⋯ | 27.0789 | 32.1262 | 32.5462 | 33.4358 |  32.5268 |  31.4685 |  30.6884 | 30.3109 | 26.8794 | 25.3604 |\n",
       "| 2018-12-17 | CPT | 24.4222 | 23.7549 | 24.2763 | 25.0580 |  29.2147 |  33.1899 |  33.7510 |  36.3347 | ⋯ | 25.0401 | 30.8541 | 37.3515 | 36.1372 |  30.9991 |  39.4489 |  39.3673 | 31.1461 | 30.4882 | 28.5349 |\n",
       "| 2018-12-18 | CPT | 27.7243 | 27.2844 | 28.5994 | 40.4974 |  45.9208 |  46.0667 |  46.7811 |  50.4543 | ⋯ | 27.5944 | 35.3572 | 34.1316 | 33.8526 |  33.2480 |  33.0801 |  32.1029 | 30.5254 | 27.1478 | 24.7733 |\n",
       "| 2018-12-19 | CPT | 23.9111 | 23.5952 | 24.2071 | 26.8301 |  32.5813 |  36.6240 |  34.3003 |  33.9406 | ⋯ | 25.6696 | 28.1587 | 32.3126 | 31.4057 |  31.6551 |  27.8730 |  27.0574 | 27.0650 | 26.0014 | 23.9066 |\n",
       "| 2018-12-20 | CPT | 23.8197 | 23.3219 | 23.1723 | 24.1901 |  25.0804 |  26.4791 |  26.6391 |  27.9366 | ⋯ | 27.6425 | 26.7548 | 29.5492 | 34.4237 |  35.5052 |  31.1052 |  26.5704 | 25.8285 | 24.2179 | 23.2025 |\n",
       "| 2018-12-21 | CPT | 22.8607 | 22.7522 | 22.2456 | 22.9240 |  24.8726 |  33.3892 |  29.2807 |  32.4852 | ⋯ | 32.9021 | 33.1204 | 34.8423 | 41.5866 |  42.4101 |  41.8829 |  41.0279 | 35.0240 | 34.2801 | 31.9747 |\n",
       "| 2018-12-22 | CPT | 26.3755 | 26.1641 | 28.5504 | 32.0360 |  40.4307 |  41.6436 |  40.4841 |  32.4449 | ⋯ | 20.7814 | 22.5833 | 23.1599 | 23.4305 |  24.1873 |  25.4603 |  26.2099 | 28.5464 | 26.7626 | 25.2488 |\n",
       "| 2018-12-23 | CPT | 24.9841 | 24.6593 | 24.9059 | 25.0708 |  26.5204 |  32.7642 |  40.9663 |  40.7819 | ⋯ | 20.7904 | 22.0305 | 22.8762 | 23.1820 |  22.9335 |  22.6011 |  22.2722 | 21.4398 | 21.9712 | 21.4514 |\n",
       "| 2018-12-24 | CPT | 21.6427 | 21.8819 | 21.1710 | 22.0386 |  23.1352 |  24.8459 |  26.6975 |  33.8681 | ⋯ | 21.7177 | 21.8205 | 23.5919 | 23.9278 |  23.5104 |  24.2596 |  24.1320 | 24.2102 | 24.7371 | 25.8626 |\n",
       "| 2018-12-25 | CPT | 25.2359 | 24.0430 | 25.1725 | 25.6607 |  26.5725 |  39.9670 |  31.1390 |  31.5809 | ⋯ | 19.2837 | 21.6409 | 23.0871 | 23.5083 |  23.5073 |  24.0627 |  23.4428 | 23.4529 | 22.5883 | 22.2394 |\n",
       "| 2018-12-26 | CPT | 22.1364 | 22.1434 | 22.5052 | 23.7057 |  26.7066 |  25.9087 |  28.1263 |  25.3769 | ⋯ | 22.4148 | 23.1216 | 23.9558 | 25.2996 |  25.6103 |  24.9644 |  25.4467 | 26.7768 | 24.0961 | 24.6790 |\n",
       "| 2018-12-27 | CPT | 24.0553 | 22.8579 | 22.6909 | 23.2107 |  23.7202 |  23.9946 |  23.3364 |  23.2518 | ⋯ | 21.8590 | 25.5475 | 28.7882 | 24.8563 |  22.3999 |  22.2977 |  22.2915 | 24.9034 | 20.3975 | 20.0404 |\n",
       "| 2018-12-28 | CPT | 19.2163 | 18.7256 | 18.1925 | 18.8555 |  19.4520 |  20.0388 |  20.2266 |  20.5469 | ⋯ | 20.9246 | 21.0509 | 26.6094 | 24.3640 |  22.1502 |  20.7232 |  20.0159 | 19.5782 | 20.1626 | 20.0826 |\n",
       "| 2018-12-29 | CPT | 19.3783 | 19.0593 | 18.9037 | 18.8079 |  19.4043 |  19.2503 |  20.8096 |  21.0824 | ⋯ | 19.6721 | 20.1480 | 25.6914 | 27.9691 |  27.8192 |  26.7593 |  21.3095 | 20.1881 | 19.8602 | 19.5912 |\n",
       "| 2018-12-30 | CPT | 18.9672 | 18.7879 | 19.0664 | 18.8419 |  19.0284 |  19.7141 |  20.2065 |  20.6559 | ⋯ | 21.3185 | 22.6562 | 35.0141 | 40.0187 |  30.6184 |  28.2517 |  21.7570 | 28.2749 | 21.7228 | 19.9527 |\n",
       "| 2018-12-31 | CPT | 19.1563 | 18.8883 | 18.8607 | 19.0102 |  19.9073 |  23.8274 |  20.1839 |  19.3587 | ⋯ | 21.0378 | 22.1122 | 22.1122 | 27.6462 |  28.4753 |  21.6416 |  19.1722 | 20.7934 | 20.3334 | 20.0311 |\n",
       "\n"
      ],
      "text/plain": [
       "    date_val   timezone hour01  hour02  hour03  hour04  hour05   hour06  \n",
       "1   2018-01-01 CPT       26.935  28.190  33.558  34.005  36.075   35.430 \n",
       "2   2018-01-02 CPT      203.640 203.640 203.640 203.640 294.030  294.030 \n",
       "3   2018-01-03 CPT      339.740 255.060 255.060 255.060 294.030  294.030 \n",
       "4   2018-01-04 CPT       33.399  36.591  41.662 313.310 329.260  329.260 \n",
       "5   2018-01-05 CPT      520.001 454.860 454.860 520.057 530.605  530.729 \n",
       "6   2018-01-06 CPT      203.980 203.980 203.980 208.710 418.610  418.610 \n",
       "7   2018-01-07 CPT      244.040 244.040 201.930 257.140 201.930  201.930 \n",
       "8   2018-01-08 CPT       27.660  29.015  28.143  28.739  32.343   48.091 \n",
       "9   2018-01-09 CPT       21.029  19.629  20.035  20.111  22.414   27.702 \n",
       "10  2018-01-10 CPT       18.536  18.248  18.816  19.403  19.766   22.206 \n",
       "11  2018-01-11 CPT       18.629  19.223  19.359  19.635  21.184   22.895 \n",
       "12  2018-01-12 CPT       19.147  20.171  19.673  20.045  20.714   24.779 \n",
       "13  2018-01-13 CPT       29.352  30.106  32.739  33.823  35.351   34.902 \n",
       "14  2018-01-14 CPT      162.411 178.688 178.426 201.259 201.401  200.485 \n",
       "15  2018-01-15 CPT       30.944  31.965  28.727  30.260  31.456   35.350 \n",
       "16  2018-01-16 CPT       34.628  34.228  35.392  37.290  31.197   34.632 \n",
       "17  2018-01-17 CPT       33.457  34.365  33.934  31.180 172.470  208.540 \n",
       "18  2018-01-18 CPT      259.440 259.440 259.440 260.930 347.770  347.770 \n",
       "19  2018-01-19 CPT       29.073  34.833  35.721  35.860  45.128  104.211 \n",
       "20  2018-01-20 CPT       22.972  22.779  24.180  25.095  25.670   26.009 \n",
       "21  2018-01-21 CPT       21.591  21.228  21.757  22.145  25.128   24.762 \n",
       "22  2018-01-22 CPT       20.743  20.731  21.754  22.516  25.485   24.821 \n",
       "23  2018-01-23 CPT       20.571  19.680  19.422  20.998  22.093   28.130 \n",
       "24  2018-01-24 CPT       22.210  22.202  23.460  27.842  32.481   35.771 \n",
       "25  2018-01-25 CPT       25.406  26.201  27.782  28.163  29.386   34.812 \n",
       "26  2018-01-26 CPT       25.203  27.655  28.338  29.739  32.760   39.928 \n",
       "27  2018-01-27 CPT       25.627  24.387  23.746  23.750  23.780   24.712 \n",
       "28  2018-01-28 CPT       22.660  19.166  19.027  19.115  19.087   19.406 \n",
       "29  2018-01-29 CPT       19.380  19.273  19.129  21.434  23.028   25.764 \n",
       "30  2018-01-30 CPT       25.363  23.691  23.609  24.579  27.448   34.298 \n",
       "⋮   ⋮          ⋮        ⋮       ⋮       ⋮       ⋮       ⋮        ⋮       \n",
       "336 2018-12-02 CPT      28.9048 27.4337 27.5737 27.1560  27.9893  28.8963\n",
       "337 2018-12-03 CPT      27.4919 26.4592 26.6263 28.1952  30.4184  35.6653\n",
       "338 2018-12-04 CPT      29.3020 29.0090 29.5598 30.4646  35.5803  50.0507\n",
       "339 2018-12-05 CPT      29.0969 28.7614 30.6414 36.0492  56.9788  56.6248\n",
       "340 2018-12-06 CPT      31.7918 31.4563 33.8974 49.7011  68.0250  70.7004\n",
       "341 2018-12-07 CPT      30.0944 29.2797 29.8694 31.4797  34.3319  47.8671\n",
       "342 2018-12-08 CPT      28.4290 27.9544 27.5595 27.6866  27.9617  28.7444\n",
       "343 2018-12-09 CPT      29.3049 28.9880 28.9648 29.2697  29.7817  30.4189\n",
       "344 2018-12-10 CPT      29.7850 29.1870 29.4530 30.6042  34.2210  48.9875\n",
       "345 2018-12-11 CPT      33.4689 45.1648 46.0858 45.9715 161.3400 161.3400\n",
       "346 2018-12-12 CPT      45.3052 39.3752 47.3647 54.9404 161.3400 161.3400\n",
       "347 2018-12-13 CPT      29.9336 29.2884 29.7918 33.3318  34.5718  55.4782\n",
       "348 2018-12-14 CPT      27.0743 26.5373 26.5505 27.0167  29.4766  30.5875\n",
       "349 2018-12-15 CPT      26.6190 26.0231 25.7195 25.9575  26.7719  27.3331\n",
       "350 2018-12-16 CPT      24.3254 24.0581 23.9850 23.8047  24.3381  25.3303\n",
       "351 2018-12-17 CPT      24.4222 23.7549 24.2763 25.0580  29.2147  33.1899\n",
       "352 2018-12-18 CPT      27.7243 27.2844 28.5994 40.4974  45.9208  46.0667\n",
       "353 2018-12-19 CPT      23.9111 23.5952 24.2071 26.8301  32.5813  36.6240\n",
       "354 2018-12-20 CPT      23.8197 23.3219 23.1723 24.1901  25.0804  26.4791\n",
       "355 2018-12-21 CPT      22.8607 22.7522 22.2456 22.9240  24.8726  33.3892\n",
       "356 2018-12-22 CPT      26.3755 26.1641 28.5504 32.0360  40.4307  41.6436\n",
       "357 2018-12-23 CPT      24.9841 24.6593 24.9059 25.0708  26.5204  32.7642\n",
       "358 2018-12-24 CPT      21.6427 21.8819 21.1710 22.0386  23.1352  24.8459\n",
       "359 2018-12-25 CPT      25.2359 24.0430 25.1725 25.6607  26.5725  39.9670\n",
       "360 2018-12-26 CPT      22.1364 22.1434 22.5052 23.7057  26.7066  25.9087\n",
       "361 2018-12-27 CPT      24.0553 22.8579 22.6909 23.2107  23.7202  23.9946\n",
       "362 2018-12-28 CPT      19.2163 18.7256 18.1925 18.8555  19.4520  20.0388\n",
       "363 2018-12-29 CPT      19.3783 19.0593 18.9037 18.8079  19.4043  19.2503\n",
       "364 2018-12-30 CPT      18.9672 18.7879 19.0664 18.8419  19.0284  19.7141\n",
       "365 2018-12-31 CPT      19.1563 18.8883 18.8607 19.0102  19.9073  23.8274\n",
       "    hour07   hour08   ⋯ hour15  hour16   hour17   hour18   hour19   hour20  \n",
       "1    41.828   35.3470 ⋯ 36.296   33.8530  39.0320 205.5950 294.030  294.030 \n",
       "2   339.740  339.7400 ⋯ 37.798   34.4520 294.0300 294.0300 294.030  294.030 \n",
       "3   294.030  294.0300 ⋯ 36.962   38.4570  34.4070 228.9300 228.930  228.930 \n",
       "4   329.260  380.3357 ⋯ 37.872   41.0610 331.5950 419.8940 424.110  454.860 \n",
       "5   530.729  454.8600 ⋯ 33.930   34.3460  46.2920 168.1890  41.057   43.341 \n",
       "6   418.610  418.6100 ⋯ 36.791  252.9413 159.0917 159.6169 205.650  205.650 \n",
       "7   201.930  350.7882 ⋯ 37.583   39.3140 365.3110  45.6890 201.930  201.930 \n",
       "8   204.220  205.6500 ⋯ 33.140   32.8330  31.5260  33.4950  33.601   31.680 \n",
       "9    31.594   27.4020 ⋯ 19.993   19.9950  20.1380  20.1780  20.182   20.058 \n",
       "10   24.995   20.8340 ⋯ 19.887   19.9040  20.3640  23.0510  20.847   20.489 \n",
       "11   25.687   21.7080 ⋯ 22.062   22.3420  26.3120  27.1730  25.245   20.866 \n",
       "12   26.236   25.9510 ⋯ 26.332   24.8650  27.2610  28.6520  27.968   28.717 \n",
       "13   33.835   34.7400 ⋯ 31.911   32.0340  35.7890  40.0880  43.429   38.763 \n",
       "14  188.344  190.4440 ⋯ 27.391   26.5010  28.5150  35.8970  36.402   38.214 \n",
       "15   39.565   36.6500 ⋯ 26.627   26.9820  29.3440  34.9940  35.054   36.314 \n",
       "16   36.869   37.8990 ⋯ 33.202   35.7490  40.6680 202.8160  38.906   37.088 \n",
       "17  346.060  346.0600 ⋯ 44.798   43.4650 259.4400 347.7700 347.770  347.770 \n",
       "18  347.770  347.7700 ⋯ 29.039   29.5230  37.6320  38.1100  38.094   35.596 \n",
       "19  175.287  270.7642 ⋯ 22.426   22.5700  24.7870  24.3080  24.812   25.739 \n",
       "20   27.617   26.5980 ⋯ 19.272   20.0740  21.6370  23.6570  22.444   22.404 \n",
       "21   27.252   26.4400 ⋯ 21.328   22.3210  27.0810  28.5520  29.438   27.434 \n",
       "22   27.184   26.0580 ⋯ 23.853   22.4990  24.9620  27.5610  27.243   27.704 \n",
       "23   27.506   28.5370 ⋯ 20.740   21.0490  22.5090  28.4870  28.225   30.544 \n",
       "24   35.314   34.7660 ⋯ 23.500   24.7980  25.6460  28.2310  30.588   33.350 \n",
       "25   46.747   40.2290 ⋯ 23.540   23.9140  26.6280  29.6110  29.253   28.590 \n",
       "26   54.468   42.9960 ⋯ 24.076   23.3110  24.7640  26.9270  27.050   27.405 \n",
       "27   26.756   26.2010 ⋯ 24.438   25.8670  27.2410  28.2490  28.318   27.377 \n",
       "28   21.698   22.4930 ⋯ 23.618   26.2440  27.4690  27.6830  26.428   26.015 \n",
       "29   28.070   25.0400 ⋯ 22.610   22.5170  23.1060  26.7070  27.145   26.992 \n",
       "30   36.958   37.9020 ⋯ 26.749   26.8630  28.9910  35.2790  35.994   39.654 \n",
       "⋮   ⋮        ⋮        ⋱ ⋮       ⋮        ⋮        ⋮        ⋮        ⋮       \n",
       "336  30.5754  32.7033 ⋯ 30.0637 31.2535  31.9040  34.2507   33.6858  33.0937\n",
       "337  31.0836  33.4167 ⋯ 30.2491 31.7614  35.4472  46.3196   47.0155  51.2329\n",
       "338  62.3992  53.1518 ⋯ 29.1279 29.9563  34.1061  54.2992   54.8019  56.3974\n",
       "339  56.4049  55.5329 ⋯ 29.2777 31.3773  48.8772  68.0736   68.7040  69.2160\n",
       "340  78.7508  70.6656 ⋯ 29.3493 30.8418  39.2857  59.3058   65.2487  60.0699\n",
       "341  51.4923  47.9704 ⋯ 30.5059 31.2225  33.0919  34.1580   34.3541  35.6429\n",
       "342  29.0380  30.2536 ⋯ 34.0320 44.2933  49.1281  57.9929   48.2937  47.8917\n",
       "343  30.9049  32.6938 ⋯ 34.3398 46.1672  52.9907  49.9231   47.3140  51.5276\n",
       "344  49.1422  49.4460 ⋯ 46.1827 48.4447  54.1903  61.6695   73.7756  62.9408\n",
       "345 161.3400 161.3400 ⋯ 30.0003 30.2743  34.8557  50.4661  161.3400 161.3400\n",
       "346 161.3400 161.1424 ⋯ 30.8093 32.8232  45.9105  47.1947   47.7254  51.0351\n",
       "347  59.1736  62.6977 ⋯ 34.1363 37.5906  49.2307  41.2810   43.3684  49.4797\n",
       "348  34.0779  34.0494 ⋯ 34.7509 42.9590  33.6039  48.8922   48.8519  33.8105\n",
       "349  28.0070  28.2556 ⋯ 25.8532 26.7376  40.8099  37.1538   29.6176  27.8067\n",
       "350  26.2083  26.6200 ⋯ 27.0789 32.1262  32.5462  33.4358   32.5268  31.4685\n",
       "351  33.7510  36.3347 ⋯ 25.0401 30.8541  37.3515  36.1372   30.9991  39.4489\n",
       "352  46.7811  50.4543 ⋯ 27.5944 35.3572  34.1316  33.8526   33.2480  33.0801\n",
       "353  34.3003  33.9406 ⋯ 25.6696 28.1587  32.3126  31.4057   31.6551  27.8730\n",
       "354  26.6391  27.9366 ⋯ 27.6425 26.7548  29.5492  34.4237   35.5052  31.1052\n",
       "355  29.2807  32.4852 ⋯ 32.9021 33.1204  34.8423  41.5866   42.4101  41.8829\n",
       "356  40.4841  32.4449 ⋯ 20.7814 22.5833  23.1599  23.4305   24.1873  25.4603\n",
       "357  40.9663  40.7819 ⋯ 20.7904 22.0305  22.8762  23.1820   22.9335  22.6011\n",
       "358  26.6975  33.8681 ⋯ 21.7177 21.8205  23.5919  23.9278   23.5104  24.2596\n",
       "359  31.1390  31.5809 ⋯ 19.2837 21.6409  23.0871  23.5083   23.5073  24.0627\n",
       "360  28.1263  25.3769 ⋯ 22.4148 23.1216  23.9558  25.2996   25.6103  24.9644\n",
       "361  23.3364  23.2518 ⋯ 21.8590 25.5475  28.7882  24.8563   22.3999  22.2977\n",
       "362  20.2266  20.5469 ⋯ 20.9246 21.0509  26.6094  24.3640   22.1502  20.7232\n",
       "363  20.8096  21.0824 ⋯ 19.6721 20.1480  25.6914  27.9691   27.8192  26.7593\n",
       "364  20.2065  20.6559 ⋯ 21.3185 22.6562  35.0141  40.0187   30.6184  28.2517\n",
       "365  20.1839  19.3587 ⋯ 21.0378 22.1122  22.1122  27.6462   28.4753  21.6416\n",
       "    hour21   hour22   hour23  hour24 \n",
       "1   294.0300 294.0300 203.640 203.640\n",
       "2   294.0300 339.7400 339.740 339.740\n",
       "3   228.9300 228.9300 228.930  37.042\n",
       "4   454.8600 529.5180 519.966 454.860\n",
       "5    46.6370 418.6100 418.610 203.980\n",
       "6   205.6500 205.6500 205.650 244.040\n",
       "7   176.6292 166.0164  33.969  32.644\n",
       "8    29.9410  27.9280  25.998  21.320\n",
       "9    19.7810  19.1870  18.936  19.211\n",
       "10   21.0850  20.0220  19.777  19.859\n",
       "11   21.3440  21.6140  20.604  20.454\n",
       "12   28.9270  32.7460  33.183  29.981\n",
       "13   42.3270  63.2190 178.061 176.683\n",
       "14   33.6890  35.2410  36.333  35.286\n",
       "15   33.8420  33.4080  34.335  31.515\n",
       "16   38.2520  35.5090  34.281  37.605\n",
       "17  347.7700 347.7700 259.440 259.440\n",
       "18   35.8930  35.6530  30.770  29.106\n",
       "19   26.4810  26.3750  26.530  24.833\n",
       "20   22.3840  21.8910  21.518  21.506\n",
       "21   25.7210  23.0480  22.079  21.601\n",
       "22   27.9020  23.7850  22.823  21.788\n",
       "23   29.4340  29.9790  25.690  22.483\n",
       "24   33.0440  29.7270  28.262  26.741\n",
       "25   34.6410  29.9660  27.697  25.734\n",
       "26   27.0940  26.9130  28.224  27.214\n",
       "27   25.6020  24.9470  23.060  23.049\n",
       "28   24.2310  23.9130  22.560  21.241\n",
       "29   27.1670  26.1700  24.660  22.837\n",
       "30   36.8360  36.6240  37.917  35.698\n",
       "⋮   ⋮        ⋮        ⋮       ⋮      \n",
       "336  31.0197 30.1623  29.5267 29.2350\n",
       "337  46.8435 48.6889  30.1873 29.1838\n",
       "338  56.4049 55.0208  35.3403 30.4897\n",
       "339  69.3956 70.6561  45.3782 34.6646\n",
       "340  50.7733 47.3100  34.0552 31.3691\n",
       "341  32.5577 31.7392  30.2239 29.1508\n",
       "342  34.5218 32.8190  31.0238 30.1008\n",
       "343  48.2718 38.2127  33.6555 31.1567\n",
       "344  48.5732 48.5833  34.2121 30.4784\n",
       "345 161.3400 62.5948  51.3771 48.2800\n",
       "346  50.6669 45.7050  36.3206 30.7359\n",
       "347  42.6429 42.4750  29.3744 27.6633\n",
       "348  31.6629 29.3986  27.2966 26.9126\n",
       "349  27.5391 26.0147  24.5586 24.6466\n",
       "350  30.6884 30.3109  26.8794 25.3604\n",
       "351  39.3673 31.1461  30.4882 28.5349\n",
       "352  32.1029 30.5254  27.1478 24.7733\n",
       "353  27.0574 27.0650  26.0014 23.9066\n",
       "354  26.5704 25.8285  24.2179 23.2025\n",
       "355  41.0279 35.0240  34.2801 31.9747\n",
       "356  26.2099 28.5464  26.7626 25.2488\n",
       "357  22.2722 21.4398  21.9712 21.4514\n",
       "358  24.1320 24.2102  24.7371 25.8626\n",
       "359  23.4428 23.4529  22.5883 22.2394\n",
       "360  25.4467 26.7768  24.0961 24.6790\n",
       "361  22.2915 24.9034  20.3975 20.0404\n",
       "362  20.0159 19.5782  20.1626 20.0826\n",
       "363  21.3095 20.1881  19.8602 19.5912\n",
       "364  21.7570 28.2749  21.7228 19.9527\n",
       "365  19.1722 20.7934  20.3334 20.0311"
      ]
     },
     "metadata": {},
     "output_type": "display_data"
    }
   ],
   "source": [
    "lambda_data"
   ]
  },
  {
   "cell_type": "markdown",
   "id": "69456d7a-7e85-4cdb-9965-38e721464bd1",
   "metadata": {},
   "source": []
  }
 ],
 "metadata": {
  "kernelspec": {
   "display_name": "R",
   "language": "R",
   "name": "ir"
  },
  "language_info": {
   "codemirror_mode": "r",
   "file_extension": ".r",
   "mimetype": "text/x-r-source",
   "name": "R",
   "pygments_lexer": "r",
   "version": "4.2.2"
  }
 },
 "nbformat": 4,
 "nbformat_minor": 5
}
