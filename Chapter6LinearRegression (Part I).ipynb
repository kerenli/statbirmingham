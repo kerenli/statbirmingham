{
 "cells": [
  {
   "cell_type": "markdown",
   "id": "f0191383-ddcb-4578-b05e-380d492dd892",
   "metadata": {
    "tags": []
   },
   "source": [
    "## Chapter 6 Linear Regression\n",
    "#### MA189 Statistics and Big Data in Birmingham (with R)\n",
    "##### -- _Blazer Core: City as Classroom Series_"
   ]
  },
  {
   "cell_type": "markdown",
   "id": "11a4fa14-30a4-4c96-a9a2-831b2dacc2e5",
   "metadata": {},
   "source": [
    "Course Website: [Github.com/kerenli/statbirmingham/](https://github.com/kerenli/statbirmingham/)\n"
   ]
  },
  {
   "cell_type": "markdown",
   "id": "08d2fcf2-b953-42cd-a4a9-e97a943a7e1b",
   "metadata": {},
   "source": [
    "#### Levels:\n",
    "<div class=\"alert-success\"> Concepts and general information</div>\n",
    "<div class=\"alert-warning\"> Important methods and technique details </div>\n",
    "<div class=\"alert-info\"> Extended reading </div>\n",
    "<div class=\"alert-danger\"> (Local) Examples, assignments, and <b>Practice in Birmingham</b> </div>"
   ]
  },
  {
   "cell_type": "markdown",
   "id": "e10ffc19",
   "metadata": {},
   "source": [
    "##### <div class=\"alert alert-block alert-success\"> Introduction </div>\n",
    "\n",
    "As an introduction, consider the first 10 minutes of the following video from the UAB School of Public Health on Maternal Mortality Rates (maternal deaths per 100,000 live births) in the U.S. that emphasizes a major issue that this country is facing and highlights the racial inequity evident in these outcomes. (You are welcome to watch more to learn about how Maternal Mortality Committees are striving to improve health outcomes). \n",
    "\n",
    "[![Video: Alabama’s Maternal Mortality Crisis](https://www.youtube.com/watch?v=oEXDuGfLJvk)](https://www.youtube.com/watch?v=oEXDuGfLJvk)\n",
    "\n",
    "To be able to to see the racial disparities bar graph shown in the talk a bit clearer, I include it here:\n",
    "\n",
    "\n",
    "<p align=\"center\">\n",
    "    <img src=\"../pics/US MMR by race.png\" alt=\"Figure 1\" style=\"width:70%;\"/>\n",
    "</p>\n",
    "\n",
    "\n",
    "Pairing this guest talk with the following bar graph, we see that the U.S. was (sadly) the leading country in maternal deaths for industrialized nations in 2018.\n",
    "\n",
    "\n",
    "<p align=\"center\">\n",
    "    <img src=\"../pics/High_MMR_US.png\" alt=\"Figure 1\" style=\"width:70%;\"/>\n",
    "</p>\n",
    "\n",
    "\n",
    "To highlight a bit closer to our area, consider the following data visualizations that emphasize the severity of the issue in the southeast region, and particularly in Alabama (maternal mortality per 100,000 live births // pregnancy-related mortality ratios). \n",
    "\n",
    "\n",
    "<p align=\"center\">\n",
    "    <img src=\"../pics/Southeast MMR 2018 cropped.png\" alt=\"Figure 1\" style=\"width:70%;\"/>\n",
    "</p>\n",
    "\n",
    "\n",
    "<p align=\"center\">\n",
    "    <img src=\"../pics/Alabama MMR 2018-2021.png\" alt=\"Figure 1\" style=\"width:70%;\"/>\n",
    "</p>\n",
    "\n",
    "\n",
    "So, what does this have to do with our chapter on linear regression? Consider the following infographic. \n",
    "\n",
    "<p align=\"center\">\n",
    "    <img src=\"../pics/US MMR line graph.png\" alt=\"Figure 1\" style=\"width:70%;\"/>\n",
    "</p>\n",
    "\n",
    "We can see for this brief timeline that there is approximately a linear relationship between the year and the Maternal Mortality Rate. Later, you will find exactly what that relationship is in order to make some predictions and conclusions. \n",
    "\n",
    "\n",
    "\n",
    "\n",
    "-----\n",
    "\n",
    "In case you are interested in practices of other countries, here's some more data and information to process for your enrichment! \n",
    "\n",
    "<p align=\"center\">\n",
    "    <img src=\"../pics/US price.png\" alt=\"Figure 1\" style=\"width:70%;\"/>\n",
    "</p>\n",
    "\n",
    "\n",
    "<p align=\"center\">\n",
    "    <img src=\"../pics/Midwives.png\" alt=\"Figure 1\" style=\"width:70%;\"/>\n",
    "</p>\n",
    "\n",
    "<p align=\"center\">\n",
    "    <img src=\"../pics/Midwives 2.png\" alt=\"Figure 1\" style=\"width:70%;\"/>\n",
    "</p>\n",
    "\n",
    "\n",
    "<p align=\"center\">\n",
    "    <img src=\"../pics/Non-US Practices.png\" alt=\"Figure 1\" style=\"width:70%;\"/>\n",
    "</p>\n"
   ]
  },
  {
   "cell_type": "markdown",
   "id": "56165b08",
   "metadata": {},
   "source": [
    "<div class=\"alert alert-block alert-danger\">\n",
    "    <b>Application in Birmingham from Area of Public Health: Alabama's Maternal Mortality Health Crisis </b>\n",
    "</div>\n",
    "\n",
    "The Introduction section above comprising of a guest lecture by Dr. Martha S. Wingate from the UAB School of Public Helath on the Maternity Mortality Crisis here in the state of Alabama (ranking 4th with the highest maternal mortality rate in 2018-2021) provides a motivation for this chapter to investigate this trend more closely using linear regression. The information provided above also serves as a review for data visualization techniques we have discussed so far in this course."
   ]
  },
  {
   "cell_type": "markdown",
   "id": "a4551389-5dd1-40c7-bb90-703d77d5f06a",
   "metadata": {
    "tags": []
   },
   "source": [
    "### Simple Linear Regression\n",
    "\n",
    "This refers to the modeling of a linear relationship between two variables."
   ]
  },
  {
   "cell_type": "markdown",
   "id": "6a54bb4c-b454-4956-8be7-24b6c4809554",
   "metadata": {
    "tags": []
   },
   "source": [
    "##### <div class=\"alert alert-block alert-success\"> Regression analysis </div>\n",
    "* __Regression analysis__ is a statistical methodology to estimate the relationship of a response variable to a set of predictor variables.\n",
    "* When there is just one predictor variable, we will use __simple linear regression__. When there are two or more predictor variables, we use __multiple linear regression__.\n",
    "* When  it is not clear which variable represents a response and which is a predictor, __correlation analysis__ is used to study the strength of the relationship.\n",
    "\n",
    "\n",
    "\n",
    "* Scatterplots are helpful to organize data visually between two quantitative variables with the $x$-axis as the explanatory (or predictor) variable and the $y$-axis as the response variable. \n",
    "\n",
    "  Form: linear (what we will focus on), parabolic, non-linear, very scattered <br>\n",
    "  Strength: none, weak, moderate, strong<br>\n",
    "  Outliers: unusal points, gaps <br>\n",
    "  Strength of Association: if linear, positive (increases left to right) or negative (decreases left to right) <br><br>\n",
    "  \n",
    "  \n",
    "* Correlation coefficient $r$: only appropriate for a linear association<br>\n",
    "$-1\\leq r\\leq 1$<br>\n",
    "Strong associations are close to -1 or 1; weak are close to 0<br>\n",
    "$r>0$ means positive association; $r<0$ means negative association<br>\n",
    "\n",
    "Note: \n",
    "An $r$ value with magnitude of 0.8 or greater represents a strong association between the predictor and response variables.\n",
    "\n",
    "\n"
   ]
  },
  {
   "cell_type": "markdown",
   "id": "92f2c994-926e-45a1-a1e1-c2827e7d1715",
   "metadata": {},
   "source": [
    "<div class=\"alert alert-block alert-danger\">\n",
    "<b>Application</b>: Sales and Advertising Budget\n",
    "</div>\n",
    "\n",
    "In lab, you will use the `marketing` dataset from `datarium` (Data Bank for Statistical Analysis and Visualization) package. It contains the impact of three advertising medias (youtube, facebook and newspaper) on sales. Data are the advertising budget in thousands of dollars along with the sales. The advertising experiment has been repeated 200 times with different budgets and the observed sales have been recorded. We may be interested to see if there is a strong enough relationship between advertising budgets and `sales`  to investigate further with regression analysis. We will begin with just one advertising budget category (`youtube`) to begin with a one predictor variable case (so that it's simple linear regression). "
   ]
  },
  {
   "cell_type": "markdown",
   "id": "338168cc",
   "metadata": {},
   "source": [
    "The scatterplot given below shows the relationship between the advertising budget on youtube to sales with a calculated correlation coefficient between the two variables being about $r=0.8$. It shows there is a strong correlation between the `youtube` advertising budget and `sales` which is preliminary work to justify performing a simple linear regression analysis.\n",
    "\n"
   ]
  },
  {
   "cell_type": "markdown",
   "id": "9370490e",
   "metadata": {},
   "source": [
    "<p align=\"center\">\n",
    "    <img src=\"../pics/youtube sales scatterplot.png\" alt=\"Figure 1\" style=\"width:70%;\"/>\n",
    "</p>\n"
   ]
  },
  {
   "cell_type": "markdown",
   "id": "0e48e8cd-0976-4452-9c02-f8b9090bf097",
   "metadata": {},
   "source": [
    "##### <div class=\"alert alert-block alert-info\"> Short history </div>\n",
    "* The earliest form of linear regression was the method of least squares, which was published by _Legendre_ in 1805, and by _Gauss_ in 1809. \n",
    "* The method was extended by _Francis Galton_ in the 19th century to describe a biological phenomenon.\n",
    "* This work was extended by _Karl Pearson_ and _Udny Yule_ to a more general statistical context around 20th century.\n",
    "\n"
   ]
  },
  {
   "cell_type": "markdown",
   "id": "fff373f3-c74d-47a4-a261-7fc9aff4d752",
   "metadata": {},
   "source": [
    "##### <div class=\"alert alert-block alert-success\">Least Squares Line</div>\n",
    "\n",
    "This is a method used to find the best fit line within a linear regression model by minimizing the sum of squared errors between the data points and the line. \n",
    "\n",
    "Specific notation of the __predictor variable ($x$)__ and\n",
    "corresponding values of the __response variable ($Y$)__\n",
    "* data: $(x_1, y_1), (x_2, y_2), \\dots, (x_n, y_n)$.\n",
    "* $y_i$: observed value of the random variable $Y_i$ based on $x_i$.\n",
    "\n",
    "The least squares regression line requires that the sum of squares of the vertical distances from the data points $(x_i,y_i)$ to the line is as small as possible. In other words, this is a line of best fit by taking into account all of the data points - so it is not resistant to outliers.\n",
    "\n",
    "* The __residual__ is the difference between the actual value and the predicted value on the regression line. <br>\n",
    "* The __slope__ is the amount that the response variable on the regression line changes when the predictor variable changes by 1 unit. <br>\n",
    "* The $y$-intercept is the predicted value of the response variable on the regression line when the predictor variable is 0. <br>\n",
    "* The regression line passes through the point $(\\bar{x},\\bar{y})$.<br>\n",
    "\n",
    "* __Interpolating__ is predicting the value of the response variable for predictor values that are *in between* observed values. <br>\n",
    "* __Extrapolating__ is predicting the value of the response variable for predictor values that are *beyond* observed values. <br>\n",
    "\n",
    "* __*r*$^2$__ is the square of the sample correlation coefficient and it represents the proportion of variation in the response variable that can be explained by the variation in the predictor variable using the least squares regression line. \n",
    "\n",
    "Notes: \n",
    "* Extrapolating can produce unrealistic forecasts. <br>\n",
    "* Association (or correlation) does NOT imply causation. <br>\n",
    "\n",
    "\n",
    "The regression line which is the best estimate considering all of the data points is given by:\n",
    "\\begin{equation}\n",
    "\\hat y=a + b x\n",
    "\\end{equation}\n",
    "\n",
    "\n"
   ]
  },
  {
   "cell_type": "markdown",
   "id": "2b73cb2c",
   "metadata": {},
   "source": [
    "<div class=\"alert alert-block alert-danger\">\n",
    "<b>Local Example</b>: Least Squares Regression Line \n",
    "</div>\n",
    "\n",
    "The following graph has data points plotted for the total COVID-19 cases in Alabama for certain dates in 2020 (based on number of days after March 29th, 2020 where March 29th is considered day 1 and April 7th day 10). The least squares regression line is plotted to show the best fit of a line that explains the relationship between time and COVID-19 cases for Alabama in this timeframe. \n",
    "\n",
    "\n",
    "<p align=\"center\">\n",
    "    <img src=\"../pics/AL COVID.png\" alt=\"Figure 1\" style=\"width:70%;\"/>\n",
    "</p>"
   ]
  },
  {
   "cell_type": "markdown",
   "id": "ba68dd88",
   "metadata": {},
   "source": [
    "Why is the linear regression line helpful or important to know?"
   ]
  },
  {
   "cell_type": "markdown",
   "id": "24012098",
   "metadata": {},
   "source": [
    "#### Your answer:"
   ]
  },
  {
   "cell_type": "markdown",
   "id": "7a6f6d07-cda2-4767-bddd-11d39726839e",
   "metadata": {},
   "source": [
    "<div class=\"alert alert-block alert-danger\">\n",
    "    <b>Student Application Practice:</b> US Maternal Mortality Rates\n",
    "</div>\n",
    "\n",
    "Consider the information provided at the beginning of this chapter regarding Maternal Mortality Rates. Now, let's dive into the following report from the CDC on Maternal Mortality Rates (MMR) from 2018-2022 (page 6). \n",
    "https://www.cdc.gov/nchs/data/hestat/maternal-mortality/2022/maternal-mortality-rates-2022.pdf\n",
    "\n",
    "1. Find the linear regression line that approximates the trend of MMR from 2018-2022.\n",
    "2. What is the explanatory variable?\n",
    "3. What is the response variable?\n",
    "4. True or False: The regression line from 2018-2022 proves that the passing of time causes the MMR to increase. \n",
    "5. What is the slope of the regression line? What does this mean in this context?\n",
    "6. What is the $y$-intercept of the regression line? What does this mean in this context?\n",
    "7. Use your equation of the regression line to predict the MMR for the year 2023. Is it reasonable to do this?\n",
    "8. Use your equation of the regression line to predict the MMR for the year 2044. Is it reasonable to do this?\n",
    "9. Predict the year when the MMR is 40. (Let's hope this doesn't happen).\n",
    "\n",
    "\n",
    "\n",
    "\n",
    "\n",
    "\n"
   ]
  },
  {
   "cell_type": "code",
   "execution_count": 10,
   "id": "83fb8117",
   "metadata": {},
   "outputs": [
    {
     "data": {
      "text/plain": [
       "\n",
       "Call:\n",
       "lm(formula = rate ~ year)\n",
       "\n",
       "Coefficients:\n",
       "(Intercept)         year  \n",
       "      18.78         2.26  \n"
      ]
     },
     "metadata": {},
     "output_type": "display_data"
    },
    {
     "data": {
      "image/png": "[encoded data removed]",
      "text/plain": [
       "Plot with title “US Maternal Mortality Rates 2018-2022”"
      ]
     },
     "metadata": {
      "image/png": {
       "height": 420,
       "width": 420
      }
     },
     "output_type": "display_data"
    }
   ],
   "source": [
    "#finding regression line \n",
    "year <- c(0, 1, 2, 3, 4) #represents year since 2018\n",
    "rate <- c(17.4, 20.1, 23.8, 32.9, 22.3)\n",
    "plot(year, rate, pch = 16, cex = 1.3, col = \"blue\", main = \"US Maternal Mortality Rates 2018-2022\", xlab=\"number of years since 2018\", ylab=\"MMR per 100,000 live births\")\n",
    "lm(rate ~ year)\n",
    "abline(18.78, 2.26)\n",
    "abline(lm(rate ~ year))"
   ]
  },
  {
   "cell_type": "markdown",
   "id": "2b1d1900",
   "metadata": {},
   "source": [
    "#### Your Answer:"
   ]
  },
  {
   "cell_type": "markdown",
   "id": "714eeeef",
   "metadata": {},
   "source": [
    "### Regression Inference"
   ]
  },
  {
   "cell_type": "markdown",
   "id": "6bf9203d",
   "metadata": {},
   "source": [
    "##### <div class=\"alert alert-block alert-success\">Overview and Conditions </div>\n",
    "\n",
    "When we see a linear relationship between variables on a scatterplot, if data are from a larger population, we need statistical inference to answer questions like: \n",
    "- Is there really a linear relationship between $x$ and $y$ in the population or did the relationship in the scatterplot arise by chance? (i.e. want to test if it is a statistically significant linear relationship) \n",
    "- What is the slope, including a margin of error for the estimate of the slope?\n",
    "- How accurate is our least-squares line with a margin of error? \n",
    "\n",
    "Process of inference for a population: think about $a$ and $b$ as statistics (they are the slope and intercept based on a small sample of data but with a different set of data, may have different values so they are estimates or sample statistics of unknown parameters that describe the entire population of interest). \n",
    "\n",
    "Conditions for Regression Inference \n",
    "* For a fixed value of $x$, the response variable $y$ varies according to a normal distribution and repeated $y$ values are independent of each other. \n",
    "* The mean response, $\\mu$, has a linear relationship with $x$ given by a population regression line: $\\mu=\\alpha+\\beta x$ where $\\alpha$ and $\\beta$ are unknown. (In other words, the mean of the response variable $y$ moves along this line as the explanatory variable $x$ takes different values).\n",
    "* The standard deviation of the response variable $y$ (call it $\\sigma$) is unknown and is the same for all values of $x$. \n",
    "\n",
    "\n",
    "<p align=\"center\">\n",
    "    <img src=\"../pics/regression sd.jpg\" alt=\"Figure 1\" style=\"width:70%;\"/>\n",
    "</p>\n",
    "\n",
    "\n",
    "So, we must estimate 3 population parameters from the data: $a$, $\\beta$, and $\\sigma.$ We can use our least squares regression line to estimate $\\alpha$ (which is $a$) and $\\beta$ (which is $b$) so we still need to estimate $\\sigma.$\n",
    "\n",
    "\n",
    "The least squares line estimates the population regression line. So the residuals (error from data points to line: $y_i- \\hat y_i$) measures how much $y$ varies about the population regression line and there are $n$ of them (for each data point). \n",
    "\n",
    "Therefore, we estimate $\\sigma$ (the standard deviation of responses about the population regression line) by a sample standard deviation of residuals, called __regression standard error__ (or __residual standard error__):\n",
    "$RSE=\\sqrt{\\frac{1}{n-2}\\Sigma(y_i-\\hat y_i)^2}$  \n",
    "\n",
    "* Result: An unbiased estimate of $\\sigma^2$ is given by\n",
    "\n",
    "\\begin{equation}\n",
    "\\hat\\sigma^2=\\frac{1}{n-2}\\Sigma(y_i-\\hat y_i)^2\n",
    "\\end{equation}\n",
    "\n",
    "\n"
   ]
  },
  {
   "cell_type": "markdown",
   "id": "5afdf7fc",
   "metadata": {},
   "source": [
    "##### <div class=\"alert alert-block alert-warning\">Summary outputs</div>\n",
    "\n",
    "We can display the statistical summary of the regression model via R function `summary()`."
   ]
  },
  {
   "cell_type": "markdown",
   "id": "1123909e",
   "metadata": {},
   "source": [
    "\n",
    "<p align=\"center\">\n",
    "    <img src=\"../pics/summary model.png\" alt=\"Figure 1\" style=\"width:70%;\"/>\n",
    "</p>"
   ]
  },
  {
   "cell_type": "markdown",
   "id": "f7bc6e9b-2002-4f22-88c1-15448af2e821",
   "metadata": {},
   "source": [
    "##### <div class=\"alert alert-block alert-success\">Statistical Summary Table</div>\n",
    "    \n",
    "* Call. Shows the function call used to compute the regression model.\n",
    "* __Residuals__ (error). Provide a quick view of the distribution of the residuals, which by definition have a mean zero. Therefore, the median should not be far from zero, and the minimum and maximum should be roughly equal in absolute value.\n",
    "* __Residual standard error__ (RSE) is the residual variation, representing the average variation of the observation points around the fitted regression line. This is the standard deviation of residual errors.\n",
    "\n",
    "    $RSE=\\sqrt{\\frac{1}{n-2}\\Sigma(y_i-\\hat y_i)^2}$  \n",
    "    \n",
    "    In our example, $RSE = 3.91$, meaning that the observed sales values deviate from the true regression line by approximately 3.9 units in average.\n",
    "    \n",
    "* __R-squared__ ($R^2$). \n",
    "\n",
    "    A high value of $R^2$ is a good indication. However, as the value of $R^2$ tends to increase when more predictors are added in the model, such as in multiple linear regression model, you should mainly consider the adjusted R-squared, which is a penalized $R^2$ for a higher number of predictors.\n",
    "    \n",
    "* __$F$-statistic__ \n",
    "\n",
    "    The $F$-statistic gives the overall significance of the model. It assess whether at least one predictor variable has a non-zero coefficient. In a simple linear regression, this test is not really interesting since it just duplicates the information given by the $t$-test, available in the coefficient table.  In fact, the F test is identical to the square of the $t$-test: $312.1 = (17.67)^2$. This is true in any model with 1 degree of freedom.\n",
    "    \n",
    "    \n",
    "##### <div class=\"alert alert-block alert-success\">Coefficients Table </div>\n",
    "* __Coefficients__. Shows the regression coefficients and their statistical significance. Predictor variables, that are significantly associated to the outcome variable, are marked by stars.\n",
    "* The __estimates__ of the coefficients ($a$ and $b$)\n",
    "* The __standard errors__ (SE), which defines the accuracy of regression coefficients. For a given regression coefficient, the SE reflects how the coefficient varies under repeated sampling. It can be used to compute the confidence intervals and the t-statistic.\n",
    "    Given significance level $\\alpha=0.05$, the $95\\%$ confidence interval of $\\beta_i$ is $(\\hat\\beta_i \\pm 1.96 SE(\\hat\\beta_i)), i=1,2$ where $\\beta$ represents $a$ or $b$. \n",
    "    \n",
    "* The __t-statistic__ and the associated __p-value__, which defines the statistical significance of the coefficients ($a$ and $b$).\n",
    "\n",
    "    The symbols to the right visually specifies the level of significance. The line below the table shows the definition of these symbols; one star means $0.01 < p < 0.05$. The more the stars beside the variable’s $p$-value, the more significant the variable."
   ]
  },
  {
   "cell_type": "code",
   "execution_count": 7,
   "id": "810b2096-a277-472b-a1f2-9e1fef4ce5bf",
   "metadata": {},
   "outputs": [
    {
     "data": {
      "text/html": [
       "<table class=\"dataframe\">\n",
       "<caption>A matrix: 2 × 2 of type dbl</caption>\n",
       "<thead>\n",
       "\t<tr><th></th><th scope=col>2.5 %</th><th scope=col>97.5 %</th></tr>\n",
       "</thead>\n",
       "<tbody>\n",
       "\t<tr><th scope=row>(Intercept)</th><td>7.35566312</td><td>9.52256140</td></tr>\n",
       "\t<tr><th scope=row>youtube</th><td>0.04223072</td><td>0.05284256</td></tr>\n",
       "</tbody>\n",
       "</table>\n"
      ],
      "text/latex": [
       "A matrix: 2 × 2 of type dbl\n",
       "\\begin{tabular}{r|ll}\n",
       "  & 2.5 \\% & 97.5 \\%\\\\\n",
       "\\hline\n",
       "\t(Intercept) & 7.35566312 & 9.52256140\\\\\n",
       "\tyoutube & 0.04223072 & 0.05284256\\\\\n",
       "\\end{tabular}\n"
      ],
      "text/markdown": [
       "\n",
       "A matrix: 2 × 2 of type dbl\n",
       "\n",
       "| <!--/--> | 2.5 % | 97.5 % |\n",
       "|---|---|---|\n",
       "| (Intercept) | 7.35566312 | 9.52256140 |\n",
       "| youtube | 0.04223072 | 0.05284256 |\n",
       "\n"
      ],
      "text/plain": [
       "            2.5 %      97.5 %    \n",
       "(Intercept) 7.35566312 9.52256140\n",
       "youtube     0.04223072 0.05284256"
      ]
     },
     "metadata": {},
     "output_type": "display_data"
    }
   ],
   "source": [
    "confint(model)"
   ]
  },
  {
   "cell_type": "markdown",
   "id": "f28f3349-f7f6-44a8-b0d3-886105dc73ac",
   "metadata": {},
   "source": [
    "##### <div class=\"alert alert-block alert-success\">Coefficient of determination</div>\n",
    "\n",
    "*  The coefficient of determination ($R^2$) explains the percentage of the variation in response variable ($Y$) is accounted for by linear regression on the explanatory variable ($x$).\n",
    "\n",
    "* $R^2$ is the square of the sample linear correlation coefficient ($r$)\n",
    "\\begin{equation}\n",
    "0 \\leq R^2 = r^2 \\leq 1\n",
    "\\end{equation}\n",
    "\n",
    "Sometimes, capital $R$ is used for muiltiple linear regression only but here it's used in the summary output for simple linear regression, as well."
   ]
  },
  {
   "cell_type": "markdown",
   "id": "1cbab14b",
   "metadata": {},
   "source": [
    "<div class=\"alert alert-block alert-danger\">\n",
    "    <b>Student Application Practice:</b> US Maternal Mortality Rates (continued)\n",
    "</div>\n",
    "\n",
    "1. Determine $r^2.$ What is the strength and association of the relationship? What does $r^2$ mean in this context?\n",
    "2. Determine the residual standard error for the US Maternal Mortality Rates (compared to the regression line we modeled this data with previously). "
   ]
  },
  {
   "cell_type": "code",
   "execution_count": 9,
   "id": "1dd18fa8",
   "metadata": {},
   "outputs": [
    {
     "data": {
      "text/plain": [
       "\n",
       "Call:\n",
       "lm(formula = rate ~ year)\n",
       "\n",
       "Residuals:\n",
       "    1     2     3     4     5 \n",
       "-1.38 -0.94  0.50  7.34 -5.52 \n",
       "\n",
       "Coefficients:\n",
       "            Estimate Std. Error t value Pr(>|t|)  \n",
       "(Intercept)   18.780      4.181   4.492   0.0206 *\n",
       "year           2.260      1.707   1.324   0.2773  \n",
       "---\n",
       "Signif. codes:  0 ‘***’ 0.001 ‘**’ 0.01 ‘*’ 0.05 ‘.’ 0.1 ‘ ’ 1\n",
       "\n",
       "Residual standard error: 5.397 on 3 degrees of freedom\n",
       "Multiple R-squared:  0.3689,\tAdjusted R-squared:  0.1585 \n",
       "F-statistic: 1.754 on 1 and 3 DF,  p-value: 0.2773\n"
      ]
     },
     "metadata": {},
     "output_type": "display_data"
    },
    {
     "data": {
      "image/png": "[encoded data removed]",
      "text/plain": [
       "Plot with title “US Maternal Mortality Rates 2018-2022”"
      ]
     },
     "metadata": {
      "image/png": {
       "height": 420,
       "width": 420
      }
     },
     "output_type": "display_data"
    }
   ],
   "source": [
    "#finding regression line \n",
    "year <- c(0, 1, 2, 3, 4) #represents year since 2018\n",
    "rate <- c(17.4, 20.1, 23.8, 32.9, 22.3)\n",
    "plot(year, rate, pch = 16, cex = 1.3, col = \"blue\", main = \"US Maternal Mortality Rates 2018-2022\", xlab=\"number of years since 2018\", ylab=\"MMR per 100,000 live births\")\n",
    "model <- lm(rate ~ year)\n",
    "\n",
    "summary(model)\n"
   ]
  },
  {
   "cell_type": "markdown",
   "id": "f8ae0d3b",
   "metadata": {},
   "source": [
    "#### Your Answer:"
   ]
  },
  {
   "cell_type": "markdown",
   "id": "5ba4447a-248b-4233-b7c7-96b56cc80e3f",
   "metadata": {
    "tags": []
   },
   "source": [
    "##### <div class=\"alert alert-block alert-warning\">Checking for model assumptions</div>\n",
    "\n",
    "Consider below a histogram representing frequency of residual values, as well as a scatterplot with residuals in relation to the regression line oriented horizontally (residual equaling zero). \n",
    "\n",
    "<p align=\"center\">\n",
    "    <img src=\"../pics/residual histogram 1.png\" alt=\"Figure 1\" style=\"width:70%;\"/>\n",
    "</p>\n",
    "\n",
    "\n",
    "<p align=\"center\">\n",
    "    <img src=\"../pics/residual scatterplot 1.png\" alt=\"Figure 1\" style=\"width:70%;\"/>\n",
    "</p>\n",
    "\n",
    "\n",
    "\n",
    "\n",
    "* Checking for Linearity: ex. residual plot (and initial scatterplot) show linear relationship except for outlier\n",
    "* Checking for Normality: ex. histogram is roughly symmetric and single peaked; looks like normal distribution besides outlier\n",
    "* Checking for Constant Variance: ex. residual plot shows no unusual variation in the scatter of the residuals above and below the line as $x$ varies, except for outlier\n",
    "* Checking for Independence: ex. observations taken independently throughout time; no pattern of dependence emerges such as all points above or below the line in residual plot\n",
    "    * Does not apply for Simple Linear Regression Model\n",
    "    * Only applies for time series data"
   ]
  },
  {
   "cell_type": "markdown",
   "id": "7962c6b8-d4e7-4cf3-94b7-c0d8c611465f",
   "metadata": {
    "tags": []
   },
   "source": [
    "##### <div class=\"alert alert-block alert-success\"> Outliers and influential points</div>\n",
    "\n",
    "General discussion.\n",
    "\n",
    "* What is an outlier?\n",
    "* Why is checking for outliers is important? \n",
    "* How to deal with outliers?\n",
    "    * Investigate (Data errors? Rare events? Can it be corrected or removed?) \n",
    "    * Ways to accommodate outliers\n",
    "        - Nonparametric Methods (robust to outliers) \n",
    "        - Data Transformations\n",
    "        - Deletion (or report model results both with and without the outliers or influential observations to see how much they change)"
   ]
  },
  {
   "cell_type": "markdown",
   "id": "7c77aae4-c42b-47bd-91a2-6676b66f0609",
   "metadata": {
    "tags": []
   },
   "source": [
    "##### <div class=\"alert alert-block alert-info\"> Data Transformations </div> \n",
    "\n",
    "Determining if model needs to be improved to get something beyond linear (initial attempts for nonlinear).\n",
    "\n",
    "* Reasons\n",
    "    * To achieve linearity\n",
    "    * To achieve homogeneity of variance\n",
    "    * To achieve normality or symmetry about the regression equation\n",
    "* Method of linearizing transformation\n",
    "    * Use mathematical operation, e.g. square root, power, log, exponential, etc.\n",
    "    * In the simple linear regression, which one variable needs to be transformed? Predictor or response? Why?"
   ]
  },
  {
   "cell_type": "markdown",
   "id": "0437296d-f7a0-4aa2-97b0-aa3134bac7b5",
   "metadata": {},
   "source": [
    "##### <div class=\"alert alert-block alert-info\"> Statistical inference on $\\hat a$ and $\\hat b$</div>\n",
    "\n",
    "\n",
    "* Point estimators: $\\hat a=\\bar y -\\hat b \\bar x, \\hat b=\\frac{S_{xy}}{S_{xx}}$\n",
    "* Sampling distributions:\n",
    "\n",
    "$\n",
    "\\begin{align}\n",
    "\\hat a &\\sim N\\left( a, \\frac{\\sum_{i=1}^n x_i^2}{n S_{xx}} \\sigma^2\\right)\\\\\n",
    "\\hat b &\\sim N\\left( b, \\frac{1}{S_{xx}} \\sigma^2\\right)\n",
    "\\end{align}\n",
    "$\n",
    "\n",
    "* Standard error (SE) is a measure of the standard deviation of the errors in a regression model. It measures the variability/accuracy of the regression coefficients.\n",
    "\n",
    "$\n",
    "\\begin{align}\n",
    "SE(\\hat a)^2 &= \\sqrt{\\frac{\\sum_{i=1}^n x_i^2}{n S_{xx}} MSE}\\\\\n",
    "SE(\\hat b)^2 &= \\sqrt{\\frac{MSE}{S_{xx}}}\n",
    "\\end{align}\n",
    "$\n"
   ]
  },
  {
   "cell_type": "markdown",
   "id": "01ce81c3-5c83-48e4-b02e-efc2652cf8a2",
   "metadata": {},
   "source": [
    "##### <div class=\"alert alert-block alert-info\"> Goodness of Fit of the Least Squares Line </div>\n",
    "\n",
    "\n",
    "We have that \n",
    "\n",
    "\\begin{equation}\n",
    "\\hat y_i=\\hat a+ \\hat b x_i, i=1,2,\\dots,n, \n",
    "\\end{equation}\n",
    "\n",
    "so \n",
    "\\begin{equation}\n",
    "y_i=\\hat a+ \\hat b x_i + e_i, i=1,2,\\dots,n, \n",
    "\\end{equation}\n",
    "\n",
    "\n",
    "where the random errors $e_i$ are approximately normally distributed and independent."
   ]
  },
  {
   "cell_type": "markdown",
   "id": "ef14a773-a6fd-4288-9749-f379b5deb3f1",
   "metadata": {},
   "source": [
    "##### Decomposition of sum squares </div>\n",
    "* The residuals: $e_i=y_i-\\hat{y}_i=y_i-(\\hat a+\\hat b x_i), i=1,\\dots,n$.\n",
    "* Decomposition of Sum Squares: \n",
    "\\begin{align}\n",
    "SST&=&\\sum_{i=1}^n (y_i-\\bar y)^2 \\\\\n",
    "&=&\\sum_{i=1}^n (\\hat{y}_i-\\bar y)^2 &+&  \\sum_{i=1}^n (y_i-\\hat{y}_i)^2 &+& 2 \\sum_{i=1}^n (\\hat{y}_i-\\bar y) (y_i-\\hat{y}_i)\\\\\n",
    "&=&SSR &+&  SSE &+& 0\n",
    "\\end{align}\n",
    "* __Sum of Squares of Total (SST)__: total variation of the observed dependent variables around the mean.\n",
    "* __Sum of Squares of Regression (SSR)__: variation of the observed dependent variables explained by the regression model.\n",
    "* __Sum of Squares of Errors (SSE)__: discripancy of variations between the observed value and the predicted value."
   ]
  },
  {
   "cell_type": "markdown",
   "id": "6362d3a3-cb6b-4ca5-85d0-89ec57732254",
   "metadata": {},
   "source": [
    "##### <div class=\"alert alert-block alert-info\"> Least Squares Estimate</div>\n",
    "\n",
    "\n",
    "The \"best\" fitting straight line in the sense of minimizing least squares criterion (data - regression estimate):\n",
    "\\begin{equation}\n",
    "\\sum_{i=1}^n [y_i-(a+b x_i)]^2\n",
    "\\end{equation}\n",
    "\n",
    "__Normal equation__\n",
    "\\begin{align}\n",
    "an + b \\sum_{i=1}^n x_i &=\\sum_{i=1}^n y_i\\\\\n",
    "a \\sum_{i=1}^n x_i + b \\sum_{i=1}^n x_i^2 &=\\sum_{i=1}^n x_i y_i\n",
    "\\end{align}\n",
    "\n",
    "__Least square estimators (LSE) of $a$ and $b$__\n",
    "\n",
    "$\n",
    "\\begin{align}\n",
    "\\hat a &= [(\\sum_{i=1}^n x_i^2)(\\sum_{i=1}^n y_i)-(\\sum_{i=1}^n x_i)(\\sum_{i=1}^n x_i y_i)]/[n\\sum_{i=1}^n x_i^2- (\\sum_{i=1}^n x_i)^2] \\\\\n",
    "\\hat b &= [n\\sum_{i=1}^n x_i y_i-(\\sum_{i=1}^n x_i)(\\sum_{i=1}^n y_i)]/[n\\sum_{i=1}^n x_i^2- (\\sum_{i=1}^n x_i)^2]\n",
    "\\end{align}\n",
    "$\n",
    "\n",
    "<span style='background:lightblue'> Note:  </span>\n",
    "\n",
    "_Under normal assumption of the errors, Maximum Likelihood Estimators (MLE) of $a$ and $b$ equal Least square estimators of $a$ and $b$._\n",
    "\n",
    "Denote \n",
    "\n",
    "$\n",
    "\\begin{align}\n",
    "S_{xy} &= \\sum_{i=1}^n (x_i-\\bar x)(y_i-\\bar y) = \\sum_{i=1}^n x_i y_i - \\frac{1}{n} (\\sum_{i=1}^n x_i)(\\sum_{i=1}^n y_i)\\\\\n",
    "S_{xx} &= \\sum_{i=1}^n (x_i-\\bar x)^2 = \\sum_{i=1}^n x_i^2 - \\frac{1}{n} (\\sum_{i=1}^n x_i)^2\\\\\n",
    "S_{yy} &= \\sum_{i=1}^n (y_i-\\bar y)^2 = \\sum_{i=1}^n y_i^2 - \\frac{1}{n} (\\sum_{i=1}^n y_i)^2\n",
    "\\end{align}\n",
    "$\n",
    "\n",
    "Coefficient LSE: \n",
    "\n",
    "$\n",
    "\\begin{align}\n",
    "\\hat a=\\bar y -\\hat b \\bar x, \\hat b=\\frac{S_{xy}}{S_{xx}}\n",
    "\\end{align}\n",
    "$\n",
    "\n"
   ]
  },
  {
   "cell_type": "markdown",
   "id": "36c1a443",
   "metadata": {},
   "source": [
    "##### <div class=\"alert alert-block alert-info\"> Coefficient of Determination </div>\n",
    "\n",
    "*  $R^2=\\frac{SSR}{SST}=1-\\frac{SSE}{SST}$.\n",
    "\n",
    "* $R^2$ is the square of the sample linear correlation coefficient ($r$)\n",
    "\\begin{equation}\n",
    "0 \\leq R^2 = r^2 = \\frac{S_{xy}^2}{S_{xx} S_{yy}} \\leq 1\n",
    "\\end{equation}"
   ]
  },
  {
   "cell_type": "markdown",
   "id": "bafed311-9163-40a5-a5e5-c061be3a2ca0",
   "metadata": {},
   "source": [
    "##### <div class=\"alert alert-block alert-info\"> Testing Hypothesis on $\\hat\\beta_0$ and $\\hat\\beta_1$</div>\n",
    "\n",
    "\n",
    "\n",
    "  $H_0: \\beta_1=\\beta_1^0$ vs $H_a: \\beta_1 \\neq \\beta_1^0$ </br>\n",
    "  or $H_0: \\beta_1=0$ vs $H_a: \\beta_1 \\neq 0$\n",
    "\n",
    "* Test statistic: \n",
    "\\begin{align}\n",
    "T=\\frac{\\hat\\beta_1-\\beta_1^0}{SE(\\hat\\beta_1)}\n",
    "\\end{align}\n",
    "* At the significance level $\\alpha$, we reject $H_0$ in favorof $H_a$ </br>\n",
    "    iff $|T| > t_{\\alpha/2}(n-2)$\n",
    "* Can be used to show whether there is a linear relationship between $x$ and $Y$.\n",
    "* The higher the t-statistic (and the lower the p-value), the more significant the predictor."
   ]
  },
  {
   "cell_type": "markdown",
   "id": "7ba5365c",
   "metadata": {},
   "source": [
    "##### <div class=\"alert alert-block alert-info\"> Residual check</div> \n",
    "\n",
    "Plotting figures to determine whether the model and assumptions are appropriate. \n",
    "\n",
    "* Model checking by residual plots: \n",
    "    1. residual vs fitted value: $e_i$ vs $Y_i$ \n",
    "    2. residual vs explanatory variable: $e_i$ vs $x_i$ \n",
    "    3. residual vs lag of residual: $e_i$ vs $e_{i-1}$\n",
    "* Transformation\n",
    "    1. Boxcox transformation for skewed distribution \n",
    "    2. log transformation\n",
    "    3. square root transformation\n",
    "* Correlation of residuals\n",
    "    1. correlation coefficient\n",
    "    2. Durbin-Watson Statistic (series)"
   ]
  }
 ],
 "metadata": {
  "kernelspec": {
   "display_name": "R",
   "language": "R",
   "name": "ir"
  },
  "language_info": {
   "codemirror_mode": "r",
   "file_extension": ".r",
   "mimetype": "text/x-r-source",
   "name": "R",
   "pygments_lexer": "r",
   "version": "4.3.1"
  }
 },
 "nbformat": 4,
 "nbformat_minor": 5
}
