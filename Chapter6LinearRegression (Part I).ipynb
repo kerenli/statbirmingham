{
 "cells": [
  {
   "cell_type": "markdown",
   "id": "f0191383-ddcb-4578-b05e-380d492dd892",
   "metadata": {
    "tags": []
   },
   "source": [
    "## Chapter 6 Linear Regression\n",
    "#### MA189 Statistics and Big Data in Birmingham (with R)\n",
    "##### -- _Blazer Core: City as Classroom Series_"
   ]
  },
  {
   "cell_type": "markdown",
   "id": "11a4fa14-30a4-4c96-a9a2-831b2dacc2e5",
   "metadata": {},
   "source": [
    "Course Website: [Github.com/kerenli/statbirmingham/](https://github.com/kerenli/statbirmingham/)\n"
   ]
  },
  {
   "cell_type": "markdown",
   "id": "08d2fcf2-b953-42cd-a4a9-e97a943a7e1b",
   "metadata": {},
   "source": [
    "#### Levels:\n",
    "<div class=\"alert-success\"> Concepts and general information</div>\n",
    "<div class=\"alert-warning\"> Important methods and technique details </div>\n",
    "<div class=\"alert-info\"> Extended reading </div>\n",
    "<div class=\"alert-danger\"> (Local) Examples, assignments, and <b>Practice in Birmingham</b> </div>"
   ]
  },
  {
   "cell_type": "markdown",
   "id": "e10ffc19",
   "metadata": {},
   "source": [
    "##### <div class=\"alert alert-block alert-success\"> Introduction </div>\n",
    "\n",
    "As an introduction, consider the first 10 minutes of the following video from the UAB School of Public Health on Maternal Mortality Rates (maternal deaths per 100,000 live births) in the U.S. that emphasizes a major issue that this country is facing and highlights the racial inequity evident in these outcomes. (You are welcome to watch more to learn about how Maternal Mortality Committees are striving to improve health outcomes). \n",
    "\n",
    "[![Video: Alabama’s Maternal Mortality Crisis](https://www.youtube.com/watch?v=oEXDuGfLJvk)](https://www.youtube.com/watch?v=oEXDuGfLJvk)\n",
    "\n",
    "To be able to to see the racial disparities bar graph shown in the talk a bit clearer, I include it here:\n",
    "\n",
    "\n",
    "<p align=\"center\">\n",
    "    <img src=\"../pics/US MMR by race.png\" alt=\"Figure 1\" style=\"width:70%;\"/>\n",
    "</p>\n",
    "\n",
    "\n",
    "Pairing this guest talk with the following bar graph, we see that the U.S. was (sadly) the leading country in maternal deaths for industrialized nations in 2018.\n",
    "\n",
    "\n",
    "<p align=\"center\">\n",
    "    <img src=\"../pics/High_MMR_US.png\" alt=\"Figure 1\" style=\"width:70%;\"/>\n",
    "</p>\n",
    "\n",
    "\n",
    "To highlight a bit closer to our area, consider the following data visualizations that emphasize the severity of the issue in the southeast region, and particularly in Alabama (maternal mortality per 100,000 live births // pregnancy-related mortality ratios). \n",
    "\n",
    "\n",
    "<p align=\"center\">\n",
    "    <img src=\"../pics/Southeast MMR 2018 cropped.png\" alt=\"Figure 1\" style=\"width:70%;\"/>\n",
    "</p>\n",
    "\n",
    "\n",
    "<p align=\"center\">\n",
    "    <img src=\"../pics/Alabama MMR 2018-2021.png\" alt=\"Figure 1\" style=\"width:70%;\"/>\n",
    "</p>\n",
    "\n",
    "\n",
    "So, what does this have to do with our chapter on linear regression? Consider the following infographic. \n",
    "\n",
    "<p align=\"center\">\n",
    "    <img src=\"../pics/US MMR line graph.png\" alt=\"Figure 1\" style=\"width:70%;\"/>\n",
    "</p>\n",
    "\n",
    "We can see for this brief timeline that there is approximately a linear relationship between the year and the Maternal Mortality Rate. Later, you will find exactly what that relationship is in order to make some predictions and conclusions. \n",
    "\n",
    "\n",
    "\n",
    "\n",
    "-----\n",
    "\n",
    "In case you are interested in practices of other countries, here's some more data and information to process for your enrichment! \n",
    "\n",
    "<p align=\"center\">\n",
    "    <img src=\"../pics/US price.png\" alt=\"Figure 1\" style=\"width:70%;\"/>\n",
    "</p>\n",
    "\n",
    "\n",
    "<p align=\"center\">\n",
    "    <img src=\"../pics/Midwives.png\" alt=\"Figure 1\" style=\"width:70%;\"/>\n",
    "</p>\n",
    "\n",
    "<p align=\"center\">\n",
    "    <img src=\"../pics/Midwives 2.png\" alt=\"Figure 1\" style=\"width:70%;\"/>\n",
    "</p>\n",
    "\n",
    "\n",
    "<p align=\"center\">\n",
    "    <img src=\"../pics/Non-US Practices.png\" alt=\"Figure 1\" style=\"width:70%;\"/>\n",
    "</p>\n"
   ]
  },
  {
   "cell_type": "markdown",
   "id": "56165b08",
   "metadata": {},
   "source": [
    "<div class=\"alert alert-block alert-danger\">\n",
    "    <b>Application in Birmingham from Area of Public Health: Alabama's Maternal Mortality Health Crisis </b>\n",
    "</div>\n",
    "\n",
    "The Introduction section above comprising of a guest lecture by Dr. Martha S. Wingate from the UAB School of Public Helath on the Maternity Mortality Crisis here in the state of Alabama (ranking 4th with the highest maternal mortality rate in 2018-2021) provides a motivation for this chapter to investigate this trend more closely."
   ]
  }
 ],
 "metadata": {
  "kernelspec": {
   "display_name": "R",
   "language": "R",
   "name": "ir"
  },
  "language_info": {
   "codemirror_mode": "r",
   "file_extension": ".r",
   "mimetype": "text/x-r-source",
   "name": "R",
   "pygments_lexer": "r",
   "version": "4.3.1"
  }
 },
 "nbformat": 4,
 "nbformat_minor": 5
}
