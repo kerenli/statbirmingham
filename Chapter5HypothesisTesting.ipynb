{
 "cells": [
  {
   "cell_type": "markdown",
   "id": "f0191383-ddcb-4578-b05e-380d492dd892",
   "metadata": {
    "tags": []
   },
   "source": [
    "## Chapter 5 Hypothesis Testing\n",
    "#### MA 189 Data Dive Into Birmingham (with R)\n",
    "##### _Blazer Core: City as Classroom_\n",
    "\n",
    "Course Website: [Github.com/kerenli/statbirmingham/](https://github.com/kerenli/statbirmingham/) (to be published)\n"
   ]
  },
  {
   "cell_type": "markdown",
   "id": "08d2fcf2-b953-42cd-a4a9-e97a943a7e1b",
   "metadata": {
    "tags": []
   },
   "source": [
    "#### Levels:\n",
    "<div class=\"alert-success\"> Concepts and general information</div>\n",
    "<div class=\"alert-warning\"> Important methods and technique details </div>\n",
    "<div class=\"alert-info\"> Extended reading </div>\n",
    "<div class=\"alert-danger\"> (Local) Examples, assignments, and <b>Practice in Birmingham</b> </div>"
   ]
  },
  {
   "cell_type": "markdown",
   "id": "0cbe4792",
   "metadata": {},
   "source": [
    "##### <div class=\"alert alert-block alert-success\"> Introduction </div>\n",
    "\n",
    "Read the following story about Robert Swain, a Black man living in Talladega County, Alabama in 1965. In the county, 26% of those eligible for jury were Black but he went to trial with an all white jury. \n",
    "\n",
    "[![Reading: Robert Swain Legal Case](https://ajr348.github.io/ds4e_course/chapters/04_stats1/03_testing_hypotheses_1.html)](https://ajr348.github.io/ds4e_course/chapters/04_stats1/03_testing_hypotheses_1.html) (scroll down to start at Swain v Alamaba)\n",
    "\n",
    "\n",
    "This historical legal case in Alabama gives us motivation for the important method of hypothesis testing which allows us to make conclusions about a population value based on evidence from sample values. \n",
    "\n",
    "By the end of this chapter, you will have the skills to perform a hypothesis test of your own."
   ]
  },
  {
   "cell_type": "markdown",
   "id": "2a8f2675",
   "metadata": {},
   "source": [
    "<div class=\"alert alert-block alert-danger\">\n",
    "    <b>Application in Birmingham from Area of E-commerce </b>\n",
    "</div>\n",
    "\n",
    "As a further motivation for this chapter, consider the video below from Mr. Brad Kilpatrick of World Rugby Shop located here in Birmingham, AL. Mr. Kilpatrick explains his use of hypothesis testing in E-commerce. He dives into the details of the process of split-testing (which compares the performance of two versions of content to see which one appeals more to visitors/viewers) with website traffic with the goal of increasing sales and conversion rates (percentage of users completing an action desired by the company).\n",
    "\n",
    "\n",
    "\n",
    "[![Video: World Rugby Shop Hypothesis Testing](https://youtu.be/NB0B8BRZS2A)](https://youtu.be/NB0B8BRZS2A)\n",
    "\n",
    "\n",
    "\n"
   ]
  },
  {
   "cell_type": "markdown",
   "id": "a4551389-5dd1-40c7-bb90-703d77d5f06a",
   "metadata": {
    "tags": []
   },
   "source": [
    "### Hypothesis Testing\n",
    "\n",
    "This method allows researchers to check whether data supports certain statements or predictions about a population. Hypotheses are usually expressed as population parameters for variables being measured in the study."
   ]
  },
  {
   "cell_type": "markdown",
   "id": "6a54bb4c-b454-4956-8be7-24b6c4809554",
   "metadata": {
    "tags": []
   },
   "source": [
    "##### <div class=\"alert alert-block alert-success\"> Hypotheses </div>\n",
    "\n",
    "* A __null hypothesis__, $H_0$, is a statement that a population parameter is a particular value. \n",
    "\n",
    "* An __alternative hypothesis__, $H_a$, is a statement that the same population parameter falls in some alternative range of values. \n"
   ]
  },
  {
   "cell_type": "markdown",
   "id": "eeff45ea",
   "metadata": {},
   "source": [
    "<div class=\"alert alert-block alert-danger\"><b> Example:</b></div>\n",
    "\n",
    "\n",
    "1. In auto racing, a pit crew claims that its mean pit stop time (for 4 new tires and fuel) is only 13 seconds. The driver thinks it's more and wants to investigate for efficiency purposes. \n",
    "2. Cocoa Puffs boxes claim there is an average of 19.3oz of cereal in the box. A grumpy college student believes the box contains less than 19.3oz and wants to find out more. \n",
    "3. According to Indeed.com, the average base salary for mechanical engineers in Alabama is \\$100,272. You doubt this is accurate.\n",
    "\n"
   ]
  },
  {
   "cell_type": "markdown",
   "id": "513f61e6",
   "metadata": {},
   "source": [
    "##### Your answer:"
   ]
  },
  {
   "cell_type": "markdown",
   "id": "0e48e8cd-0976-4452-9c02-f8b9090bf097",
   "metadata": {},
   "source": [
    "<div class=\"alert alert-block alert-danger\"><b>Local Student Practice:</b> Hypotheses in Birmingham\n",
    "\n",
    "</div>\n",
    "\n",
    "\n",
    "1. Katrina hypothesizes that 90\\% of college graduates from UAB believe a college degree is worth the cost. You disagree with her on her estimate.\n",
    "\n",
    "2. A researcher finds that the mean pH level of the Cahaba River is 7.5 (https://www.researchgate.net/publication/268328332_Water_Quality_Conditions_in_the_Cahaba_River_and_Likely_Pollutant_Sources#pf35). An industrial company has reason to believe its lower. \n",
    "\n",
    "3. You think the average age of all lawyers in Birmingham is 43. Your friend challenges you on your estimate and wants to conduct a hypothesis test to gain more information.\n",
    "\n",
    "4. According to this report (https://downtownbhm.com/wp-content/uploads/2024/04/Q3-Q4-2023-Data-Report-FINAL-1.pdf), the office occupancy in downtown Birmingham is 77.6%. You think it's higher and want to investigate yourself. \n",
    "\n",
    "5. It is claimed that Alabama's three oil refineries combined can process on average 142,000 barrels of crude oil per day (https://www.eia.gov/state/analysis.php). You are hesitant about the validity of that number and believe it's lower.\n",
    "\n",
    "\n",
    "\n",
    "\n",
    "\n"
   ]
  },
  {
   "cell_type": "markdown",
   "id": "8529692d",
   "metadata": {},
   "source": [
    "##### Your answer:"
   ]
  },
  {
   "cell_type": "markdown",
   "id": "fded109d",
   "metadata": {},
   "source": [
    "##### <div class=\"alert alert-block alert-success\"> Hypothesis Tests </div>\n",
    "\n",
    "Overview: \n",
    "\n",
    "* __Assumptions__: differ depending on the type of hypothesis test one is planning to perform (proportion, mean, one sample, two samples). Specifics are given in subsequent sections. \n",
    "\n",
    "* A __test statistic__ describes how many standard deviations the point estimate falls from the null hypothesis value.\n",
    "\n",
    "* The __$p$-value__ is the probability that a given result (or a more significant result) would occur under the null hypothesis. <br>\n",
    "Note: <br>\n",
    "-Small $p$-value $\\Rightarrow$ data is unlikely to have occurred under null hypothesis (i.e. assuming null hypothesis is true) $\\Rightarrow$  strong evidence against null hypothesis. <br>\n",
    "-Big $p$-value $\\Rightarrow$ data is likely to have occurred under null hypothesis (i.e. assuming null hypothesis is true) $\\Rightarrow$ not enough evidence against null hypothesis.<br>\n",
    "\n",
    "* The __level of significance__, $\\alpha$, is the maximum allowed probability of rejecting $H_0$ when it is actually true. <br>\n",
    "Note: Most commonly, $\\alpha=0.05$ or $\\alpha=0.01$. The more important the context of a study is, the smaller $\\alpha$ should be (for example, a cancer study versus a study on car color). We determine whether the $p$-value is small by comparing it with $\\alpha.$\n",
    "\n",
    "\n",
    "\n",
    "\n",
    "\n",
    "Hypothesis Test:\n",
    "1. Identify the parameter ($p$ or $\\mu$) and both hypotheses ($H_0$ and $H_a$) \n",
    "2. Decide if a normal distribution (for $p$) or a $t-$distribution (for $\\mu$) is appropriate (check assumptions)\n",
    "3. Use sample data to run test (get test statistic)\n",
    "4. Decide if it would be unusual to get those results by chance ($p$-value sufficiently small) \n",
    "5. Conclude <br>\n",
    "-If results are unusual ($p$-value sufficiently small, $H_0$ rare to occur), then reject $H_0$ in favor of $H_a$.<br>\n",
    "-If results are not unusual ($p$-value sufficiently big, $H_0$ likely to occur), then the evidence is not strong enough to reject $H_0$. <br>\n",
    "\n",
    "Important: Hypothesis Tests __never prove__ the null hypothesis. <br>\n",
    "-If $p$-value $\\leq \\alpha$, the results are statistically significant. Reject $H_0$. \"There is sufficient evidence to conclude that....(describe alternative hypothesis).\" <br>\n",
    "-If $p$-value $> \\alpha$, the results are $\\underline{not}$ statistically significant. Fail to reject $H_0$. \"There is $\\underline{not}$ sufficient evidence to reject the belief that....(describe null hypothesis).\" \n",
    "\n",
    "Statistically significant results mean they are unlikely to happen by chance variation between samples (the expected random variability). \n"
   ]
  },
  {
   "cell_type": "code",
   "execution_count": 1,
   "id": "83ed298d",
   "metadata": {},
   "outputs": [
    {
     "data": {
      "image/png": "[encoded data removed]",
      "text/plain": [
       "Plot with title “Hypothesis Testing: Normal Distribution of Sample Means”"
      ]
     },
     "metadata": {
      "image/png": {
       "height": 420,
       "width": 420
      }
     },
     "output_type": "display_data"
    }
   ],
   "source": [
    "# Set up the parameters for the normal distribution\n",
    "mu_null <- 500   # Null hypothesis mean (H0)\n",
    "sd <- 10         # Standard deviation of the population\n",
    "n <- 30          # Sample size\n",
    "se <- sd / sqrt(n)  # Standard error of the mean\n",
    "alpha <- 0.05    # Significance level (for a two-tailed test)\n",
    "\n",
    "# Define the critical z-value for a two-tailed test\n",
    "z_critical <- qnorm(1 - alpha/2)  # Critical value for a 95% confidence level\n",
    "\n",
    "# Create a sequence of x values for plotting the normal distribution\n",
    "x_values <- seq(mu_null - 4*se, mu_null + 4*se, length = 1000)\n",
    "\n",
    "# Calculate the normal distribution (probability density function)\n",
    "y_values <- dnorm(x_values, mean = mu_null, sd = se)\n",
    "\n",
    "# Plot the normal distribution\n",
    "plot(x_values, y_values, type = \"l\", lwd = 2, col = \"blue\",\n",
    "     xlab = \"Sample Mean\", ylab = \"Density\",\n",
    "     main = \"Hypothesis Testing: Normal Distribution of Sample Means\")\n",
    "\n",
    "# Shade the critical regions (reject H0)\n",
    "x_critical_left <- seq(min(x_values), mu_null - z_critical*se, length = 100)\n",
    "x_critical_right <- seq(mu_null + z_critical*se, max(x_values), length = 100)\n",
    "y_critical_left <- dnorm(x_critical_left, mean = mu_null, sd = se)\n",
    "y_critical_right <- dnorm(x_critical_right, mean = mu_null, sd = se)\n",
    "\n",
    "# Shade the rejection regions (critical regions)\n",
    "polygon(c(min(x_critical_left), x_critical_left, max(x_critical_left)), c(0, y_critical_left, 0), col = rgb(1, 0, 0, 0.2), border = NA)\n",
    "polygon(c(min(x_critical_right), x_critical_right, max(x_critical_right)), c(0, y_critical_right, 0), col = rgb(1, 0, 0, 0.2), border = NA)\n",
    "\n",
    "# Annotate the critical regions\n",
    "text(mu_null - z_critical*se - .5*se, 0.02, \"Reject H0\", col = \"red\", pos = 3)\n",
    "text(mu_null + z_critical*se + .5*se, 0.02, \"Reject H0\", col = \"red\", pos = 3)\n",
    "\n",
    "# Add a vertical line at the null hypothesis mean (H0)\n",
    "abline(v = mu_null, col = \"black\", lwd = 2, lty = 2)\n",
    "\n",
    "# Add arrows and text to show the acceptance region\n",
    "arrows(mu_null - z_critical*se + 2*se, 0.04, mu_null - 2*se, 0.04, length = 0.1, col = \"green\", lwd = 2)\n",
    "arrows(mu_null + z_critical*se - 2*se, 0.04, mu_null + 2*se, 0.04, length = 0.1, col = \"green\", lwd = 2)\n",
    "text(mu_null, 0.05, \"Do not reject H0\", col = \"green\", pos = 3)\n"
   ]
  },
  {
   "cell_type": "markdown",
   "id": "28064a5c",
   "metadata": {},
   "source": [
    "### One Sample\n",
    "\n",
    "Hypothesis testing allows us to investigate whether the difference between a sample statistic and a presumed population parameter can be explained by random variability (in which the presumed population parameter cannot be rejected) or not (and the sample statistic is therefore unlikely to have occurred under the case of the presumed population parameter value and so the parameter value must be rejected)."
   ]
  },
  {
   "cell_type": "markdown",
   "id": "58d68183",
   "metadata": {},
   "source": [
    "##### <div class=\"alert alert-block alert-success\"> One Sample Population Proportion Hypothesis Test </div>\n",
    "\n",
    "Null Hypothesis: $H_0: p=p_0$<br>\n",
    "Alternative Hypothesis: $H_a: p>p_0$ OR $H_a: p<p_0$ OR $H_a: p\\neq p_0$\n",
    "\n",
    "Assumptions:\n",
    "1. Data obtained by randomization\n",
    "2. $np_0\\geq 15$ and $n(1-p_0)\\geq 15$\n",
    "\n",
    "Test Statistic: $z=\\displaystyle \\frac{\\hat{p}-p_0}{\\sqrt{\\frac{p_0(1-p_0)}{n}}}$\n",
    "\n"
   ]
  },
  {
   "cell_type": "markdown",
   "id": "194fbd7b",
   "metadata": {},
   "source": [
    "<div class=\"alert alert-block alert-danger\">\n",
    "    <b>Example: </b> Promotion File Study\n",
    "</div>\n",
    "\n",
    "In a 1972 experiment, 48 male bank supervisors each judged a file randomly assigned to them to decide whether or not each person should receive a promotion. The files were IDENTICAL besides that half were labeled \"male\" and the other half labeled \"female.\" In total, 35 files were recommended for promotion - 21 \"male\" files and 14 \"female\" files. Was there bias present against \"female\" files? "
   ]
  },
  {
   "cell_type": "markdown",
   "id": "1804b38c",
   "metadata": {},
   "source": [
    "##### Your answer:"
   ]
  },
  {
   "cell_type": "markdown",
   "id": "0bcb794c",
   "metadata": {},
   "source": [
    "<p align=\"center\">\n",
    "    <img src=\"../pics/zscoresnegative.png\" alt=\"Figure 1\" style=\"width:70%;\"/>\n",
    "</p>\n",
    "\n",
    "<p align=\"center\">\n",
    "    <img src=\"../pics/zscorespositive.png\" alt=\"Figure 1\" style=\"width:70%;\"/>\n",
    "</p>"
   ]
  },
  {
   "cell_type": "markdown",
   "id": "8f3cc6a6",
   "metadata": {},
   "source": [
    "<div class=\"alert alert-block alert-danger\">\n",
    "    <b>Local Student Example: </b> Swain vs. Alabama\n",
    "</div>\n",
    "\n",
    "Consider again the Swain vs. Alabama historical legal case from the introduction of this chapter (https://ajr348.github.io/ds4e_course/chapters/04_stats1/03_testing_hypotheses_1.html). \n",
    "\n",
    "Read the first part of this section contextualizing the case in the framework of a hypothesis test:\n",
    "https://ajr348.github.io/ds4e_course/chapters/04_stats1/04_testing_hypotheses_2.html\n",
    "\n",
    "1. State the null and alternative hypotheses. \n",
    "2. What is the conclusion of the hypothesis test based on the evidence from the first reading?"
   ]
  },
  {
   "cell_type": "markdown",
   "id": "07661337",
   "metadata": {},
   "source": [
    "##### Your answer:"
   ]
  },
  {
   "cell_type": "markdown",
   "id": "de560692",
   "metadata": {},
   "source": [
    "##### <div class=\"alert alert-block alert-success\"> One Sample Population Mean Hypothesis Test (One Sample $t$-test) </div>\n",
    "\n",
    "Null Hypothesis: $H_0: \\mu=\\mu_0$<br>\n",
    "Alternative Hypothesis: $H_a: \\mu>\\mu_0$ OR $H_a: \\mu<\\mu_0$ OR $H_a: \\mu\\neq \\mu_0$\n",
    "\n",
    "Assumptions: \n",
    "1. Data obtained by randomization.\n",
    "2. Approximately normal population or $n\\geq 30$.\n",
    "\n",
    "Test Statistic: $t=\\frac{\\bar{x}-\\mu_0}{\\frac{s}{\\sqrt{n}}}$ and $df=n-1$.\n",
    "\n",
    "Note: if $\\sigma$ is known, you may use $z$-score with $\\sigma$ instead of $t$-score with $s.$\n",
    "\n"
   ]
  },
  {
   "cell_type": "markdown",
   "id": "259817a9",
   "metadata": {},
   "source": [
    "<div class=\"alert alert-block alert-danger\">\n",
    "    <b>Local Application: </b> World Rugby Shop Page Views\n",
    "</div>\n",
    "\n",
    "The World Rugby Shop, based here in Birmingham, keeps careful records of its data. Consider the total number of page views for rugby shorts each week from users in Canada, the US, and the UK combined. \n",
    "\n",
    "1. Take a quick look at the data and make a hypothesis for what the average weekly number of pageviews is for this item. \n",
    "2. For sake of example, let's say someone believes it is 260 but you believe it is higher. You want to investigate this by taking a sample of 30 randomly selected weeks from available data from June 2020-April 2022 and performing a hypothesis test to test the belief that the average number of weekly views is higher than the hypothesized value (using $\\alpha=0.05).$\n"
   ]
  },
  {
   "cell_type": "code",
   "execution_count": 4,
   "id": "c8cbc010",
   "metadata": {},
   "outputs": [
    {
     "name": "stdout",
     "output_type": "stream",
     "text": [
      "\n",
      "The downloaded binary packages are in\n",
      "\t/var/folders/fy/f4c7_n4n4zq0_s9stbf1yvj40000gq/T//RtmpiLdT2X/downloaded_packages\n"
     ]
    },
    {
     "data": {
      "text/html": [
       "<table class=\"dataframe\">\n",
       "<caption>A tibble: 97 × 12</caption>\n",
       "<thead>\n",
       "\t<tr><th scope=col>Week</th><th scope=col>Month</th><th scope=col>Dates</th><th scope=col>Year</th><th scope=col>Revenue ($)</th><th scope=col>Paid Traffic ($)</th><th scope=col>Organic Traffic ($)</th><th scope=col>Direct Traffic ($)</th><th scope=col>Referal Traffic ($)</th><th scope=col>Total Pageviews</th><th scope=col>Average Bounce Rate</th><th scope=col>Avg. Page Load Time (sec)</th></tr>\n",
       "\t<tr><th scope=col>&lt;dbl&gt;</th><th scope=col>&lt;chr&gt;</th><th scope=col>&lt;chr&gt;</th><th scope=col>&lt;dbl&gt;</th><th scope=col>&lt;dbl&gt;</th><th scope=col>&lt;dbl&gt;</th><th scope=col>&lt;dbl&gt;</th><th scope=col>&lt;dbl&gt;</th><th scope=col>&lt;dbl&gt;</th><th scope=col>&lt;dbl&gt;</th><th scope=col>&lt;dbl&gt;</th><th scope=col>&lt;dbl&gt;</th></tr>\n",
       "</thead>\n",
       "<tbody>\n",
       "\t<tr><td>23</td><td>June             </td><td>1-7      </td><td>2020</td><td>  0.00</td><td> 0.00</td><td> 26.04</td><td>  0.00</td><td>  0.00</td><td>  96</td><td>0.33333333</td><td>0.0000000</td></tr>\n",
       "\t<tr><td>24</td><td>June             </td><td>8-14     </td><td>2020</td><td> 34.99</td><td> 0.00</td><td>  0.00</td><td>  0.00</td><td> 34.99</td><td> 141</td><td>0.16666667</td><td>1.5716444</td></tr>\n",
       "\t<tr><td>25</td><td>June             </td><td>15-21    </td><td>2020</td><td>  0.00</td><td> 0.00</td><td>  0.00</td><td>  0.00</td><td>  0.00</td><td> 212</td><td>0.00000000</td><td>0.6572667</td></tr>\n",
       "\t<tr><td>26</td><td>June             </td><td>22-28    </td><td>2020</td><td>  0.00</td><td> 0.00</td><td>  0.00</td><td>  0.00</td><td>  0.00</td><td> 476</td><td>0.00000000</td><td>2.7076833</td></tr>\n",
       "\t<tr><td>27</td><td>June/July        </td><td>29-30/1-5</td><td>2020</td><td>  0.00</td><td> 0.00</td><td>  0.00</td><td>  0.00</td><td> 72.17</td><td> 253</td><td>0.00000000</td><td>2.7430444</td></tr>\n",
       "\t<tr><td>28</td><td>July             </td><td>6-12     </td><td>2020</td><td>294.86</td><td> 0.00</td><td> 57.36</td><td>  0.00</td><td>  0.00</td><td> 940</td><td>0.00000000</td><td>0.0000000</td></tr>\n",
       "\t<tr><td>29</td><td>July             </td><td>13-19    </td><td>2020</td><td>  0.00</td><td> 0.00</td><td>  0.00</td><td>  0.00</td><td>  0.00</td><td> 294</td><td>0.00000000</td><td>0.0000000</td></tr>\n",
       "\t<tr><td>30</td><td>July             </td><td>20-26    </td><td>2020</td><td>  0.00</td><td> 0.00</td><td>  0.00</td><td>  0.00</td><td>  0.00</td><td> 293</td><td>0.00000000</td><td>0.6916667</td></tr>\n",
       "\t<tr><td>31</td><td>July/August      </td><td>27-31/1-2</td><td>2020</td><td>  0.00</td><td> 0.00</td><td>  0.00</td><td>  0.00</td><td> 45.94</td><td> 648</td><td>0.00000000</td><td>0.4921333</td></tr>\n",
       "\t<tr><td>32</td><td>August           </td><td>3-9      </td><td>2020</td><td>  0.00</td><td> 0.00</td><td>  0.00</td><td>  0.00</td><td>  0.00</td><td> 192</td><td>0.00000000</td><td>5.1024000</td></tr>\n",
       "\t<tr><td>33</td><td>August           </td><td>10-16    </td><td>2020</td><td>  0.00</td><td> 0.00</td><td> 61.74</td><td> 20.91</td><td> 21.49</td><td>1133</td><td>0.00000000</td><td>5.1404500</td></tr>\n",
       "\t<tr><td>34</td><td>August           </td><td>17-23    </td><td>2020</td><td> 20.91</td><td> 0.00</td><td> 51.38</td><td>  0.00</td><td>  0.00</td><td> 183</td><td>0.00000000</td><td>0.7227333</td></tr>\n",
       "\t<tr><td>35</td><td>August           </td><td>24-30    </td><td>2020</td><td>  0.00</td><td> 0.00</td><td>  0.00</td><td>  0.00</td><td>  0.00</td><td> 546</td><td>0.00000000</td><td>2.1950000</td></tr>\n",
       "\t<tr><td>36</td><td>August/September </td><td>31/1-6   </td><td>2020</td><td>  0.00</td><td> 0.00</td><td>  0.00</td><td>  0.00</td><td>  0.00</td><td> 111</td><td>0.00000000</td><td>0.0000000</td></tr>\n",
       "\t<tr><td>37</td><td>September        </td><td>7-13     </td><td>2020</td><td>  0.00</td><td> 0.00</td><td> 25.79</td><td>  0.00</td><td> 84.97</td><td> 921</td><td>0.00000000</td><td>1.7529667</td></tr>\n",
       "\t<tr><td>38</td><td>September        </td><td>14-20    </td><td>2020</td><td> 84.97</td><td> 0.00</td><td> 10.62</td><td> 58.51</td><td>  0.00</td><td> 162</td><td>0.00000000</td><td>1.9978000</td></tr>\n",
       "\t<tr><td>39</td><td>September        </td><td>21-27    </td><td>2020</td><td>  0.00</td><td> 0.00</td><td>  0.00</td><td> 35.57</td><td>179.85</td><td> 161</td><td>0.00000000</td><td>0.0000000</td></tr>\n",
       "\t<tr><td>40</td><td>September/October</td><td>28-30/1-4</td><td>2020</td><td>924.46</td><td> 0.00</td><td>  0.00</td><td> 10.72</td><td>  0.00</td><td> 409</td><td>0.08333333</td><td>5.2374667</td></tr>\n",
       "\t<tr><td>41</td><td>October          </td><td>5-11     </td><td>2020</td><td>  0.00</td><td> 0.00</td><td>  0.00</td><td>  0.00</td><td>  0.00</td><td> 223</td><td>0.00000000</td><td>1.0254343</td></tr>\n",
       "\t<tr><td>42</td><td>October          </td><td>12-18    </td><td>2020</td><td>  0.00</td><td> 0.00</td><td>  0.00</td><td>107.94</td><td>  0.00</td><td> 263</td><td>0.00000000</td><td>2.2204000</td></tr>\n",
       "\t<tr><td>43</td><td>October          </td><td>19-25    </td><td>2020</td><td>  0.00</td><td>37.25</td><td> 10.65</td><td> 26.11</td><td>  0.00</td><td> 233</td><td>0.11111111</td><td>0.8876000</td></tr>\n",
       "\t<tr><td>44</td><td>October/November </td><td>26-31/1  </td><td>2020</td><td>  0.00</td><td> 0.00</td><td>  0.00</td><td>  0.00</td><td>  0.00</td><td> 131</td><td>0.00000000</td><td>0.8184667</td></tr>\n",
       "\t<tr><td>45</td><td>November         </td><td>2-8      </td><td>2020</td><td>  0.00</td><td> 0.00</td><td>  0.00</td><td> 50.80</td><td> 65.38</td><td> 233</td><td>0.00000000</td><td>0.0000000</td></tr>\n",
       "\t<tr><td>46</td><td>November         </td><td>9-15     </td><td>2020</td><td>288.63</td><td> 0.00</td><td>145.24</td><td>  0.00</td><td>  0.00</td><td> 344</td><td>0.00000000</td><td>0.0000000</td></tr>\n",
       "\t<tr><td>47</td><td>November         </td><td>16-22    </td><td>2020</td><td>320.40</td><td> 0.00</td><td>  0.00</td><td> 98.28</td><td>  0.00</td><td> 173</td><td>0.00000000</td><td>2.8914667</td></tr>\n",
       "\t<tr><td>48</td><td>November         </td><td>23-29    </td><td>2020</td><td>  0.00</td><td> 0.00</td><td>  9.32</td><td>183.78</td><td>  0.00</td><td>1118</td><td>0.16666667</td><td>1.1493333</td></tr>\n",
       "\t<tr><td>49</td><td>November/December</td><td>30/1-6   </td><td>2020</td><td>178.54</td><td> 0.00</td><td> 38.63</td><td> 62.01</td><td>103.90</td><td> 455</td><td>0.00000000</td><td>0.7770065</td></tr>\n",
       "\t<tr><td>50</td><td>December         </td><td>7-13     </td><td>2020</td><td>  0.00</td><td> 0.00</td><td> 34.36</td><td>  0.00</td><td>  0.00</td><td> 425</td><td>0.26666667</td><td>3.3197778</td></tr>\n",
       "\t<tr><td>51</td><td>December         </td><td>14-20    </td><td>2020</td><td>  0.00</td><td> 0.00</td><td>  0.00</td><td>  0.00</td><td> 17.51</td><td> 121</td><td>0.00000000</td><td>0.0000000</td></tr>\n",
       "\t<tr><td>52</td><td>December         </td><td>21-27    </td><td>2020</td><td> 34.36</td><td> 0.00</td><td>  0.00</td><td>  0.00</td><td>  0.00</td><td> 378</td><td>0.00000000</td><td>1.7410000</td></tr>\n",
       "\t<tr><td>⋮</td><td>⋮</td><td>⋮</td><td>⋮</td><td>⋮</td><td>⋮</td><td>⋮</td><td>⋮</td><td>⋮</td><td>⋮</td><td>⋮</td><td>⋮</td></tr>\n",
       "\t<tr><td>38</td><td>September        </td><td>13-19    </td><td>2021</td><td>   8.26</td><td>186.26</td><td> 101.46</td><td> 41.07</td><td>  0.00</td><td>415</td><td>0.8301587</td><td> 3.6230267</td></tr>\n",
       "\t<tr><td>39</td><td>September        </td><td>20-26    </td><td>2021</td><td>   0.00</td><td>  0.00</td><td>   0.00</td><td>  0.00</td><td>  0.00</td><td>395</td><td>0.5711951</td><td> 1.0251333</td></tr>\n",
       "\t<tr><td>40</td><td>September/October</td><td>27-30/1-3</td><td>2021</td><td> 486.82</td><td>  0.00</td><td>   0.00</td><td>  0.00</td><td>  0.00</td><td>313</td><td>0.6144928</td><td> 3.0355913</td></tr>\n",
       "\t<tr><td>41</td><td>October          </td><td>4-10     </td><td>2021</td><td>   0.00</td><td>  0.00</td><td>  40.65</td><td> 61.37</td><td>  0.00</td><td>243</td><td>0.6230159</td><td> 2.5709000</td></tr>\n",
       "\t<tr><td>42</td><td>October          </td><td>11-17    </td><td>2021</td><td>   0.00</td><td>  0.00</td><td>   0.00</td><td>  0.00</td><td>  0.00</td><td>258</td><td>0.6366120</td><td> 0.8792000</td></tr>\n",
       "\t<tr><td>43</td><td>October          </td><td>18-24    </td><td>2021</td><td> 527.29</td><td>  0.00</td><td>   0.00</td><td>  0.00</td><td>  0.00</td><td>455</td><td>0.5047660</td><td> 1.1164333</td></tr>\n",
       "\t<tr><td>44</td><td>October          </td><td>25-31    </td><td>2021</td><td>   0.00</td><td>  0.00</td><td>  61.39</td><td>  0.00</td><td>  0.00</td><td>349</td><td>0.4642512</td><td> 3.7019222</td></tr>\n",
       "\t<tr><td>45</td><td>November         </td><td>1-7      </td><td>2021</td><td>   0.00</td><td>  0.00</td><td>  17.86</td><td> 78.77</td><td> 36.12</td><td>162</td><td>0.8611111</td><td> 1.7801778</td></tr>\n",
       "\t<tr><td>46</td><td>November         </td><td>8-14     </td><td>2021</td><td>   0.00</td><td>122.15</td><td>  98.46</td><td> 97.77</td><td>  0.00</td><td>416</td><td>0.6425121</td><td> 2.7080000</td></tr>\n",
       "\t<tr><td>47</td><td>November         </td><td>15-21    </td><td>2021</td><td>   0.00</td><td>  0.00</td><td> 139.77</td><td> 17.45</td><td>  0.00</td><td>253</td><td>0.5238095</td><td> 2.8536333</td></tr>\n",
       "\t<tr><td>48</td><td>November         </td><td>22-28    </td><td>2021</td><td> 588.84</td><td>  0.00</td><td>  17.28</td><td> 28.52</td><td>  0.00</td><td>289</td><td>0.4222222</td><td> 0.6980222</td></tr>\n",
       "\t<tr><td>49</td><td>November/December</td><td>29-30/1-5</td><td>2021</td><td>   0.00</td><td>  0.00</td><td> 136.55</td><td>140.66</td><td>  0.00</td><td>521</td><td>0.5204248</td><td> 0.7900444</td></tr>\n",
       "\t<tr><td>50</td><td>December         </td><td>6-12     </td><td>2021</td><td> 147.38</td><td>  0.00</td><td>   0.00</td><td> 41.06</td><td>  0.00</td><td>238</td><td>0.4313725</td><td> 2.1397778</td></tr>\n",
       "\t<tr><td>51</td><td>December         </td><td>13-19    </td><td>2021</td><td>  15.90</td><td>  0.00</td><td>   0.00</td><td> 57.21</td><td>  0.00</td><td>161</td><td>0.3333333</td><td> 5.7450333</td></tr>\n",
       "\t<tr><td>52</td><td>December         </td><td>20-26    </td><td>2021</td><td>   0.00</td><td>  0.00</td><td>   0.00</td><td>  0.00</td><td>  0.00</td><td>127</td><td>0.6750000</td><td> 1.2465556</td></tr>\n",
       "\t<tr><td> 1</td><td>December/January </td><td>27-31/1-2</td><td>2022</td><td> 223.89</td><td>  0.00</td><td>   0.00</td><td> 47.21</td><td>  0.00</td><td>233</td><td>0.6250000</td><td> 0.6933333</td></tr>\n",
       "\t<tr><td> 2</td><td>January          </td><td>3-9      </td><td>2022</td><td>   0.00</td><td>  0.00</td><td>   0.00</td><td>  0.00</td><td> 18.86</td><td>379</td><td>0.5277778</td><td> 2.9876267</td></tr>\n",
       "\t<tr><td> 3</td><td>January          </td><td>10-16    </td><td>2022</td><td>   0.00</td><td>  0.00</td><td>   0.00</td><td>  0.00</td><td>  0.00</td><td>390</td><td>0.6371994</td><td> 3.2564000</td></tr>\n",
       "\t<tr><td> 4</td><td>January          </td><td>17-23    </td><td>2022</td><td> 244.00</td><td> 40.68</td><td> 157.08</td><td>  0.00</td><td>  0.00</td><td>470</td><td>0.6090990</td><td> 1.3458000</td></tr>\n",
       "\t<tr><td> 5</td><td>January          </td><td>24-30    </td><td>2022</td><td>  56.85</td><td>  0.00</td><td>   0.00</td><td>  0.00</td><td>  0.00</td><td>299</td><td>0.5888889</td><td> 0.0000000</td></tr>\n",
       "\t<tr><td> 6</td><td>January/February </td><td>31/1-6   </td><td>2022</td><td> 690.15</td><td>  0.00</td><td> 209.93</td><td> 39.99</td><td>  0.00</td><td>424</td><td>0.2973856</td><td> 2.6182833</td></tr>\n",
       "\t<tr><td> 7</td><td>February         </td><td>7-13     </td><td>2022</td><td>   0.00</td><td> 79.98</td><td>   0.00</td><td>  0.00</td><td>221.94</td><td>181</td><td>0.9333333</td><td> 0.0000000</td></tr>\n",
       "\t<tr><td> 8</td><td>February         </td><td>14-20    </td><td>2022</td><td>1124.94</td><td>  0.00</td><td>4118.71</td><td> 95.85</td><td>  0.00</td><td>314</td><td>0.6547619</td><td> 1.9175667</td></tr>\n",
       "\t<tr><td> 9</td><td>February         </td><td>21-27    </td><td>2022</td><td>   0.00</td><td>  0.00</td><td>   0.00</td><td>  0.00</td><td>  0.00</td><td>278</td><td>0.8380952</td><td> 1.0336333</td></tr>\n",
       "\t<tr><td>10</td><td>February/March   </td><td>28/1-6   </td><td>2022</td><td> 205.55</td><td> 59.98</td><td>   0.00</td><td> 49.99</td><td>  0.00</td><td>365</td><td>0.8571429</td><td>10.2757864</td></tr>\n",
       "\t<tr><td>11</td><td>March            </td><td>7-13     </td><td>2022</td><td>   0.00</td><td> 49.99</td><td>  54.94</td><td>  0.00</td><td>  0.00</td><td>606</td><td>0.5908030</td><td> 1.9532883</td></tr>\n",
       "\t<tr><td>12</td><td>March            </td><td>14-20    </td><td>2022</td><td>  92.94</td><td> 53.00</td><td>  43.99</td><td>  0.00</td><td>  0.00</td><td>349</td><td>0.6810565</td><td> 3.6015255</td></tr>\n",
       "\t<tr><td>13</td><td>March            </td><td>21-27    </td><td>2022</td><td> 565.26</td><td> 29.99</td><td>1289.57</td><td>  0.00</td><td>  0.00</td><td>420</td><td>0.6375295</td><td> 1.2262667</td></tr>\n",
       "\t<tr><td>14</td><td>March/April      </td><td>28-31/1-3</td><td>2022</td><td>  32.95</td><td>  0.00</td><td>   0.00</td><td>  0.00</td><td>  0.00</td><td>380</td><td>0.6349206</td><td> 2.8534000</td></tr>\n",
       "\t<tr><td>15</td><td>April            </td><td>4-10     </td><td>2022</td><td>   0.00</td><td> 57.94</td><td>   0.00</td><td>  0.00</td><td>  0.00</td><td> NA</td><td>       NA</td><td>        NA</td></tr>\n",
       "</tbody>\n",
       "</table>\n"
      ],
      "text/latex": [
       "A tibble: 97 × 12\n",
       "\\begin{tabular}{llllllllllll}\n",
       " Week & Month & Dates & Year & Revenue (\\$) & Paid Traffic (\\$) & Organic Traffic (\\$) & Direct Traffic (\\$) & Referal Traffic (\\$) & Total Pageviews & Average Bounce Rate & Avg. Page Load Time (sec)\\\\\n",
       " <dbl> & <chr> & <chr> & <dbl> & <dbl> & <dbl> & <dbl> & <dbl> & <dbl> & <dbl> & <dbl> & <dbl>\\\\\n",
       "\\hline\n",
       "\t 23 & June              & 1-7       & 2020 &   0.00 &  0.00 &  26.04 &   0.00 &   0.00 &   96 & 0.33333333 & 0.0000000\\\\\n",
       "\t 24 & June              & 8-14      & 2020 &  34.99 &  0.00 &   0.00 &   0.00 &  34.99 &  141 & 0.16666667 & 1.5716444\\\\\n",
       "\t 25 & June              & 15-21     & 2020 &   0.00 &  0.00 &   0.00 &   0.00 &   0.00 &  212 & 0.00000000 & 0.6572667\\\\\n",
       "\t 26 & June              & 22-28     & 2020 &   0.00 &  0.00 &   0.00 &   0.00 &   0.00 &  476 & 0.00000000 & 2.7076833\\\\\n",
       "\t 27 & June/July         & 29-30/1-5 & 2020 &   0.00 &  0.00 &   0.00 &   0.00 &  72.17 &  253 & 0.00000000 & 2.7430444\\\\\n",
       "\t 28 & July              & 6-12      & 2020 & 294.86 &  0.00 &  57.36 &   0.00 &   0.00 &  940 & 0.00000000 & 0.0000000\\\\\n",
       "\t 29 & July              & 13-19     & 2020 &   0.00 &  0.00 &   0.00 &   0.00 &   0.00 &  294 & 0.00000000 & 0.0000000\\\\\n",
       "\t 30 & July              & 20-26     & 2020 &   0.00 &  0.00 &   0.00 &   0.00 &   0.00 &  293 & 0.00000000 & 0.6916667\\\\\n",
       "\t 31 & July/August       & 27-31/1-2 & 2020 &   0.00 &  0.00 &   0.00 &   0.00 &  45.94 &  648 & 0.00000000 & 0.4921333\\\\\n",
       "\t 32 & August            & 3-9       & 2020 &   0.00 &  0.00 &   0.00 &   0.00 &   0.00 &  192 & 0.00000000 & 5.1024000\\\\\n",
       "\t 33 & August            & 10-16     & 2020 &   0.00 &  0.00 &  61.74 &  20.91 &  21.49 & 1133 & 0.00000000 & 5.1404500\\\\\n",
       "\t 34 & August            & 17-23     & 2020 &  20.91 &  0.00 &  51.38 &   0.00 &   0.00 &  183 & 0.00000000 & 0.7227333\\\\\n",
       "\t 35 & August            & 24-30     & 2020 &   0.00 &  0.00 &   0.00 &   0.00 &   0.00 &  546 & 0.00000000 & 2.1950000\\\\\n",
       "\t 36 & August/September  & 31/1-6    & 2020 &   0.00 &  0.00 &   0.00 &   0.00 &   0.00 &  111 & 0.00000000 & 0.0000000\\\\\n",
       "\t 37 & September         & 7-13      & 2020 &   0.00 &  0.00 &  25.79 &   0.00 &  84.97 &  921 & 0.00000000 & 1.7529667\\\\\n",
       "\t 38 & September         & 14-20     & 2020 &  84.97 &  0.00 &  10.62 &  58.51 &   0.00 &  162 & 0.00000000 & 1.9978000\\\\\n",
       "\t 39 & September         & 21-27     & 2020 &   0.00 &  0.00 &   0.00 &  35.57 & 179.85 &  161 & 0.00000000 & 0.0000000\\\\\n",
       "\t 40 & September/October & 28-30/1-4 & 2020 & 924.46 &  0.00 &   0.00 &  10.72 &   0.00 &  409 & 0.08333333 & 5.2374667\\\\\n",
       "\t 41 & October           & 5-11      & 2020 &   0.00 &  0.00 &   0.00 &   0.00 &   0.00 &  223 & 0.00000000 & 1.0254343\\\\\n",
       "\t 42 & October           & 12-18     & 2020 &   0.00 &  0.00 &   0.00 & 107.94 &   0.00 &  263 & 0.00000000 & 2.2204000\\\\\n",
       "\t 43 & October           & 19-25     & 2020 &   0.00 & 37.25 &  10.65 &  26.11 &   0.00 &  233 & 0.11111111 & 0.8876000\\\\\n",
       "\t 44 & October/November  & 26-31/1   & 2020 &   0.00 &  0.00 &   0.00 &   0.00 &   0.00 &  131 & 0.00000000 & 0.8184667\\\\\n",
       "\t 45 & November          & 2-8       & 2020 &   0.00 &  0.00 &   0.00 &  50.80 &  65.38 &  233 & 0.00000000 & 0.0000000\\\\\n",
       "\t 46 & November          & 9-15      & 2020 & 288.63 &  0.00 & 145.24 &   0.00 &   0.00 &  344 & 0.00000000 & 0.0000000\\\\\n",
       "\t 47 & November          & 16-22     & 2020 & 320.40 &  0.00 &   0.00 &  98.28 &   0.00 &  173 & 0.00000000 & 2.8914667\\\\\n",
       "\t 48 & November          & 23-29     & 2020 &   0.00 &  0.00 &   9.32 & 183.78 &   0.00 & 1118 & 0.16666667 & 1.1493333\\\\\n",
       "\t 49 & November/December & 30/1-6    & 2020 & 178.54 &  0.00 &  38.63 &  62.01 & 103.90 &  455 & 0.00000000 & 0.7770065\\\\\n",
       "\t 50 & December          & 7-13      & 2020 &   0.00 &  0.00 &  34.36 &   0.00 &   0.00 &  425 & 0.26666667 & 3.3197778\\\\\n",
       "\t 51 & December          & 14-20     & 2020 &   0.00 &  0.00 &   0.00 &   0.00 &  17.51 &  121 & 0.00000000 & 0.0000000\\\\\n",
       "\t 52 & December          & 21-27     & 2020 &  34.36 &  0.00 &   0.00 &   0.00 &   0.00 &  378 & 0.00000000 & 1.7410000\\\\\n",
       "\t ⋮ & ⋮ & ⋮ & ⋮ & ⋮ & ⋮ & ⋮ & ⋮ & ⋮ & ⋮ & ⋮ & ⋮\\\\\n",
       "\t 38 & September         & 13-19     & 2021 &    8.26 & 186.26 &  101.46 &  41.07 &   0.00 & 415 & 0.8301587 &  3.6230267\\\\\n",
       "\t 39 & September         & 20-26     & 2021 &    0.00 &   0.00 &    0.00 &   0.00 &   0.00 & 395 & 0.5711951 &  1.0251333\\\\\n",
       "\t 40 & September/October & 27-30/1-3 & 2021 &  486.82 &   0.00 &    0.00 &   0.00 &   0.00 & 313 & 0.6144928 &  3.0355913\\\\\n",
       "\t 41 & October           & 4-10      & 2021 &    0.00 &   0.00 &   40.65 &  61.37 &   0.00 & 243 & 0.6230159 &  2.5709000\\\\\n",
       "\t 42 & October           & 11-17     & 2021 &    0.00 &   0.00 &    0.00 &   0.00 &   0.00 & 258 & 0.6366120 &  0.8792000\\\\\n",
       "\t 43 & October           & 18-24     & 2021 &  527.29 &   0.00 &    0.00 &   0.00 &   0.00 & 455 & 0.5047660 &  1.1164333\\\\\n",
       "\t 44 & October           & 25-31     & 2021 &    0.00 &   0.00 &   61.39 &   0.00 &   0.00 & 349 & 0.4642512 &  3.7019222\\\\\n",
       "\t 45 & November          & 1-7       & 2021 &    0.00 &   0.00 &   17.86 &  78.77 &  36.12 & 162 & 0.8611111 &  1.7801778\\\\\n",
       "\t 46 & November          & 8-14      & 2021 &    0.00 & 122.15 &   98.46 &  97.77 &   0.00 & 416 & 0.6425121 &  2.7080000\\\\\n",
       "\t 47 & November          & 15-21     & 2021 &    0.00 &   0.00 &  139.77 &  17.45 &   0.00 & 253 & 0.5238095 &  2.8536333\\\\\n",
       "\t 48 & November          & 22-28     & 2021 &  588.84 &   0.00 &   17.28 &  28.52 &   0.00 & 289 & 0.4222222 &  0.6980222\\\\\n",
       "\t 49 & November/December & 29-30/1-5 & 2021 &    0.00 &   0.00 &  136.55 & 140.66 &   0.00 & 521 & 0.5204248 &  0.7900444\\\\\n",
       "\t 50 & December          & 6-12      & 2021 &  147.38 &   0.00 &    0.00 &  41.06 &   0.00 & 238 & 0.4313725 &  2.1397778\\\\\n",
       "\t 51 & December          & 13-19     & 2021 &   15.90 &   0.00 &    0.00 &  57.21 &   0.00 & 161 & 0.3333333 &  5.7450333\\\\\n",
       "\t 52 & December          & 20-26     & 2021 &    0.00 &   0.00 &    0.00 &   0.00 &   0.00 & 127 & 0.6750000 &  1.2465556\\\\\n",
       "\t  1 & December/January  & 27-31/1-2 & 2022 &  223.89 &   0.00 &    0.00 &  47.21 &   0.00 & 233 & 0.6250000 &  0.6933333\\\\\n",
       "\t  2 & January           & 3-9       & 2022 &    0.00 &   0.00 &    0.00 &   0.00 &  18.86 & 379 & 0.5277778 &  2.9876267\\\\\n",
       "\t  3 & January           & 10-16     & 2022 &    0.00 &   0.00 &    0.00 &   0.00 &   0.00 & 390 & 0.6371994 &  3.2564000\\\\\n",
       "\t  4 & January           & 17-23     & 2022 &  244.00 &  40.68 &  157.08 &   0.00 &   0.00 & 470 & 0.6090990 &  1.3458000\\\\\n",
       "\t  5 & January           & 24-30     & 2022 &   56.85 &   0.00 &    0.00 &   0.00 &   0.00 & 299 & 0.5888889 &  0.0000000\\\\\n",
       "\t  6 & January/February  & 31/1-6    & 2022 &  690.15 &   0.00 &  209.93 &  39.99 &   0.00 & 424 & 0.2973856 &  2.6182833\\\\\n",
       "\t  7 & February          & 7-13      & 2022 &    0.00 &  79.98 &    0.00 &   0.00 & 221.94 & 181 & 0.9333333 &  0.0000000\\\\\n",
       "\t  8 & February          & 14-20     & 2022 & 1124.94 &   0.00 & 4118.71 &  95.85 &   0.00 & 314 & 0.6547619 &  1.9175667\\\\\n",
       "\t  9 & February          & 21-27     & 2022 &    0.00 &   0.00 &    0.00 &   0.00 &   0.00 & 278 & 0.8380952 &  1.0336333\\\\\n",
       "\t 10 & February/March    & 28/1-6    & 2022 &  205.55 &  59.98 &    0.00 &  49.99 &   0.00 & 365 & 0.8571429 & 10.2757864\\\\\n",
       "\t 11 & March             & 7-13      & 2022 &    0.00 &  49.99 &   54.94 &   0.00 &   0.00 & 606 & 0.5908030 &  1.9532883\\\\\n",
       "\t 12 & March             & 14-20     & 2022 &   92.94 &  53.00 &   43.99 &   0.00 &   0.00 & 349 & 0.6810565 &  3.6015255\\\\\n",
       "\t 13 & March             & 21-27     & 2022 &  565.26 &  29.99 & 1289.57 &   0.00 &   0.00 & 420 & 0.6375295 &  1.2262667\\\\\n",
       "\t 14 & March/April       & 28-31/1-3 & 2022 &   32.95 &   0.00 &    0.00 &   0.00 &   0.00 & 380 & 0.6349206 &  2.8534000\\\\\n",
       "\t 15 & April             & 4-10      & 2022 &    0.00 &  57.94 &    0.00 &   0.00 &   0.00 &  NA &        NA &         NA\\\\\n",
       "\\end{tabular}\n"
      ],
      "text/markdown": [
       "\n",
       "A tibble: 97 × 12\n",
       "\n",
       "| Week &lt;dbl&gt; | Month &lt;chr&gt; | Dates &lt;chr&gt; | Year &lt;dbl&gt; | Revenue ($) &lt;dbl&gt; | Paid Traffic ($) &lt;dbl&gt; | Organic Traffic ($) &lt;dbl&gt; | Direct Traffic ($) &lt;dbl&gt; | Referal Traffic ($) &lt;dbl&gt; | Total Pageviews &lt;dbl&gt; | Average Bounce Rate &lt;dbl&gt; | Avg. Page Load Time (sec) &lt;dbl&gt; |\n",
       "|---|---|---|---|---|---|---|---|---|---|---|---|\n",
       "| 23 | June              | 1-7       | 2020 |   0.00 |  0.00 |  26.04 |   0.00 |   0.00 |   96 | 0.33333333 | 0.0000000 |\n",
       "| 24 | June              | 8-14      | 2020 |  34.99 |  0.00 |   0.00 |   0.00 |  34.99 |  141 | 0.16666667 | 1.5716444 |\n",
       "| 25 | June              | 15-21     | 2020 |   0.00 |  0.00 |   0.00 |   0.00 |   0.00 |  212 | 0.00000000 | 0.6572667 |\n",
       "| 26 | June              | 22-28     | 2020 |   0.00 |  0.00 |   0.00 |   0.00 |   0.00 |  476 | 0.00000000 | 2.7076833 |\n",
       "| 27 | June/July         | 29-30/1-5 | 2020 |   0.00 |  0.00 |   0.00 |   0.00 |  72.17 |  253 | 0.00000000 | 2.7430444 |\n",
       "| 28 | July              | 6-12      | 2020 | 294.86 |  0.00 |  57.36 |   0.00 |   0.00 |  940 | 0.00000000 | 0.0000000 |\n",
       "| 29 | July              | 13-19     | 2020 |   0.00 |  0.00 |   0.00 |   0.00 |   0.00 |  294 | 0.00000000 | 0.0000000 |\n",
       "| 30 | July              | 20-26     | 2020 |   0.00 |  0.00 |   0.00 |   0.00 |   0.00 |  293 | 0.00000000 | 0.6916667 |\n",
       "| 31 | July/August       | 27-31/1-2 | 2020 |   0.00 |  0.00 |   0.00 |   0.00 |  45.94 |  648 | 0.00000000 | 0.4921333 |\n",
       "| 32 | August            | 3-9       | 2020 |   0.00 |  0.00 |   0.00 |   0.00 |   0.00 |  192 | 0.00000000 | 5.1024000 |\n",
       "| 33 | August            | 10-16     | 2020 |   0.00 |  0.00 |  61.74 |  20.91 |  21.49 | 1133 | 0.00000000 | 5.1404500 |\n",
       "| 34 | August            | 17-23     | 2020 |  20.91 |  0.00 |  51.38 |   0.00 |   0.00 |  183 | 0.00000000 | 0.7227333 |\n",
       "| 35 | August            | 24-30     | 2020 |   0.00 |  0.00 |   0.00 |   0.00 |   0.00 |  546 | 0.00000000 | 2.1950000 |\n",
       "| 36 | August/September  | 31/1-6    | 2020 |   0.00 |  0.00 |   0.00 |   0.00 |   0.00 |  111 | 0.00000000 | 0.0000000 |\n",
       "| 37 | September         | 7-13      | 2020 |   0.00 |  0.00 |  25.79 |   0.00 |  84.97 |  921 | 0.00000000 | 1.7529667 |\n",
       "| 38 | September         | 14-20     | 2020 |  84.97 |  0.00 |  10.62 |  58.51 |   0.00 |  162 | 0.00000000 | 1.9978000 |\n",
       "| 39 | September         | 21-27     | 2020 |   0.00 |  0.00 |   0.00 |  35.57 | 179.85 |  161 | 0.00000000 | 0.0000000 |\n",
       "| 40 | September/October | 28-30/1-4 | 2020 | 924.46 |  0.00 |   0.00 |  10.72 |   0.00 |  409 | 0.08333333 | 5.2374667 |\n",
       "| 41 | October           | 5-11      | 2020 |   0.00 |  0.00 |   0.00 |   0.00 |   0.00 |  223 | 0.00000000 | 1.0254343 |\n",
       "| 42 | October           | 12-18     | 2020 |   0.00 |  0.00 |   0.00 | 107.94 |   0.00 |  263 | 0.00000000 | 2.2204000 |\n",
       "| 43 | October           | 19-25     | 2020 |   0.00 | 37.25 |  10.65 |  26.11 |   0.00 |  233 | 0.11111111 | 0.8876000 |\n",
       "| 44 | October/November  | 26-31/1   | 2020 |   0.00 |  0.00 |   0.00 |   0.00 |   0.00 |  131 | 0.00000000 | 0.8184667 |\n",
       "| 45 | November          | 2-8       | 2020 |   0.00 |  0.00 |   0.00 |  50.80 |  65.38 |  233 | 0.00000000 | 0.0000000 |\n",
       "| 46 | November          | 9-15      | 2020 | 288.63 |  0.00 | 145.24 |   0.00 |   0.00 |  344 | 0.00000000 | 0.0000000 |\n",
       "| 47 | November          | 16-22     | 2020 | 320.40 |  0.00 |   0.00 |  98.28 |   0.00 |  173 | 0.00000000 | 2.8914667 |\n",
       "| 48 | November          | 23-29     | 2020 |   0.00 |  0.00 |   9.32 | 183.78 |   0.00 | 1118 | 0.16666667 | 1.1493333 |\n",
       "| 49 | November/December | 30/1-6    | 2020 | 178.54 |  0.00 |  38.63 |  62.01 | 103.90 |  455 | 0.00000000 | 0.7770065 |\n",
       "| 50 | December          | 7-13      | 2020 |   0.00 |  0.00 |  34.36 |   0.00 |   0.00 |  425 | 0.26666667 | 3.3197778 |\n",
       "| 51 | December          | 14-20     | 2020 |   0.00 |  0.00 |   0.00 |   0.00 |  17.51 |  121 | 0.00000000 | 0.0000000 |\n",
       "| 52 | December          | 21-27     | 2020 |  34.36 |  0.00 |   0.00 |   0.00 |   0.00 |  378 | 0.00000000 | 1.7410000 |\n",
       "| ⋮ | ⋮ | ⋮ | ⋮ | ⋮ | ⋮ | ⋮ | ⋮ | ⋮ | ⋮ | ⋮ | ⋮ |\n",
       "| 38 | September         | 13-19     | 2021 |    8.26 | 186.26 |  101.46 |  41.07 |   0.00 | 415 | 0.8301587 |  3.6230267 |\n",
       "| 39 | September         | 20-26     | 2021 |    0.00 |   0.00 |    0.00 |   0.00 |   0.00 | 395 | 0.5711951 |  1.0251333 |\n",
       "| 40 | September/October | 27-30/1-3 | 2021 |  486.82 |   0.00 |    0.00 |   0.00 |   0.00 | 313 | 0.6144928 |  3.0355913 |\n",
       "| 41 | October           | 4-10      | 2021 |    0.00 |   0.00 |   40.65 |  61.37 |   0.00 | 243 | 0.6230159 |  2.5709000 |\n",
       "| 42 | October           | 11-17     | 2021 |    0.00 |   0.00 |    0.00 |   0.00 |   0.00 | 258 | 0.6366120 |  0.8792000 |\n",
       "| 43 | October           | 18-24     | 2021 |  527.29 |   0.00 |    0.00 |   0.00 |   0.00 | 455 | 0.5047660 |  1.1164333 |\n",
       "| 44 | October           | 25-31     | 2021 |    0.00 |   0.00 |   61.39 |   0.00 |   0.00 | 349 | 0.4642512 |  3.7019222 |\n",
       "| 45 | November          | 1-7       | 2021 |    0.00 |   0.00 |   17.86 |  78.77 |  36.12 | 162 | 0.8611111 |  1.7801778 |\n",
       "| 46 | November          | 8-14      | 2021 |    0.00 | 122.15 |   98.46 |  97.77 |   0.00 | 416 | 0.6425121 |  2.7080000 |\n",
       "| 47 | November          | 15-21     | 2021 |    0.00 |   0.00 |  139.77 |  17.45 |   0.00 | 253 | 0.5238095 |  2.8536333 |\n",
       "| 48 | November          | 22-28     | 2021 |  588.84 |   0.00 |   17.28 |  28.52 |   0.00 | 289 | 0.4222222 |  0.6980222 |\n",
       "| 49 | November/December | 29-30/1-5 | 2021 |    0.00 |   0.00 |  136.55 | 140.66 |   0.00 | 521 | 0.5204248 |  0.7900444 |\n",
       "| 50 | December          | 6-12      | 2021 |  147.38 |   0.00 |    0.00 |  41.06 |   0.00 | 238 | 0.4313725 |  2.1397778 |\n",
       "| 51 | December          | 13-19     | 2021 |   15.90 |   0.00 |    0.00 |  57.21 |   0.00 | 161 | 0.3333333 |  5.7450333 |\n",
       "| 52 | December          | 20-26     | 2021 |    0.00 |   0.00 |    0.00 |   0.00 |   0.00 | 127 | 0.6750000 |  1.2465556 |\n",
       "|  1 | December/January  | 27-31/1-2 | 2022 |  223.89 |   0.00 |    0.00 |  47.21 |   0.00 | 233 | 0.6250000 |  0.6933333 |\n",
       "|  2 | January           | 3-9       | 2022 |    0.00 |   0.00 |    0.00 |   0.00 |  18.86 | 379 | 0.5277778 |  2.9876267 |\n",
       "|  3 | January           | 10-16     | 2022 |    0.00 |   0.00 |    0.00 |   0.00 |   0.00 | 390 | 0.6371994 |  3.2564000 |\n",
       "|  4 | January           | 17-23     | 2022 |  244.00 |  40.68 |  157.08 |   0.00 |   0.00 | 470 | 0.6090990 |  1.3458000 |\n",
       "|  5 | January           | 24-30     | 2022 |   56.85 |   0.00 |    0.00 |   0.00 |   0.00 | 299 | 0.5888889 |  0.0000000 |\n",
       "|  6 | January/February  | 31/1-6    | 2022 |  690.15 |   0.00 |  209.93 |  39.99 |   0.00 | 424 | 0.2973856 |  2.6182833 |\n",
       "|  7 | February          | 7-13      | 2022 |    0.00 |  79.98 |    0.00 |   0.00 | 221.94 | 181 | 0.9333333 |  0.0000000 |\n",
       "|  8 | February          | 14-20     | 2022 | 1124.94 |   0.00 | 4118.71 |  95.85 |   0.00 | 314 | 0.6547619 |  1.9175667 |\n",
       "|  9 | February          | 21-27     | 2022 |    0.00 |   0.00 |    0.00 |   0.00 |   0.00 | 278 | 0.8380952 |  1.0336333 |\n",
       "| 10 | February/March    | 28/1-6    | 2022 |  205.55 |  59.98 |    0.00 |  49.99 |   0.00 | 365 | 0.8571429 | 10.2757864 |\n",
       "| 11 | March             | 7-13      | 2022 |    0.00 |  49.99 |   54.94 |   0.00 |   0.00 | 606 | 0.5908030 |  1.9532883 |\n",
       "| 12 | March             | 14-20     | 2022 |   92.94 |  53.00 |   43.99 |   0.00 |   0.00 | 349 | 0.6810565 |  3.6015255 |\n",
       "| 13 | March             | 21-27     | 2022 |  565.26 |  29.99 | 1289.57 |   0.00 |   0.00 | 420 | 0.6375295 |  1.2262667 |\n",
       "| 14 | March/April       | 28-31/1-3 | 2022 |   32.95 |   0.00 |    0.00 |   0.00 |   0.00 | 380 | 0.6349206 |  2.8534000 |\n",
       "| 15 | April             | 4-10      | 2022 |    0.00 |  57.94 |    0.00 |   0.00 |   0.00 |  NA |        NA |         NA |\n",
       "\n"
      ],
      "text/plain": [
       "   Week Month             Dates     Year Revenue ($) Paid Traffic ($)\n",
       "1  23   June              1-7       2020   0.00       0.00           \n",
       "2  24   June              8-14      2020  34.99       0.00           \n",
       "3  25   June              15-21     2020   0.00       0.00           \n",
       "4  26   June              22-28     2020   0.00       0.00           \n",
       "5  27   June/July         29-30/1-5 2020   0.00       0.00           \n",
       "6  28   July              6-12      2020 294.86       0.00           \n",
       "7  29   July              13-19     2020   0.00       0.00           \n",
       "8  30   July              20-26     2020   0.00       0.00           \n",
       "9  31   July/August       27-31/1-2 2020   0.00       0.00           \n",
       "10 32   August            3-9       2020   0.00       0.00           \n",
       "11 33   August            10-16     2020   0.00       0.00           \n",
       "12 34   August            17-23     2020  20.91       0.00           \n",
       "13 35   August            24-30     2020   0.00       0.00           \n",
       "14 36   August/September  31/1-6    2020   0.00       0.00           \n",
       "15 37   September         7-13      2020   0.00       0.00           \n",
       "16 38   September         14-20     2020  84.97       0.00           \n",
       "17 39   September         21-27     2020   0.00       0.00           \n",
       "18 40   September/October 28-30/1-4 2020 924.46       0.00           \n",
       "19 41   October           5-11      2020   0.00       0.00           \n",
       "20 42   October           12-18     2020   0.00       0.00           \n",
       "21 43   October           19-25     2020   0.00      37.25           \n",
       "22 44   October/November  26-31/1   2020   0.00       0.00           \n",
       "23 45   November          2-8       2020   0.00       0.00           \n",
       "24 46   November          9-15      2020 288.63       0.00           \n",
       "25 47   November          16-22     2020 320.40       0.00           \n",
       "26 48   November          23-29     2020   0.00       0.00           \n",
       "27 49   November/December 30/1-6    2020 178.54       0.00           \n",
       "28 50   December          7-13      2020   0.00       0.00           \n",
       "29 51   December          14-20     2020   0.00       0.00           \n",
       "30 52   December          21-27     2020  34.36       0.00           \n",
       "⋮  ⋮    ⋮                 ⋮         ⋮    ⋮           ⋮               \n",
       "68 38   September         13-19     2021    8.26     186.26          \n",
       "69 39   September         20-26     2021    0.00       0.00          \n",
       "70 40   September/October 27-30/1-3 2021  486.82       0.00          \n",
       "71 41   October           4-10      2021    0.00       0.00          \n",
       "72 42   October           11-17     2021    0.00       0.00          \n",
       "73 43   October           18-24     2021  527.29       0.00          \n",
       "74 44   October           25-31     2021    0.00       0.00          \n",
       "75 45   November          1-7       2021    0.00       0.00          \n",
       "76 46   November          8-14      2021    0.00     122.15          \n",
       "77 47   November          15-21     2021    0.00       0.00          \n",
       "78 48   November          22-28     2021  588.84       0.00          \n",
       "79 49   November/December 29-30/1-5 2021    0.00       0.00          \n",
       "80 50   December          6-12      2021  147.38       0.00          \n",
       "81 51   December          13-19     2021   15.90       0.00          \n",
       "82 52   December          20-26     2021    0.00       0.00          \n",
       "83  1   December/January  27-31/1-2 2022  223.89       0.00          \n",
       "84  2   January           3-9       2022    0.00       0.00          \n",
       "85  3   January           10-16     2022    0.00       0.00          \n",
       "86  4   January           17-23     2022  244.00      40.68          \n",
       "87  5   January           24-30     2022   56.85       0.00          \n",
       "88  6   January/February  31/1-6    2022  690.15       0.00          \n",
       "89  7   February          7-13      2022    0.00      79.98          \n",
       "90  8   February          14-20     2022 1124.94       0.00          \n",
       "91  9   February          21-27     2022    0.00       0.00          \n",
       "92 10   February/March    28/1-6    2022  205.55      59.98          \n",
       "93 11   March             7-13      2022    0.00      49.99          \n",
       "94 12   March             14-20     2022   92.94      53.00          \n",
       "95 13   March             21-27     2022  565.26      29.99          \n",
       "96 14   March/April       28-31/1-3 2022   32.95       0.00          \n",
       "97 15   April             4-10      2022    0.00      57.94          \n",
       "   Organic Traffic ($) Direct Traffic ($) Referal Traffic ($) Total Pageviews\n",
       "1   26.04                0.00               0.00                96           \n",
       "2    0.00                0.00              34.99               141           \n",
       "3    0.00                0.00               0.00               212           \n",
       "4    0.00                0.00               0.00               476           \n",
       "5    0.00                0.00              72.17               253           \n",
       "6   57.36                0.00               0.00               940           \n",
       "7    0.00                0.00               0.00               294           \n",
       "8    0.00                0.00               0.00               293           \n",
       "9    0.00                0.00              45.94               648           \n",
       "10   0.00                0.00               0.00               192           \n",
       "11  61.74               20.91              21.49              1133           \n",
       "12  51.38                0.00               0.00               183           \n",
       "13   0.00                0.00               0.00               546           \n",
       "14   0.00                0.00               0.00               111           \n",
       "15  25.79                0.00              84.97               921           \n",
       "16  10.62               58.51               0.00               162           \n",
       "17   0.00               35.57             179.85               161           \n",
       "18   0.00               10.72               0.00               409           \n",
       "19   0.00                0.00               0.00               223           \n",
       "20   0.00              107.94               0.00               263           \n",
       "21  10.65               26.11               0.00               233           \n",
       "22   0.00                0.00               0.00               131           \n",
       "23   0.00               50.80              65.38               233           \n",
       "24 145.24                0.00               0.00               344           \n",
       "25   0.00               98.28               0.00               173           \n",
       "26   9.32              183.78               0.00              1118           \n",
       "27  38.63               62.01             103.90               455           \n",
       "28  34.36                0.00               0.00               425           \n",
       "29   0.00                0.00              17.51               121           \n",
       "30   0.00                0.00               0.00               378           \n",
       "⋮  ⋮                   ⋮                  ⋮                   ⋮              \n",
       "68  101.46              41.07               0.00              415            \n",
       "69    0.00               0.00               0.00              395            \n",
       "70    0.00               0.00               0.00              313            \n",
       "71   40.65              61.37               0.00              243            \n",
       "72    0.00               0.00               0.00              258            \n",
       "73    0.00               0.00               0.00              455            \n",
       "74   61.39               0.00               0.00              349            \n",
       "75   17.86              78.77              36.12              162            \n",
       "76   98.46              97.77               0.00              416            \n",
       "77  139.77              17.45               0.00              253            \n",
       "78   17.28              28.52               0.00              289            \n",
       "79  136.55             140.66               0.00              521            \n",
       "80    0.00              41.06               0.00              238            \n",
       "81    0.00              57.21               0.00              161            \n",
       "82    0.00               0.00               0.00              127            \n",
       "83    0.00              47.21               0.00              233            \n",
       "84    0.00               0.00              18.86              379            \n",
       "85    0.00               0.00               0.00              390            \n",
       "86  157.08               0.00               0.00              470            \n",
       "87    0.00               0.00               0.00              299            \n",
       "88  209.93              39.99               0.00              424            \n",
       "89    0.00               0.00             221.94              181            \n",
       "90 4118.71              95.85               0.00              314            \n",
       "91    0.00               0.00               0.00              278            \n",
       "92    0.00              49.99               0.00              365            \n",
       "93   54.94               0.00               0.00              606            \n",
       "94   43.99               0.00               0.00              349            \n",
       "95 1289.57               0.00               0.00              420            \n",
       "96    0.00               0.00               0.00              380            \n",
       "97    0.00               0.00               0.00               NA            \n",
       "   Average Bounce Rate Avg. Page Load Time (sec)\n",
       "1  0.33333333          0.0000000                \n",
       "2  0.16666667          1.5716444                \n",
       "3  0.00000000          0.6572667                \n",
       "4  0.00000000          2.7076833                \n",
       "5  0.00000000          2.7430444                \n",
       "6  0.00000000          0.0000000                \n",
       "7  0.00000000          0.0000000                \n",
       "8  0.00000000          0.6916667                \n",
       "9  0.00000000          0.4921333                \n",
       "10 0.00000000          5.1024000                \n",
       "11 0.00000000          5.1404500                \n",
       "12 0.00000000          0.7227333                \n",
       "13 0.00000000          2.1950000                \n",
       "14 0.00000000          0.0000000                \n",
       "15 0.00000000          1.7529667                \n",
       "16 0.00000000          1.9978000                \n",
       "17 0.00000000          0.0000000                \n",
       "18 0.08333333          5.2374667                \n",
       "19 0.00000000          1.0254343                \n",
       "20 0.00000000          2.2204000                \n",
       "21 0.11111111          0.8876000                \n",
       "22 0.00000000          0.8184667                \n",
       "23 0.00000000          0.0000000                \n",
       "24 0.00000000          0.0000000                \n",
       "25 0.00000000          2.8914667                \n",
       "26 0.16666667          1.1493333                \n",
       "27 0.00000000          0.7770065                \n",
       "28 0.26666667          3.3197778                \n",
       "29 0.00000000          0.0000000                \n",
       "30 0.00000000          1.7410000                \n",
       "⋮  ⋮                   ⋮                        \n",
       "68 0.8301587            3.6230267               \n",
       "69 0.5711951            1.0251333               \n",
       "70 0.6144928            3.0355913               \n",
       "71 0.6230159            2.5709000               \n",
       "72 0.6366120            0.8792000               \n",
       "73 0.5047660            1.1164333               \n",
       "74 0.4642512            3.7019222               \n",
       "75 0.8611111            1.7801778               \n",
       "76 0.6425121            2.7080000               \n",
       "77 0.5238095            2.8536333               \n",
       "78 0.4222222            0.6980222               \n",
       "79 0.5204248            0.7900444               \n",
       "80 0.4313725            2.1397778               \n",
       "81 0.3333333            5.7450333               \n",
       "82 0.6750000            1.2465556               \n",
       "83 0.6250000            0.6933333               \n",
       "84 0.5277778            2.9876267               \n",
       "85 0.6371994            3.2564000               \n",
       "86 0.6090990            1.3458000               \n",
       "87 0.5888889            0.0000000               \n",
       "88 0.2973856            2.6182833               \n",
       "89 0.9333333            0.0000000               \n",
       "90 0.6547619            1.9175667               \n",
       "91 0.8380952            1.0336333               \n",
       "92 0.8571429           10.2757864               \n",
       "93 0.5908030            1.9532883               \n",
       "94 0.6810565            3.6015255               \n",
       "95 0.6375295            1.2262667               \n",
       "96 0.6349206            2.8534000               \n",
       "97        NA                   NA               "
      ]
     },
     "metadata": {},
     "output_type": "display_data"
    }
   ],
   "source": [
    "# Install and load the necessary package\n",
    "install.packages(\"readxl\")\n",
    "if (!require(readxl)) {\n",
    "  install.packages(\"readxl\")\n",
    "  library(readxl)\n",
    "}\n",
    "\n",
    "# Define the path to the Excel file\n",
    "file_path <- \"../data/WRS Shorts Data - Canada, Australia, UK.xlsx\"\n",
    "\n",
    "# Read the Excel file from the \"data\" subfolder\n",
    "WRS_data <- read_excel(file_path)\n",
    "WRS_data\n",
    "\n"
   ]
  },
  {
   "cell_type": "markdown",
   "id": "8ad9d5c3",
   "metadata": {},
   "source": [
    "##### Your answer:"
   ]
  },
  {
   "cell_type": "code",
   "execution_count": null,
   "id": "33bb4617",
   "metadata": {},
   "outputs": [],
   "source": [
    "#this is a list of 30 randomly selected data points for pageviews \n",
    "x <- c(94,141,476,253,940,648,192,183,161,223,131,233,344,1118,455,425,121,243,258,349,162,416,521,390,424,365,606,349,420,380) \n",
    "length(x)\n",
    "sd(x)\n",
    "mean(x)"
   ]
  },
  {
   "cell_type": "markdown",
   "id": "366c777b",
   "metadata": {},
   "source": [
    "##### t-Distribution Table (Critical Values)\n",
    "\n",
    "| Degrees of Freedom (df) | 90% CI (α = 0.10) | 95% CI (α = 0.05) | 98% CI (α = 0.02) | 99% CI (α = 0.01) |\n",
    "|-------------------------|-------------------|-------------------|-------------------|-------------------|\n",
    "| 1                       | 6.314             | 12.706            | 31.821            | 63.657            |\n",
    "| 2                       | 2.920             | 4.303             | 6.965             | 9.925             |\n",
    "| 3                       | 2.353             | 3.182             | 4.541             | 5.841             |\n",
    "| 4                       | 2.132             | 2.776             | 3.747             | 4.604             |\n",
    "| 5                       | 2.015             | 2.571             | 3.365             | 4.032             |\n",
    "| 6                       | 1.943             | 2.447             | 3.143             | 3.707             |\n",
    "| 7                       | 1.895             | 2.365             | 2.998             | 3.499             |\n",
    "| 8                       | 1.860             | 2.306             | 2.896             | 3.355             |\n",
    "| 9                       | 1.833             | 2.262             | 2.821             | 3.250             |\n",
    "| 10                      | 1.812             | 2.228             | 2.764             | 3.169             |\n",
    "| 11                      | 1.796             | 2.201             | 2.718             | 3.106             |\n",
    "| 12                      | 1.782             | 2.179             | 2.681             | 3.055             |\n",
    "| 13                      | 1.771             | 2.160             | 2.650             | 3.012             |\n",
    "| 14                      | 1.761             | 2.145             | 2.624             | 2.977             |\n",
    "| 15                      | 1.753             | 2.131             | 2.602             | 2.947             |\n",
    "| 20                      | 1.725             | 2.086             | 2.528             | 2.845             |\n",
    "| 25                      | 1.708             | 2.060             | 2.485             | 2.787             |\n",
    "| 30                      | 1.697             | 2.042             | 2.457             | 2.750             |\n",
    "| ∞                       | 1.645             | 1.960             | 2.326             | 2.576             |\n",
    "\n"
   ]
  },
  {
   "cell_type": "markdown",
   "id": "e3d703f6",
   "metadata": {},
   "source": [
    "<div class=\"alert alert-block alert-danger\">\n",
    "    <b>Local Student Practice: </b> Birmingham Water Works \n",
    "</div>\n",
    "\n",
    "The 2024 Annual Water Quality Report from Birmingham Water Works states that the average number of gallons of water delivered in 2023 was 115,593 measured in millions of gallons per day. \n",
    "\n",
    "You work for for an environmental agency and believe it's lower so you choose a random one month period (30 days) to do an audit and conclude that 99,000 millions of gallons were delivered on average per day with a standard deviation of 40,000 million gallons. Perform a hypothesis test to make a conclusion about the average number of gallons delivered (using a significance level of $\\alpha=0.05$). "
   ]
  },
  {
   "cell_type": "markdown",
   "id": "a2c6b8c0",
   "metadata": {},
   "source": [
    "##### Your answer:"
   ]
  },
  {
   "cell_type": "markdown",
   "id": "96634477",
   "metadata": {},
   "source": [
    "\n",
    "##### <div class=\"alert alert-block alert-success\"> One Sample Population Standard Devation Hypothesis Test  </div>\n",
    "\n",
    "\n",
    "Null Hypothesis: $H_0: \\sigma=\\sigma_0$<br>\n",
    "Alternative Hypothesis: $H_a: \\sigma>\\sigma_0$ OR $H_a: \\sigma<\\sigma_0$ OR $H_a: \\sigma\\neq \\sigma_0$\n",
    "\n",
    "Assumptions: \n",
    "1. Data obtained by randomization.\n",
    "2. Approximately normal population. \n",
    "\n",
    "Test Statistic: $\\chi^2=\\frac{(n-1)s^2}{\\sigma^2}$ and $df=n-1$\n",
    "\n",
    "\n",
    "\n",
    "\n"
   ]
  },
  {
   "cell_type": "markdown",
   "id": "7b92082b",
   "metadata": {},
   "source": [
    "<div class=\"alert alert-block alert-danger\">\n",
    "    <b>Example</b>: Sharks!\n",
    "</div>\n",
    "\n",
    "One of the most prolific (abundant) breeding grounds in the world for the Great White Shark is around the Farallon Islands, just 30 miles west of San Francisco. You hypothesize that the standard devation of the lengths of mature female Great White Sharks around this area is 1.9 feet. \n",
    "\n",
    "Suppose researchers collect data on 105 mature female Great White Sharks in this area and see that they have an average length of 14.9 feet and a standard deviation of 2.3 feet. Assume the lengths of Great White Sharks are normally distributed (similar to human height).\n",
    "\n",
    "The researchers disagree with your estimate. What can you conclude from a hypothesis test?\n"
   ]
  },
  {
   "cell_type": "markdown",
   "id": "9f6f6d00",
   "metadata": {},
   "source": [
    "Solution: <br>\n",
    "$H_0: \\sigma = 1.9$ <br>\n",
    "$H_a: \\sigma \\neq 1.9$<br>\n",
    "$\\alpha=0.05$\n",
    "\n",
    "Assume data was obtained randomly and we are told the lengths are normally distributed. \n",
    "\n",
    "$\\chi^2=\\frac{(105-1)(2.3)^2}{(1.9)^2} \\approx 152.3989$ and $df=104$. We get a $p$-value of 0.0028 for the total area equidistant away (or further) on either side of the mean. This $p-$value is less than the $\\alpha$ value of 0.05."
   ]
  },
  {
   "cell_type": "code",
   "execution_count": 24,
   "id": "3979cc3d",
   "metadata": {},
   "outputs": [
    {
     "data": {
      "image/png": "[encoded data removed]",
      "text/plain": [
       "Plot with title “Chi-Square Distribution (df = 104)”"
      ]
     },
     "metadata": {
      "image/png": {
       "height": 420,
       "width": 420
      }
     },
     "output_type": "display_data"
    }
   ],
   "source": [
    "#create density curve\n",
    "curve(dchisq(x, df = 104), from = 38, to = 170,\n",
    "main = 'Chi-Square Distribution (df = 104)',\n",
    "ylab = 'Density',\n",
    "lwd = 1)\n",
    "\n",
    "#create vector of u and  values\n",
    "u_vector <- seq(38, 55.6011)\n",
    "x_vector <- seq(152.3989, 170)\n",
    "\n",
    "\n",
    "#create vector of chi-square density values\n",
    "p_vector <- dchisq(x_vector, df = 104)\n",
    "\n",
    "#fill in portion of the density plot from value to value\n",
    "polygon(c(x_vector, rev(x_vector)), c(p_vector, rep(0, length(p_vector))),\n",
    "        col = adjustcolor('red', alpha=0.3), border = NA)\n",
    "\n",
    "#fill in portion of the density plot from value to value\n",
    "polygon(c(u_vector, rev(u_vector)), c(p_vector, rep(0, length(p_vector))),\n",
    "        col = adjustcolor('red', alpha=0.3), border = NA)"
   ]
  },
  {
   "cell_type": "code",
   "execution_count": 9,
   "id": "de827ffc",
   "metadata": {},
   "outputs": [
    {
     "data": {
      "text/html": [
       "0.00281399357770384"
      ],
      "text/latex": [
       "0.00281399357770384"
      ],
      "text/markdown": [
       "0.00281399357770384"
      ],
      "text/plain": [
       "[1] 0.002813994"
      ]
     },
     "metadata": {},
     "output_type": "display_data"
    }
   ],
   "source": [
    "# calculating area to the *right* for chi-squared distribution \n",
    "# with inputs of chi-squared statistic and df\n",
    "# and then multiplying by 2 because need to count area just as far away from mean\n",
    "# on the left side of the chi-squared distribution since we are working with a not equal\n",
    "# alternative hypothesis\n",
    "2*(1-pchisq(152.3989,104))\n"
   ]
  },
  {
   "cell_type": "markdown",
   "id": "aae04b89",
   "metadata": {},
   "source": [
    "What is your conclusion from these results?"
   ]
  },
  {
   "cell_type": "markdown",
   "id": "407f78d3",
   "metadata": {},
   "source": [
    "#### Your answer:"
   ]
  },
  {
   "cell_type": "markdown",
   "id": "409f2aab",
   "metadata": {},
   "source": [
    "<div class=\"alert alert-block alert-danger\">\n",
    "    <b>Local Student Practice</b>: Your Turn To Brainstorm a Question! \n",
    "</div>\n",
    "\n",
    "Develop a question that is related to our local area in which a One Sample Population Standard Deviation Hypothesis Test could be used to answer it. "
   ]
  },
  {
   "cell_type": "markdown",
   "id": "9c313755",
   "metadata": {},
   "source": [
    "#### Your answer:"
   ]
  },
  {
   "cell_type": "markdown",
   "id": "6506f05f",
   "metadata": {},
   "source": [
    "### Two Samples\n",
    "\n",
    "For samples taken from two populations, does the difference in the two sample proportions (or sample means) indicate a difference in the two population proportions (or population means)?"
   ]
  },
  {
   "cell_type": "markdown",
   "id": "df65d8e7",
   "metadata": {},
   "source": [
    "##### <div class=\"alert alert-block alert-success\"> Two Sample Population Proportion Hypothesis Test </div>\n",
    "\n",
    "Null Hypothesis: $H_0: p_1=p_2$ <br>\n",
    "Alternative Hypothesis: $H_a: p_1<p_2$ OR $H_a: p_1>p_2$ OR $H_a: p_1\\neq p_2$\n",
    "\n",
    "Assumptions:\n",
    "1. Data obtained by randomization\n",
    "2. Two independent samples\n",
    "3. $n_1\\hat{p}_1\\geq 10$ and $n_1(1-\\hat{p}_1)\\geq 10$ <br>\n",
    "$n_2\\hat{p}_2\\geq 10$ and $n_2(1-\\hat{p}_2)\\geq 10$ \n",
    "\n",
    "If two-sided test (where $H_a: p_1\\neq p_2$), replace $\\geq 10$ above with $\\geq 5$. \n",
    "\n",
    "Test Statistic:  $z =\\displaystyle \\frac{\\hat{p}_1-\\hat{p}_2}{\\sqrt{\\hat{p}(1-\\hat{p})(\\frac{1}{n_1}+\\frac{1}{n_2})}}$<br>\n",
    "where $\\hat{p}=\\frac{X_1+X_2}{n_1+n_2}$ is the pooled proportion and $X_1$ and $X_2$ are considered the \"successes\" in the study measured in numbers (not proportions). Here, success just means whatever fits the criteria you are studying. "
   ]
  },
  {
   "cell_type": "markdown",
   "id": "bc4d7514",
   "metadata": {},
   "source": [
    "<div class=\"alert alert-block alert-danger\">\n",
    "    <b>Local Example</b>: Prevalence of Food Insecurity in Alabama Counties \n",
    "</div>\n",
    "\n",
    "Food insecurity is defined as \"the condition of not having access to sufficient food, or food of an adequate quality, to meet one's basic needs.\" You want to know if the prevalance of food insecurity is similar across different areas of Alabama. \n",
    "\n",
    "Looking at data on Social Needs from the year 2023 (https://datausa.io/profile/geo/birmingham-al/?social-social_needs=food), you see that 14.1% of Jefferson County was food insecure compared to 9.6% in Shelby County. Suppose 1,000 were surveyed in Jefferson County and 1,000 in Shelby County for this study.\n",
    "\n",
    "Does there appear to be a significantly higher prevalance of food insecurity in Jefferson County compared to Shelby County? By first choosing an appropriate $\\alpha$ level, use the tool of hypothesis testing to make your conclusion.  \n"
   ]
  },
  {
   "cell_type": "markdown",
   "id": "b45a5f9c",
   "metadata": {},
   "source": [
    "##### Your answer:"
   ]
  },
  {
   "cell_type": "markdown",
   "id": "1e2af1d2",
   "metadata": {},
   "source": [
    "##### <div class=\"alert alert-block alert-success\"> Two Sample Population Mean Hypothesis Test (Two Sample $t$-test) </div>\n",
    "\n",
    "Null Hypothesis: $H_0: \\mu_1=\\mu_2$ <br>\n",
    "Alternative Hypothesis: $H_a: \\mu_1<\\mu_2$ OR $H_a: \\mu_1>\\mu_2$ OR $H_a: \\mu_1\\neq \\mu_2$\n",
    "\n",
    "Assumptions:\n",
    "1. Data obtained by randomization\n",
    "2. Two independent samples\n",
    "3. Approximately normal populations or $n_1, n_2 \\geq 30$\n",
    "\n",
    "Test Statistic: $t=\\displaystyle \\frac{\\bar{x}_1-\\bar{x}_2}{\\sqrt{\\frac{s_1^2}{n_1}+\\frac{s_2^2}{n_2}}}$\n",
    "\n",
    "$df=$min$(n_1-1,n_2-1)$\n",
    "\n"
   ]
  },
  {
   "cell_type": "markdown",
   "id": "ddd26632",
   "metadata": {},
   "source": [
    "<div class=\"alert alert-block alert-danger\">\n",
    "    <b>Local Application: </b> Birmingham vs. Huntsville temperatures\n",
    "</div>\n",
    "\n",
    "The temperature highs for all 31 days of May 2024 are given here for Birmingham, AL: https://www.accuweather.com/en/us/birmingham/35203/may-weather/346630 and here for Huntsville, AL: https://www.accuweather.com/en/us/huntsville/35801/may-weather/326704?year=2024\n",
    "\n",
    "Based on these samples, at a significance level of $\\alpha=0.05$, can it be concluded that Birmingham is warmer than Huntsville in May of each year?"
   ]
  },
  {
   "cell_type": "code",
   "execution_count": 2,
   "id": "e7db0fee",
   "metadata": {},
   "outputs": [
    {
     "data": {
      "text/html": [
       "31"
      ],
      "text/latex": [
       "31"
      ],
      "text/markdown": [
       "31"
      ],
      "text/plain": [
       "[1] 31"
      ]
     },
     "metadata": {},
     "output_type": "display_data"
    },
    {
     "data": {
      "text/html": [
       "4.4747799849801"
      ],
      "text/latex": [
       "4.4747799849801"
      ],
      "text/markdown": [
       "4.4747799849801"
      ],
      "text/plain": [
       "[1] 4.47478"
      ]
     },
     "metadata": {},
     "output_type": "display_data"
    },
    {
     "data": {
      "text/html": [
       "84.9032258064516"
      ],
      "text/latex": [
       "84.9032258064516"
      ],
      "text/markdown": [
       "84.9032258064516"
      ],
      "text/plain": [
       "[1] 84.90323"
      ]
     },
     "metadata": {},
     "output_type": "display_data"
    }
   ],
   "source": [
    "#For Birmingham\n",
    "x <- c(86,87,85,85,89,87,84,87,87,82,78,81,72,79,81,84,74,86,85,86,87,88,88,87,91,92,90,88,86,84,86) \n",
    "length(x)\n",
    "sd(x)\n",
    "mean(x)"
   ]
  },
  {
   "cell_type": "markdown",
   "id": "c5980f47",
   "metadata": {},
   "source": [
    "##### Your answer:"
   ]
  },
  {
   "cell_type": "markdown",
   "id": "e0317ca8",
   "metadata": {},
   "source": [
    "### Additional Types of Hypothesis Tests "
   ]
  },
  {
   "cell_type": "markdown",
   "id": "a7e0da18",
   "metadata": {},
   "source": [
    "##### <div class=\"alert alert-block alert-success\"> Chi-Squared Test of Independence Hypothesis Test </div>\n",
    "\n",
    "We use this to test if two categorical variables shown in a two-way table (contigency table) are independent."
   ]
  },
  {
   "cell_type": "markdown",
   "id": "bb4165e8",
   "metadata": {},
   "source": [
    "Reminder from Chapter 3 (part II):\n",
    "\n",
    "* A __two-way table__ (</em> contingency table </em>) shows the relationship between two categorical variables by listing one variable in the rows and the other variable in the columns with table entries being frequencies.\n",
    "\n",
    "* The __observed frequencies__ $(O)$ in a two-way table are the frequencies we actually see occur. \n",
    "\n",
    "* The __expected frequencies__ $(E)$ in a two-way table are the frequencies we would expect by chance if there were no relationship between the row and the column variables (i.e. assuming the variables are independent). We use this formula to calculate the expected frequency, E, for each cell:\n",
    " $$E =\\frac{(row total)(column total)}{\n",
    "n}$$\n",
    "where $n$ is the grand total.\n",
    "\n",
    "* The __chi-squared statistic__ is given by $$\\chi ^ 2=\\Sigma \\frac{(O-E)^2}{E}$$\n",
    "Note: The larger the value of $\\chi ^ 2$, the greater the average difference between the observed and expected\n",
    "frequencies in the cells.\n",
    "\n",
    "* For two-way tables, __degrees of freedom__ are calculated by $df=(r-1)(c-1)$ where $r$ is number of rows and $c$ is number of columns. "
   ]
  },
  {
   "cell_type": "markdown",
   "id": "757a2760",
   "metadata": {},
   "source": [
    "__Chi-Squared Test of Independence: Hypothesis Test__ \n",
    "\n",
    "Null Hypothesis: $H_0$: the variables are independent *(be specific about what the variables are) <br>\n",
    "Alternative Hypothesis: $H_a$: the variables are dependent *(be specific about what the variables are)\n",
    "\n",
    "Assumptions:\n",
    "1. Data obtained by randomization\n",
    "2. All Expected Values are at least 5. \n",
    "\n",
    "Test Statistic: $\\chi ^ 2=\\Sigma \\frac{(O-E)^2}{E}$\n",
    "\n",
    "$df=(r-1)(c-1)$ where $r$ is number of rows and $c$ is number of columns. \n",
    "\n",
    "Note: This will ALWAYS be a right-tailed test.\n",
    "\n",
    "Conclusions: Rejecting the null means that there is evidence to suggest the variables are dependent. Failing to reject the null means there is not sufficient evidence to say that the variables are dependent (but it does NOT confirm the variables are actually independent). \n"
   ]
  },
  {
   "cell_type": "markdown",
   "id": "104d9240",
   "metadata": {},
   "source": [
    "<div class=\"alert alert-block alert-danger\">\n",
    "    <b>Local Example</b>: Pizza Preference and Age\n",
    "</div>\n",
    "\n",
    "Suppose a survey is conducted here in Birmingham with the following questions: 1. Which pizza restaurant do you prefer: Slice, Pizza Grace, or Pizzeria G.M.? and 2. Are you over the age of 30? The responses are summarized in the two-way table below. \n",
    "\n",
    "<p align=\"center\">\n",
    "    <img src=\"../pics/Pizza v Age Table.png\" alt=\"Figure 1\" style=\"width:70%;\"/>\n",
    "</p>\n",
    "\n",
    "Perform an appropriate test to see if pizza restaurant preference is independent of age. \n",
    "\n"
   ]
  },
  {
   "cell_type": "markdown",
   "id": "a1052012",
   "metadata": {},
   "source": [
    "<p align=\"center\">\n",
    "    <img src=\"../pics/chisquaredtable.png\" alt=\"Figure 1\" style=\"width:70%;\"/>\n",
    "</p>"
   ]
  },
  {
   "cell_type": "code",
   "execution_count": 6,
   "id": "86b0f8cd",
   "metadata": {
    "scrolled": true
   },
   "outputs": [
    {
     "data": {
      "text/html": [
       "7.76220032694397e-09"
      ],
      "text/latex": [
       "7.76220032694397e-09"
      ],
      "text/markdown": [
       "7.76220032694397e-09"
      ],
      "text/plain": [
       "[1] 7.7622e-09"
      ]
     },
     "metadata": {},
     "output_type": "display_data"
    }
   ],
   "source": [
    "# calculating area to the *right* for chi-squared distribution \n",
    "# with inputs of chi-squared statistic and df\n",
    "1-pchisq(37.348,2)\n"
   ]
  },
  {
   "cell_type": "markdown",
   "id": "0d57ce9d",
   "metadata": {},
   "source": [
    "##### <div class=\"alert alert-block alert-success\"> Chi-Squared Goodness of Fit </div>\n",
    "\n",
    "Suppose you do an experiment with more than one possible outcome and there is a certain probability for each of the outcomes. This test is used to gain insight on the probability distribution of this experiment; in other words, to test the entire set of probabilities of the outcomes. \n",
    "\n",
    "* The __observed frequencies__ $(O)$ are the frequencies we actually see occur for a certain outcome/category. Either count up the raw data or calculate $f=n\\hat{p}.$\n",
    "\n",
    "* The __expected frequencies__ $(E)$ for each outcome/category are calculated by $E_i=np_i$. (We are assuming our probability distribution is true unless given evidence otherwise so the expected frequencies are based on the probabilities we are testing).\n"
   ]
  },
  {
   "cell_type": "markdown",
   "id": "33f45343",
   "metadata": {},
   "source": [
    "#### Chi-Squared Goodness of Fit: Hypothesis Test \n",
    "\n",
    "Null Hypothesis: $H_0$: The correct probability distribution is given below:<br>\n",
    "$P_{category 1}=$ (fill in probability value)<br>\n",
    "$P_{category 2}=$ (fill in probability value)<br>\n",
    ".<br>.<br>.<br>\n",
    "$P_{category k}=$ (fill in probability value)<br>\n",
    "Alternative Hypothesis: $H_a$: At least one of the probabilities is not correct. \n",
    "\n",
    "Assumptions:\n",
    "1. Data obtained by randomization\n",
    "2. All Expected Values are at least 5. \n",
    "\n",
    "Test Statistic: $\\chi ^ 2=\\Sigma \\frac{(O-E)^2}{E}$\n",
    "\n",
    "$df=(k-1)$ where $k$ is number categories (number of different possible outcomes) in the experiment.\n",
    "\n",
    "Note: This will ALWAYS be a right-tailed test.\n",
    "\n",
    "Conclusions: Rejecting the null means that there is evidence to suggest the probability distribution as stated is wrong. Failing to reject the null means there is not sufficient evidence to say the probability distribution is wrong (but this does NOT confirm the probabilitity distribution is correct). \n"
   ]
  },
  {
   "cell_type": "markdown",
   "id": "d6bfad16",
   "metadata": {},
   "source": [
    "<div class=\"alert alert-block alert-danger\">\n",
    "    <b>Example</b>: Sharks!\n",
    "</div>\n",
    "\n",
    "There are many shark species found in the Caribbean waters and some predominent species found off the coast of Belize are the Nurse, Reef, Black Tip, and Lemon Sharks.\n",
    "\n",
    "I suspect the following probability distribution for the waters of Belize. \n",
    "\n",
    "$H_0$: The correct probability distrution of sharks in the waters of Belize is: <br>\n",
    "P(Nurse)=0.3 <br>\n",
    "P(Reef)=0.15 <br>\n",
    "P(Black Tip)=0.15<br>\n",
    "P(Lemon)=0.2<br>\n",
    "P(Other species)=0.2<br>\n",
    "\n",
    "$H_a$: At least one of the probabilities is wrong.\n",
    "\n",
    "Suppose I do a study one year and observe the following numbers of sharks.\n",
    "\n",
    "<p align=\"center\">\n",
    "    <img src=\"../pics/sharks observed.png\" alt=\"Figure 1\" style=\"width:70%;\"/>\n",
    "</p>\n",
    "\n",
    "\n"
   ]
  },
  {
   "cell_type": "markdown",
   "id": "bdf53ba1",
   "metadata": {},
   "source": [
    "Solution:\n",
    "\n",
    "I first calculate Expected Frequencies (under the assumption that my probability distribution is correct).\n",
    "\n",
    "<p align=\"center\">\n",
    "    <img src=\"../pics/sharks expected.png\" alt=\"Figure 1\" style=\"width:70%;\"/>\n",
    "</p>\n",
    "\n",
    "Since the data was obtained randomly (a year timeframe was randomly chosen) and all expected frequencies are greater than or equal to 5, my assumptions are met. \n",
    "\n",
    "Calculating the test statistic, I get \n",
    "$\\chi ^ 2=\\Sigma \\frac{(O-E)^2}{E}=\\frac{(166-180)^2}{180}+\\frac{(105-90)^2}{90}+\\frac{(91-90)^2}{90}+\\frac{(116-120)^2}{120}+\\frac{(122-120)^2}{120}\\approx 3.7767$\n",
    "where $df=k-1=5-1=4$. \n",
    "\n",
    "Looking at the area to the right of 3.7667 on the chi-squared distribution of $df=$ 4, we get a $p-$value of 0.4385. \n",
    "\n"
   ]
  },
  {
   "cell_type": "code",
   "execution_count": 5,
   "id": "5a585971",
   "metadata": {},
   "outputs": [
    {
     "data": {
      "image/png": "[encoded data removed]",
      "text/plain": [
       "Plot with title “Chi-Square Distribution (df = 4)”"
      ]
     },
     "metadata": {
      "image/png": {
       "height": 420,
       "width": 420
      }
     },
     "output_type": "display_data"
    }
   ],
   "source": [
    "#create density curve\n",
    "curve(dchisq(x, df = 4), from = 0, to = 40,\n",
    "main = 'Chi-Square Distribution (df = 4)',\n",
    "ylab = 'Density',\n",
    "lwd = 2)\n",
    "\n",
    "#create vector of x values\n",
    "x_vector <- seq(3.7667, 40)\n",
    "\n",
    "#create vector of chi-square density values\n",
    "p_vector <- dchisq(x_vector, df = 4)\n",
    "\n",
    "#fill in portion of the density plot from 0 to 40\n",
    "polygon(c(x_vector, rev(x_vector)), c(p_vector, rep(0, length(p_vector))),\n",
    "        col = adjustcolor('red', alpha=0.3), border = NA)"
   ]
  },
  {
   "cell_type": "code",
   "execution_count": 7,
   "id": "bfd37130",
   "metadata": {},
   "outputs": [
    {
     "data": {
      "text/html": [
       "0.43849924568229"
      ],
      "text/latex": [
       "0.43849924568229"
      ],
      "text/markdown": [
       "0.43849924568229"
      ],
      "text/plain": [
       "[1] 0.4384992"
      ]
     },
     "metadata": {},
     "output_type": "display_data"
    }
   ],
   "source": [
    "# calculating area to the *right* for chi-squared distribution \n",
    "# with inputs of chi-squared statistic and df\n",
    "1-pchisq(3.7667,4)\n"
   ]
  },
  {
   "cell_type": "markdown",
   "id": "a078bf6a",
   "metadata": {},
   "source": [
    "This is greater than an $\\alpha$ value of 0.05 so we fail to reject the null hypothesis which means we cannot support the alternative hypothesis. We conclude that there is not enough evidence to suggest that the probabilities listed above are not correct. (We CANNOT say they are definitely correct though). "
   ]
  },
  {
   "cell_type": "markdown",
   "id": "f3bb4a5a",
   "metadata": {},
   "source": [
    "<div class=\"alert alert-block alert-danger\">\n",
    "    <b>Local Example</b>: Your Turn To Brainstorm a Question! \n",
    "</div>\n",
    "\n",
    "Develop a question that is related to our local area in which a Chi-Squared Goodness of Fit Hypothesis Test could be used to answer it. "
   ]
  },
  {
   "cell_type": "markdown",
   "id": "27c30fd9",
   "metadata": {},
   "source": [
    "#### Your Answer:"
   ]
  },
  {
   "cell_type": "markdown",
   "id": "1d5ed9da",
   "metadata": {},
   "source": [
    "##### <div class=\"alert alert-block alert-success\"> Types of Errors </div>\n",
    "\n",
    "Type I error: when a researcher rejects a null hypothesis that is actually true in the population. <br>\n",
    "Type II error: when a researcher fails to reject a null hypothesis that is actually false in the population."
   ]
  }
 ],
 "metadata": {
  "kernelspec": {
   "display_name": "R",
   "language": "R",
   "name": "ir"
  },
  "language_info": {
   "codemirror_mode": "r",
   "file_extension": ".r",
   "mimetype": "text/x-r-source",
   "name": "R",
   "pygments_lexer": "r",
   "version": "4.3.1"
  }
 },
 "nbformat": 4,
 "nbformat_minor": 5
}
