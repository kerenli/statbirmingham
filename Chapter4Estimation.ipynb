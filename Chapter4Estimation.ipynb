{
 "cells": [
  {
   "cell_type": "markdown",
   "id": "f0191383-ddcb-4578-b05e-380d492dd892",
   "metadata": {
    "tags": []
   },
   "source": [
    "## Chapter 4 Estimation\n",
    "#### MA 189 Data Dive Into Birmingham (with R)\n",
    "##### _Blazer Core: City as Classroom_\n",
    "\n",
    "Course Website: [Github.com/kerenli/statbirmingham/](https://github.com/kerenli/statbirmingham/) \n"
   ]
  },
  {
   "cell_type": "markdown",
   "id": "08d2fcf2-b953-42cd-a4a9-e97a943a7e1b",
   "metadata": {
    "tags": []
   },
   "source": [
    "#### Levels:\n",
    "<div class=\"alert-success\"> Concepts and general information</div>\n",
    "<div class=\"alert-warning\"> Important methods and technique details </div>\n",
    "<div class=\"alert-info\"> Extended reading </div>\n",
    "<div class=\"alert-danger\"> (Local) Examples, assignments, and <b>Practice in Birmingham</b> </div>"
   ]
  },
  {
   "cell_type": "markdown",
   "id": "0cbe4792",
   "metadata": {},
   "source": [
    "##### <div class=\"alert alert-block alert-success\"> Introduction </div>\n",
    "\n",
    "In this section, we will learn about a concept called a confidence interval in which we are some level confident that a population parameter falls in a certain range of values. Take a look at the following results from the U.S. Census Bureau that provides a 90% Confidence Interval (consisting of the Lower Bound Estimate and the Upper Bound Estimate) of Median Household Income for Alabama each year for the last two decades, being sure to read the \"Notes\" explanation below the graph:\n",
    "\n",
    "[![Reading: Alabama Median Household Income (Lower Bound of Confidence Interval)](https://fred.stlouisfed.org/series/MHICILBAL01000A052NCEN)](https://fred.stlouisfed.org/series/MHICILBAL01000A052NCEN)\n",
    "\n",
    "\n",
    "\n",
    "\n",
    "\n",
    "[![Reading: Alabama Median Household Income (Upper Bound of Confidence Interval)](https://fred.stlouisfed.org/series/MHICIUBAL01000A052NCEN)](https://fred.stlouisfed.org/series/MHICIUBAL01000A052NCEN)\n",
    "\n",
    "\n",
    "\n",
    "By the end of this chapter, you will have the skills to draw conclusions about a population (parameter) value based on data from a sample, as well as how to determine a sufficient sample size. "
   ]
  },
  {
   "cell_type": "markdown",
   "id": "a4551389-5dd1-40c7-bb90-703d77d5f06a",
   "metadata": {
    "tags": []
   },
   "source": [
    "### Point Estimation and Confidence Intervals"
   ]
  },
  {
   "cell_type": "markdown",
   "id": "6a54bb4c-b454-4956-8be7-24b6c4809554",
   "metadata": {
    "tags": []
   },
   "source": [
    "##### <div class=\"alert alert-block alert-success\"> Point Estimation </div>\n",
    "\n",
    "* A __point estimate__ is a single number that is our best guess for the parameter.\n",
    "* An __interval estimate__ is an interval of numbers that is believed to contain the actual value of the parameter.\n",
    "\n"
   ]
  },
  {
   "cell_type": "markdown",
   "id": "eeff45ea",
   "metadata": {},
   "source": [
    "<div class=\"alert alert-block alert-danger\"><b>Local Example:</b> Estimates in Birmingham</div>\n",
    "\n",
    "Bham Now (https://bhamnow.com/) is a positive, modern news source with a mission \"to create a smarter, happier, healthier, inspired, involved and prosperous Birmingham\" and works closely with local businesses. They did a survey containing a variety of questions in which 2,480 people responded.\n",
    "\n",
    "1. What percent of people who took the Bham Now survey do YOU think \"recognize the importance of supporting local\"?  <br>\n",
    "\n",
    "2. What was the actual result found here (point estimate)? https://bhamnow.com/2023/08/08/2480-bham-now-survey-results/\n",
    "\n",
    "3. I am 100% confident that the proportion of people in Birmingham who believe in the importance of supporting local businesses is between what two values (interval)?\n",
    "\n",
    "We want to be able to find a smaller interval than your answer in part 3 by allowing a slightly smaller confidence level that the interval contains the true proportion. \n",
    "\n",
    "\n"
   ]
  },
  {
   "cell_type": "markdown",
   "id": "2e2adf1c",
   "metadata": {},
   "source": [
    "##### Your answer:"
   ]
  },
  {
   "cell_type": "markdown",
   "id": "dfc16bd9-28b6-477b-8d41-d5e808f59f55",
   "metadata": {},
   "source": [
    "##### <div class=\"alert alert-block alert-success\">Confidence Intervals</div>\n",
    "\n",
    "* The __margin of error__ measures how accurate the point estimate it likely to be in estimating a parameter.\n",
    "* A __confidence interval__ is an interval containing the most believable values for a parameter and the probability that it does contain the parameter value is called the confidence level, $c$.\n",
    "\n",
    "\n",
    "##### Overall Steps for Determining a Confidence Interval: \n",
    "1. Collect data from a sample and find the sample statistic (point estimate).\n",
    "2. Find the margin of error (techniques described below) and add/subtract.\n",
    "3. Conclude that we are $c$x100% confidence that the actual value of the parameter will be within that interval.\n",
    "\n",
    "\n",
    "\n",
    "* __Confidence Interval for One Proportion__: $\\hat{p}\\pm z^*\\sqrt{\\frac{\\hat{p}(1-\\hat{p})}{n}}$\n",
    "\n",
    "* __Confidence Interval for One Mean__: $\\bar{x}\\pm t^*\\frac{s}{\\sqrt{n}}$\n",
    "\n",
    "Note: Use the following criteria to decide whether you should choose a normal distribution or a t-distribution\n",
    "for making confidence intervals for a population mean. t distribution: Use if the population standard deviation,\n",
    "$σ$, is not known and the population is normally distributed OR the sample size, n, is greater than 30.\n",
    "Normal distribution: Use if the population standard deviation, $σ$, is known and the population is normally\n",
    "distributed OR the sample size, n, is greater than 30.\n",
    "Note: If the population is not normal and the sample size is less than or equal to 30, then neither of\n",
    "these distributions can be used.\n",
    "\n",
    "Interpretation of confidence intervals: \n",
    "* We are $c$x100% confident that our confidence interval contains the true value of the population parameter. <br>\n",
    "OR <br>\n",
    "* There is a $.c$ probability that the point estimate falls within the margin of error of the population parameter. <br> \n",
    "OR <br>\n",
    "* We are $c$x100% confident that the point estimate falls with the margin of error of the population parameter. \n",
    "    \n",
    "\n",
    "Note that we CAN say something about the probability of the point estimate but NOT of the true population parameter. For example, we CANNOT say \"There is a .95 probability that the population parameter lies in our confidence interval\" - it either does or doesn't so it's a probability of 1 or 0. "
   ]
  },
  {
   "cell_type": "markdown",
   "id": "b049489f",
   "metadata": {},
   "source": [
    "<div class=\"alert alert-block alert-warning\">\n",
    "<b>Technique</b>: Margin of Error for Estimating a Proportion\n",
    "</div>\n",
    "\n"
   ]
  },
  {
   "cell_type": "markdown",
   "id": "e9fa1988",
   "metadata": {},
   "source": [
    "* For a confidence level $c$, the __critical value__, $z^*$, is the positive number such that the area under the standard normal curve between $-z^*$ and $z^*$ equals $c$: $P(-z^*<z<z^*)=c.$ We use the $z-$score table to find area to the left to find the appropriate $z^*$ value. \n",
    "\n",
    "<p align=\"center\">\n",
    "    <img src=\"../pics/zscoresnegative.png\" alt=\"Figure 1\" style=\"width:70%;\"/>\n",
    "</p>\n",
    "\n",
    "<p align=\"center\">\n",
    "    <img src=\"../pics/zscorespositive.png\" alt=\"Figure 1\" style=\"width:70%;\"/>\n",
    "</p>\n",
    "\n"
   ]
  },
  {
   "cell_type": "markdown",
   "id": "781f8239",
   "metadata": {},
   "source": [
    "We use the critical value $z^*$ when the sampling distribution is approximately normal. We check requirements to make sure. \n",
    "\n",
    "* Requirements: <br>\n",
    "Data obtained by randomization<br>\n",
    "$n\\hat{p}\\geq 15$<br>\n",
    "$n(1-\\hat{p})\\geq 15$<br><br>\n",
    "\n",
    "* Confidence Interval for $p$:<br>\n",
    "point estimate $\\pm$ margin of error <br>\n",
    "point estimate $\\pm$ (critical value)(standard error) <br>\n",
    "$\\hat{p}\\pm z^*\\sqrt{\\frac{\\hat{p}(1-\\hat{p})}{n}}$ <br>\n",
    "Confidence Interval: ($\\hat{p}- z^*\\sqrt{\\frac{\\hat{p}(1-\\hat{p})}{n}}$, $\\hat{p}+ z^*\\sqrt{\\frac{\\hat{p}(1-\\hat{p})}{n}}$) <br>\n",
    "Conclusion: We are $c$x100% confident that the interval from $\\hat{p}- z^*\\sqrt{\\frac{\\hat{p}(1-\\hat{p})}{n}}$ to $\\hat{p}+ z^*\\sqrt{\\frac{\\hat{p}(1-\\hat{p})}{n}}$ is one that contains the population proportion of (whatever is being estimated). \n",
    "\n",
    "Warning: We cannot say \"There is a 95% probability that the population proportion falls in this confidence interval.\" (It either does or doesn't and we can only speak on our confidence of it). \n",
    "\n",
    "\n"
   ]
  },
  {
   "cell_type": "markdown",
   "id": "9598c1cb-bfee-403c-a0d2-f7774fac125d",
   "metadata": {},
   "source": [
    "<div class=\"alert alert-block alert-danger\">\n",
    "<b>Local Example</b>: UAB Campus Engagement Survey\n",
    "    \n",
    "</div>\n",
    "\n",
    "In 2023, UAB administered a Campus Engagement Survey for faculty and staff. Assume a random sample of individuals completed the survey. Results are shown here: https://uab.app.box.com/v/2023-University-Wide-Scorecard\n",
    "\n",
    "Out of the survey respondents, 87\\% positively agreed with the statement \"The work I do is meaningful to me.\" \n",
    "\n",
    "Questions that could be considered would be:\n",
    "\n",
    "1. Construct a 95\\% confidence interval for the true proportion of campus employees that believe their work is meaningful. \n",
    "2. Let's say UAB has an overall goal for 96\\% of their employees to find meaning in their work and will take measures to support this if needed. Based on your confidence interval, would UAB need to take action steps to support this effort?\n",
    "\n"
   ]
  },
  {
   "cell_type": "markdown",
   "id": "30730e6f",
   "metadata": {},
   "source": [
    "##### Your answer:"
   ]
  },
  {
   "cell_type": "markdown",
   "id": "74fb4ee0",
   "metadata": {},
   "source": [
    "<div class=\"alert alert-block alert-danger\">\n",
    "<b>Student Local Practice: </b>UAB Campus Engagement Survey\n",
    "   \n",
    "</div>\n",
    "\n",
    "In 2023, UAB administered a Campus Engagement Survey for faculty and staff. Assume a random sample of individuals completed the survey. Results are shown here: https://uab.app.box.com/v/2023-University-Wide-Scorecard\n",
    "\n",
    "Out of the survey respondents, 80\\% positively agreed with the statement \"At this institution, diversity in all of its forms is valued.\"\n",
    "\n",
    "Questions that could be considered would be:\n",
    "\n",
    "1. Construct a 99\\% confidence interval for the true proportion of campus employees that believe that diversity in all of its forms is valued at UAB.\n",
    "2. Do you think this is a smaller or larger interval than a 95\\% confidence interval for this question?\n"
   ]
  },
  {
   "cell_type": "markdown",
   "id": "89478e68",
   "metadata": {},
   "source": [
    "##### Your answer:"
   ]
  },
  {
   "cell_type": "markdown",
   "id": "bd2e26dc",
   "metadata": {},
   "source": [
    "<div class=\"alert alert-block alert-warning\">\n",
    "<b>Technique</b>: Margin of Error for Estimating a Mean\n",
    "</div>"
   ]
  },
  {
   "cell_type": "markdown",
   "id": "602abd19-3c96-42a0-af43-c478cea01fb4",
   "metadata": {},
   "source": [
    "* For a confidence level $c$, the __critical $t$-value__, $t^*$, is the positive number such that the area under the $t-$ distribution between $-t^*$ and $t^*$ equals $c$: $P(-t^*<t<t^*)=c.$ *Note: $t^*$ depends on both $n$ and $c$.* We use the $t-$score table to find area corresponding to a particular confidence interval and degrees of freedom to find the appropriate $t^*$ value. \n",
    "\n",
    "\n"
   ]
  },
  {
   "cell_type": "code",
   "execution_count": 1,
   "id": "75e4c2e4",
   "metadata": {},
   "outputs": [
    {
     "data": {
      "image/png": "[encoded data removed]",
      "text/plain": [
       "Plot with title “t-Distribution with 10 df”"
      ]
     },
     "metadata": {
      "image/png": {
       "height": 420,
       "width": 420
      }
     },
     "output_type": "display_data"
    }
   ],
   "source": [
    "# critical values of t distribution\n",
    "confidence_level <- 0.95  # 95% confidence level\n",
    "df <- 10  # Degrees of freedom\n",
    "\n",
    "# Calculate the critical t-value for the given confidence level and df\n",
    "t_star <- qt((1 + confidence_level) / 2, df)\n",
    "\n",
    "# Create a sequence of x values to plot the t-distribution\n",
    "x_values <- seq(-4, 4, length = 1000)\n",
    "\n",
    "# Calculate the t-distribution (density) for each x value\n",
    "y_values <- dt(x_values, df)\n",
    "\n",
    "# Plot the t-distribution\n",
    "plot(x_values, y_values, type = \"l\", lwd = 2, col = \"blue\",\n",
    "     xlab = \"t values\", ylab = \"Density\",\n",
    "     main = paste(\"t-Distribution with\", df, \"df\"))\n",
    "\n",
    "# Shade the area under the curve between -t* and t*\n",
    "x_shade <- seq(-t_star, t_star, length = 500)\n",
    "y_shade <- dt(x_shade, df)\n",
    "polygon(c(-t_star, x_shade, t_star), c(0, y_shade, 0), col = rgb(0.1, 0.9, 0.1, 0.3), border = NA)\n",
    "\n",
    "# Add vertical lines at -t* and t*\n",
    "abline(v = c(-t_star, t_star), col = \"red\", lwd = 2, lty = 2)\n",
    "\n",
    "# Annotate the shaded area as the confidence level\n",
    "text(-t_star, 0.01, \"-t*\", pos = 4, col = \"red\")\n",
    "text(t_star, 0.01, \"t*\", pos = 4, col = \"red\")\n",
    "text(0, 0.1, \"Area = c\", col = \"black\", cex = 1.2)"
   ]
  },
  {
   "cell_type": "markdown",
   "id": "860a1e8b",
   "metadata": {},
   "source": [
    "Note: $df=n-1$\n",
    "\n",
    "##### t-Distribution Table (Critical Values)\n",
    "\n",
    "| Degrees of Freedom (df) | 90% CI (α = 0.10) | 95% CI (α = 0.05) | 98% CI (α = 0.02) | 99% CI (α = 0.01) |\n",
    "|-------------------------|-------------------|-------------------|-------------------|-------------------|\n",
    "| 1                       | 6.314             | 12.706            | 31.821            | 63.657            |\n",
    "| 2                       | 2.920             | 4.303             | 6.965             | 9.925             |\n",
    "| 3                       | 2.353             | 3.182             | 4.541             | 5.841             |\n",
    "| 4                       | 2.132             | 2.776             | 3.747             | 4.604             |\n",
    "| 5                       | 2.015             | 2.571             | 3.365             | 4.032             |\n",
    "| 6                       | 1.943             | 2.447             | 3.143             | 3.707             |\n",
    "| 7                       | 1.895             | 2.365             | 2.998             | 3.499             |\n",
    "| 8                       | 1.860             | 2.306             | 2.896             | 3.355             |\n",
    "| 9                       | 1.833             | 2.262             | 2.821             | 3.250             |\n",
    "| 10                      | 1.812             | 2.228             | 2.764             | 3.169             |\n",
    "| 11                      | 1.796             | 2.201             | 2.718             | 3.106             |\n",
    "| 12                      | 1.782             | 2.179             | 2.681             | 3.055             |\n",
    "| 13                      | 1.771             | 2.160             | 2.650             | 3.012             |\n",
    "| 14                      | 1.761             | 2.145             | 2.624             | 2.977             |\n",
    "| 15                      | 1.753             | 2.131             | 2.602             | 2.947             |\n",
    "| 20                      | 1.725             | 2.086             | 2.528             | 2.845             |\n",
    "| 25                      | 1.708             | 2.060             | 2.485             | 2.787             |\n",
    "| 30                      | 1.697             | 2.042             | 2.457             | 2.750             |\n",
    "| ∞                       | 1.645             | 1.960             | 2.326             | 2.576             |\n",
    "\n",
    "\n",
    "\n",
    "We use the critical value $t^*$ when the sampling distribution is a t-distribution. We check requirements to make sure. \n",
    "\n",
    "* Requirements: <br>\n",
    "Data must be obtained by randomization<br>\n",
    "An approximately normal population OR $n\\geq 30$<br><br>\n",
    "\n",
    "* Confidence Interval for $\\mu$:<br>\n",
    "point estimate $\\pm$ margin of error <br>\n",
    "point estimate $\\pm$ (critical value)(standard error) <br>\n",
    "$\\bar{x}\\pm t^*\\frac{s}{\\sqrt{n}}$ <br>\n",
    "Confidence Interval: ($\\bar{x}- t^*\\frac{s}{\\sqrt{n}}$, $\\bar{x}+ t^*\\frac{s}{\\sqrt{n}}$) <br>\n",
    "Conclusion: We are $c$x100% confident that the interval from $\\bar{x}- t^*\\frac{s}{\\sqrt{n}}$ to $\\bar{x}+t^*\\frac{s}{\\sqrt{n}}$ is one that contains the population proportion of (whatever is being estimated). \n",
    "\n",
    "Warning: We cannot say \"There is a 95% probability that the population mean falls in this confidence interval.\" (It either does or doesn't and we can only speak on our confidence of it). \n",
    "\n",
    "\n",
    "\n",
    "\n"
   ]
  },
  {
   "cell_type": "markdown",
   "id": "24ef2e29",
   "metadata": {},
   "source": [
    "<div class=\"alert alert-block alert-danger\">\n",
    "<b>Local Application</b>: Alabama Power Company Customer Loads\n",
    "   \n",
    "</div>\n",
    "\n",
    "Consider the 2020 energy used in kilowatt hours by customer for 4 different customers of Alabama Power Company given below. Consider Customer 1. \n",
    "\n",
    "Questions one could answer would be:\n",
    "\n",
    "1. Randomly select 100 days from the 2020 dataset from Customer 1. Find the average amount of energy used daily by this customer for that sample of 2020, as well as the standard deviation.\n",
    "2. Construct a 95\\% confidence interval for the amount of energy used daily by Customer 1 in 2020. \n",
    "3. State what your confidence interval tells you. \n",
    "3. Now, find the average and standard deviation for the amount of energy used considering all days in 2020 for Customer 1. Consider this result in relation to your confidence interval and write a conclusion. \n",
    "\n",
    "\n",
    "\n",
    "\n"
   ]
  },
  {
   "cell_type": "code",
   "execution_count": null,
   "id": "1e229d2f",
   "metadata": {},
   "outputs": [],
   "source": [
    "# Lambdas and RTP Customer Loads\n",
    "if (!require(readxl)) {\n",
    "  install.packages(\"readxl\")\n",
    "  library(readxl)\n",
    "}\n",
    "\n",
    "# Define the path to the Excel file\n",
    "file_path <- \"data/Lambdas and RTP Customer Loads.xlsx\"\n",
    "\n",
    "# Read the Excel file from the \"data\" subfolder\n",
    "lambda_data <- read_excel(file_path, skip = 2)\n",
    "\n",
    "# Illustrate the content: Display the first few rows of the data\n",
    "lambda_data"
   ]
  },
  {
   "cell_type": "markdown",
   "id": "3570ecc6",
   "metadata": {},
   "source": [
    "##### Your answer:"
   ]
  },
  {
   "cell_type": "markdown",
   "id": "0051938f-5a40-4b41-93bf-8f69653d5b87",
   "metadata": {},
   "source": [
    "### Sample Size Determination"
   ]
  },
  {
   "cell_type": "markdown",
   "id": "5077d26c-1743-40b4-8e48-f6dedab114be",
   "metadata": {},
   "source": [
    "##### <div class=\"alert alert-block alert-success\"> Sample Size for a Population Proportion </div>\n",
    "\n",
    "Recall: The margin of error used in calculating a confidence interval for a population proportion using a point estimate is given by $$ME=z^*\\sqrt{\\frac{\\hat{p}(1-\\hat{p})}{n}}$$\n",
    "\n",
    "Notice it depends on the sample size, $n$.  \n"
   ]
  },
  {
   "cell_type": "markdown",
   "id": "eb350304",
   "metadata": {},
   "source": [
    "<div class=\"alert alert-block alert-danger\">\n",
    "<b>Example</b>: Solve for Sufficient Sample Size Formula\n",
    "</div>"
   ]
  },
  {
   "cell_type": "markdown",
   "id": "ee81ea4e",
   "metadata": {},
   "source": [
    "Using $ME=z^*\\sqrt{\\frac{\\hat{p}(1-\\hat{p})}{n}}$, solve for $n$. "
   ]
  },
  {
   "cell_type": "markdown",
   "id": "61bf54a5",
   "metadata": {},
   "source": [
    "##### Your answer:"
   ]
  },
  {
   "cell_type": "markdown",
   "id": "bf3b935f",
   "metadata": {},
   "source": [
    "<div class=\"alert alert-block alert-danger\">\n",
    "<b>Local Example</b>: Sufficient Sample Size for Proportion of UAB Students Lactose Intolerant\n",
    "</div>\n",
    "\n",
    "You are interested in determining the proportion of UAB students who are lactose intolerant. You want to be 95\\% confident that the estimate is within 3 percentage points of the true proportion. A question to consider might be: How large of a sample should you use? (If no $\\hat{p}$ is available, use $\\hat{p}=\\frac{1}{2}$)."
   ]
  },
  {
   "cell_type": "markdown",
   "id": "1eff8aa0",
   "metadata": {},
   "source": [
    "##### Your answer:"
   ]
  },
  {
   "cell_type": "markdown",
   "id": "f36e711f",
   "metadata": {},
   "source": [
    "<div class=\"alert alert-block alert-danger\">\n",
    "    <b>Student Local Practice: </b> UAB lactose intolerance\n",
    "</div>\n",
    "\n",
    "Let's say you've done a survey at UAB and calculated a 95\\% confidence interval of (0.116, 0.158) for the proportion of those who are lactose intolerant. Your friend is then interested in determining the proportion of Alabamians who are lactose intolerant. Your friend wants to be 95\\% confident that the estimate is within 3 percentage points of the true proportion. How large of a sample should your friend use? \n",
    "\n"
   ]
  },
  {
   "cell_type": "markdown",
   "id": "d0477794",
   "metadata": {},
   "source": [
    "##### Your answer:"
   ]
  },
  {
   "cell_type": "markdown",
   "id": "0c389aea",
   "metadata": {},
   "source": [
    " ##### <div class=\"alert alert-block alert-success\">Sample Size for a Population Mean </div>\n",
    "\n",
    "\n",
    "Recall: The margin of error used in calculating a confidence interval for a population mean using a point estimate (assuming we are working with the t-distribution) is given by $$ME=t^*\\frac{s}{\\sqrt{n}}$$\n",
    "\n",
    "Notice it depends on the sample size, $n$. <br>\n",
    "Note: If we were working with the normal distrubtion, we would use $z^*$ and $\\sigma$ instead. "
   ]
  },
  {
   "cell_type": "markdown",
   "id": "367bc360",
   "metadata": {},
   "source": [
    "<div class=\"alert alert-block alert-danger\"><b>Example</b>: Solve for Sufficient Sample Size Formula </div>\n",
    "\n",
    "Using $ME=t^*\\frac{s}{\\sqrt{n}}$, solve for $n$."
   ]
  },
  {
   "cell_type": "markdown",
   "id": "da7dc7f9",
   "metadata": {},
   "source": [
    "##### Your answer:"
   ]
  },
  {
   "cell_type": "markdown",
   "id": "cfbb0386",
   "metadata": {},
   "source": [
    "<div class=\"alert alert-block alert-danger\"><b>Local Application</b>: Sufficient Sample Size for Mean of Actuary Salary in Birmingham </div>\n",
    "\n",
    "A question one could consider would be: You are interested in becoming an actuary (https://www.bls.gov/ooh/math/actuaries.htm) but first want to design a study to estimate the average income of an actuary in the Birmingham area specifically. You want to determine with 90\\% confidence what the average income is and wish to be accurate within \\$3,000. \n",
    "\n",
    "You estimate the standard deviation to be about \\$9,000 due to national information. What sample size of actuaries in the Birmingham area should you use and what is your confidence interval?"
   ]
  },
  {
   "cell_type": "markdown",
   "id": "5ddbcb4b",
   "metadata": {},
   "source": [
    "##### Your answer:"
   ]
  }
 ],
 "metadata": {
  "kernelspec": {
   "display_name": "R",
   "language": "R",
   "name": "ir"
  },
  "language_info": {
   "codemirror_mode": "r",
   "file_extension": ".r",
   "mimetype": "text/x-r-source",
   "name": "R",
   "pygments_lexer": "r",
   "version": "4.3.1"
  }
 },
 "nbformat": 4,
 "nbformat_minor": 5
}
