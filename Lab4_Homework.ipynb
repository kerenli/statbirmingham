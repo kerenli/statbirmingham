{
 "cells": [
  {
   "cell_type": "markdown",
   "id": "6615dc05-7836-4678-8fa7-9d39397b2b4e",
   "metadata": {},
   "source": [
    "# Homework 3"
   ]
  },
  {
   "cell_type": "markdown",
   "id": "9fe76798-0441-4c66-8593-957d7f30006c",
   "metadata": {},
   "source": [
    "### <div class=\"alert alert-block alert-danger\"><b>Practice in Birmingham:</b> Estimating Actuary Salaries in Birmingham</div>"
   ]
  },
  {
   "cell_type": "markdown",
   "id": "8081faf9-6787-4c0c-b3bd-567a427e54be",
   "metadata": {},
   "source": [
    "#### Name:"
   ]
  },
  {
   "cell_type": "markdown",
   "id": "bd84bb0a-443d-4beb-a6b6-0284c9e9496e",
   "metadata": {},
   "source": [
    "You are interested in becoming an actuary ([source](https://www.bls.gov/ooh/math/actuaries.htm)) and want to estimate the average income of an actuary in the Birmingham area specifically. You want to determine, with 90% confidence, what the average income is and wish to be accurate within $3,000. \n",
    "\n",
    "You estimate the standard deviation of actuary salaries to be around $9,000, based on national data.\n",
    "\n",
    "#### Steps:\n",
    "**Question 1: Calculate the Required Sample Size**\n",
    "\n",
    "Using the given confidence level and margin of error, calculate the required sample size for your study."
   ]
  },
  {
   "cell_type": "markdown",
   "id": "d59d4b8d-79e6-4014-bd1b-18ec8fae01be",
   "metadata": {},
   "source": [
    "##### Your answer:"
   ]
  },
  {
   "cell_type": "code",
   "execution_count": null,
   "id": "3b6593ea-2bfc-455c-8ed9-07cd03e44ad4",
   "metadata": {},
   "outputs": [],
   "source": []
  },
  {
   "cell_type": "markdown",
   "id": "22681f5d-a1a8-4d3c-8605-ea0d2cb2299f",
   "metadata": {
    "jp-MarkdownHeadingCollapsed": true
   },
   "source": [
    "**Question 2: Simulate Data**\n",
    "\n",
    "Once you have determined the sample size, simulate a dataset of actuary salaries in Birmingham using the estimated mean and standard deviation.\n"
   ]
  },
  {
   "cell_type": "markdown",
   "id": "c6a594ac-013a-45f9-b374-9bd22f01891a",
   "metadata": {},
   "source": [
    "##### Your answer:"
   ]
  },
  {
   "cell_type": "code",
   "execution_count": null,
   "id": "5628171c-494f-4eaf-9398-cebe01f599a5",
   "metadata": {},
   "outputs": [],
   "source": []
  },
  {
   "cell_type": "markdown",
   "id": "1ec0faa2-23f6-48d4-a91e-bdb503ea1ba2",
   "metadata": {},
   "source": [
    "**Question 3: Calculate the Point Estimate**\n",
    "\n",
    "From your simulated data, calculate the point estimate (sample mean) for actuary salaries in Birmingham."
   ]
  },
  {
   "cell_type": "markdown",
   "id": "4c586fff-cf8c-4b0d-a8f8-60625879d3b5",
   "metadata": {},
   "source": [
    "##### Your answer:"
   ]
  },
  {
   "cell_type": "code",
   "execution_count": null,
   "id": "3676fdb3-4032-4050-9a5b-cb91ccb1eb3e",
   "metadata": {},
   "outputs": [],
   "source": []
  },
  {
   "cell_type": "markdown",
   "id": "9c48adfc-a70b-40d9-b885-921e39e2f7e2",
   "metadata": {},
   "source": [
    "**Question 4: Construct a Confidence Interval**\n",
    "\n",
    "Using the simulated data, construct a 90% confidence interval for the average salary."
   ]
  },
  {
   "cell_type": "markdown",
   "id": "48d48581-97ac-46ab-ad54-adf796145c99",
   "metadata": {},
   "source": [
    "##### Your answer:"
   ]
  },
  {
   "cell_type": "code",
   "execution_count": null,
   "id": "e0727a35-a1b6-4213-a41f-a6d7a7c71c12",
   "metadata": {},
   "outputs": [],
   "source": []
  },
  {
   "cell_type": "markdown",
   "id": "f1f06ece-477f-4280-bfc3-d1afc9f73d80",
   "metadata": {},
   "source": [
    "**Question 5: Interpret the Confidence Interval**\n",
    "\n",
    "Explain what the confidence interval means in the context of the problem."
   ]
  },
  {
   "cell_type": "markdown",
   "id": "8130ef1e-78a2-47cf-9930-8106e68abbcd",
   "metadata": {},
   "source": [
    "##### Your answer:"
   ]
  },
  {
   "cell_type": "code",
   "execution_count": null,
   "id": "c5e7fc4f-3cca-4e8b-9614-f897d64f0b0b",
   "metadata": {},
   "outputs": [],
   "source": []
  }
 ],
 "metadata": {
  "kernelspec": {
   "display_name": "R",
   "language": "R",
   "name": "ir"
  },
  "language_info": {
   "codemirror_mode": "r",
   "file_extension": ".r",
   "mimetype": "text/x-r-source",
   "name": "R",
   "pygments_lexer": "r",
   "version": "4.3.1"
  }
 },
 "nbformat": 4,
 "nbformat_minor": 5
}
